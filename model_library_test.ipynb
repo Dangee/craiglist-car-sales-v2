{
 "cells": [
  {
   "cell_type": "code",
   "execution_count": 1,
   "id": "8bae84be",
   "metadata": {},
   "outputs": [],
   "source": [
    "import params as p\n",
    "import model as m\n",
    "import utils as u\n",
    "\n",
    "from dash import dcc,html"
   ]
  },
  {
   "cell_type": "code",
   "execution_count": 4,
   "id": "d0b080c2",
   "metadata": {},
   "outputs": [
    {
     "name": "stdout",
     "output_type": "stream",
     "text": [
      "DEBUG\n"
     ]
    }
   ],
   "source": [
    "print(p.LOG_LEVEL)"
   ]
  },
  {
   "cell_type": "code",
   "execution_count": 5,
   "id": "a9808b1c",
   "metadata": {},
   "outputs": [],
   "source": [
    "logger = u.configure_logging()"
   ]
  },
  {
   "cell_type": "code",
   "execution_count": 6,
   "id": "a8795537",
   "metadata": {},
   "outputs": [
    {
     "name": "stderr",
     "output_type": "stream",
     "text": [
      "2022-04-12 15:21:06,057 - [INFO] (1580921258:<module>:1) this is a test\n"
     ]
    }
   ],
   "source": [
    "logger.info(\"this is a test\")"
   ]
  },
  {
   "cell_type": "code",
   "execution_count": 7,
   "id": "2e25fa6a",
   "metadata": {},
   "outputs": [
    {
     "name": "stderr",
     "output_type": "stream",
     "text": [
      "2022-04-12 15:23:25,675 - [DEBUG] (1638748143:<module>:1) this is second test\n"
     ]
    }
   ],
   "source": [
    "logger.debug(\"this is second test\")"
   ]
  },
  {
   "cell_type": "code",
   "execution_count": null,
   "id": "30eb10dc",
   "metadata": {},
   "outputs": [],
   "source": [
    "help(p)"
   ]
  },
  {
   "cell_type": "code",
   "execution_count": null,
   "id": "139e191d",
   "metadata": {},
   "outputs": [],
   "source": [
    "help(m)"
   ]
  },
  {
   "cell_type": "code",
   "execution_count": null,
   "id": "162a4889",
   "metadata": {},
   "outputs": [],
   "source": [
    "print(m.REGRESSION_EQUATION)"
   ]
  },
  {
   "cell_type": "code",
   "execution_count": null,
   "id": "ee38f866",
   "metadata": {},
   "outputs": [],
   "source": [
    "fuel_type_list = p.FUEL_TYPE\n",
    "car_condition_list = p.CAR_CONDITION\n",
    "car_type_list = p.CAR_TYPE\n",
    "transmission_list = p.TRANSMISSION\n",
    "\n",
    "predictor_vars = p.PREDICTOR_VARS\n",
    "predictor_coeff = p.PREDICTOR_COEFF"
   ]
  },
  {
   "cell_type": "code",
   "execution_count": null,
   "id": "b47edd16",
   "metadata": {},
   "outputs": [],
   "source": [
    "model_input = m.reset_model_input(predictor_vars)\n",
    "\n",
    "print(model_input)"
   ]
  },
  {
   "cell_type": "code",
   "execution_count": null,
   "id": "2a19f6f3",
   "metadata": {},
   "outputs": [],
   "source": [
    "print(p.INTERCEPT)\n",
    "print(len(p.PREDICTOR_VARS))\n",
    "print(p.PREDICTOR_VARS) \n",
    "print(len(p.PREDICTOR_COEFF))\n",
    "print(p.PREDICTOR_COEFF)"
   ]
  },
  {
   "cell_type": "code",
   "execution_count": null,
   "id": "11aff9ca",
   "metadata": {},
   "outputs": [],
   "source": [
    "PREDICTOR_MODEL = m.initialize_predictor_model(p.INTERCEPT, p.PREDICTOR_VARS, p.PREDICTOR_COEFF)\n",
    "\n",
    "print(PREDICTOR_MODEL)"
   ]
  },
  {
   "cell_type": "code",
   "execution_count": null,
   "id": "7018b3f0",
   "metadata": {},
   "outputs": [],
   "source": [
    "predictor_vars = p.PREDICTOR_VARS\n",
    "predictor_coeff = p.PREDICTOR_COEFF\n",
    "\n",
    "model_input = m.reset_model_input(predictor_vars)\n",
    "\n",
    "print(model_input)"
   ]
  },
  {
   "cell_type": "code",
   "execution_count": null,
   "id": "ac666732",
   "metadata": {},
   "outputs": [],
   "source": [
    "model_input['year'] = 2004\n",
    "model_input['sedan'] =  1\n",
    "model_input['odometer'] = 77540\n",
    "model_input['good'] = 1\n",
    "model_input['gas'] = 1\n",
    "model_input['manual'] = 1 \n",
    "\n",
    "print(model_input)"
   ]
  },
  {
   "cell_type": "code",
   "execution_count": null,
   "id": "1f3fcd99",
   "metadata": {},
   "outputs": [],
   "source": [
    "model_input['ferrari'] = 0\n",
    "model='Ferrari'"
   ]
  },
  {
   "cell_type": "code",
   "execution_count": null,
   "id": "9f154cdf",
   "metadata": {},
   "outputs": [],
   "source": [
    "if 'ferrari' in model.lower():\n",
    "    model_input['ferrari'] = 1\n",
    "\n",
    "print(model_input['ferrari'])"
   ]
  },
  {
   "cell_type": "code",
   "execution_count": null,
   "id": "9fb237b1",
   "metadata": {},
   "outputs": [],
   "source": []
  }
 ],
 "metadata": {
  "kernelspec": {
   "display_name": "Python 3 (ipykernel)",
   "language": "python",
   "name": "python3"
  },
  "language_info": {
   "codemirror_mode": {
    "name": "ipython",
    "version": 3
   },
   "file_extension": ".py",
   "mimetype": "text/x-python",
   "name": "python",
   "nbconvert_exporter": "python",
   "pygments_lexer": "ipython3",
   "version": "3.9.10"
  }
 },
 "nbformat": 4,
 "nbformat_minor": 5
}
