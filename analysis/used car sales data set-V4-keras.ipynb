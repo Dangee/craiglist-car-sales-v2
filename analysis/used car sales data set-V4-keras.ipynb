{
 "cells": [
  {
   "cell_type": "markdown",
   "id": "a7f85da4",
   "metadata": {},
   "source": [
    "# Predict user car sale price"
   ]
  },
  {
   "cell_type": "markdown",
   "id": "0073024d",
   "metadata": {},
   "source": [
    "- Dataset: https://archive.ics.uci.edu/ml/datasets/default+of+credit+card+clients"
   ]
  },
  {
   "cell_type": "markdown",
   "id": "b5303f32",
   "metadata": {},
   "source": [
    "# 1. Setup"
   ]
  },
  {
   "cell_type": "code",
   "execution_count": 32,
   "id": "944c96cc",
   "metadata": {},
   "outputs": [
    {
     "name": "stdout",
     "output_type": "stream",
     "text": [
      "2.9.1\n"
     ]
    }
   ],
   "source": [
    "# imports\n",
    "import pandas as pd\n",
    "from keras.models import Sequential\n",
    "from keras.layers import Dense\n",
    "\n",
    "from keras.wrappers.scikit_learn import KerasRegressor\n",
    "from sklearn.model_selection import cross_val_score\n",
    "from sklearn.model_selection import KFold\n",
    "from sklearn.preprocessing import StandardScaler\n",
    "from sklearn.pipeline import Pipeline\n",
    "from sklearn.model_selection import train_test_split \n",
    "\n",
    "import pickle\n",
    "\n",
    "import matplotlib.pyplot as plt\n",
    "import seaborn as sns\n",
    "import numpy as np\n",
    "\n",
    "import tensorflow as tf\n",
    "\n",
    "from tensorflow import keras\n",
    "from tensorflow.keras import layers\n",
    "\n",
    "print(tf.__version__)\n"
   ]
  },
  {
   "cell_type": "code",
   "execution_count": 2,
   "id": "deaea6a3",
   "metadata": {},
   "outputs": [],
   "source": [
    "# Make NumPy printouts easier to read.\n",
    "np.set_printoptions(precision=3, suppress=True)"
   ]
  },
  {
   "cell_type": "markdown",
   "id": "e7927fbd",
   "metadata": {},
   "source": [
    "## define custom functions"
   ]
  },
  {
   "cell_type": "code",
   "execution_count": 33,
   "id": "39720376",
   "metadata": {},
   "outputs": [],
   "source": [
    "# define base model\n",
    "def baseline_model(input_dim, default_node):\n",
    "    # create model\n",
    "    model = Sequential()\n",
    "    model.add(Dense(default_node, \n",
    "                    input_dim=input_dim, \n",
    "                    kernel_initializer='normal', \n",
    "                    activation='relu'))\n",
    "    model.add(Dense(1, \n",
    "                    kernel_initializer='normal'))\n",
    "\n",
    "    # Compile model\n",
    "    model.compile(loss='mean_squared_error', optimizer='adam')\n",
    "    return model"
   ]
  },
  {
   "cell_type": "markdown",
   "id": "bf2913f1",
   "metadata": {},
   "source": [
    "## load model data"
   ]
  },
  {
   "cell_type": "code",
   "execution_count": 3,
   "id": "7435b37f",
   "metadata": {},
   "outputs": [
    {
     "data": {
      "text/plain": [
       "(33956, 88)"
      ]
     },
     "execution_count": 3,
     "metadata": {},
     "output_type": "execute_result"
    }
   ],
   "source": [
    "# load car price data set \n",
    "with open('./df_model.pkl', 'rb') as handle:\n",
    "    df = pickle.load(handle)\n",
    "df.shape"
   ]
  },
  {
   "cell_type": "code",
   "execution_count": 4,
   "id": "950dd42b",
   "metadata": {},
   "outputs": [
    {
     "data": {
      "text/html": [
       "<div>\n",
       "<style scoped>\n",
       "    .dataframe tbody tr th:only-of-type {\n",
       "        vertical-align: middle;\n",
       "    }\n",
       "\n",
       "    .dataframe tbody tr th {\n",
       "        vertical-align: top;\n",
       "    }\n",
       "\n",
       "    .dataframe thead th {\n",
       "        text-align: right;\n",
       "    }\n",
       "</style>\n",
       "<table border=\"1\" class=\"dataframe\">\n",
       "  <thead>\n",
       "    <tr style=\"text-align: right;\">\n",
       "      <th></th>\n",
       "      <th>price</th>\n",
       "      <th>year</th>\n",
       "      <th>classic_car</th>\n",
       "      <th>modern_car</th>\n",
       "      <th>antique_car</th>\n",
       "      <th>acura</th>\n",
       "      <th>alfa-romeo</th>\n",
       "      <th>aston-martin</th>\n",
       "      <th>audi</th>\n",
       "      <th>bmw</th>\n",
       "      <th>...</th>\n",
       "      <th>coupe</th>\n",
       "      <th>hatchback</th>\n",
       "      <th>mini-van</th>\n",
       "      <th>offroad</th>\n",
       "      <th>other_type</th>\n",
       "      <th>pickup</th>\n",
       "      <th>sedan</th>\n",
       "      <th>truck</th>\n",
       "      <th>van</th>\n",
       "      <th>wagon</th>\n",
       "    </tr>\n",
       "  </thead>\n",
       "  <tbody>\n",
       "    <tr>\n",
       "      <th>21171</th>\n",
       "      <td>16990.0</td>\n",
       "      <td>2018</td>\n",
       "      <td>0</td>\n",
       "      <td>1</td>\n",
       "      <td>0</td>\n",
       "      <td>0</td>\n",
       "      <td>0</td>\n",
       "      <td>0</td>\n",
       "      <td>0</td>\n",
       "      <td>0</td>\n",
       "      <td>...</td>\n",
       "      <td>0</td>\n",
       "      <td>0</td>\n",
       "      <td>0</td>\n",
       "      <td>0</td>\n",
       "      <td>0</td>\n",
       "      <td>0</td>\n",
       "      <td>1</td>\n",
       "      <td>0</td>\n",
       "      <td>0</td>\n",
       "      <td>0</td>\n",
       "    </tr>\n",
       "    <tr>\n",
       "      <th>21174</th>\n",
       "      <td>11975.0</td>\n",
       "      <td>2003</td>\n",
       "      <td>0</td>\n",
       "      <td>1</td>\n",
       "      <td>0</td>\n",
       "      <td>0</td>\n",
       "      <td>0</td>\n",
       "      <td>0</td>\n",
       "      <td>0</td>\n",
       "      <td>0</td>\n",
       "      <td>...</td>\n",
       "      <td>0</td>\n",
       "      <td>0</td>\n",
       "      <td>0</td>\n",
       "      <td>0</td>\n",
       "      <td>0</td>\n",
       "      <td>1</td>\n",
       "      <td>0</td>\n",
       "      <td>0</td>\n",
       "      <td>0</td>\n",
       "      <td>0</td>\n",
       "    </tr>\n",
       "  </tbody>\n",
       "</table>\n",
       "<p>2 rows × 88 columns</p>\n",
       "</div>"
      ],
      "text/plain": [
       "         price  year  classic_car  modern_car  antique_car  acura  alfa-romeo  \\\n",
       "21171  16990.0  2018            0           1            0      0           0   \n",
       "21174  11975.0  2003            0           1            0      0           0   \n",
       "\n",
       "       aston-martin  audi  bmw  ...  coupe  hatchback  mini-van  offroad  \\\n",
       "21171             0     0    0  ...      0          0         0        0   \n",
       "21174             0     0    0  ...      0          0         0        0   \n",
       "\n",
       "       other_type  pickup  sedan  truck  van  wagon  \n",
       "21171           0       0      1      0    0      0  \n",
       "21174           0       1      0      0    0      0  \n",
       "\n",
       "[2 rows x 88 columns]"
      ]
     },
     "execution_count": 4,
     "metadata": {},
     "output_type": "execute_result"
    }
   ],
   "source": [
    "# examine\n",
    "df.head(2)"
   ]
  },
  {
   "cell_type": "code",
   "execution_count": null,
   "id": "d1b95970",
   "metadata": {},
   "outputs": [],
   "source": [
    "#@TODO: convert to Numpy matrix \n"
   ]
  },
  {
   "cell_type": "code",
   "execution_count": null,
   "id": "48215978",
   "metadata": {},
   "outputs": [],
   "source": [
    "#@TODO: split train / test \n"
   ]
  },
  {
   "cell_type": "code",
   "execution_count": 5,
   "id": "62e4b52e-35b9-450a-b713-30488d335b49",
   "metadata": {},
   "outputs": [
    {
     "name": "stdout",
     "output_type": "stream",
     "text": [
      "(33956, 87) (33956,)\n"
     ]
    }
   ],
   "source": [
    "# split into input (X) and output (y) variables\n",
    "X = df.drop(['price'], axis=1)\n",
    "y = df['price']\n",
    "print(X.shape, y.shape)"
   ]
  },
  {
   "cell_type": "code",
   "execution_count": 6,
   "id": "43ce3a8e-db62-4287-a2eb-c3e5affed60d",
   "metadata": {},
   "outputs": [
    {
     "data": {
      "text/plain": [
       "24990.0    259\n",
       "12995.0    251\n",
       "7999.0     249\n",
       "10995.0    243\n",
       "8999.0     235\n",
       "          ... \n",
       "13599.0      1\n",
       "47998.0      1\n",
       "27199.0      1\n",
       "25614.0      1\n",
       "15918.0      1\n",
       "Name: price, Length: 3335, dtype: int64"
      ]
     },
     "execution_count": 6,
     "metadata": {},
     "output_type": "execute_result"
    }
   ],
   "source": [
    "# distribution of defaullt\n",
    "y.value_counts()"
   ]
  },
  {
   "cell_type": "code",
   "execution_count": 7,
   "id": "3ad064e8",
   "metadata": {},
   "outputs": [
    {
     "data": {
      "text/plain": [
       "Int64Index([21171, 21174, 21176, 21178, 21179, 21180, 21181, 21182, 21183,\n",
       "            21185,\n",
       "            ...\n",
       "            71771, 71772, 71775, 71776, 71778, 71780, 71781, 71782, 71783,\n",
       "            71784],\n",
       "           dtype='int64', length=33956)"
      ]
     },
     "execution_count": 7,
     "metadata": {},
     "output_type": "execute_result"
    }
   ],
   "source": [
    "y.index"
   ]
  },
  {
   "cell_type": "code",
   "execution_count": 8,
   "id": "5cbfd1fa",
   "metadata": {},
   "outputs": [
    {
     "data": {
      "text/plain": [
       "<seaborn.axisgrid.PairGrid at 0x249c091e8b0>"
      ]
     },
     "execution_count": 8,
     "metadata": {},
     "output_type": "execute_result"
    },
    {
     "data": {
      "image/png": "[encoded data removed]",
      "text/plain": [
       "<Figure size 720x720 with 20 Axes>"
      ]
     },
     "metadata": {
      "needs_background": "light"
     },
     "output_type": "display_data"
    }
   ],
   "source": [
    "sns.pairplot(df[['year', 'classic_car', 'coupe', 'wagon']], diag_kind='kde')"
   ]
  },
  {
   "cell_type": "code",
   "execution_count": 9,
   "id": "693fa423",
   "metadata": {},
   "outputs": [
    {
     "data": {
      "text/html": [
       "<div>\n",
       "<style scoped>\n",
       "    .dataframe tbody tr th:only-of-type {\n",
       "        vertical-align: middle;\n",
       "    }\n",
       "\n",
       "    .dataframe tbody tr th {\n",
       "        vertical-align: top;\n",
       "    }\n",
       "\n",
       "    .dataframe thead th {\n",
       "        text-align: right;\n",
       "    }\n",
       "</style>\n",
       "<table border=\"1\" class=\"dataframe\">\n",
       "  <thead>\n",
       "    <tr style=\"text-align: right;\">\n",
       "      <th></th>\n",
       "      <th>count</th>\n",
       "      <th>mean</th>\n",
       "      <th>std</th>\n",
       "      <th>min</th>\n",
       "      <th>25%</th>\n",
       "      <th>50%</th>\n",
       "      <th>75%</th>\n",
       "      <th>max</th>\n",
       "    </tr>\n",
       "  </thead>\n",
       "  <tbody>\n",
       "    <tr>\n",
       "      <th>price</th>\n",
       "      <td>33956.0</td>\n",
       "      <td>18930.331193</td>\n",
       "      <td>13327.101113</td>\n",
       "      <td>100.0</td>\n",
       "      <td>8950.0</td>\n",
       "      <td>15998.0</td>\n",
       "      <td>26590.0</td>\n",
       "      <td>99999.0</td>\n",
       "    </tr>\n",
       "    <tr>\n",
       "      <th>year</th>\n",
       "      <td>33956.0</td>\n",
       "      <td>2011.641242</td>\n",
       "      <td>8.531069</td>\n",
       "      <td>1900.0</td>\n",
       "      <td>2008.0</td>\n",
       "      <td>2014.0</td>\n",
       "      <td>2017.0</td>\n",
       "      <td>2022.0</td>\n",
       "    </tr>\n",
       "    <tr>\n",
       "      <th>classic_car</th>\n",
       "      <td>33956.0</td>\n",
       "      <td>0.013694</td>\n",
       "      <td>0.116220</td>\n",
       "      <td>0.0</td>\n",
       "      <td>0.0</td>\n",
       "      <td>0.0</td>\n",
       "      <td>0.0</td>\n",
       "      <td>1.0</td>\n",
       "    </tr>\n",
       "    <tr>\n",
       "      <th>modern_car</th>\n",
       "      <td>33956.0</td>\n",
       "      <td>0.986217</td>\n",
       "      <td>0.116589</td>\n",
       "      <td>0.0</td>\n",
       "      <td>1.0</td>\n",
       "      <td>1.0</td>\n",
       "      <td>1.0</td>\n",
       "      <td>1.0</td>\n",
       "    </tr>\n",
       "    <tr>\n",
       "      <th>antique_car</th>\n",
       "      <td>33956.0</td>\n",
       "      <td>0.000088</td>\n",
       "      <td>0.009399</td>\n",
       "      <td>0.0</td>\n",
       "      <td>0.0</td>\n",
       "      <td>0.0</td>\n",
       "      <td>0.0</td>\n",
       "      <td>1.0</td>\n",
       "    </tr>\n",
       "    <tr>\n",
       "      <th>...</th>\n",
       "      <td>...</td>\n",
       "      <td>...</td>\n",
       "      <td>...</td>\n",
       "      <td>...</td>\n",
       "      <td>...</td>\n",
       "      <td>...</td>\n",
       "      <td>...</td>\n",
       "      <td>...</td>\n",
       "    </tr>\n",
       "    <tr>\n",
       "      <th>pickup</th>\n",
       "      <td>33956.0</td>\n",
       "      <td>0.128932</td>\n",
       "      <td>0.335129</td>\n",
       "      <td>0.0</td>\n",
       "      <td>0.0</td>\n",
       "      <td>0.0</td>\n",
       "      <td>0.0</td>\n",
       "      <td>1.0</td>\n",
       "    </tr>\n",
       "    <tr>\n",
       "      <th>sedan</th>\n",
       "      <td>33956.0</td>\n",
       "      <td>0.303275</td>\n",
       "      <td>0.459680</td>\n",
       "      <td>0.0</td>\n",
       "      <td>0.0</td>\n",
       "      <td>0.0</td>\n",
       "      <td>1.0</td>\n",
       "      <td>1.0</td>\n",
       "    </tr>\n",
       "    <tr>\n",
       "      <th>truck</th>\n",
       "      <td>33956.0</td>\n",
       "      <td>0.070179</td>\n",
       "      <td>0.255452</td>\n",
       "      <td>0.0</td>\n",
       "      <td>0.0</td>\n",
       "      <td>0.0</td>\n",
       "      <td>0.0</td>\n",
       "      <td>1.0</td>\n",
       "    </tr>\n",
       "    <tr>\n",
       "      <th>van</th>\n",
       "      <td>33956.0</td>\n",
       "      <td>0.027094</td>\n",
       "      <td>0.162359</td>\n",
       "      <td>0.0</td>\n",
       "      <td>0.0</td>\n",
       "      <td>0.0</td>\n",
       "      <td>0.0</td>\n",
       "      <td>1.0</td>\n",
       "    </tr>\n",
       "    <tr>\n",
       "      <th>wagon</th>\n",
       "      <td>33956.0</td>\n",
       "      <td>0.032012</td>\n",
       "      <td>0.176035</td>\n",
       "      <td>0.0</td>\n",
       "      <td>0.0</td>\n",
       "      <td>0.0</td>\n",
       "      <td>0.0</td>\n",
       "      <td>1.0</td>\n",
       "    </tr>\n",
       "  </tbody>\n",
       "</table>\n",
       "<p>88 rows × 8 columns</p>\n",
       "</div>"
      ],
      "text/plain": [
       "               count          mean           std     min     25%      50%  \\\n",
       "price        33956.0  18930.331193  13327.101113   100.0  8950.0  15998.0   \n",
       "year         33956.0   2011.641242      8.531069  1900.0  2008.0   2014.0   \n",
       "classic_car  33956.0      0.013694      0.116220     0.0     0.0      0.0   \n",
       "modern_car   33956.0      0.986217      0.116589     0.0     1.0      1.0   \n",
       "antique_car  33956.0      0.000088      0.009399     0.0     0.0      0.0   \n",
       "...              ...           ...           ...     ...     ...      ...   \n",
       "pickup       33956.0      0.128932      0.335129     0.0     0.0      0.0   \n",
       "sedan        33956.0      0.303275      0.459680     0.0     0.0      0.0   \n",
       "truck        33956.0      0.070179      0.255452     0.0     0.0      0.0   \n",
       "van          33956.0      0.027094      0.162359     0.0     0.0      0.0   \n",
       "wagon        33956.0      0.032012      0.176035     0.0     0.0      0.0   \n",
       "\n",
       "                 75%      max  \n",
       "price        26590.0  99999.0  \n",
       "year          2017.0   2022.0  \n",
       "classic_car      0.0      1.0  \n",
       "modern_car       1.0      1.0  \n",
       "antique_car      0.0      1.0  \n",
       "...              ...      ...  \n",
       "pickup           0.0      1.0  \n",
       "sedan            1.0      1.0  \n",
       "truck            0.0      1.0  \n",
       "van              0.0      1.0  \n",
       "wagon            0.0      1.0  \n",
       "\n",
       "[88 rows x 8 columns]"
      ]
     },
     "execution_count": 9,
     "metadata": {},
     "output_type": "execute_result"
    }
   ],
   "source": [
    "df.describe().transpose()"
   ]
  },
  {
   "cell_type": "code",
   "execution_count": 10,
   "id": "46821a50",
   "metadata": {},
   "outputs": [
    {
     "data": {
      "text/html": [
       "<div>\n",
       "<style scoped>\n",
       "    .dataframe tbody tr th:only-of-type {\n",
       "        vertical-align: middle;\n",
       "    }\n",
       "\n",
       "    .dataframe tbody tr th {\n",
       "        vertical-align: top;\n",
       "    }\n",
       "\n",
       "    .dataframe thead th {\n",
       "        text-align: right;\n",
       "    }\n",
       "</style>\n",
       "<table border=\"1\" class=\"dataframe\">\n",
       "  <thead>\n",
       "    <tr style=\"text-align: right;\">\n",
       "      <th></th>\n",
       "      <th>mean</th>\n",
       "      <th>std</th>\n",
       "    </tr>\n",
       "  </thead>\n",
       "  <tbody>\n",
       "    <tr>\n",
       "      <th>price</th>\n",
       "      <td>18930.331193</td>\n",
       "      <td>13327.101113</td>\n",
       "    </tr>\n",
       "    <tr>\n",
       "      <th>year</th>\n",
       "      <td>2011.641242</td>\n",
       "      <td>8.531069</td>\n",
       "    </tr>\n",
       "    <tr>\n",
       "      <th>classic_car</th>\n",
       "      <td>0.013694</td>\n",
       "      <td>0.116220</td>\n",
       "    </tr>\n",
       "    <tr>\n",
       "      <th>modern_car</th>\n",
       "      <td>0.986217</td>\n",
       "      <td>0.116589</td>\n",
       "    </tr>\n",
       "    <tr>\n",
       "      <th>antique_car</th>\n",
       "      <td>0.000088</td>\n",
       "      <td>0.009399</td>\n",
       "    </tr>\n",
       "    <tr>\n",
       "      <th>...</th>\n",
       "      <td>...</td>\n",
       "      <td>...</td>\n",
       "    </tr>\n",
       "    <tr>\n",
       "      <th>pickup</th>\n",
       "      <td>0.128932</td>\n",
       "      <td>0.335129</td>\n",
       "    </tr>\n",
       "    <tr>\n",
       "      <th>sedan</th>\n",
       "      <td>0.303275</td>\n",
       "      <td>0.459680</td>\n",
       "    </tr>\n",
       "    <tr>\n",
       "      <th>truck</th>\n",
       "      <td>0.070179</td>\n",
       "      <td>0.255452</td>\n",
       "    </tr>\n",
       "    <tr>\n",
       "      <th>van</th>\n",
       "      <td>0.027094</td>\n",
       "      <td>0.162359</td>\n",
       "    </tr>\n",
       "    <tr>\n",
       "      <th>wagon</th>\n",
       "      <td>0.032012</td>\n",
       "      <td>0.176035</td>\n",
       "    </tr>\n",
       "  </tbody>\n",
       "</table>\n",
       "<p>88 rows × 2 columns</p>\n",
       "</div>"
      ],
      "text/plain": [
       "                     mean           std\n",
       "price        18930.331193  13327.101113\n",
       "year          2011.641242      8.531069\n",
       "classic_car      0.013694      0.116220\n",
       "modern_car       0.986217      0.116589\n",
       "antique_car      0.000088      0.009399\n",
       "...                   ...           ...\n",
       "pickup           0.128932      0.335129\n",
       "sedan            0.303275      0.459680\n",
       "truck            0.070179      0.255452\n",
       "van              0.027094      0.162359\n",
       "wagon            0.032012      0.176035\n",
       "\n",
       "[88 rows x 2 columns]"
      ]
     },
     "execution_count": 10,
     "metadata": {},
     "output_type": "execute_result"
    }
   ],
   "source": [
    "df.describe().transpose()[['mean', 'std']]"
   ]
  },
  {
   "cell_type": "markdown",
   "id": "2cd0bf8e",
   "metadata": {},
   "source": [
    "# 2. Define Keras Model"
   ]
  },
  {
   "cell_type": "code",
   "execution_count": 11,
   "id": "65e93be4",
   "metadata": {},
   "outputs": [],
   "source": [
    "# keras has two APIs: Sequential and Functional.\n",
    "model = Sequential()"
   ]
  },
  {
   "cell_type": "code",
   "execution_count": 12,
   "id": "5f9c1727",
   "metadata": {},
   "outputs": [],
   "source": [
    "# input layer\n",
    "model.add(Dense(87, input_dim=87, activation='relu'))"
   ]
  },
  {
   "cell_type": "code",
   "execution_count": 13,
   "id": "362c0bb9",
   "metadata": {},
   "outputs": [],
   "source": [
    "# hidden layer\n",
    "# model.add(Dense(50, activation='relu'))"
   ]
  },
  {
   "cell_type": "code",
   "execution_count": 14,
   "id": "b184e836",
   "metadata": {},
   "outputs": [],
   "source": [
    "# output layer - relu for continuous variable\n",
    "model.add(Dense(1)) # , activation='relu'))"
   ]
  },
  {
   "cell_type": "code",
   "execution_count": 15,
   "id": "2f8b594e",
   "metadata": {},
   "outputs": [
    {
     "name": "stdout",
     "output_type": "stream",
     "text": [
      "Model: \"sequential\"\n",
      "_________________________________________________________________\n",
      " Layer (type)                Output Shape              Param #   \n",
      "=================================================================\n",
      " dense (Dense)               (None, 10)                880       \n",
      "                                                                 \n",
      " dense_1 (Dense)             (None, 10)                110       \n",
      "                                                                 \n",
      " dense_2 (Dense)             (None, 1)                 11        \n",
      "                                                                 \n",
      "=================================================================\n",
      "Total params: 1,001\n",
      "Trainable params: 1,001\n",
      "Non-trainable params: 0\n",
      "_________________________________________________________________\n"
     ]
    }
   ],
   "source": [
    "model.summary()"
   ]
  },
  {
   "cell_type": "markdown",
   "id": "60ca6994",
   "metadata": {},
   "source": [
    "# 3. Compile Keras Model"
   ]
  },
  {
   "cell_type": "code",
   "execution_count": 16,
   "id": "46d4fe1b",
   "metadata": {},
   "outputs": [],
   "source": [
    "# compile the keras model\n",
    "model.compile(loss='mean_squared_error', \n",
    "              optimizer='adam', \n",
    "              metrics=['accuracy']\n",
    "             )"
   ]
  },
  {
   "cell_type": "code",
   "execution_count": 17,
   "id": "582b9aab",
   "metadata": {},
   "outputs": [
    {
     "name": "stdout",
     "output_type": "stream",
     "text": [
      "Model: \"sequential\"\n",
      "_________________________________________________________________\n",
      " Layer (type)                Output Shape              Param #   \n",
      "=================================================================\n",
      " dense (Dense)               (None, 10)                880       \n",
      "                                                                 \n",
      " dense_1 (Dense)             (None, 10)                110       \n",
      "                                                                 \n",
      " dense_2 (Dense)             (None, 1)                 11        \n",
      "                                                                 \n",
      "=================================================================\n",
      "Total params: 1,001\n",
      "Trainable params: 1,001\n",
      "Non-trainable params: 0\n",
      "_________________________________________________________________\n"
     ]
    }
   ],
   "source": [
    "model.summary()"
   ]
  },
  {
   "cell_type": "markdown",
   "id": "7502751e",
   "metadata": {},
   "source": [
    "# 4. Fit the model"
   ]
  },
  {
   "cell_type": "code",
   "execution_count": 18,
   "id": "f7e73703",
   "metadata": {},
   "outputs": [
    {
     "name": "stdout",
     "output_type": "stream",
     "text": [
      "(8489, 87)\n",
      "(8489,)\n",
      "(25467, 87)\n",
      "(25467,)\n"
     ]
    }
   ],
   "source": [
    "# split into training sets\n",
    "X_train, X_test, y_train, y_test = train_test_split(X, y,  \n",
    "                                       test_size=0.75,  \n",
    "                                       random_state=42)\n",
    "print(X_train.shape) \n",
    "print(y_train.shape) \n",
    "print(X_test.shape) \n",
    "print(y_test.shape)"
   ]
  },
  {
   "cell_type": "code",
   "execution_count": 19,
   "id": "08a324ed",
   "metadata": {},
   "outputs": [
    {
     "name": "stdout",
     "output_type": "stream",
     "text": [
      "Epoch 1/50\n",
      "849/849 [==============================] - 1s 607us/step - loss: 535377920.0000 - accuracy: 0.0000e+00\n",
      "Epoch 2/50\n",
      "849/849 [==============================] - 1s 619us/step - loss: 535378208.0000 - accuracy: 0.0000e+00\n",
      "Epoch 3/50\n",
      "849/849 [==============================] - 1s 597us/step - loss: 535378720.0000 - accuracy: 0.0000e+00\n",
      "Epoch 4/50\n",
      "849/849 [==============================] - 1s 624us/step - loss: 535378464.0000 - accuracy: 0.0000e+00\n",
      "Epoch 5/50\n",
      "849/849 [==============================] - 1s 608us/step - loss: 535377952.0000 - accuracy: 0.0000e+00\n",
      "Epoch 6/50\n",
      "849/849 [==============================] - 1s 618us/step - loss: 535378016.0000 - accuracy: 0.0000e+00\n",
      "Epoch 7/50\n",
      "849/849 [==============================] - 1s 600us/step - loss: 535378144.0000 - accuracy: 0.0000e+00\n",
      "Epoch 8/50\n",
      "849/849 [==============================] - 1s 595us/step - loss: 535378080.0000 - accuracy: 0.0000e+00\n",
      "Epoch 9/50\n",
      "849/849 [==============================] - 1s 595us/step - loss: 535378144.0000 - accuracy: 0.0000e+00\n",
      "Epoch 10/50\n",
      "849/849 [==============================] - 1s 599us/step - loss: 535378080.0000 - accuracy: 0.0000e+00\n",
      "Epoch 11/50\n",
      "849/849 [==============================] - 1s 606us/step - loss: 535378208.0000 - accuracy: 0.0000e+00\n",
      "Epoch 12/50\n",
      "849/849 [==============================] - 1s 619us/step - loss: 535377920.0000 - accuracy: 0.0000e+00\n",
      "Epoch 13/50\n",
      "849/849 [==============================] - 1s 619us/step - loss: 535377856.0000 - accuracy: 0.0000e+00\n",
      "Epoch 14/50\n",
      "849/849 [==============================] - 1s 618us/step - loss: 535378400.0000 - accuracy: 0.0000e+00\n",
      "Epoch 15/50\n",
      "849/849 [==============================] - 1s 606us/step - loss: 535378528.0000 - accuracy: 0.0000e+00\n",
      "Epoch 16/50\n",
      "849/849 [==============================] - 1s 597us/step - loss: 535377792.0000 - accuracy: 0.0000e+00\n",
      "Epoch 17/50\n",
      "849/849 [==============================] - 1s 600us/step - loss: 535378080.0000 - accuracy: 0.0000e+00\n",
      "Epoch 18/50\n",
      "849/849 [==============================] - 1s 594us/step - loss: 535378144.0000 - accuracy: 0.0000e+00\n",
      "Epoch 19/50\n",
      "849/849 [==============================] - 1s 643us/step - loss: 535378336.0000 - accuracy: 0.0000e+00\n",
      "Epoch 20/50\n",
      "849/849 [==============================] - 1s 612us/step - loss: 535378016.0000 - accuracy: 0.0000e+00\n",
      "Epoch 21/50\n",
      "849/849 [==============================] - 1s 612us/step - loss: 535377952.0000 - accuracy: 0.0000e+00\n",
      "Epoch 22/50\n",
      "849/849 [==============================] - 1s 603us/step - loss: 535378144.0000 - accuracy: 0.0000e+00\n",
      "Epoch 23/50\n",
      "849/849 [==============================] - 0s 588us/step - loss: 535377856.0000 - accuracy: 0.0000e+00\n",
      "Epoch 24/50\n",
      "849/849 [==============================] - 1s 598us/step - loss: 535377952.0000 - accuracy: 0.0000e+00\n",
      "Epoch 25/50\n",
      "849/849 [==============================] - 1s 606us/step - loss: 535378016.0000 - accuracy: 0.0000e+00\n",
      "Epoch 26/50\n",
      "849/849 [==============================] - 1s 604us/step - loss: 535378208.0000 - accuracy: 0.0000e+00\n",
      "Epoch 27/50\n",
      "849/849 [==============================] - 1s 589us/step - loss: 535378528.0000 - accuracy: 0.0000e+00\n",
      "Epoch 28/50\n",
      "849/849 [==============================] - 0s 588us/step - loss: 535378144.0000 - accuracy: 0.0000e+00\n",
      "Epoch 29/50\n",
      "849/849 [==============================] - 1s 590us/step - loss: 535378336.0000 - accuracy: 0.0000e+00\n",
      "Epoch 30/50\n",
      "849/849 [==============================] - 1s 682us/step - loss: 535378336.0000 - accuracy: 0.0000e+00\n",
      "Epoch 31/50\n",
      "849/849 [==============================] - 1s 645us/step - loss: 535377920.0000 - accuracy: 0.0000e+00\n",
      "Epoch 32/50\n",
      "849/849 [==============================] - 1s 701us/step - loss: 535377952.0000 - accuracy: 0.0000e+00\n",
      "Epoch 33/50\n",
      "849/849 [==============================] - 1s 694us/step - loss: 535378272.0000 - accuracy: 0.0000e+00\n",
      "Epoch 34/50\n",
      "849/849 [==============================] - 1s 678us/step - loss: 535378144.0000 - accuracy: 0.0000e+00\n",
      "Epoch 35/50\n",
      "849/849 [==============================] - 1s 624us/step - loss: 535377952.0000 - accuracy: 0.0000e+00\n",
      "Epoch 36/50\n",
      "849/849 [==============================] - 1s 609us/step - loss: 535377952.0000 - accuracy: 0.0000e+00\n",
      "Epoch 37/50\n",
      "849/849 [==============================] - 0s 588us/step - loss: 535378080.0000 - accuracy: 0.0000e+00\n",
      "Epoch 38/50\n",
      "849/849 [==============================] - 1s 659us/step - loss: 535377920.0000 - accuracy: 0.0000e+00\n",
      "Epoch 39/50\n",
      "849/849 [==============================] - 1s 603us/step - loss: 535378144.0000 - accuracy: 0.0000e+00\n",
      "Epoch 40/50\n",
      "849/849 [==============================] - 1s 610us/step - loss: 535377952.0000 - accuracy: 0.0000e+00\n",
      "Epoch 41/50\n",
      "849/849 [==============================] - 1s 604us/step - loss: 535377920.0000 - accuracy: 0.0000e+00\n",
      "Epoch 42/50\n",
      "849/849 [==============================] - 1s 594us/step - loss: 535378208.0000 - accuracy: 0.0000e+00\n",
      "Epoch 43/50\n",
      "849/849 [==============================] - 1s 651us/step - loss: 535377920.0000 - accuracy: 0.0000e+00\n",
      "Epoch 44/50\n",
      "849/849 [==============================] - 1s 635us/step - loss: 535377856.0000 - accuracy: 0.0000e+00\n",
      "Epoch 45/50\n",
      "849/849 [==============================] - 1s 609us/step - loss: 535377792.0000 - accuracy: 0.0000e+00\n",
      "Epoch 46/50\n",
      "849/849 [==============================] - 1s 597us/step - loss: 535378080.0000 - accuracy: 0.0000e+00\n",
      "Epoch 47/50\n",
      "849/849 [==============================] - 0s 588us/step - loss: 535378208.0000 - accuracy: 0.0000e+00\n",
      "Epoch 48/50\n",
      "849/849 [==============================] - 1s 621us/step - loss: 535378080.0000 - accuracy: 0.0000e+00\n",
      "Epoch 49/50\n",
      "849/849 [==============================] - 1s 650us/step - loss: 535378144.0000 - accuracy: 0.0000e+00\n",
      "Epoch 50/50\n",
      "849/849 [==============================] - 1s 594us/step - loss: 535378528.0000 - accuracy: 0.0000e+00\n"
     ]
    }
   ],
   "source": [
    "# fit the keras model on the dataset\n",
    "history = model.fit(X_train, y_train, \n",
    "          epochs=50, \n",
    "          batch_size=10)"
   ]
  },
  {
   "cell_type": "markdown",
   "id": "02b2122b",
   "metadata": {},
   "source": [
    "# 5. Evaluate"
   ]
  },
  {
   "cell_type": "code",
   "execution_count": 20,
   "id": "903526fd",
   "metadata": {},
   "outputs": [
    {
     "name": "stdout",
     "output_type": "stream",
     "text": [
      "1062/1062 [==============================] - 1s 491us/step - loss: 535963392.0000 - accuracy: 0.0000e+00\n",
      "Accuracy: 0.00\n"
     ]
    }
   ],
   "source": [
    "# evaluate the keras model\n",
    "_, accuracy = model.evaluate(X, y)\n",
    "print('Accuracy: %.2f' % (accuracy*100))"
   ]
  },
  {
   "cell_type": "code",
   "execution_count": 21,
   "id": "e3ae643c",
   "metadata": {},
   "outputs": [
    {
     "data": {
      "text/html": [
       "<div>\n",
       "<style scoped>\n",
       "    .dataframe tbody tr th:only-of-type {\n",
       "        vertical-align: middle;\n",
       "    }\n",
       "\n",
       "    .dataframe tbody tr th {\n",
       "        vertical-align: top;\n",
       "    }\n",
       "\n",
       "    .dataframe thead th {\n",
       "        text-align: right;\n",
       "    }\n",
       "</style>\n",
       "<table border=\"1\" class=\"dataframe\">\n",
       "  <thead>\n",
       "    <tr style=\"text-align: right;\">\n",
       "      <th></th>\n",
       "      <th>loss</th>\n",
       "      <th>accuracy</th>\n",
       "      <th>epoch</th>\n",
       "    </tr>\n",
       "  </thead>\n",
       "  <tbody>\n",
       "    <tr>\n",
       "      <th>45</th>\n",
       "      <td>535378080.0</td>\n",
       "      <td>0.0</td>\n",
       "      <td>45</td>\n",
       "    </tr>\n",
       "    <tr>\n",
       "      <th>46</th>\n",
       "      <td>535378208.0</td>\n",
       "      <td>0.0</td>\n",
       "      <td>46</td>\n",
       "    </tr>\n",
       "    <tr>\n",
       "      <th>47</th>\n",
       "      <td>535378080.0</td>\n",
       "      <td>0.0</td>\n",
       "      <td>47</td>\n",
       "    </tr>\n",
       "    <tr>\n",
       "      <th>48</th>\n",
       "      <td>535378144.0</td>\n",
       "      <td>0.0</td>\n",
       "      <td>48</td>\n",
       "    </tr>\n",
       "    <tr>\n",
       "      <th>49</th>\n",
       "      <td>535378528.0</td>\n",
       "      <td>0.0</td>\n",
       "      <td>49</td>\n",
       "    </tr>\n",
       "  </tbody>\n",
       "</table>\n",
       "</div>"
      ],
      "text/plain": [
       "           loss  accuracy  epoch\n",
       "45  535378080.0       0.0     45\n",
       "46  535378208.0       0.0     46\n",
       "47  535378080.0       0.0     47\n",
       "48  535378144.0       0.0     48\n",
       "49  535378528.0       0.0     49"
      ]
     },
     "execution_count": 21,
     "metadata": {},
     "output_type": "execute_result"
    }
   ],
   "source": [
    "hist = pd.DataFrame(history.history)\n",
    "hist['epoch'] = history.epoch\n",
    "hist.tail()"
   ]
  },
  {
   "cell_type": "code",
   "execution_count": 22,
   "id": "799585a7",
   "metadata": {},
   "outputs": [
    {
     "name": "stdout",
     "output_type": "stream",
     "text": [
      "<class 'pandas.core.frame.DataFrame'>\n",
      "RangeIndex: 50 entries, 0 to 49\n",
      "Data columns (total 3 columns):\n",
      " #   Column    Non-Null Count  Dtype  \n",
      "---  ------    --------------  -----  \n",
      " 0   loss      50 non-null     float64\n",
      " 1   accuracy  50 non-null     float64\n",
      " 2   epoch     50 non-null     int64  \n",
      "dtypes: float64(2), int64(1)\n",
      "memory usage: 1.3 KB\n"
     ]
    }
   ],
   "source": [
    "hist.info()"
   ]
  },
  {
   "cell_type": "code",
   "execution_count": 23,
   "id": "3d1427e3",
   "metadata": {
    "scrolled": true
   },
   "outputs": [
    {
     "data": {
      "image/png": "[encoded data removed]",
      "text/plain": [
       "<Figure size 432x288 with 1 Axes>"
      ]
     },
     "metadata": {
      "needs_background": "light"
     },
     "output_type": "display_data"
    }
   ],
   "source": [
    "plt.plot(history.history['loss'], label='loss')\n",
    "# plt.plot(history.history['accuracy'], label='accuracy')\n",
    "plt.xlabel('epoch')\n",
    "plt.ylabel('target')\n",
    "plt.legend()\n",
    "plt.grid(True)"
   ]
  },
  {
   "cell_type": "code",
   "execution_count": 24,
   "id": "f74a9061",
   "metadata": {},
   "outputs": [
    {
     "data": {
      "image/png": "[encoded data removed]",
      "text/plain": [
       "<Figure size 432x288 with 1 Axes>"
      ]
     },
     "metadata": {
      "needs_background": "light"
     },
     "output_type": "display_data"
    }
   ],
   "source": [
    "# plt.plot(history.history['loss'], label='loss')\n",
    "plt.plot(history.history['accuracy'], label='accuracy')\n",
    "plt.xlabel('epoch')\n",
    "plt.ylabel('target')\n",
    "plt.legend()\n",
    "plt.grid(True)"
   ]
  },
  {
   "cell_type": "markdown",
   "id": "2afba3d1",
   "metadata": {},
   "source": [
    "# 6. Make Predictions\n"
   ]
  },
  {
   "cell_type": "code",
   "execution_count": 25,
   "id": "0a77fd0f",
   "metadata": {},
   "outputs": [
    {
     "name": "stdout",
     "output_type": "stream",
     "text": [
      "1062/1062 [==============================] - 1s 430us/step\n"
     ]
    },
    {
     "data": {
      "text/plain": [
       "array([[0.],\n",
       "       [0.],\n",
       "       [0.],\n",
       "       [0.],\n",
       "       [0.],\n",
       "       [0.],\n",
       "       [0.],\n",
       "       [0.],\n",
       "       [0.],\n",
       "       [0.]], dtype=float32)"
      ]
     },
     "execution_count": 25,
     "metadata": {},
     "output_type": "execute_result"
    }
   ],
   "source": [
    "# make probability predictions with the model\n",
    "predictions = model.predict(X)\n",
    "predictions[:10]"
   ]
  },
  {
   "cell_type": "code",
   "execution_count": 26,
   "id": "4968b9fb-035c-4351-9443-fea6b0f0d878",
   "metadata": {},
   "outputs": [
    {
     "data": {
      "text/plain": [
       "array([0., 0., 0., 0., 0., 0., 0., 0., 0., 0.], dtype=float32)"
      ]
     },
     "execution_count": 26,
     "metadata": {},
     "output_type": "execute_result"
    }
   ],
   "source": [
    "import numpy as np\n",
    "preds=predictions.reshape(-1)\n",
    "np.random.choice(preds, size=10)"
   ]
  },
  {
   "cell_type": "code",
   "execution_count": 27,
   "id": "d8f3e3d2-85a4-4aa1-b8a3-6e50063abc2d",
   "metadata": {},
   "outputs": [
    {
     "data": {
      "text/plain": [
       "[0, 0, 0, 0, 0, 0, 0, 0, 0, 0]"
      ]
     },
     "execution_count": 27,
     "metadata": {},
     "output_type": "execute_result"
    }
   ],
   "source": [
    "# round predictions \n",
    "rounded = [round(x[0]) for x in predictions]\n",
    "rounded[:10]"
   ]
  },
  {
   "cell_type": "code",
   "execution_count": 28,
   "id": "f95645d1",
   "metadata": {},
   "outputs": [
    {
     "name": "stdout",
     "output_type": "stream",
     "text": [
      "1062/1062 [==============================] - 1s 462us/step\n"
     ]
    },
    {
     "data": {
      "text/plain": [
       "array([[0],\n",
       "       [0],\n",
       "       [0],\n",
       "       [0],\n",
       "       [0],\n",
       "       [0],\n",
       "       [0],\n",
       "       [0],\n",
       "       [0],\n",
       "       [0]])"
      ]
     },
     "execution_count": 28,
     "metadata": {},
     "output_type": "execute_result"
    }
   ],
   "source": [
    "# make class predictions with the model\n",
    "predictions = (model.predict(X) > 0.5).astype(int)\n",
    "predictions[:10]"
   ]
  },
  {
   "cell_type": "markdown",
   "id": "d5ffaba5-420d-4c99-bcc5-656876c84ba4",
   "metadata": {},
   "source": [
    "# 7. Save the model\n",
    "https://machinelearningmastery.com/save-load-keras-deep-learning-models/"
   ]
  },
  {
   "cell_type": "code",
   "execution_count": 29,
   "id": "7b30b541-af55-464d-a462-38a4f38dd692",
   "metadata": {},
   "outputs": [],
   "source": [
    "model.save(\"credit-model-1.h5\")"
   ]
  },
  {
   "cell_type": "code",
   "execution_count": 30,
   "id": "caf2db43-afd3-40d6-8e9c-a4365cbf3e2b",
   "metadata": {},
   "outputs": [],
   "source": [
    "# load model\n",
    "from keras.models import load_model\n",
    "model2 = load_model('credit-model-1.h5')"
   ]
  },
  {
   "cell_type": "code",
   "execution_count": 31,
   "id": "58936d5d-d6c3-43db-b4a6-24371dd4ccda",
   "metadata": {},
   "outputs": [
    {
     "name": "stdout",
     "output_type": "stream",
     "text": [
      "1062/1062 [==============================] - 0s 437us/step\n"
     ]
    },
    {
     "data": {
      "text/plain": [
       "array([[0],\n",
       "       [0],\n",
       "       [0],\n",
       "       [0],\n",
       "       [0],\n",
       "       [0],\n",
       "       [0],\n",
       "       [0],\n",
       "       [0],\n",
       "       [0]])"
      ]
     },
     "execution_count": 31,
     "metadata": {},
     "output_type": "execute_result"
    }
   ],
   "source": [
    "# make class predictions with the model\n",
    "predictions = (model.predict(X) > 0.5).astype(int)\n",
    "predictions[:10]"
   ]
  },
  {
   "cell_type": "code",
   "execution_count": null,
   "id": "d36f17e9-6270-4ee1-9a01-030030184262",
   "metadata": {},
   "outputs": [],
   "source": []
  }
 ],
 "metadata": {
  "kernelspec": {
   "display_name": "Python 3 (ipykernel)",
   "language": "python",
   "name": "python3"
  },
  "language_info": {
   "codemirror_mode": {
    "name": "ipython",
    "version": 3
   },
   "file_extension": ".py",
   "mimetype": "text/x-python",
   "name": "python",
   "nbconvert_exporter": "python",
   "pygments_lexer": "ipython3",
   "version": "3.9.10"
  }
 },
 "nbformat": 4,
 "nbformat_minor": 5
}
