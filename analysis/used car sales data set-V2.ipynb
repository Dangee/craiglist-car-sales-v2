{
 "cells": [
  {
   "cell_type": "markdown",
   "id": "69b68725",
   "metadata": {},
   "source": [
    "# Used Car sales data set\n",
    "\n",
    "Source: https://www.kaggle.com/datasets/austinreese/craigslist-carstrucks-data "
   ]
  },
  {
   "cell_type": "markdown",
   "id": "673f29fe",
   "metadata": {},
   "source": [
    "### Purpose of predictive model\n",
    "This application will provide you with an amount that you can expect to sell for your car for on Craiglist. \n",
    "\n",
    "Disclaimer: this tool is only intended as a guide to help you decide your car sale price. What you decide to ask for is entirely up to you. Remember: your car is only worth what someone else is prepared to pay for it ;-)     \n",
    "\n",
    "Craig list car sales: https://sfbay.craigslist.org/search/cta\n",
    "\n",
    "Consider following feature: \n",
    "* how much do you want to sell your car for \n",
    "* is it a good or bad deal? \n",
    "\n",
    "include a custom search link: https://sfbay.craigslist.org/search/cta?query=mustang+gt+convertible"
   ]
  },
  {
   "cell_type": "code",
   "execution_count": 1,
   "id": "ca4fcc42",
   "metadata": {},
   "outputs": [],
   "source": [
    "import pandas as pd\n",
    "import numpy as np\n",
    "# from math import sqrt\n",
    "\n",
    "from sklearn.linear_model import LinearRegression\n",
    "from sklearn.model_selection import train_test_split\n",
    "# from sklearn import metrics\n",
    "\n",
    "import os\n",
    "\n",
    "import plotly as py \n",
    "import matplotlib.pyplot as plt\n",
    "import seaborn as sns"
   ]
  },
  {
   "cell_type": "code",
   "execution_count": 2,
   "id": "d9d70301",
   "metadata": {},
   "outputs": [],
   "source": [
    "DATA_FILE = \"s:/Data/used_car_sales/vehicles.csv\"\n",
    "\n",
    "# only load columns for regression model\n",
    "# exclude high cardinality columns - such as model \n",
    "# except for id, the other ones will be considered for regression  modeling\n",
    "\n",
    "USE_COLUMNS = [\n",
    "    'id',\n",
    "#     'url',\n",
    "#     'region',\n",
    "#     'region_url',\n",
    "    'price',\n",
    "    'year',\n",
    "    'manufacturer',\n",
    "   'model',\n",
    "    'condition',\n",
    "    'cylinders',\n",
    "    'fuel',\n",
    "    'odometer',\n",
    "#    'title_status',\n",
    "    'transmission',\n",
    "#     'VIN',\n",
    "#    'drive',\n",
    "    'size',\n",
    "    'type',\n",
    "#    'paint_color',\n",
    "#     'image_url',\n",
    "#     'description',\n",
    "#     'county',\n",
    "    'state',\n",
    "#     'lat',\n",
    "#     'long'\n",
    "#    'posting_date'\n",
    "]\n",
    "\n",
    "COL_DATA_TYPES = {\n",
    "     'id': object,\n",
    "#     'url',\n",
    "#     'region',\n",
    "#     'region_url',\n",
    "    'price': float,\n",
    "    'year': float,\n",
    "#     'manufacturer',\n",
    "#     'model',\n",
    "#     'condition',\n",
    "#     'cylinders',\n",
    "#     'fuel',\n",
    "    'odometer': float,\n",
    "#     'title_status',\n",
    "#     'transmission',\n",
    "#     'VIN',\n",
    "#     'drive',\n",
    "#     'size',\n",
    "#     'type',\n",
    "#     'paint_color',\n",
    "#     'image_url',\n",
    "#     'description',\n",
    "#     'county',\n",
    "#     'state',\n",
    "    'lat': float,\n",
    "    'long': float\n",
    "#     'posting_date'\n",
    "}"
   ]
  },
  {
   "cell_type": "code",
   "execution_count": 3,
   "id": "af221b1b",
   "metadata": {},
   "outputs": [],
   "source": [
    "df = pd.read_csv(DATA_FILE, usecols = USE_COLUMNS, dtype=COL_DATA_TYPES)"
   ]
  },
  {
   "cell_type": "code",
   "execution_count": 4,
   "id": "a9452331",
   "metadata": {},
   "outputs": [
    {
     "name": "stdout",
     "output_type": "stream",
     "text": [
      "<class 'pandas.core.frame.DataFrame'>\n",
      "RangeIndex: 426880 entries, 0 to 426879\n",
      "Data columns (total 13 columns):\n",
      " #   Column        Non-Null Count   Dtype  \n",
      "---  ------        --------------   -----  \n",
      " 0   id            426880 non-null  object \n",
      " 1   price         426880 non-null  float64\n",
      " 2   year          425675 non-null  float64\n",
      " 3   manufacturer  409234 non-null  object \n",
      " 4   model         421603 non-null  object \n",
      " 5   condition     252776 non-null  object \n",
      " 6   cylinders     249202 non-null  object \n",
      " 7   fuel          423867 non-null  object \n",
      " 8   odometer      422480 non-null  float64\n",
      " 9   transmission  424324 non-null  object \n",
      " 10  size          120519 non-null  object \n",
      " 11  type          334022 non-null  object \n",
      " 12  state         426880 non-null  object \n",
      "dtypes: float64(3), object(10)\n",
      "memory usage: 42.3+ MB\n"
     ]
    }
   ],
   "source": [
    "df.info()"
   ]
  },
  {
   "cell_type": "code",
   "execution_count": 5,
   "id": "e0ea038d",
   "metadata": {},
   "outputs": [],
   "source": [
    "# exclude records with null year, manufaturer   \n",
    "df = df.dropna(subset=['year','manufacturer','type'])"
   ]
  },
  {
   "cell_type": "code",
   "execution_count": 6,
   "id": "30378b0e",
   "metadata": {},
   "outputs": [
    {
     "name": "stdout",
     "output_type": "stream",
     "text": [
      "<class 'pandas.core.frame.DataFrame'>\n",
      "Int64Index: 322856 entries, 27 to 426879\n",
      "Data columns (total 13 columns):\n",
      " #   Column        Non-Null Count   Dtype  \n",
      "---  ------        --------------   -----  \n",
      " 0   id            322856 non-null  object \n",
      " 1   price         322856 non-null  float64\n",
      " 2   year          322856 non-null  float64\n",
      " 3   manufacturer  322856 non-null  object \n",
      " 4   model         319948 non-null  object \n",
      " 5   condition     211580 non-null  object \n",
      " 6   cylinders     213643 non-null  object \n",
      " 7   fuel          321169 non-null  object \n",
      " 8   odometer      319544 non-null  float64\n",
      " 9   transmission  321174 non-null  object \n",
      " 10  size          111572 non-null  object \n",
      " 11  type          322856 non-null  object \n",
      " 12  state         322856 non-null  object \n",
      "dtypes: float64(3), object(10)\n",
      "memory usage: 34.5+ MB\n"
     ]
    }
   ],
   "source": [
    "df.info()"
   ]
  },
  {
   "cell_type": "code",
   "execution_count": 7,
   "id": "0b934d68",
   "metadata": {},
   "outputs": [
    {
     "data": {
      "text/plain": [
       "id              322856\n",
       "price            13534\n",
       "year               105\n",
       "manufacturer        42\n",
       "model            20677\n",
       "condition            6\n",
       "cylinders            8\n",
       "fuel                 5\n",
       "odometer         88865\n",
       "transmission         3\n",
       "size                 4\n",
       "type                13\n",
       "state               51\n",
       "dtype: int64"
      ]
     },
     "execution_count": 7,
     "metadata": {},
     "output_type": "execute_result"
    }
   ],
   "source": [
    "df.nunique()"
   ]
  },
  {
   "cell_type": "code",
   "execution_count": 8,
   "id": "ab56c4f7",
   "metadata": {},
   "outputs": [],
   "source": [
    "pd.set_option('display.max_rows', None)"
   ]
  },
  {
   "cell_type": "code",
   "execution_count": 9,
   "id": "ab6b558a",
   "metadata": {},
   "outputs": [
    {
     "data": {
      "text/plain": [
       "array(['gas', 'other', 'diesel', 'hybrid', nan, 'electric'], dtype=object)"
      ]
     },
     "execution_count": 9,
     "metadata": {},
     "output_type": "execute_result"
    }
   ],
   "source": [
    "df['fuel'].unique()"
   ]
  },
  {
   "cell_type": "code",
   "execution_count": 10,
   "id": "4bf43b95",
   "metadata": {},
   "outputs": [
    {
     "data": {
      "text/plain": [
       "<AxesSubplot:xlabel='fuel'>"
      ]
     },
     "execution_count": 10,
     "metadata": {},
     "output_type": "execute_result"
    },
    {
     "data": {
      "image/png": "[encoded data removed]",
      "text/plain": [
       "<Figure size 432x288 with 1 Axes>"
      ]
     },
     "metadata": {
      "needs_background": "light"
     },
     "output_type": "display_data"
    }
   ],
   "source": [
    "df[['fuel','id']].groupby('fuel').count().plot(kind='bar')"
   ]
  },
  {
   "cell_type": "code",
   "execution_count": 11,
   "id": "dd75d68e",
   "metadata": {},
   "outputs": [
    {
     "data": {
      "text/plain": [
       "array(['other', 'automatic', 'manual', nan], dtype=object)"
      ]
     },
     "execution_count": 11,
     "metadata": {},
     "output_type": "execute_result"
    }
   ],
   "source": [
    "df['transmission'].unique()"
   ]
  },
  {
   "cell_type": "code",
   "execution_count": 12,
   "id": "2d100e6a",
   "metadata": {},
   "outputs": [
    {
     "data": {
      "text/plain": [
       "<AxesSubplot:xlabel='transmission'>"
      ]
     },
     "execution_count": 12,
     "metadata": {},
     "output_type": "execute_result"
    },
    {
     "data": {
      "image/png": "[encoded data removed]",
      "text/plain": [
       "<Figure size 432x288 with 1 Axes>"
      ]
     },
     "metadata": {
      "needs_background": "light"
     },
     "output_type": "display_data"
    }
   ],
   "source": [
    "df[['transmission','id']].groupby('transmission').count().plot(kind='bar')"
   ]
  },
  {
   "cell_type": "code",
   "execution_count": 13,
   "id": "6357a712",
   "metadata": {},
   "outputs": [
    {
     "data": {
      "text/plain": [
       "array(['pickup', 'truck', 'other', 'coupe', 'SUV', 'hatchback',\n",
       "       'mini-van', 'sedan', 'offroad', 'van', 'convertible', 'wagon',\n",
       "       'bus'], dtype=object)"
      ]
     },
     "execution_count": 13,
     "metadata": {},
     "output_type": "execute_result"
    }
   ],
   "source": [
    "df['type'].unique()"
   ]
  },
  {
   "cell_type": "code",
   "execution_count": 14,
   "id": "fc3d22e1",
   "metadata": {},
   "outputs": [
    {
     "data": {
      "text/plain": [
       "<AxesSubplot:xlabel='type'>"
      ]
     },
     "execution_count": 14,
     "metadata": {},
     "output_type": "execute_result"
    },
    {
     "data": {
      "image/png": "[encoded data removed]",
      "text/plain": [
       "<Figure size 432x288 with 1 Axes>"
      ]
     },
     "metadata": {
      "needs_background": "light"
     },
     "output_type": "display_data"
    }
   ],
   "source": [
    "df[['type','id']].groupby('type').count().plot(kind='bar')"
   ]
  },
  {
   "cell_type": "code",
   "execution_count": 15,
   "id": "90a8ccf7",
   "metadata": {},
   "outputs": [],
   "source": [
    "# update value 'other' to more specific value\n",
    "df.loc[df[(df['fuel'] == 'other')].index,'fuel'] = 'other_fuel'\n",
    "df.loc[df[(df['transmission'] == 'other')].index,'transmission'] = 'other_transmission'\n",
    "df.loc[df[(df['type'] == 'other')].index,'type'] = 'other_type'"
   ]
  },
  {
   "cell_type": "code",
   "execution_count": 16,
   "id": "4adda3eb",
   "metadata": {},
   "outputs": [
    {
     "data": {
      "text/plain": [
       "<AxesSubplot:xlabel='fuel'>"
      ]
     },
     "execution_count": 16,
     "metadata": {},
     "output_type": "execute_result"
    },
    {
     "data": {
      "image/png": "[encoded data removed]",
      "text/plain": [
       "<Figure size 432x288 with 1 Axes>"
      ]
     },
     "metadata": {
      "needs_background": "light"
     },
     "output_type": "display_data"
    }
   ],
   "source": [
    "df[['fuel','id']].groupby('fuel').count().plot(kind='bar')"
   ]
  },
  {
   "cell_type": "code",
   "execution_count": 17,
   "id": "733221f3",
   "metadata": {},
   "outputs": [
    {
     "data": {
      "text/plain": [
       "<AxesSubplot:xlabel='transmission'>"
      ]
     },
     "execution_count": 17,
     "metadata": {},
     "output_type": "execute_result"
    },
    {
     "data": {
      "image/png": "[encoded data removed]",
      "text/plain": [
       "<Figure size 432x288 with 1 Axes>"
      ]
     },
     "metadata": {
      "needs_background": "light"
     },
     "output_type": "display_data"
    }
   ],
   "source": [
    "df[['transmission','id']].groupby('transmission').count().plot(kind='bar')"
   ]
  },
  {
   "cell_type": "code",
   "execution_count": 18,
   "id": "7a023179",
   "metadata": {},
   "outputs": [
    {
     "data": {
      "text/plain": [
       "<AxesSubplot:xlabel='type'>"
      ]
     },
     "execution_count": 18,
     "metadata": {},
     "output_type": "execute_result"
    },
    {
     "data": {
      "image/png": "[encoded data removed]",
      "text/plain": [
       "<Figure size 432x288 with 1 Axes>"
      ]
     },
     "metadata": {
      "needs_background": "light"
     },
     "output_type": "display_data"
    }
   ],
   "source": [
    "df[['type','id']].groupby('type').count().plot(kind='bar')"
   ]
  },
  {
   "cell_type": "code",
   "execution_count": 19,
   "id": "6bae4849",
   "metadata": {},
   "outputs": [],
   "source": [
    "pd.set_option('display.max_rows', 15)"
   ]
  },
  {
   "cell_type": "code",
   "execution_count": 20,
   "id": "1cad9bb7",
   "metadata": {},
   "outputs": [
    {
     "name": "stdout",
     "output_type": "stream",
     "text": [
      "<class 'pandas.core.frame.DataFrame'>\n",
      "Int64Index: 322856 entries, 27 to 426879\n",
      "Data columns (total 13 columns):\n",
      " #   Column        Non-Null Count   Dtype   \n",
      "---  ------        --------------   -----   \n",
      " 0   id            322856 non-null  object  \n",
      " 1   price         322856 non-null  float64 \n",
      " 2   year          322856 non-null  int16   \n",
      " 3   manufacturer  322856 non-null  category\n",
      " 4   model         319948 non-null  object  \n",
      " 5   condition     211580 non-null  category\n",
      " 6   cylinders     213643 non-null  category\n",
      " 7   fuel          321169 non-null  category\n",
      " 8   odometer      319544 non-null  float64 \n",
      " 9   transmission  321174 non-null  category\n",
      " 10  size          111572 non-null  category\n",
      " 11  type          322856 non-null  category\n",
      " 12  state         322856 non-null  category\n",
      "dtypes: category(8), float64(2), int16(1), object(2)\n",
      "memory usage: 23.5+ MB\n"
     ]
    }
   ],
   "source": [
    "# just testing out the impact - reduce memory use of the data frame\n",
    "\n",
    "df['year'] = df['year'].astype('int16')\n",
    "df['manufacturer'] = df['manufacturer'].astype('category')\n",
    "df['condition'] = df['condition'].astype('category')\n",
    "df['cylinders'] = df['cylinders'].astype('category')\n",
    "df['fuel'] = df['fuel'].astype('category')\n",
    "df['transmission'] = df['transmission'].astype('category')\n",
    "df['size'] = df['size'].astype('category')\n",
    "df['type'] = df['type'].astype('category')\n",
    "df['state'] = df['state'].astype('category')\n",
    "\n",
    "df.info()"
   ]
  },
  {
   "cell_type": "markdown",
   "id": "fce20895",
   "metadata": {},
   "source": [
    "using categories cut down overall memory usage by half "
   ]
  },
  {
   "cell_type": "markdown",
   "id": "10ff58f5",
   "metadata": {},
   "source": [
    "### regression model notes\n",
    "* price is going to be our target variable \n",
    "* odometer reading will be broken down into bins "
   ]
  },
  {
   "cell_type": "code",
   "execution_count": 21,
   "id": "a9cdfafd",
   "metadata": {},
   "outputs": [],
   "source": [
    "pd.options.display.float_format = '{:.2f}'.format\n",
    "# pd.reset_option('^display.', silent=True)"
   ]
  },
  {
   "cell_type": "code",
   "execution_count": 22,
   "id": "5e775e9d",
   "metadata": {},
   "outputs": [
    {
     "data": {
      "text/plain": [
       "count       322856.00\n",
       "mean         39467.82\n",
       "std        7310057.02\n",
       "min              0.00\n",
       "25%           6500.00\n",
       "50%          14999.00\n",
       "75%          27500.00\n",
       "max     3736928711.00\n",
       "Name: price, dtype: float64"
      ]
     },
     "execution_count": 22,
     "metadata": {},
     "output_type": "execute_result"
    }
   ],
   "source": [
    "df['price'].describe()"
   ]
  },
  {
   "cell_type": "code",
   "execution_count": 23,
   "id": "d9335409",
   "metadata": {},
   "outputs": [
    {
     "data": {
      "text/plain": [
       "year       -0.00\n",
       "odometer    0.00\n",
       "price       1.00\n",
       "Name: price, dtype: float64"
      ]
     },
     "execution_count": 23,
     "metadata": {},
     "output_type": "execute_result"
    }
   ],
   "source": [
    "# Find out our predictors... using \"correlations\"\n",
    "corrs = df.corr()\n",
    "corrs['price'].sort_values()"
   ]
  },
  {
   "cell_type": "markdown",
   "id": "44548775",
   "metadata": {},
   "source": [
    "Will need to try that again after converting categories to numbers "
   ]
  },
  {
   "cell_type": "code",
   "execution_count": 24,
   "id": "3c59eaa6",
   "metadata": {},
   "outputs": [
    {
     "data": {
      "image/png": "[encoded data removed]",
      "text/plain": [
       "<Figure size 864x576 with 2 Axes>"
      ]
     },
     "metadata": {
      "needs_background": "light"
     },
     "output_type": "display_data"
    }
   ],
   "source": [
    "# heatmap correlations\n",
    "plt.figure(figsize=(12,8))\n",
    "sns.heatmap(corrs);"
   ]
  },
  {
   "cell_type": "code",
   "execution_count": 25,
   "id": "482a1a34",
   "metadata": {},
   "outputs": [
    {
     "data": {
      "text/plain": [
       "array([1900, 1903, 1905, 1913, 1916, 1918, 1922, 1923, 1924, 1925, 1926,\n",
       "       1927, 1928, 1929, 1930, 1931, 1932, 1933, 1934, 1935, 1936, 1937,\n",
       "       1938, 1939, 1940, 1941, 1942, 1944, 1946, 1947, 1948, 1949, 1950,\n",
       "       1951, 1952, 1953, 1954, 1955, 1956, 1957, 1958, 1959, 1960, 1961,\n",
       "       1962, 1963, 1964, 1965, 1966, 1967, 1968, 1969, 1970, 1971, 1972,\n",
       "       1973, 1974, 1975, 1976, 1977, 1978, 1979, 1980, 1981, 1982, 1983,\n",
       "       1984, 1985, 1986, 1987, 1988, 1989, 1990, 1991, 1992, 1993, 1994,\n",
       "       1995, 1996, 1997, 1998, 1999, 2000, 2001, 2002, 2003, 2004, 2005,\n",
       "       2006, 2007, 2008, 2009, 2010, 2011, 2012, 2013, 2014, 2015, 2016,\n",
       "       2017, 2018, 2019, 2020, 2021, 2022], dtype=int16)"
      ]
     },
     "execution_count": 25,
     "metadata": {},
     "output_type": "execute_result"
    }
   ],
   "source": [
    "np.sort(df['year'].unique())"
   ]
  },
  {
   "cell_type": "code",
   "execution_count": 26,
   "id": "cc739345",
   "metadata": {
    "scrolled": true
   },
   "outputs": [
    {
     "data": {
      "text/html": [
       "<div>\n",
       "<style scoped>\n",
       "    .dataframe tbody tr th:only-of-type {\n",
       "        vertical-align: middle;\n",
       "    }\n",
       "\n",
       "    .dataframe tbody tr th {\n",
       "        vertical-align: top;\n",
       "    }\n",
       "\n",
       "    .dataframe thead th {\n",
       "        text-align: right;\n",
       "    }\n",
       "</style>\n",
       "<table border=\"1\" class=\"dataframe\">\n",
       "  <thead>\n",
       "    <tr style=\"text-align: right;\">\n",
       "      <th></th>\n",
       "      <th>count</th>\n",
       "      <th>mean</th>\n",
       "      <th>std</th>\n",
       "      <th>min</th>\n",
       "      <th>25%</th>\n",
       "      <th>50%</th>\n",
       "      <th>75%</th>\n",
       "      <th>max</th>\n",
       "    </tr>\n",
       "  </thead>\n",
       "  <tbody>\n",
       "    <tr>\n",
       "      <th>price</th>\n",
       "      <td>322856.00</td>\n",
       "      <td>39467.82</td>\n",
       "      <td>7310057.02</td>\n",
       "      <td>0.00</td>\n",
       "      <td>6500.00</td>\n",
       "      <td>14999.00</td>\n",
       "      <td>27500.00</td>\n",
       "      <td>3736928711.00</td>\n",
       "    </tr>\n",
       "    <tr>\n",
       "      <th>year</th>\n",
       "      <td>322856.00</td>\n",
       "      <td>2012.20</td>\n",
       "      <td>8.08</td>\n",
       "      <td>1900.00</td>\n",
       "      <td>2010.00</td>\n",
       "      <td>2014.00</td>\n",
       "      <td>2017.00</td>\n",
       "      <td>2022.00</td>\n",
       "    </tr>\n",
       "    <tr>\n",
       "      <th>odometer</th>\n",
       "      <td>319544.00</td>\n",
       "      <td>90087.64</td>\n",
       "      <td>163640.07</td>\n",
       "      <td>0.00</td>\n",
       "      <td>34605.00</td>\n",
       "      <td>79845.50</td>\n",
       "      <td>127222.25</td>\n",
       "      <td>10000000.00</td>\n",
       "    </tr>\n",
       "  </tbody>\n",
       "</table>\n",
       "</div>"
      ],
      "text/plain": [
       "             count     mean        std     min      25%      50%       75%  \\\n",
       "price    322856.00 39467.82 7310057.02    0.00  6500.00 14999.00  27500.00   \n",
       "year     322856.00  2012.20       8.08 1900.00  2010.00  2014.00   2017.00   \n",
       "odometer 319544.00 90087.64  163640.07    0.00 34605.00 79845.50 127222.25   \n",
       "\n",
       "                   max  \n",
       "price    3736928711.00  \n",
       "year           2022.00  \n",
       "odometer   10000000.00  "
      ]
     },
     "execution_count": 26,
     "metadata": {},
     "output_type": "execute_result"
    }
   ],
   "source": [
    "df.describe().T"
   ]
  },
  {
   "cell_type": "code",
   "execution_count": 27,
   "id": "0582a0f8",
   "metadata": {},
   "outputs": [
    {
     "data": {
      "text/html": [
       "<div>\n",
       "<style scoped>\n",
       "    .dataframe tbody tr th:only-of-type {\n",
       "        vertical-align: middle;\n",
       "    }\n",
       "\n",
       "    .dataframe tbody tr th {\n",
       "        vertical-align: top;\n",
       "    }\n",
       "\n",
       "    .dataframe thead th {\n",
       "        text-align: right;\n",
       "    }\n",
       "</style>\n",
       "<table border=\"1\" class=\"dataframe\">\n",
       "  <thead>\n",
       "    <tr style=\"text-align: right;\">\n",
       "      <th></th>\n",
       "      <th>count</th>\n",
       "      <th>mean</th>\n",
       "      <th>std</th>\n",
       "      <th>min</th>\n",
       "      <th>25%</th>\n",
       "      <th>50%</th>\n",
       "      <th>75%</th>\n",
       "      <th>max</th>\n",
       "    </tr>\n",
       "  </thead>\n",
       "  <tbody>\n",
       "    <tr>\n",
       "      <th>price</th>\n",
       "      <td>295728.00</td>\n",
       "      <td>43088.11</td>\n",
       "      <td>7637978.89</td>\n",
       "      <td>101.00</td>\n",
       "      <td>8250.00</td>\n",
       "      <td>16988.00</td>\n",
       "      <td>28590.00</td>\n",
       "      <td>3736928711.00</td>\n",
       "    </tr>\n",
       "    <tr>\n",
       "      <th>year</th>\n",
       "      <td>295728.00</td>\n",
       "      <td>2012.02</td>\n",
       "      <td>8.21</td>\n",
       "      <td>1900.00</td>\n",
       "      <td>2009.00</td>\n",
       "      <td>2014.00</td>\n",
       "      <td>2017.00</td>\n",
       "      <td>2022.00</td>\n",
       "    </tr>\n",
       "    <tr>\n",
       "      <th>odometer</th>\n",
       "      <td>293960.00</td>\n",
       "      <td>90525.84</td>\n",
       "      <td>148097.55</td>\n",
       "      <td>0.00</td>\n",
       "      <td>34425.00</td>\n",
       "      <td>80602.00</td>\n",
       "      <td>129128.25</td>\n",
       "      <td>10000000.00</td>\n",
       "    </tr>\n",
       "  </tbody>\n",
       "</table>\n",
       "</div>"
      ],
      "text/plain": [
       "             count     mean        std     min      25%      50%       75%  \\\n",
       "price    295728.00 43088.11 7637978.89  101.00  8250.00 16988.00  28590.00   \n",
       "year     295728.00  2012.02       8.21 1900.00  2009.00  2014.00   2017.00   \n",
       "odometer 293960.00 90525.84  148097.55    0.00 34425.00 80602.00 129128.25   \n",
       "\n",
       "                   max  \n",
       "price    3736928711.00  \n",
       "year           2022.00  \n",
       "odometer   10000000.00  "
      ]
     },
     "execution_count": 27,
     "metadata": {},
     "output_type": "execute_result"
    }
   ],
   "source": [
    "# drop sales with a low price (i.e. less than 100) \n",
    "df = df[df['price'] > 100]\n",
    "df.describe().T"
   ]
  },
  {
   "cell_type": "code",
   "execution_count": 28,
   "id": "0caa818d",
   "metadata": {},
   "outputs": [
    {
     "data": {
      "text/html": [
       "<div>\n",
       "<style scoped>\n",
       "    .dataframe tbody tr th:only-of-type {\n",
       "        vertical-align: middle;\n",
       "    }\n",
       "\n",
       "    .dataframe tbody tr th {\n",
       "        vertical-align: top;\n",
       "    }\n",
       "\n",
       "    .dataframe thead th {\n",
       "        text-align: right;\n",
       "    }\n",
       "</style>\n",
       "<table border=\"1\" class=\"dataframe\">\n",
       "  <thead>\n",
       "    <tr style=\"text-align: right;\">\n",
       "      <th></th>\n",
       "      <th>count</th>\n",
       "      <th>mean</th>\n",
       "      <th>std</th>\n",
       "      <th>min</th>\n",
       "      <th>25%</th>\n",
       "      <th>50%</th>\n",
       "      <th>75%</th>\n",
       "      <th>max</th>\n",
       "    </tr>\n",
       "  </thead>\n",
       "  <tbody>\n",
       "    <tr>\n",
       "      <th>price</th>\n",
       "      <td>30.00</td>\n",
       "      <td>229043722.73</td>\n",
       "      <td>735289589.03</td>\n",
       "      <td>255000.00</td>\n",
       "      <td>348499.00</td>\n",
       "      <td>4497747.50</td>\n",
       "      <td>15836419.50</td>\n",
       "      <td>3736928711.00</td>\n",
       "    </tr>\n",
       "    <tr>\n",
       "      <th>year</th>\n",
       "      <td>30.00</td>\n",
       "      <td>2011.30</td>\n",
       "      <td>11.62</td>\n",
       "      <td>1970.00</td>\n",
       "      <td>2007.00</td>\n",
       "      <td>2016.50</td>\n",
       "      <td>2019.00</td>\n",
       "      <td>2021.00</td>\n",
       "    </tr>\n",
       "    <tr>\n",
       "      <th>odometer</th>\n",
       "      <td>30.00</td>\n",
       "      <td>79046.47</td>\n",
       "      <td>74170.79</td>\n",
       "      <td>22.00</td>\n",
       "      <td>3393.75</td>\n",
       "      <td>98000.00</td>\n",
       "      <td>108625.00</td>\n",
       "      <td>320000.00</td>\n",
       "    </tr>\n",
       "  </tbody>\n",
       "</table>\n",
       "</div>"
      ],
      "text/plain": [
       "          count         mean          std       min       25%        50%  \\\n",
       "price     30.00 229043722.73 735289589.03 255000.00 348499.00 4497747.50   \n",
       "year      30.00      2011.30        11.62   1970.00   2007.00    2016.50   \n",
       "odometer  30.00     79046.47     74170.79     22.00   3393.75   98000.00   \n",
       "\n",
       "                 75%           max  \n",
       "price    15836419.50 3736928711.00  \n",
       "year         2019.00       2021.00  \n",
       "odometer   108625.00     320000.00  "
      ]
     },
     "execution_count": 28,
     "metadata": {},
     "output_type": "execute_result"
    }
   ],
   "source": [
    "# examine high price data - as outliers\n",
    "df[df['price'] > 250000].describe().T"
   ]
  },
  {
   "cell_type": "code",
   "execution_count": 29,
   "id": "dfa6ea4c",
   "metadata": {},
   "outputs": [
    {
     "data": {
      "text/html": [
       "<div>\n",
       "<style scoped>\n",
       "    .dataframe tbody tr th:only-of-type {\n",
       "        vertical-align: middle;\n",
       "    }\n",
       "\n",
       "    .dataframe tbody tr th {\n",
       "        vertical-align: top;\n",
       "    }\n",
       "\n",
       "    .dataframe thead th {\n",
       "        text-align: right;\n",
       "    }\n",
       "</style>\n",
       "<table border=\"1\" class=\"dataframe\">\n",
       "  <thead>\n",
       "    <tr style=\"text-align: right;\">\n",
       "      <th></th>\n",
       "      <th>count</th>\n",
       "      <th>mean</th>\n",
       "      <th>std</th>\n",
       "      <th>min</th>\n",
       "      <th>25%</th>\n",
       "      <th>50%</th>\n",
       "      <th>75%</th>\n",
       "      <th>max</th>\n",
       "    </tr>\n",
       "  </thead>\n",
       "  <tbody>\n",
       "    <tr>\n",
       "      <th>price</th>\n",
       "      <td>295698.00</td>\n",
       "      <td>19854.89</td>\n",
       "      <td>14728.08</td>\n",
       "      <td>101.00</td>\n",
       "      <td>8250.00</td>\n",
       "      <td>16988.00</td>\n",
       "      <td>28590.00</td>\n",
       "      <td>244999.00</td>\n",
       "    </tr>\n",
       "    <tr>\n",
       "      <th>year</th>\n",
       "      <td>295698.00</td>\n",
       "      <td>2012.02</td>\n",
       "      <td>8.21</td>\n",
       "      <td>1900.00</td>\n",
       "      <td>2009.00</td>\n",
       "      <td>2014.00</td>\n",
       "      <td>2017.00</td>\n",
       "      <td>2022.00</td>\n",
       "    </tr>\n",
       "    <tr>\n",
       "      <th>odometer</th>\n",
       "      <td>293930.00</td>\n",
       "      <td>90527.01</td>\n",
       "      <td>148103.23</td>\n",
       "      <td>0.00</td>\n",
       "      <td>34425.00</td>\n",
       "      <td>80602.00</td>\n",
       "      <td>129129.75</td>\n",
       "      <td>10000000.00</td>\n",
       "    </tr>\n",
       "  </tbody>\n",
       "</table>\n",
       "</div>"
      ],
      "text/plain": [
       "             count     mean       std     min      25%      50%       75%  \\\n",
       "price    295698.00 19854.89  14728.08  101.00  8250.00 16988.00  28590.00   \n",
       "year     295698.00  2012.02      8.21 1900.00  2009.00  2014.00   2017.00   \n",
       "odometer 293930.00 90527.01 148103.23    0.00 34425.00 80602.00 129129.75   \n",
       "\n",
       "                 max  \n",
       "price      244999.00  \n",
       "year         2022.00  \n",
       "odometer 10000000.00  "
      ]
     },
     "execution_count": 29,
     "metadata": {},
     "output_type": "execute_result"
    }
   ],
   "source": [
    "# drop sales with a very high price (i.e > 250000)\n",
    "df = df[df['price'] <= 250000]\n",
    "df.describe().T"
   ]
  },
  {
   "cell_type": "code",
   "execution_count": 30,
   "id": "af7396e0",
   "metadata": {},
   "outputs": [
    {
     "data": {
      "text/plain": [
       "count   295698.00\n",
       "mean     19854.89\n",
       "std      14728.08\n",
       "min        101.00\n",
       "25%       8250.00\n",
       "50%      16988.00\n",
       "75%      28590.00\n",
       "max     244999.00\n",
       "Name: price, dtype: float64"
      ]
     },
     "execution_count": 30,
     "metadata": {},
     "output_type": "execute_result"
    }
   ],
   "source": [
    "# updated price data set\n",
    "df['price'].describe()"
   ]
  },
  {
   "cell_type": "code",
   "execution_count": 31,
   "id": "65574b44",
   "metadata": {},
   "outputs": [
    {
     "data": {
      "text/plain": [
       "<AxesSubplot:xlabel='year', ylabel='price'>"
      ]
     },
     "execution_count": 31,
     "metadata": {},
     "output_type": "execute_result"
    },
    {
     "data": {
      "image/png": "[encoded data removed]",
      "text/plain": [
       "<Figure size 432x288 with 1 Axes>"
      ]
     },
     "metadata": {
      "needs_background": "light"
     },
     "output_type": "display_data"
    }
   ],
   "source": [
    "#scatter plot of price vs. year \n",
    "df.plot(kind=\"scatter\", x=\"year\", y=\"price\")"
   ]
  },
  {
   "cell_type": "markdown",
   "id": "bef1e161",
   "metadata": {},
   "source": [
    "There seems to be a trend where car price goes down for older cars, up to a point where it starts going up again - for instance, for cars older than 1980 (classic cars). And then the price trend goes down again for antique cars - i.e. prior to 1925. We will take this into account in the regression model by creating a car_categories of: `['modern','classic','antique']` \n",
    "\n",
    "These will appear as features in the regression model, so in preparation for that, we will create a matrix for these categories in the existing dataframe. "
   ]
  },
  {
   "cell_type": "code",
   "execution_count": 32,
   "id": "c1356ac3",
   "metadata": {},
   "outputs": [],
   "source": [
    "# would catagorizing cars as classic if built prior to 1980, \n",
    "# increase the accuracy of our model? \n",
    "df['classic_car'] = 0 \n",
    "df.loc[df[(df['year'] < 1980) & (df['year'] > 1925)].index,'classic_car'] = 1\n",
    "\n",
    "df['modern_car'] = 0 \n",
    "df.loc[df[(df['year'] >= 1980)].index,'modern_car'] = 1\n",
    "\n",
    "df['antique_car'] = 0 \n",
    "df.loc[df[(df['year'] <= 1925)].index,'antique_car'] = 1"
   ]
  },
  {
   "cell_type": "code",
   "execution_count": 33,
   "id": "41b5beba",
   "metadata": {},
   "outputs": [
    {
     "data": {
      "text/html": [
       "<div>\n",
       "<style scoped>\n",
       "    .dataframe tbody tr th:only-of-type {\n",
       "        vertical-align: middle;\n",
       "    }\n",
       "\n",
       "    .dataframe tbody tr th {\n",
       "        vertical-align: top;\n",
       "    }\n",
       "\n",
       "    .dataframe thead th {\n",
       "        text-align: right;\n",
       "    }\n",
       "</style>\n",
       "<table border=\"1\" class=\"dataframe\">\n",
       "  <thead>\n",
       "    <tr style=\"text-align: right;\">\n",
       "      <th></th>\n",
       "      <th>id</th>\n",
       "      <th>price</th>\n",
       "      <th>year</th>\n",
       "      <th>manufacturer</th>\n",
       "      <th>model</th>\n",
       "      <th>condition</th>\n",
       "      <th>cylinders</th>\n",
       "      <th>fuel</th>\n",
       "      <th>odometer</th>\n",
       "      <th>transmission</th>\n",
       "      <th>size</th>\n",
       "      <th>type</th>\n",
       "      <th>state</th>\n",
       "      <th>classic_car</th>\n",
       "      <th>modern_car</th>\n",
       "      <th>antique_car</th>\n",
       "    </tr>\n",
       "  </thead>\n",
       "  <tbody>\n",
       "    <tr>\n",
       "      <th>272159</th>\n",
       "      <td>7316198809</td>\n",
       "      <td>18500.00</td>\n",
       "      <td>1978</td>\n",
       "      <td>dodge</td>\n",
       "      <td>d300 adventurer se</td>\n",
       "      <td>good</td>\n",
       "      <td>8 cylinders</td>\n",
       "      <td>gas</td>\n",
       "      <td>33000.00</td>\n",
       "      <td>automatic</td>\n",
       "      <td>full-size</td>\n",
       "      <td>truck</td>\n",
       "      <td>ny</td>\n",
       "      <td>1</td>\n",
       "      <td>0</td>\n",
       "      <td>0</td>\n",
       "    </tr>\n",
       "    <tr>\n",
       "      <th>225723</th>\n",
       "      <td>7312017998</td>\n",
       "      <td>7500.00</td>\n",
       "      <td>1984</td>\n",
       "      <td>ford</td>\n",
       "      <td>f-250</td>\n",
       "      <td>fair</td>\n",
       "      <td>8 cylinders</td>\n",
       "      <td>gas</td>\n",
       "      <td>96000.00</td>\n",
       "      <td>automatic</td>\n",
       "      <td>full-size</td>\n",
       "      <td>truck</td>\n",
       "      <td>mt</td>\n",
       "      <td>0</td>\n",
       "      <td>1</td>\n",
       "      <td>0</td>\n",
       "    </tr>\n",
       "    <tr>\n",
       "      <th>80772</th>\n",
       "      <td>7316577494</td>\n",
       "      <td>6900.00</td>\n",
       "      <td>1979</td>\n",
       "      <td>ford</td>\n",
       "      <td>f250 custom</td>\n",
       "      <td>good</td>\n",
       "      <td>8 cylinders</td>\n",
       "      <td>gas</td>\n",
       "      <td>1.00</td>\n",
       "      <td>manual</td>\n",
       "      <td>full-size</td>\n",
       "      <td>pickup</td>\n",
       "      <td>co</td>\n",
       "      <td>1</td>\n",
       "      <td>0</td>\n",
       "      <td>0</td>\n",
       "    </tr>\n",
       "    <tr>\n",
       "      <th>271046</th>\n",
       "      <td>7305670501</td>\n",
       "      <td>15900.00</td>\n",
       "      <td>1983</td>\n",
       "      <td>mercedes-benz</td>\n",
       "      <td>benz 300d</td>\n",
       "      <td>excellent</td>\n",
       "      <td>5 cylinders</td>\n",
       "      <td>diesel</td>\n",
       "      <td>165000.00</td>\n",
       "      <td>automatic</td>\n",
       "      <td>full-size</td>\n",
       "      <td>sedan</td>\n",
       "      <td>ny</td>\n",
       "      <td>0</td>\n",
       "      <td>1</td>\n",
       "      <td>0</td>\n",
       "    </tr>\n",
       "    <tr>\n",
       "      <th>29780</th>\n",
       "      <td>7316906843</td>\n",
       "      <td>4700.00</td>\n",
       "      <td>1982</td>\n",
       "      <td>toyota</td>\n",
       "      <td>4runner sr5 4x4</td>\n",
       "      <td>good</td>\n",
       "      <td>4 cylinders</td>\n",
       "      <td>gas</td>\n",
       "      <td>184000.00</td>\n",
       "      <td>manual</td>\n",
       "      <td>compact</td>\n",
       "      <td>truck</td>\n",
       "      <td>ca</td>\n",
       "      <td>0</td>\n",
       "      <td>1</td>\n",
       "      <td>0</td>\n",
       "    </tr>\n",
       "    <tr>\n",
       "      <th>...</th>\n",
       "      <td>...</td>\n",
       "      <td>...</td>\n",
       "      <td>...</td>\n",
       "      <td>...</td>\n",
       "      <td>...</td>\n",
       "      <td>...</td>\n",
       "      <td>...</td>\n",
       "      <td>...</td>\n",
       "      <td>...</td>\n",
       "      <td>...</td>\n",
       "      <td>...</td>\n",
       "      <td>...</td>\n",
       "      <td>...</td>\n",
       "      <td>...</td>\n",
       "      <td>...</td>\n",
       "      <td>...</td>\n",
       "    </tr>\n",
       "    <tr>\n",
       "      <th>74808</th>\n",
       "      <td>7305673257</td>\n",
       "      <td>12970.00</td>\n",
       "      <td>1979</td>\n",
       "      <td>volkswagen</td>\n",
       "      <td>super beetle</td>\n",
       "      <td>good</td>\n",
       "      <td>4 cylinders</td>\n",
       "      <td>gas</td>\n",
       "      <td>8747.00</td>\n",
       "      <td>manual</td>\n",
       "      <td>NaN</td>\n",
       "      <td>convertible</td>\n",
       "      <td>co</td>\n",
       "      <td>1</td>\n",
       "      <td>0</td>\n",
       "      <td>0</td>\n",
       "    </tr>\n",
       "    <tr>\n",
       "      <th>291872</th>\n",
       "      <td>7305307677</td>\n",
       "      <td>20500.00</td>\n",
       "      <td>1983</td>\n",
       "      <td>mercury</td>\n",
       "      <td>capri rs</td>\n",
       "      <td>like new</td>\n",
       "      <td>8 cylinders</td>\n",
       "      <td>gas</td>\n",
       "      <td>57046.00</td>\n",
       "      <td>manual</td>\n",
       "      <td>full-size</td>\n",
       "      <td>hatchback</td>\n",
       "      <td>oh</td>\n",
       "      <td>0</td>\n",
       "      <td>1</td>\n",
       "      <td>0</td>\n",
       "    </tr>\n",
       "    <tr>\n",
       "      <th>44835</th>\n",
       "      <td>7311458279</td>\n",
       "      <td>9900.00</td>\n",
       "      <td>1978</td>\n",
       "      <td>cadillac</td>\n",
       "      <td>seville</td>\n",
       "      <td>excellent</td>\n",
       "      <td>8 cylinders</td>\n",
       "      <td>gas</td>\n",
       "      <td>121000.00</td>\n",
       "      <td>automatic</td>\n",
       "      <td>full-size</td>\n",
       "      <td>sedan</td>\n",
       "      <td>ca</td>\n",
       "      <td>1</td>\n",
       "      <td>0</td>\n",
       "      <td>0</td>\n",
       "    </tr>\n",
       "    <tr>\n",
       "      <th>416242</th>\n",
       "      <td>7315994111</td>\n",
       "      <td>8500.00</td>\n",
       "      <td>1979</td>\n",
       "      <td>chevrolet</td>\n",
       "      <td>caprice classic</td>\n",
       "      <td>excellent</td>\n",
       "      <td>8 cylinders</td>\n",
       "      <td>gas</td>\n",
       "      <td>48868.00</td>\n",
       "      <td>automatic</td>\n",
       "      <td>full-size</td>\n",
       "      <td>sedan</td>\n",
       "      <td>wi</td>\n",
       "      <td>1</td>\n",
       "      <td>0</td>\n",
       "      <td>0</td>\n",
       "    </tr>\n",
       "    <tr>\n",
       "      <th>224156</th>\n",
       "      <td>7310801000</td>\n",
       "      <td>750.00</td>\n",
       "      <td>1983</td>\n",
       "      <td>chevrolet</td>\n",
       "      <td>s10</td>\n",
       "      <td>fair</td>\n",
       "      <td>6 cylinders</td>\n",
       "      <td>gas</td>\n",
       "      <td>112000.00</td>\n",
       "      <td>manual</td>\n",
       "      <td>mid-size</td>\n",
       "      <td>pickup</td>\n",
       "      <td>mt</td>\n",
       "      <td>0</td>\n",
       "      <td>1</td>\n",
       "      <td>0</td>\n",
       "    </tr>\n",
       "  </tbody>\n",
       "</table>\n",
       "<p>20 rows × 16 columns</p>\n",
       "</div>"
      ],
      "text/plain": [
       "                id    price  year   manufacturer               model  \\\n",
       "272159  7316198809 18500.00  1978          dodge  d300 adventurer se   \n",
       "225723  7312017998  7500.00  1984           ford               f-250   \n",
       "80772   7316577494  6900.00  1979           ford         f250 custom   \n",
       "271046  7305670501 15900.00  1983  mercedes-benz           benz 300d   \n",
       "29780   7316906843  4700.00  1982         toyota     4runner sr5 4x4   \n",
       "...            ...      ...   ...            ...                 ...   \n",
       "74808   7305673257 12970.00  1979     volkswagen        super beetle   \n",
       "291872  7305307677 20500.00  1983        mercury            capri rs   \n",
       "44835   7311458279  9900.00  1978       cadillac             seville   \n",
       "416242  7315994111  8500.00  1979      chevrolet     caprice classic   \n",
       "224156  7310801000   750.00  1983      chevrolet                 s10   \n",
       "\n",
       "        condition    cylinders    fuel  odometer transmission       size  \\\n",
       "272159       good  8 cylinders     gas  33000.00    automatic  full-size   \n",
       "225723       fair  8 cylinders     gas  96000.00    automatic  full-size   \n",
       "80772        good  8 cylinders     gas      1.00       manual  full-size   \n",
       "271046  excellent  5 cylinders  diesel 165000.00    automatic  full-size   \n",
       "29780        good  4 cylinders     gas 184000.00       manual    compact   \n",
       "...           ...          ...     ...       ...          ...        ...   \n",
       "74808        good  4 cylinders     gas   8747.00       manual        NaN   \n",
       "291872   like new  8 cylinders     gas  57046.00       manual  full-size   \n",
       "44835   excellent  8 cylinders     gas 121000.00    automatic  full-size   \n",
       "416242  excellent  8 cylinders     gas  48868.00    automatic  full-size   \n",
       "224156       fair  6 cylinders     gas 112000.00       manual   mid-size   \n",
       "\n",
       "               type state  classic_car  modern_car  antique_car  \n",
       "272159        truck    ny            1           0            0  \n",
       "225723        truck    mt            0           1            0  \n",
       "80772        pickup    co            1           0            0  \n",
       "271046        sedan    ny            0           1            0  \n",
       "29780         truck    ca            0           1            0  \n",
       "...             ...   ...          ...         ...          ...  \n",
       "74808   convertible    co            1           0            0  \n",
       "291872    hatchback    oh            0           1            0  \n",
       "44835         sedan    ca            1           0            0  \n",
       "416242        sedan    wi            1           0            0  \n",
       "224156       pickup    mt            0           1            0  \n",
       "\n",
       "[20 rows x 16 columns]"
      ]
     },
     "execution_count": 33,
     "metadata": {},
     "output_type": "execute_result"
    }
   ],
   "source": [
    "df[(df['year'] < 1985) & (df['year'] > 1975)].sample(20)"
   ]
  },
  {
   "cell_type": "code",
   "execution_count": 34,
   "id": "80afe2b6",
   "metadata": {},
   "outputs": [
    {
     "data": {
      "text/plain": [
       "odometer      -0.24\n",
       "classic_car   -0.01\n",
       "antique_car   -0.00\n",
       "modern_car     0.01\n",
       "year           0.39\n",
       "price          1.00\n",
       "Name: price, dtype: float64"
      ]
     },
     "execution_count": 34,
     "metadata": {},
     "output_type": "execute_result"
    }
   ],
   "source": [
    "# Check \"correlations\"\n",
    "corrs = df.corr()\n",
    "corrs['price'].sort_values()"
   ]
  },
  {
   "cell_type": "markdown",
   "id": "8c7e8300",
   "metadata": {},
   "source": [
    "car type is apparently not so much a factor... will check again with fully numerical data set\n",
    "odometer has a negative impact - the older the car, the less the value\n",
    "year has a positive impact - the newer the car, the higher the value"
   ]
  },
  {
   "cell_type": "code",
   "execution_count": 35,
   "id": "1cce203f",
   "metadata": {},
   "outputs": [
    {
     "data": {
      "text/plain": [
       "2164"
      ]
     },
     "execution_count": 35,
     "metadata": {},
     "output_type": "execute_result"
    }
   ],
   "source": [
    "df[df['odometer'] <= 10]['odometer'].count()"
   ]
  },
  {
   "cell_type": "code",
   "execution_count": 36,
   "id": "b4645456",
   "metadata": {},
   "outputs": [
    {
     "data": {
      "text/html": [
       "<div>\n",
       "<style scoped>\n",
       "    .dataframe tbody tr th:only-of-type {\n",
       "        vertical-align: middle;\n",
       "    }\n",
       "\n",
       "    .dataframe tbody tr th {\n",
       "        vertical-align: top;\n",
       "    }\n",
       "\n",
       "    .dataframe thead th {\n",
       "        text-align: right;\n",
       "    }\n",
       "</style>\n",
       "<table border=\"1\" class=\"dataframe\">\n",
       "  <thead>\n",
       "    <tr style=\"text-align: right;\">\n",
       "      <th></th>\n",
       "      <th>count</th>\n",
       "      <th>mean</th>\n",
       "      <th>std</th>\n",
       "      <th>min</th>\n",
       "      <th>25%</th>\n",
       "      <th>50%</th>\n",
       "      <th>75%</th>\n",
       "      <th>max</th>\n",
       "    </tr>\n",
       "  </thead>\n",
       "  <tbody>\n",
       "    <tr>\n",
       "      <th>price</th>\n",
       "      <td>291766.00</td>\n",
       "      <td>19903.78</td>\n",
       "      <td>14663.25</td>\n",
       "      <td>101.00</td>\n",
       "      <td>8489.25</td>\n",
       "      <td>16990.00</td>\n",
       "      <td>28650.00</td>\n",
       "      <td>244999.00</td>\n",
       "    </tr>\n",
       "    <tr>\n",
       "      <th>year</th>\n",
       "      <td>291766.00</td>\n",
       "      <td>2012.05</td>\n",
       "      <td>8.08</td>\n",
       "      <td>1900.00</td>\n",
       "      <td>2009.00</td>\n",
       "      <td>2014.00</td>\n",
       "      <td>2017.00</td>\n",
       "      <td>2022.00</td>\n",
       "    </tr>\n",
       "    <tr>\n",
       "      <th>odometer</th>\n",
       "      <td>291766.00</td>\n",
       "      <td>91198.42</td>\n",
       "      <td>148445.35</td>\n",
       "      <td>11.00</td>\n",
       "      <td>35064.25</td>\n",
       "      <td>81347.00</td>\n",
       "      <td>129673.75</td>\n",
       "      <td>10000000.00</td>\n",
       "    </tr>\n",
       "    <tr>\n",
       "      <th>classic_car</th>\n",
       "      <td>291766.00</td>\n",
       "      <td>0.01</td>\n",
       "      <td>0.11</td>\n",
       "      <td>0.00</td>\n",
       "      <td>0.00</td>\n",
       "      <td>0.00</td>\n",
       "      <td>0.00</td>\n",
       "      <td>1.00</td>\n",
       "    </tr>\n",
       "    <tr>\n",
       "      <th>modern_car</th>\n",
       "      <td>291766.00</td>\n",
       "      <td>0.99</td>\n",
       "      <td>0.11</td>\n",
       "      <td>0.00</td>\n",
       "      <td>1.00</td>\n",
       "      <td>1.00</td>\n",
       "      <td>1.00</td>\n",
       "      <td>1.00</td>\n",
       "    </tr>\n",
       "    <tr>\n",
       "      <th>antique_car</th>\n",
       "      <td>291766.00</td>\n",
       "      <td>0.00</td>\n",
       "      <td>0.01</td>\n",
       "      <td>0.00</td>\n",
       "      <td>0.00</td>\n",
       "      <td>0.00</td>\n",
       "      <td>0.00</td>\n",
       "      <td>1.00</td>\n",
       "    </tr>\n",
       "  </tbody>\n",
       "</table>\n",
       "</div>"
      ],
      "text/plain": [
       "                count     mean       std     min      25%      50%       75%  \\\n",
       "price       291766.00 19903.78  14663.25  101.00  8489.25 16990.00  28650.00   \n",
       "year        291766.00  2012.05      8.08 1900.00  2009.00  2014.00   2017.00   \n",
       "odometer    291766.00 91198.42 148445.35   11.00 35064.25 81347.00 129673.75   \n",
       "classic_car 291766.00     0.01      0.11    0.00     0.00     0.00      0.00   \n",
       "modern_car  291766.00     0.99      0.11    0.00     1.00     1.00      1.00   \n",
       "antique_car 291766.00     0.00      0.01    0.00     0.00     0.00      0.00   \n",
       "\n",
       "                    max  \n",
       "price         244999.00  \n",
       "year            2022.00  \n",
       "odometer    10000000.00  \n",
       "classic_car        1.00  \n",
       "modern_car         1.00  \n",
       "antique_car        1.00  "
      ]
     },
     "execution_count": 36,
     "metadata": {},
     "output_type": "execute_result"
    }
   ],
   "source": [
    "# odo is required, and odo of 10 miles or less\n",
    "df = df[df['odometer'] > 10]\n",
    "df.describe().T"
   ]
  },
  {
   "cell_type": "code",
   "execution_count": 37,
   "id": "175d7e3c",
   "metadata": {},
   "outputs": [
    {
     "data": {
      "text/plain": [
       "array(['acura', 'alfa-romeo', 'aston-martin', 'audi', 'bmw', 'buick',\n",
       "       'cadillac', 'chevrolet', 'chrysler', 'datsun', 'dodge', 'ferrari',\n",
       "       'fiat', 'ford', 'gmc', 'harley-davidson', 'honda', 'hyundai',\n",
       "       'infiniti', 'jaguar', 'jeep', 'kia', 'land rover', 'lexus',\n",
       "       'lincoln', 'mazda', 'mercedes-benz', 'mercury', 'mini',\n",
       "       'mitsubishi', 'morgan', 'nissan', 'pontiac', 'porsche', 'ram',\n",
       "       'rover', 'saturn', 'subaru', 'tesla', 'toyota', 'volkswagen',\n",
       "       'volvo'], dtype=object)"
      ]
     },
     "execution_count": 37,
     "metadata": {},
     "output_type": "execute_result"
    }
   ],
   "source": [
    "np.sort(df['manufacturer'].unique())"
   ]
  },
  {
   "cell_type": "code",
   "execution_count": 38,
   "id": "cc339b38",
   "metadata": {},
   "outputs": [
    {
     "data": {
      "text/plain": [
       "['good', 'excellent', 'fair', 'like new', 'new', NaN, 'salvage']\n",
       "Categories (6, object): ['excellent', 'fair', 'good', 'like new', 'new', 'salvage']"
      ]
     },
     "execution_count": 38,
     "metadata": {},
     "output_type": "execute_result"
    }
   ],
   "source": [
    "df['condition'].unique()"
   ]
  },
  {
   "cell_type": "code",
   "execution_count": 39,
   "id": "29fa968f",
   "metadata": {},
   "outputs": [
    {
     "data": {
      "text/plain": [
       "<AxesSubplot:xlabel='condition'>"
      ]
     },
     "execution_count": 39,
     "metadata": {},
     "output_type": "execute_result"
    },
    {
     "data": {
      "image/png": "[encoded data removed]",
      "text/plain": [
       "<Figure size 432x288 with 1 Axes>"
      ]
     },
     "metadata": {
      "needs_background": "light"
     },
     "output_type": "display_data"
    }
   ],
   "source": [
    "df[['condition','id']].groupby('condition').count().plot(kind='bar')"
   ]
  },
  {
   "cell_type": "code",
   "execution_count": 40,
   "id": "9b296bc3",
   "metadata": {},
   "outputs": [
    {
     "data": {
      "text/plain": [
       "count   104386.00\n",
       "mean     22117.23\n",
       "std      12906.83\n",
       "min        101.00\n",
       "25%      10000.00\n",
       "50%      22590.00\n",
       "75%      31990.00\n",
       "max     175000.00\n",
       "Name: price, dtype: float64"
      ]
     },
     "execution_count": 40,
     "metadata": {},
     "output_type": "execute_result"
    }
   ],
   "source": [
    "df[df['condition'] == 'good']['price'].describe()"
   ]
  },
  {
   "cell_type": "code",
   "execution_count": 41,
   "id": "9267d890",
   "metadata": {},
   "outputs": [
    {
     "data": {
      "text/plain": [
       "count    74567.00\n",
       "mean     15345.57\n",
       "std      12185.75\n",
       "min        108.00\n",
       "25%       7000.00\n",
       "50%      11995.00\n",
       "75%      19789.00\n",
       "max     204999.00\n",
       "Name: price, dtype: float64"
      ]
     },
     "execution_count": 41,
     "metadata": {},
     "output_type": "execute_result"
    }
   ],
   "source": [
    "df[df['condition'] == 'excellent']['price'].describe()"
   ]
  },
  {
   "cell_type": "code",
   "execution_count": 42,
   "id": "cd0a3ad2",
   "metadata": {},
   "outputs": [
    {
     "data": {
      "text/plain": [
       "['gas', 'other_fuel', 'diesel', 'hybrid', NaN, 'electric']\n",
       "Categories (5, object): ['diesel', 'electric', 'gas', 'hybrid', 'other_fuel']"
      ]
     },
     "execution_count": 42,
     "metadata": {},
     "output_type": "execute_result"
    }
   ],
   "source": [
    "df['fuel'].unique()"
   ]
  },
  {
   "cell_type": "code",
   "execution_count": 43,
   "id": "7affe298",
   "metadata": {},
   "outputs": [
    {
     "data": {
      "text/plain": [
       "<AxesSubplot:xlabel='fuel'>"
      ]
     },
     "execution_count": 43,
     "metadata": {},
     "output_type": "execute_result"
    },
    {
     "data": {
      "image/png": "[encoded data removed]",
      "text/plain": [
       "<Figure size 432x288 with 1 Axes>"
      ]
     },
     "metadata": {
      "needs_background": "light"
     },
     "output_type": "display_data"
    }
   ],
   "source": [
    "df[['fuel','id']].groupby('fuel').count().plot(kind='bar')"
   ]
  },
  {
   "cell_type": "code",
   "execution_count": 44,
   "id": "26094c4f",
   "metadata": {},
   "outputs": [
    {
     "data": {
      "text/plain": [
       "<AxesSubplot:xlabel='fuel'>"
      ]
     },
     "execution_count": 44,
     "metadata": {},
     "output_type": "execute_result"
    },
    {
     "data": {
      "image/png": "[encoded data removed]",
      "text/plain": [
       "<Figure size 432x288 with 1 Axes>"
      ]
     },
     "metadata": {
      "needs_background": "light"
     },
     "output_type": "display_data"
    }
   ],
   "source": [
    "df[['fuel','id']].groupby('fuel').count().plot(kind='bar')"
   ]
  },
  {
   "cell_type": "code",
   "execution_count": 45,
   "id": "f20a6266",
   "metadata": {},
   "outputs": [
    {
     "data": {
      "text/plain": [
       "['other_transmission', 'automatic', 'manual', NaN]\n",
       "Categories (3, object): ['automatic', 'manual', 'other_transmission']"
      ]
     },
     "execution_count": 45,
     "metadata": {},
     "output_type": "execute_result"
    }
   ],
   "source": [
    "df['transmission'].unique()"
   ]
  },
  {
   "cell_type": "code",
   "execution_count": 46,
   "id": "fd6f4e90",
   "metadata": {},
   "outputs": [
    {
     "data": {
      "text/plain": [
       "<AxesSubplot:xlabel='transmission'>"
      ]
     },
     "execution_count": 46,
     "metadata": {},
     "output_type": "execute_result"
    },
    {
     "data": {
      "image/png": "[encoded data removed]",
      "text/plain": [
       "<Figure size 432x288 with 1 Axes>"
      ]
     },
     "metadata": {
      "needs_background": "light"
     },
     "output_type": "display_data"
    }
   ],
   "source": [
    "df[['transmission','id']].groupby('transmission').count().plot(kind='bar')"
   ]
  },
  {
   "cell_type": "code",
   "execution_count": 47,
   "id": "68d32d06",
   "metadata": {},
   "outputs": [
    {
     "data": {
      "text/plain": [
       "[NaN, 'full-size', 'mid-size', 'compact', 'sub-compact']\n",
       "Categories (4, object): ['compact', 'full-size', 'mid-size', 'sub-compact']"
      ]
     },
     "execution_count": 47,
     "metadata": {},
     "output_type": "execute_result"
    }
   ],
   "source": [
    "df['size'].unique()"
   ]
  },
  {
   "cell_type": "code",
   "execution_count": 48,
   "id": "b5ef3e55",
   "metadata": {},
   "outputs": [
    {
     "data": {
      "text/plain": [
       "<AxesSubplot:xlabel='size'>"
      ]
     },
     "execution_count": 48,
     "metadata": {},
     "output_type": "execute_result"
    },
    {
     "data": {
      "image/png": "[encoded data removed]",
      "text/plain": [
       "<Figure size 432x288 with 1 Axes>"
      ]
     },
     "metadata": {
      "needs_background": "light"
     },
     "output_type": "display_data"
    }
   ],
   "source": [
    "df[['size','id']].groupby('size').count().plot(kind='bar')"
   ]
  },
  {
   "cell_type": "code",
   "execution_count": 49,
   "id": "0153a322",
   "metadata": {},
   "outputs": [
    {
     "data": {
      "text/plain": [
       "['pickup', 'truck', 'other_type', 'coupe', 'SUV', ..., 'offroad', 'convertible', 'wagon', 'van', 'bus']\n",
       "Length: 13\n",
       "Categories (13, object): ['SUV', 'bus', 'convertible', 'coupe', ..., 'sedan', 'truck', 'van', 'wagon']"
      ]
     },
     "execution_count": 49,
     "metadata": {},
     "output_type": "execute_result"
    }
   ],
   "source": [
    "df['type'].unique()"
   ]
  },
  {
   "cell_type": "code",
   "execution_count": 50,
   "id": "b33bdead",
   "metadata": {},
   "outputs": [
    {
     "data": {
      "text/plain": [
       "<AxesSubplot:xlabel='type'>"
      ]
     },
     "execution_count": 50,
     "metadata": {},
     "output_type": "execute_result"
    },
    {
     "data": {
      "image/png": "[encoded data removed]",
      "text/plain": [
       "<Figure size 432x288 with 1 Axes>"
      ]
     },
     "metadata": {
      "needs_background": "light"
     },
     "output_type": "display_data"
    }
   ],
   "source": [
    "df[['type','id']].groupby('type').count().plot(kind='bar')"
   ]
  },
  {
   "cell_type": "code",
   "execution_count": 51,
   "id": "60fccbf6",
   "metadata": {},
   "outputs": [
    {
     "name": "stdout",
     "output_type": "stream",
     "text": [
      "<class 'pandas.core.frame.DataFrame'>\n",
      "Int64Index: 291766 entries, 27 to 426879\n",
      "Data columns (total 16 columns):\n",
      " #   Column        Non-Null Count   Dtype   \n",
      "---  ------        --------------   -----   \n",
      " 0   id            291766 non-null  object  \n",
      " 1   price         291766 non-null  float64 \n",
      " 2   year          291766 non-null  int16   \n",
      " 3   manufacturer  291766 non-null  category\n",
      " 4   model         289355 non-null  object  \n",
      " 5   condition     199436 non-null  category\n",
      " 6   cylinders     196150 non-null  category\n",
      " 7   fuel          290132 non-null  category\n",
      " 8   odometer      291766 non-null  float64 \n",
      " 9   transmission  290405 non-null  category\n",
      " 10  size          100096 non-null  category\n",
      " 11  type          291766 non-null  category\n",
      " 12  state         291766 non-null  category\n",
      " 13  classic_car   291766 non-null  int64   \n",
      " 14  modern_car    291766 non-null  int64   \n",
      " 15  antique_car   291766 non-null  int64   \n",
      "dtypes: category(8), float64(2), int16(1), int64(3), object(2)\n",
      "memory usage: 20.6+ MB\n"
     ]
    }
   ],
   "source": [
    "df.info()"
   ]
  },
  {
   "cell_type": "markdown",
   "id": "3ebbbed3",
   "metadata": {},
   "source": [
    "### Fill in the data gaps\n",
    "1. `model` missing for some records. However, there are over 20k different model descriptions. It is so granular, it should probably be examine further to categorize in fewer categories? For now, will rely only on manufacturer for initial iteration of the regression\n",
    "1. condition will default to `good` \n",
    "1. cylinders will ignore for now and exclude from the regression model \n",
    "1. fuel - will default to `gas` \n",
    "1. transmission will default to `automatic` \n",
    "1. size has a lot of missing records... will ignore and only rely on type "
   ]
  },
  {
   "cell_type": "code",
   "execution_count": 52,
   "id": "ba8425e2",
   "metadata": {},
   "outputs": [
    {
     "data": {
      "text/plain": [
       "['good', 'excellent', 'fair', 'like new', 'new', 'salvage']\n",
       "Categories (6, object): ['excellent', 'fair', 'good', 'like new', 'new', 'salvage']"
      ]
     },
     "execution_count": 52,
     "metadata": {},
     "output_type": "execute_result"
    }
   ],
   "source": [
    "# condition \n",
    "df['condition'].fillna('excellent', inplace=True)\n",
    "df['condition'].unique()\n"
   ]
  },
  {
   "cell_type": "code",
   "execution_count": 53,
   "id": "a299d18c",
   "metadata": {},
   "outputs": [
    {
     "data": {
      "text/plain": [
       "<AxesSubplot:xlabel='condition'>"
      ]
     },
     "execution_count": 53,
     "metadata": {},
     "output_type": "execute_result"
    },
    {
     "data": {
      "image/png": "[encoded data removed]",
      "text/plain": [
       "<Figure size 432x288 with 1 Axes>"
      ]
     },
     "metadata": {
      "needs_background": "light"
     },
     "output_type": "display_data"
    }
   ],
   "source": [
    "df[['condition','id']].groupby('condition').count().plot(kind='bar')"
   ]
  },
  {
   "cell_type": "code",
   "execution_count": 54,
   "id": "c788d82b",
   "metadata": {},
   "outputs": [
    {
     "data": {
      "text/plain": [
       "['gas', 'other_fuel', 'diesel', 'hybrid', 'electric']\n",
       "Categories (5, object): ['diesel', 'electric', 'gas', 'hybrid', 'other_fuel']"
      ]
     },
     "execution_count": 54,
     "metadata": {},
     "output_type": "execute_result"
    }
   ],
   "source": [
    "# fuel\n",
    "df['fuel'].fillna('gas', inplace=True)\n",
    "df['fuel'].unique()\n"
   ]
  },
  {
   "cell_type": "code",
   "execution_count": 55,
   "id": "92b284dc",
   "metadata": {},
   "outputs": [
    {
     "data": {
      "text/plain": [
       "<AxesSubplot:xlabel='fuel'>"
      ]
     },
     "execution_count": 55,
     "metadata": {},
     "output_type": "execute_result"
    },
    {
     "data": {
      "image/png": "[encoded data removed]",
      "text/plain": [
       "<Figure size 432x288 with 1 Axes>"
      ]
     },
     "metadata": {
      "needs_background": "light"
     },
     "output_type": "display_data"
    }
   ],
   "source": [
    "df[['fuel','id']].groupby('fuel').count().plot(kind='bar')"
   ]
  },
  {
   "cell_type": "code",
   "execution_count": 56,
   "id": "516efb08",
   "metadata": {},
   "outputs": [
    {
     "data": {
      "text/plain": [
       "['other_transmission', 'automatic', 'manual']\n",
       "Categories (3, object): ['automatic', 'manual', 'other_transmission']"
      ]
     },
     "execution_count": 56,
     "metadata": {},
     "output_type": "execute_result"
    }
   ],
   "source": [
    "# transmission\n",
    "df['transmission'].fillna('automatic', inplace=True)\n",
    "df['transmission'].unique()\n"
   ]
  },
  {
   "cell_type": "code",
   "execution_count": 57,
   "id": "e9c74998",
   "metadata": {},
   "outputs": [
    {
     "data": {
      "text/plain": [
       "<AxesSubplot:xlabel='transmission'>"
      ]
     },
     "execution_count": 57,
     "metadata": {},
     "output_type": "execute_result"
    },
    {
     "data": {
      "image/png": "[encoded data removed]",
      "text/plain": [
       "<Figure size 432x288 with 1 Axes>"
      ]
     },
     "metadata": {
      "needs_background": "light"
     },
     "output_type": "display_data"
    }
   ],
   "source": [
    "df[['transmission','id']].groupby('transmission').count().plot(kind='bar')"
   ]
  },
  {
   "cell_type": "code",
   "execution_count": 58,
   "id": "7d6c7ba2",
   "metadata": {},
   "outputs": [
    {
     "name": "stdout",
     "output_type": "stream",
     "text": [
      "<class 'pandas.core.frame.DataFrame'>\n",
      "Int64Index: 291766 entries, 27 to 426879\n",
      "Data columns (total 16 columns):\n",
      " #   Column        Non-Null Count   Dtype   \n",
      "---  ------        --------------   -----   \n",
      " 0   id            291766 non-null  object  \n",
      " 1   price         291766 non-null  float64 \n",
      " 2   year          291766 non-null  int16   \n",
      " 3   manufacturer  291766 non-null  category\n",
      " 4   model         289355 non-null  object  \n",
      " 5   condition     291766 non-null  category\n",
      " 6   cylinders     196150 non-null  category\n",
      " 7   fuel          291766 non-null  category\n",
      " 8   odometer      291766 non-null  float64 \n",
      " 9   transmission  291766 non-null  category\n",
      " 10  size          100096 non-null  category\n",
      " 11  type          291766 non-null  category\n",
      " 12  state         291766 non-null  category\n",
      " 13  classic_car   291766 non-null  int64   \n",
      " 14  modern_car    291766 non-null  int64   \n",
      " 15  antique_car   291766 non-null  int64   \n",
      "dtypes: category(8), float64(2), int16(1), int64(3), object(2)\n",
      "memory usage: 20.6+ MB\n"
     ]
    }
   ],
   "source": [
    "df.info()"
   ]
  },
  {
   "cell_type": "markdown",
   "id": "bb4960da",
   "metadata": {},
   "source": [
    "### Setup data for regression modeling "
   ]
  },
  {
   "cell_type": "code",
   "execution_count": 59,
   "id": "eaf32fc3",
   "metadata": {},
   "outputs": [],
   "source": [
    "# create model for state of california\n",
    "df_model = df[df['state'] == 'ca'][['price',\n",
    "              'year',\n",
    "              'manufacturer',\n",
    "              'condition',\n",
    "              'fuel',\n",
    "              'odometer',\n",
    "              'transmission',\n",
    "              'type',\n",
    "#               'state',\n",
    "              'classic_car',\n",
    "              'modern_car',\n",
    "              'antique_car']]"
   ]
  },
  {
   "cell_type": "code",
   "execution_count": 60,
   "id": "0f29ac5c",
   "metadata": {},
   "outputs": [
    {
     "name": "stdout",
     "output_type": "stream",
     "text": [
      "<class 'pandas.core.frame.DataFrame'>\n",
      "Int64Index: 34002 entries, 21171 to 71784\n",
      "Data columns (total 11 columns):\n",
      " #   Column        Non-Null Count  Dtype   \n",
      "---  ------        --------------  -----   \n",
      " 0   price         34002 non-null  float64 \n",
      " 1   year          34002 non-null  int16   \n",
      " 2   manufacturer  34002 non-null  category\n",
      " 3   condition     34002 non-null  category\n",
      " 4   fuel          34002 non-null  category\n",
      " 5   odometer      34002 non-null  float64 \n",
      " 6   transmission  34002 non-null  category\n",
      " 7   type          34002 non-null  category\n",
      " 8   classic_car   34002 non-null  int64   \n",
      " 9   modern_car    34002 non-null  int64   \n",
      " 10  antique_car   34002 non-null  int64   \n",
      "dtypes: category(5), float64(2), int16(1), int64(3)\n",
      "memory usage: 1.8 MB\n"
     ]
    }
   ],
   "source": [
    "df_model.info()"
   ]
  },
  {
   "cell_type": "code",
   "execution_count": 61,
   "id": "d2283d3c",
   "metadata": {},
   "outputs": [],
   "source": [
    "# create a function to encode multiple columns\n",
    "def encode_cols(df,col_list):\n",
    "    for c in col_list:\n",
    "        ohe=pd.get_dummies(df[c])\n",
    "        df=pd.concat([df, ohe], axis=1) \n",
    "    return df"
   ]
  },
  {
   "cell_type": "code",
   "execution_count": 62,
   "id": "7251be05",
   "metadata": {},
   "outputs": [],
   "source": [
    "# manufacturer encoding \n",
    "# ohe=pd.get_dummies(df_model['manufacturer'])\n",
    "# print(ohe.columns)\n",
    "# ohe.head()"
   ]
  },
  {
   "cell_type": "code",
   "execution_count": 63,
   "id": "15e6f7e4",
   "metadata": {},
   "outputs": [
    {
     "data": {
      "text/plain": [
       "Index(['price', 'year', 'manufacturer', 'condition', 'fuel', 'odometer',\n",
       "       'transmission', 'type', 'classic_car', 'modern_car', 'antique_car'],\n",
       "      dtype='object')"
      ]
     },
     "execution_count": 63,
     "metadata": {},
     "output_type": "execute_result"
    }
   ],
   "source": [
    "df_model.columns"
   ]
  },
  {
   "cell_type": "code",
   "execution_count": 64,
   "id": "4638f7f6",
   "metadata": {},
   "outputs": [
    {
     "name": "stdout",
     "output_type": "stream",
     "text": [
      "['manufacturer', 'condition', 'fuel', 'transmission', 'type']\n"
     ]
    }
   ],
   "source": [
    "category_cols = list(df_model.select_dtypes(include='category'))\n",
    "print(category_cols)"
   ]
  },
  {
   "cell_type": "code",
   "execution_count": 65,
   "id": "43b6177a",
   "metadata": {},
   "outputs": [
    {
     "data": {
      "text/plain": [
       "Index(['price', 'year', 'manufacturer', 'condition', 'fuel', 'odometer',\n",
       "       'transmission', 'type', 'classic_car', 'modern_car', 'antique_car',\n",
       "       'acura', 'alfa-romeo', 'aston-martin', 'audi', 'bmw', 'buick',\n",
       "       'cadillac', 'chevrolet', 'chrysler', 'datsun', 'dodge', 'ferrari',\n",
       "       'fiat', 'ford', 'gmc', 'harley-davidson', 'honda', 'hyundai',\n",
       "       'infiniti', 'jaguar', 'jeep', 'kia', 'land rover', 'lexus', 'lincoln',\n",
       "       'mazda', 'mercedes-benz', 'mercury', 'mini', 'mitsubishi', 'morgan',\n",
       "       'nissan', 'pontiac', 'porsche', 'ram', 'rover', 'saturn', 'subaru',\n",
       "       'tesla', 'toyota', 'volkswagen', 'volvo', 'excellent', 'fair', 'good',\n",
       "       'like new', 'new', 'salvage', 'diesel', 'electric', 'gas', 'hybrid',\n",
       "       'other_fuel', 'automatic', 'manual', 'other_transmission', 'SUV', 'bus',\n",
       "       'convertible', 'coupe', 'hatchback', 'mini-van', 'offroad',\n",
       "       'other_type', 'pickup', 'sedan', 'truck', 'van', 'wagon'],\n",
       "      dtype='object')"
      ]
     },
     "execution_count": 65,
     "metadata": {},
     "output_type": "execute_result"
    }
   ],
   "source": [
    "df_model = encode_cols(df_model,category_cols)\n",
    "\n",
    "df_model.columns"
   ]
  },
  {
   "cell_type": "code",
   "execution_count": 66,
   "id": "97d65e48",
   "metadata": {},
   "outputs": [
    {
     "data": {
      "text/plain": [
       "(34002, 80)"
      ]
     },
     "execution_count": 66,
     "metadata": {},
     "output_type": "execute_result"
    }
   ],
   "source": [
    "df_model.shape"
   ]
  },
  {
   "cell_type": "code",
   "execution_count": 67,
   "id": "b9bd0fd0",
   "metadata": {},
   "outputs": [
    {
     "data": {
      "text/html": [
       "<div>\n",
       "<style scoped>\n",
       "    .dataframe tbody tr th:only-of-type {\n",
       "        vertical-align: middle;\n",
       "    }\n",
       "\n",
       "    .dataframe tbody tr th {\n",
       "        vertical-align: top;\n",
       "    }\n",
       "\n",
       "    .dataframe thead th {\n",
       "        text-align: right;\n",
       "    }\n",
       "</style>\n",
       "<table border=\"1\" class=\"dataframe\">\n",
       "  <thead>\n",
       "    <tr style=\"text-align: right;\">\n",
       "      <th></th>\n",
       "      <th>price</th>\n",
       "      <th>year</th>\n",
       "      <th>manufacturer</th>\n",
       "      <th>condition</th>\n",
       "      <th>fuel</th>\n",
       "      <th>odometer</th>\n",
       "      <th>transmission</th>\n",
       "      <th>type</th>\n",
       "      <th>classic_car</th>\n",
       "      <th>modern_car</th>\n",
       "      <th>...</th>\n",
       "      <th>coupe</th>\n",
       "      <th>hatchback</th>\n",
       "      <th>mini-van</th>\n",
       "      <th>offroad</th>\n",
       "      <th>other_type</th>\n",
       "      <th>pickup</th>\n",
       "      <th>sedan</th>\n",
       "      <th>truck</th>\n",
       "      <th>van</th>\n",
       "      <th>wagon</th>\n",
       "    </tr>\n",
       "  </thead>\n",
       "  <tbody>\n",
       "    <tr>\n",
       "      <th>62137</th>\n",
       "      <td>26920.00</td>\n",
       "      <td>2016</td>\n",
       "      <td>bmw</td>\n",
       "      <td>good</td>\n",
       "      <td>gas</td>\n",
       "      <td>45849.00</td>\n",
       "      <td>automatic</td>\n",
       "      <td>sedan</td>\n",
       "      <td>0</td>\n",
       "      <td>1</td>\n",
       "      <td>...</td>\n",
       "      <td>0</td>\n",
       "      <td>0</td>\n",
       "      <td>0</td>\n",
       "      <td>0</td>\n",
       "      <td>0</td>\n",
       "      <td>0</td>\n",
       "      <td>1</td>\n",
       "      <td>0</td>\n",
       "      <td>0</td>\n",
       "      <td>0</td>\n",
       "    </tr>\n",
       "    <tr>\n",
       "      <th>55116</th>\n",
       "      <td>36995.00</td>\n",
       "      <td>2014</td>\n",
       "      <td>tesla</td>\n",
       "      <td>excellent</td>\n",
       "      <td>electric</td>\n",
       "      <td>61314.00</td>\n",
       "      <td>automatic</td>\n",
       "      <td>hatchback</td>\n",
       "      <td>0</td>\n",
       "      <td>1</td>\n",
       "      <td>...</td>\n",
       "      <td>0</td>\n",
       "      <td>1</td>\n",
       "      <td>0</td>\n",
       "      <td>0</td>\n",
       "      <td>0</td>\n",
       "      <td>0</td>\n",
       "      <td>0</td>\n",
       "      <td>0</td>\n",
       "      <td>0</td>\n",
       "      <td>0</td>\n",
       "    </tr>\n",
       "    <tr>\n",
       "      <th>48076</th>\n",
       "      <td>25999.00</td>\n",
       "      <td>2008</td>\n",
       "      <td>toyota</td>\n",
       "      <td>excellent</td>\n",
       "      <td>gas</td>\n",
       "      <td>95000.00</td>\n",
       "      <td>automatic</td>\n",
       "      <td>SUV</td>\n",
       "      <td>0</td>\n",
       "      <td>1</td>\n",
       "      <td>...</td>\n",
       "      <td>0</td>\n",
       "      <td>0</td>\n",
       "      <td>0</td>\n",
       "      <td>0</td>\n",
       "      <td>0</td>\n",
       "      <td>0</td>\n",
       "      <td>0</td>\n",
       "      <td>0</td>\n",
       "      <td>0</td>\n",
       "      <td>0</td>\n",
       "    </tr>\n",
       "    <tr>\n",
       "      <th>33264</th>\n",
       "      <td>18590.00</td>\n",
       "      <td>2018</td>\n",
       "      <td>chevrolet</td>\n",
       "      <td>good</td>\n",
       "      <td>hybrid</td>\n",
       "      <td>24586.00</td>\n",
       "      <td>other_transmission</td>\n",
       "      <td>sedan</td>\n",
       "      <td>0</td>\n",
       "      <td>1</td>\n",
       "      <td>...</td>\n",
       "      <td>0</td>\n",
       "      <td>0</td>\n",
       "      <td>0</td>\n",
       "      <td>0</td>\n",
       "      <td>0</td>\n",
       "      <td>0</td>\n",
       "      <td>1</td>\n",
       "      <td>0</td>\n",
       "      <td>0</td>\n",
       "      <td>0</td>\n",
       "    </tr>\n",
       "    <tr>\n",
       "      <th>67408</th>\n",
       "      <td>25562.00</td>\n",
       "      <td>2017</td>\n",
       "      <td>ram</td>\n",
       "      <td>excellent</td>\n",
       "      <td>gas</td>\n",
       "      <td>73202.00</td>\n",
       "      <td>automatic</td>\n",
       "      <td>truck</td>\n",
       "      <td>0</td>\n",
       "      <td>1</td>\n",
       "      <td>...</td>\n",
       "      <td>0</td>\n",
       "      <td>0</td>\n",
       "      <td>0</td>\n",
       "      <td>0</td>\n",
       "      <td>0</td>\n",
       "      <td>0</td>\n",
       "      <td>0</td>\n",
       "      <td>1</td>\n",
       "      <td>0</td>\n",
       "      <td>0</td>\n",
       "    </tr>\n",
       "    <tr>\n",
       "      <th>...</th>\n",
       "      <td>...</td>\n",
       "      <td>...</td>\n",
       "      <td>...</td>\n",
       "      <td>...</td>\n",
       "      <td>...</td>\n",
       "      <td>...</td>\n",
       "      <td>...</td>\n",
       "      <td>...</td>\n",
       "      <td>...</td>\n",
       "      <td>...</td>\n",
       "      <td>...</td>\n",
       "      <td>...</td>\n",
       "      <td>...</td>\n",
       "      <td>...</td>\n",
       "      <td>...</td>\n",
       "      <td>...</td>\n",
       "      <td>...</td>\n",
       "      <td>...</td>\n",
       "      <td>...</td>\n",
       "      <td>...</td>\n",
       "      <td>...</td>\n",
       "    </tr>\n",
       "    <tr>\n",
       "      <th>28155</th>\n",
       "      <td>10499.00</td>\n",
       "      <td>2018</td>\n",
       "      <td>chevrolet</td>\n",
       "      <td>excellent</td>\n",
       "      <td>gas</td>\n",
       "      <td>50050.00</td>\n",
       "      <td>automatic</td>\n",
       "      <td>sedan</td>\n",
       "      <td>0</td>\n",
       "      <td>1</td>\n",
       "      <td>...</td>\n",
       "      <td>0</td>\n",
       "      <td>0</td>\n",
       "      <td>0</td>\n",
       "      <td>0</td>\n",
       "      <td>0</td>\n",
       "      <td>0</td>\n",
       "      <td>1</td>\n",
       "      <td>0</td>\n",
       "      <td>0</td>\n",
       "      <td>0</td>\n",
       "    </tr>\n",
       "    <tr>\n",
       "      <th>44555</th>\n",
       "      <td>57925.00</td>\n",
       "      <td>2020</td>\n",
       "      <td>ford</td>\n",
       "      <td>like new</td>\n",
       "      <td>gas</td>\n",
       "      <td>12500.00</td>\n",
       "      <td>automatic</td>\n",
       "      <td>truck</td>\n",
       "      <td>0</td>\n",
       "      <td>1</td>\n",
       "      <td>...</td>\n",
       "      <td>0</td>\n",
       "      <td>0</td>\n",
       "      <td>0</td>\n",
       "      <td>0</td>\n",
       "      <td>0</td>\n",
       "      <td>0</td>\n",
       "      <td>0</td>\n",
       "      <td>1</td>\n",
       "      <td>0</td>\n",
       "      <td>0</td>\n",
       "    </tr>\n",
       "    <tr>\n",
       "      <th>32271</th>\n",
       "      <td>30540.00</td>\n",
       "      <td>2017</td>\n",
       "      <td>mercedes-benz</td>\n",
       "      <td>excellent</td>\n",
       "      <td>gas</td>\n",
       "      <td>50582.00</td>\n",
       "      <td>automatic</td>\n",
       "      <td>sedan</td>\n",
       "      <td>0</td>\n",
       "      <td>1</td>\n",
       "      <td>...</td>\n",
       "      <td>0</td>\n",
       "      <td>0</td>\n",
       "      <td>0</td>\n",
       "      <td>0</td>\n",
       "      <td>0</td>\n",
       "      <td>0</td>\n",
       "      <td>1</td>\n",
       "      <td>0</td>\n",
       "      <td>0</td>\n",
       "      <td>0</td>\n",
       "    </tr>\n",
       "    <tr>\n",
       "      <th>55446</th>\n",
       "      <td>5995.00</td>\n",
       "      <td>2006</td>\n",
       "      <td>ram</td>\n",
       "      <td>good</td>\n",
       "      <td>gas</td>\n",
       "      <td>204000.00</td>\n",
       "      <td>automatic</td>\n",
       "      <td>pickup</td>\n",
       "      <td>0</td>\n",
       "      <td>1</td>\n",
       "      <td>...</td>\n",
       "      <td>0</td>\n",
       "      <td>0</td>\n",
       "      <td>0</td>\n",
       "      <td>0</td>\n",
       "      <td>0</td>\n",
       "      <td>1</td>\n",
       "      <td>0</td>\n",
       "      <td>0</td>\n",
       "      <td>0</td>\n",
       "      <td>0</td>\n",
       "    </tr>\n",
       "    <tr>\n",
       "      <th>42656</th>\n",
       "      <td>37999.00</td>\n",
       "      <td>2012</td>\n",
       "      <td>ford</td>\n",
       "      <td>good</td>\n",
       "      <td>gas</td>\n",
       "      <td>118703.00</td>\n",
       "      <td>automatic</td>\n",
       "      <td>truck</td>\n",
       "      <td>0</td>\n",
       "      <td>1</td>\n",
       "      <td>...</td>\n",
       "      <td>0</td>\n",
       "      <td>0</td>\n",
       "      <td>0</td>\n",
       "      <td>0</td>\n",
       "      <td>0</td>\n",
       "      <td>0</td>\n",
       "      <td>0</td>\n",
       "      <td>1</td>\n",
       "      <td>0</td>\n",
       "      <td>0</td>\n",
       "    </tr>\n",
       "  </tbody>\n",
       "</table>\n",
       "<p>25 rows × 80 columns</p>\n",
       "</div>"
      ],
      "text/plain": [
       "         price  year   manufacturer  condition      fuel  odometer  \\\n",
       "62137 26920.00  2016            bmw       good       gas  45849.00   \n",
       "55116 36995.00  2014          tesla  excellent  electric  61314.00   \n",
       "48076 25999.00  2008         toyota  excellent       gas  95000.00   \n",
       "33264 18590.00  2018      chevrolet       good    hybrid  24586.00   \n",
       "67408 25562.00  2017            ram  excellent       gas  73202.00   \n",
       "...        ...   ...            ...        ...       ...       ...   \n",
       "28155 10499.00  2018      chevrolet  excellent       gas  50050.00   \n",
       "44555 57925.00  2020           ford   like new       gas  12500.00   \n",
       "32271 30540.00  2017  mercedes-benz  excellent       gas  50582.00   \n",
       "55446  5995.00  2006            ram       good       gas 204000.00   \n",
       "42656 37999.00  2012           ford       good       gas 118703.00   \n",
       "\n",
       "             transmission       type  classic_car  modern_car  ...  coupe  \\\n",
       "62137           automatic      sedan            0           1  ...      0   \n",
       "55116           automatic  hatchback            0           1  ...      0   \n",
       "48076           automatic        SUV            0           1  ...      0   \n",
       "33264  other_transmission      sedan            0           1  ...      0   \n",
       "67408           automatic      truck            0           1  ...      0   \n",
       "...                   ...        ...          ...         ...  ...    ...   \n",
       "28155           automatic      sedan            0           1  ...      0   \n",
       "44555           automatic      truck            0           1  ...      0   \n",
       "32271           automatic      sedan            0           1  ...      0   \n",
       "55446           automatic     pickup            0           1  ...      0   \n",
       "42656           automatic      truck            0           1  ...      0   \n",
       "\n",
       "       hatchback  mini-van  offroad  other_type  pickup  sedan  truck  van  \\\n",
       "62137          0         0        0           0       0      1      0    0   \n",
       "55116          1         0        0           0       0      0      0    0   \n",
       "48076          0         0        0           0       0      0      0    0   \n",
       "33264          0         0        0           0       0      1      0    0   \n",
       "67408          0         0        0           0       0      0      1    0   \n",
       "...          ...       ...      ...         ...     ...    ...    ...  ...   \n",
       "28155          0         0        0           0       0      1      0    0   \n",
       "44555          0         0        0           0       0      0      1    0   \n",
       "32271          0         0        0           0       0      1      0    0   \n",
       "55446          0         0        0           0       1      0      0    0   \n",
       "42656          0         0        0           0       0      0      1    0   \n",
       "\n",
       "       wagon  \n",
       "62137      0  \n",
       "55116      0  \n",
       "48076      0  \n",
       "33264      0  \n",
       "67408      0  \n",
       "...      ...  \n",
       "28155      0  \n",
       "44555      0  \n",
       "32271      0  \n",
       "55446      0  \n",
       "42656      0  \n",
       "\n",
       "[25 rows x 80 columns]"
      ]
     },
     "execution_count": 67,
     "metadata": {},
     "output_type": "execute_result"
    }
   ],
   "source": [
    "df_model.sample(25)"
   ]
  },
  {
   "cell_type": "code",
   "execution_count": 68,
   "id": "b2b51ff8",
   "metadata": {},
   "outputs": [
    {
     "name": "stdout",
     "output_type": "stream",
     "text": [
      "gas                  -0.26\n",
      "odometer             -0.24\n",
      "sedan                -0.20\n",
      "automatic            -0.20\n",
      "fair                 -0.13\n",
      "honda                -0.10\n",
      "excellent            -0.09\n",
      "hatchback            -0.09\n",
      "nissan               -0.09\n",
      "hyundai              -0.08\n",
      "manual               -0.08\n",
      "mini-van             -0.07\n",
      "wagon                -0.06\n",
      "volkswagen           -0.06\n",
      "kia                  -0.05\n",
      "toyota               -0.05\n",
      "chrysler             -0.05\n",
      "salvage              -0.05\n",
      "SUV                  -0.04\n",
      "mercury              -0.04\n",
      "saturn               -0.04\n",
      "subaru               -0.04\n",
      "mazda                -0.04\n",
      "modern_car           -0.04\n",
      "dodge                -0.04\n",
      "hybrid               -0.03\n",
      "mitsubishi           -0.03\n",
      "pontiac              -0.03\n",
      "mini                 -0.03\n",
      "fiat                 -0.02\n",
      "buick                -0.02\n",
      "offroad              -0.02\n",
      "datsun               -0.01\n",
      "harley-davidson      -0.01\n",
      "bus                  -0.01\n",
      "like new             -0.01\n",
      "land rover           -0.00\n",
      "van                  -0.00\n",
      "lexus                 0.00\n",
      "acura                 0.00\n",
      "infiniti              0.00\n",
      "aston-martin          0.01\n",
      "bmw                   0.01\n",
      "electric              0.02\n",
      "antique_car           0.02\n",
      "lincoln               0.03\n",
      "cadillac              0.03\n",
      "new                   0.03\n",
      "convertible           0.03\n",
      "coupe                 0.03\n",
      "jaguar                0.03\n",
      "jeep                  0.03\n",
      "classic_car           0.04\n",
      "audi                  0.04\n",
      "ford                  0.04\n",
      "chevrolet             0.04\n",
      "alfa-romeo            0.04\n",
      "truck                 0.06\n",
      "tesla                 0.06\n",
      "rover                 0.06\n",
      "gmc                   0.06\n",
      "volvo                 0.07\n",
      "mercedes-benz         0.07\n",
      "porsche               0.08\n",
      "ferrari               0.11\n",
      "other_type            0.12\n",
      "good                  0.13\n",
      "ram                   0.13\n",
      "other_fuel            0.19\n",
      "diesel                0.22\n",
      "other_transmission    0.27\n",
      "pickup                0.28\n",
      "year                  0.32\n",
      "price                 1.00\n",
      "morgan                 NaN\n",
      "Name: price, dtype: float64\n"
     ]
    }
   ],
   "source": [
    "# Check \"correlations\" again\n",
    "corrs = df_model.corr()\n",
    "corr_factors = corrs['price'].sort_values()\n",
    "\n",
    "pd.set_option('display.max_rows', None)\n",
    "print(corr_factors)\n",
    "pd.set_option('display.max_rows', 10)\n"
   ]
  },
  {
   "cell_type": "markdown",
   "id": "32029611",
   "metadata": {},
   "source": [
    "Observations: \n",
    "* unless it is a ferrari or Ram, the brand has little impact on the car price\n"
   ]
  },
  {
   "cell_type": "code",
   "execution_count": 69,
   "id": "10f041a6",
   "metadata": {},
   "outputs": [
    {
     "data": {
      "text/plain": [
       "<bound method Series.info of gas                  -0.26\n",
       "odometer             -0.24\n",
       "sedan                -0.20\n",
       "automatic            -0.20\n",
       "fair                 -0.13\n",
       "                      ... \n",
       "other_transmission    0.27\n",
       "pickup                0.28\n",
       "year                  0.32\n",
       "price                 1.00\n",
       "morgan                 NaN\n",
       "Name: price, Length: 75, dtype: float64>"
      ]
     },
     "execution_count": 69,
     "metadata": {},
     "output_type": "execute_result"
    }
   ],
   "source": [
    "corr_factors.info"
   ]
  },
  {
   "cell_type": "code",
   "execution_count": 70,
   "id": "bbb43951",
   "metadata": {},
   "outputs": [
    {
     "data": {
      "image/png": "[encoded data removed]",
      "text/plain": [
       "<Figure size 864x576 with 2 Axes>"
      ]
     },
     "metadata": {
      "needs_background": "light"
     },
     "output_type": "display_data"
    }
   ],
   "source": [
    "# heatmap correlations\n",
    "plt.figure(figsize=(12,8))\n",
    "sns.heatmap(corrs);"
   ]
  },
  {
   "cell_type": "code",
   "execution_count": 71,
   "id": "09be01e9",
   "metadata": {},
   "outputs": [
    {
     "data": {
      "text/html": [
       "<div>\n",
       "<style scoped>\n",
       "    .dataframe tbody tr th:only-of-type {\n",
       "        vertical-align: middle;\n",
       "    }\n",
       "\n",
       "    .dataframe tbody tr th {\n",
       "        vertical-align: top;\n",
       "    }\n",
       "\n",
       "    .dataframe thead th {\n",
       "        text-align: right;\n",
       "    }\n",
       "</style>\n",
       "<table border=\"1\" class=\"dataframe\">\n",
       "  <thead>\n",
       "    <tr style=\"text-align: right;\">\n",
       "      <th></th>\n",
       "      <th>price</th>\n",
       "      <th>year</th>\n",
       "      <th>odometer</th>\n",
       "      <th>ferrari</th>\n",
       "      <th>gas</th>\n",
       "      <th>diesel</th>\n",
       "      <th>other_fuel</th>\n",
       "      <th>sedan</th>\n",
       "      <th>pickup</th>\n",
       "      <th>other_type</th>\n",
       "      <th>automatic</th>\n",
       "      <th>other_transmission</th>\n",
       "      <th>excellent</th>\n",
       "      <th>good</th>\n",
       "      <th>fair</th>\n",
       "    </tr>\n",
       "  </thead>\n",
       "  <tbody>\n",
       "    <tr>\n",
       "      <th>21171</th>\n",
       "      <td>16990.00</td>\n",
       "      <td>2018</td>\n",
       "      <td>16930.00</td>\n",
       "      <td>0</td>\n",
       "      <td>1</td>\n",
       "      <td>0</td>\n",
       "      <td>0</td>\n",
       "      <td>1</td>\n",
       "      <td>0</td>\n",
       "      <td>0</td>\n",
       "      <td>0</td>\n",
       "      <td>1</td>\n",
       "      <td>0</td>\n",
       "      <td>1</td>\n",
       "      <td>0</td>\n",
       "    </tr>\n",
       "    <tr>\n",
       "      <th>21174</th>\n",
       "      <td>11975.00</td>\n",
       "      <td>2003</td>\n",
       "      <td>207000.00</td>\n",
       "      <td>0</td>\n",
       "      <td>1</td>\n",
       "      <td>0</td>\n",
       "      <td>0</td>\n",
       "      <td>0</td>\n",
       "      <td>1</td>\n",
       "      <td>0</td>\n",
       "      <td>1</td>\n",
       "      <td>0</td>\n",
       "      <td>1</td>\n",
       "      <td>0</td>\n",
       "      <td>0</td>\n",
       "    </tr>\n",
       "    <tr>\n",
       "      <th>21176</th>\n",
       "      <td>21950.00</td>\n",
       "      <td>2003</td>\n",
       "      <td>202537.00</td>\n",
       "      <td>0</td>\n",
       "      <td>0</td>\n",
       "      <td>1</td>\n",
       "      <td>0</td>\n",
       "      <td>0</td>\n",
       "      <td>0</td>\n",
       "      <td>0</td>\n",
       "      <td>1</td>\n",
       "      <td>0</td>\n",
       "      <td>1</td>\n",
       "      <td>0</td>\n",
       "      <td>0</td>\n",
       "    </tr>\n",
       "    <tr>\n",
       "      <th>21178</th>\n",
       "      <td>27590.00</td>\n",
       "      <td>2018</td>\n",
       "      <td>20420.00</td>\n",
       "      <td>0</td>\n",
       "      <td>1</td>\n",
       "      <td>0</td>\n",
       "      <td>0</td>\n",
       "      <td>1</td>\n",
       "      <td>0</td>\n",
       "      <td>0</td>\n",
       "      <td>0</td>\n",
       "      <td>1</td>\n",
       "      <td>0</td>\n",
       "      <td>1</td>\n",
       "      <td>0</td>\n",
       "    </tr>\n",
       "    <tr>\n",
       "      <th>21179</th>\n",
       "      <td>21990.00</td>\n",
       "      <td>2018</td>\n",
       "      <td>7233.00</td>\n",
       "      <td>0</td>\n",
       "      <td>1</td>\n",
       "      <td>0</td>\n",
       "      <td>0</td>\n",
       "      <td>0</td>\n",
       "      <td>0</td>\n",
       "      <td>1</td>\n",
       "      <td>0</td>\n",
       "      <td>1</td>\n",
       "      <td>0</td>\n",
       "      <td>1</td>\n",
       "      <td>0</td>\n",
       "    </tr>\n",
       "  </tbody>\n",
       "</table>\n",
       "</div>"
      ],
      "text/plain": [
       "         price  year  odometer  ferrari  gas  diesel  other_fuel  sedan  \\\n",
       "21171 16990.00  2018  16930.00        0    1       0           0      1   \n",
       "21174 11975.00  2003 207000.00        0    1       0           0      0   \n",
       "21176 21950.00  2003 202537.00        0    0       1           0      0   \n",
       "21178 27590.00  2018  20420.00        0    1       0           0      1   \n",
       "21179 21990.00  2018   7233.00        0    1       0           0      0   \n",
       "\n",
       "       pickup  other_type  automatic  other_transmission  excellent  good  \\\n",
       "21171       0           0          0                   1          0     1   \n",
       "21174       1           0          1                   0          1     0   \n",
       "21176       0           0          1                   0          1     0   \n",
       "21178       0           0          0                   1          0     1   \n",
       "21179       0           1          0                   1          0     1   \n",
       "\n",
       "       fair  \n",
       "21171     0  \n",
       "21174     0  \n",
       "21176     0  \n",
       "21178     0  \n",
       "21179     0  "
      ]
     },
     "execution_count": 71,
     "metadata": {},
     "output_type": "execute_result"
    }
   ],
   "source": [
    "# restrict to relevant features\n",
    "df_model = df_model[[\n",
    "    'price',\n",
    "    'year',\n",
    "    'odometer',\n",
    "    'ferrari',\n",
    "#     'ram',\n",
    "    'gas',\n",
    "    'diesel',\n",
    "    'other_fuel',\n",
    "\n",
    "    'sedan',\n",
    "    'pickup',\n",
    "    'other_type',\n",
    "\n",
    "    'automatic',\n",
    "    'other_transmission',\n",
    "\n",
    "    'excellent',\n",
    "    'good',\n",
    "    'fair'\n",
    "    ]].copy()\n",
    "df_model.head()"
   ]
  },
  {
   "cell_type": "code",
   "execution_count": 72,
   "id": "c19810a0",
   "metadata": {},
   "outputs": [
    {
     "name": "stdout",
     "output_type": "stream",
     "text": [
      "<class 'pandas.core.frame.DataFrame'>\n",
      "Int64Index: 34002 entries, 21171 to 71784\n",
      "Data columns (total 15 columns):\n",
      " #   Column              Non-Null Count  Dtype  \n",
      "---  ------              --------------  -----  \n",
      " 0   price               34002 non-null  float64\n",
      " 1   year                34002 non-null  int16  \n",
      " 2   odometer            34002 non-null  float64\n",
      " 3   ferrari             34002 non-null  uint8  \n",
      " 4   gas                 34002 non-null  uint8  \n",
      " 5   diesel              34002 non-null  uint8  \n",
      " 6   other_fuel          34002 non-null  uint8  \n",
      " 7   sedan               34002 non-null  uint8  \n",
      " 8   pickup              34002 non-null  uint8  \n",
      " 9   other_type          34002 non-null  uint8  \n",
      " 10  automatic           34002 non-null  uint8  \n",
      " 11  other_transmission  34002 non-null  uint8  \n",
      " 12  excellent           34002 non-null  uint8  \n",
      " 13  good                34002 non-null  uint8  \n",
      " 14  fair                34002 non-null  uint8  \n",
      "dtypes: float64(2), int16(1), uint8(12)\n",
      "memory usage: 1.2 MB\n"
     ]
    }
   ],
   "source": [
    "df_model.info()"
   ]
  },
  {
   "cell_type": "code",
   "execution_count": 73,
   "id": "ce3b0468",
   "metadata": {},
   "outputs": [
    {
     "data": {
      "text/html": [
       "<div>\n",
       "<style scoped>\n",
       "    .dataframe tbody tr th:only-of-type {\n",
       "        vertical-align: middle;\n",
       "    }\n",
       "\n",
       "    .dataframe tbody tr th {\n",
       "        vertical-align: top;\n",
       "    }\n",
       "\n",
       "    .dataframe thead th {\n",
       "        text-align: right;\n",
       "    }\n",
       "</style>\n",
       "<table border=\"1\" class=\"dataframe\">\n",
       "  <thead>\n",
       "    <tr style=\"text-align: right;\">\n",
       "      <th></th>\n",
       "      <th>price</th>\n",
       "      <th>year</th>\n",
       "      <th>odometer</th>\n",
       "      <th>ferrari</th>\n",
       "      <th>gas</th>\n",
       "      <th>diesel</th>\n",
       "      <th>other_fuel</th>\n",
       "      <th>sedan</th>\n",
       "      <th>pickup</th>\n",
       "      <th>other_type</th>\n",
       "      <th>automatic</th>\n",
       "      <th>other_transmission</th>\n",
       "      <th>excellent</th>\n",
       "      <th>good</th>\n",
       "      <th>fair</th>\n",
       "    </tr>\n",
       "  </thead>\n",
       "  <tbody>\n",
       "    <tr>\n",
       "      <th>42620</th>\n",
       "      <td>11995.00</td>\n",
       "      <td>2016</td>\n",
       "      <td>85937.00</td>\n",
       "      <td>0</td>\n",
       "      <td>1</td>\n",
       "      <td>0</td>\n",
       "      <td>0</td>\n",
       "      <td>1</td>\n",
       "      <td>0</td>\n",
       "      <td>0</td>\n",
       "      <td>1</td>\n",
       "      <td>0</td>\n",
       "      <td>1</td>\n",
       "      <td>0</td>\n",
       "      <td>0</td>\n",
       "    </tr>\n",
       "    <tr>\n",
       "      <th>35995</th>\n",
       "      <td>13495.00</td>\n",
       "      <td>2015</td>\n",
       "      <td>112115.00</td>\n",
       "      <td>0</td>\n",
       "      <td>1</td>\n",
       "      <td>0</td>\n",
       "      <td>0</td>\n",
       "      <td>0</td>\n",
       "      <td>0</td>\n",
       "      <td>1</td>\n",
       "      <td>1</td>\n",
       "      <td>0</td>\n",
       "      <td>1</td>\n",
       "      <td>0</td>\n",
       "      <td>0</td>\n",
       "    </tr>\n",
       "    <tr>\n",
       "      <th>59700</th>\n",
       "      <td>40990.00</td>\n",
       "      <td>2020</td>\n",
       "      <td>5833.00</td>\n",
       "      <td>0</td>\n",
       "      <td>1</td>\n",
       "      <td>0</td>\n",
       "      <td>0</td>\n",
       "      <td>0</td>\n",
       "      <td>0</td>\n",
       "      <td>1</td>\n",
       "      <td>0</td>\n",
       "      <td>1</td>\n",
       "      <td>0</td>\n",
       "      <td>1</td>\n",
       "      <td>0</td>\n",
       "    </tr>\n",
       "    <tr>\n",
       "      <th>35672</th>\n",
       "      <td>2400.00</td>\n",
       "      <td>1998</td>\n",
       "      <td>117547.00</td>\n",
       "      <td>0</td>\n",
       "      <td>1</td>\n",
       "      <td>0</td>\n",
       "      <td>0</td>\n",
       "      <td>0</td>\n",
       "      <td>0</td>\n",
       "      <td>0</td>\n",
       "      <td>0</td>\n",
       "      <td>0</td>\n",
       "      <td>0</td>\n",
       "      <td>1</td>\n",
       "      <td>0</td>\n",
       "    </tr>\n",
       "    <tr>\n",
       "      <th>57707</th>\n",
       "      <td>2500.00</td>\n",
       "      <td>1998</td>\n",
       "      <td>224000.00</td>\n",
       "      <td>0</td>\n",
       "      <td>1</td>\n",
       "      <td>0</td>\n",
       "      <td>0</td>\n",
       "      <td>0</td>\n",
       "      <td>0</td>\n",
       "      <td>0</td>\n",
       "      <td>1</td>\n",
       "      <td>0</td>\n",
       "      <td>0</td>\n",
       "      <td>1</td>\n",
       "      <td>0</td>\n",
       "    </tr>\n",
       "    <tr>\n",
       "      <th>...</th>\n",
       "      <td>...</td>\n",
       "      <td>...</td>\n",
       "      <td>...</td>\n",
       "      <td>...</td>\n",
       "      <td>...</td>\n",
       "      <td>...</td>\n",
       "      <td>...</td>\n",
       "      <td>...</td>\n",
       "      <td>...</td>\n",
       "      <td>...</td>\n",
       "      <td>...</td>\n",
       "      <td>...</td>\n",
       "      <td>...</td>\n",
       "      <td>...</td>\n",
       "      <td>...</td>\n",
       "    </tr>\n",
       "    <tr>\n",
       "      <th>48177</th>\n",
       "      <td>30999.00</td>\n",
       "      <td>2018</td>\n",
       "      <td>42536.00</td>\n",
       "      <td>0</td>\n",
       "      <td>1</td>\n",
       "      <td>0</td>\n",
       "      <td>0</td>\n",
       "      <td>0</td>\n",
       "      <td>0</td>\n",
       "      <td>0</td>\n",
       "      <td>1</td>\n",
       "      <td>0</td>\n",
       "      <td>1</td>\n",
       "      <td>0</td>\n",
       "      <td>0</td>\n",
       "    </tr>\n",
       "    <tr>\n",
       "      <th>63621</th>\n",
       "      <td>18999.00</td>\n",
       "      <td>2015</td>\n",
       "      <td>69154.00</td>\n",
       "      <td>0</td>\n",
       "      <td>1</td>\n",
       "      <td>0</td>\n",
       "      <td>0</td>\n",
       "      <td>0</td>\n",
       "      <td>0</td>\n",
       "      <td>0</td>\n",
       "      <td>1</td>\n",
       "      <td>0</td>\n",
       "      <td>1</td>\n",
       "      <td>0</td>\n",
       "      <td>0</td>\n",
       "    </tr>\n",
       "    <tr>\n",
       "      <th>68359</th>\n",
       "      <td>28500.00</td>\n",
       "      <td>1947</td>\n",
       "      <td>30000.00</td>\n",
       "      <td>0</td>\n",
       "      <td>1</td>\n",
       "      <td>0</td>\n",
       "      <td>0</td>\n",
       "      <td>0</td>\n",
       "      <td>0</td>\n",
       "      <td>0</td>\n",
       "      <td>1</td>\n",
       "      <td>0</td>\n",
       "      <td>1</td>\n",
       "      <td>0</td>\n",
       "      <td>0</td>\n",
       "    </tr>\n",
       "    <tr>\n",
       "      <th>43099</th>\n",
       "      <td>35900.00</td>\n",
       "      <td>2015</td>\n",
       "      <td>65918.00</td>\n",
       "      <td>0</td>\n",
       "      <td>1</td>\n",
       "      <td>0</td>\n",
       "      <td>0</td>\n",
       "      <td>0</td>\n",
       "      <td>0</td>\n",
       "      <td>0</td>\n",
       "      <td>1</td>\n",
       "      <td>0</td>\n",
       "      <td>1</td>\n",
       "      <td>0</td>\n",
       "      <td>0</td>\n",
       "    </tr>\n",
       "    <tr>\n",
       "      <th>48869</th>\n",
       "      <td>30590.00</td>\n",
       "      <td>2019</td>\n",
       "      <td>21246.00</td>\n",
       "      <td>0</td>\n",
       "      <td>1</td>\n",
       "      <td>0</td>\n",
       "      <td>0</td>\n",
       "      <td>0</td>\n",
       "      <td>0</td>\n",
       "      <td>0</td>\n",
       "      <td>1</td>\n",
       "      <td>0</td>\n",
       "      <td>0</td>\n",
       "      <td>1</td>\n",
       "      <td>0</td>\n",
       "    </tr>\n",
       "  </tbody>\n",
       "</table>\n",
       "<p>15 rows × 15 columns</p>\n",
       "</div>"
      ],
      "text/plain": [
       "         price  year  odometer  ferrari  gas  diesel  other_fuel  sedan  \\\n",
       "42620 11995.00  2016  85937.00        0    1       0           0      1   \n",
       "35995 13495.00  2015 112115.00        0    1       0           0      0   \n",
       "59700 40990.00  2020   5833.00        0    1       0           0      0   \n",
       "35672  2400.00  1998 117547.00        0    1       0           0      0   \n",
       "57707  2500.00  1998 224000.00        0    1       0           0      0   \n",
       "...        ...   ...       ...      ...  ...     ...         ...    ...   \n",
       "48177 30999.00  2018  42536.00        0    1       0           0      0   \n",
       "63621 18999.00  2015  69154.00        0    1       0           0      0   \n",
       "68359 28500.00  1947  30000.00        0    1       0           0      0   \n",
       "43099 35900.00  2015  65918.00        0    1       0           0      0   \n",
       "48869 30590.00  2019  21246.00        0    1       0           0      0   \n",
       "\n",
       "       pickup  other_type  automatic  other_transmission  excellent  good  \\\n",
       "42620       0           0          1                   0          1     0   \n",
       "35995       0           1          1                   0          1     0   \n",
       "59700       0           1          0                   1          0     1   \n",
       "35672       0           0          0                   0          0     1   \n",
       "57707       0           0          1                   0          0     1   \n",
       "...       ...         ...        ...                 ...        ...   ...   \n",
       "48177       0           0          1                   0          1     0   \n",
       "63621       0           0          1                   0          1     0   \n",
       "68359       0           0          1                   0          1     0   \n",
       "43099       0           0          1                   0          1     0   \n",
       "48869       0           0          1                   0          0     1   \n",
       "\n",
       "       fair  \n",
       "42620     0  \n",
       "35995     0  \n",
       "59700     0  \n",
       "35672     0  \n",
       "57707     0  \n",
       "...     ...  \n",
       "48177     0  \n",
       "63621     0  \n",
       "68359     0  \n",
       "43099     0  \n",
       "48869     0  \n",
       "\n",
       "[15 rows x 15 columns]"
      ]
     },
     "execution_count": 73,
     "metadata": {},
     "output_type": "execute_result"
    }
   ],
   "source": [
    "df_model.sample(15)"
   ]
  },
  {
   "cell_type": "code",
   "execution_count": 74,
   "id": "26be6e78",
   "metadata": {
    "scrolled": true
   },
   "outputs": [
    {
     "data": {
      "text/plain": [
       "0"
      ]
     },
     "execution_count": 74,
     "metadata": {},
     "output_type": "execute_result"
    }
   ],
   "source": [
    "df_model.isna().sum().sum()"
   ]
  },
  {
   "cell_type": "markdown",
   "id": "e7318f61",
   "metadata": {},
   "source": [
    "### Model Building"
   ]
  },
  {
   "cell_type": "code",
   "execution_count": 75,
   "id": "3608d72c",
   "metadata": {},
   "outputs": [
    {
     "data": {
      "text/plain": [
       "(34002,)"
      ]
     },
     "execution_count": 75,
     "metadata": {},
     "output_type": "execute_result"
    }
   ],
   "source": [
    "# declare target variable\n",
    "y = df_model['price']\n",
    "y.shape"
   ]
  },
  {
   "cell_type": "code",
   "execution_count": 76,
   "id": "b073201d",
   "metadata": {},
   "outputs": [
    {
     "data": {
      "text/plain": [
       "(34002, 14)"
      ]
     },
     "execution_count": 76,
     "metadata": {},
     "output_type": "execute_result"
    }
   ],
   "source": [
    "x = df_model.drop(['price'], axis=1)\n",
    "x.shape"
   ]
  },
  {
   "cell_type": "code",
   "execution_count": 77,
   "id": "1fbd3795",
   "metadata": {},
   "outputs": [
    {
     "data": {
      "text/plain": [
       "['year',\n",
       " 'odometer',\n",
       " 'ferrari',\n",
       " 'gas',\n",
       " 'diesel',\n",
       " 'other_fuel',\n",
       " 'sedan',\n",
       " 'pickup',\n",
       " 'other_type',\n",
       " 'automatic',\n",
       " 'other_transmission',\n",
       " 'excellent',\n",
       " 'good',\n",
       " 'fair']"
      ]
     },
     "execution_count": 77,
     "metadata": {},
     "output_type": "execute_result"
    }
   ],
   "source": [
    "list(x.columns)"
   ]
  },
  {
   "cell_type": "code",
   "execution_count": 78,
   "id": "233a91f9",
   "metadata": {},
   "outputs": [],
   "source": [
    "# train-test split\n",
    "x_train, x_test, y_train, y_test = train_test_split(x, y, test_size = .75, random_state = 12)"
   ]
  },
  {
   "cell_type": "code",
   "execution_count": 79,
   "id": "0a8da550",
   "metadata": {},
   "outputs": [],
   "source": [
    "# Instantiate the SKlearn algorithm\n",
    "# https://scikit-learn.org/stable/modules/generated/sklearn.linear_model.LinearRegression.html\n",
    "mymodel = LinearRegression(fit_intercept=True, \n",
    "#                            normalize=False, # deprecated\n",
    "                           copy_X=True, \n",
    "                           n_jobs=None, \n",
    "                           positive=False)"
   ]
  },
  {
   "cell_type": "code",
   "execution_count": 80,
   "id": "fdcc52c6",
   "metadata": {},
   "outputs": [
    {
     "data": {
      "text/plain": [
       "LinearRegression()"
      ]
     },
     "execution_count": 80,
     "metadata": {},
     "output_type": "execute_result"
    }
   ],
   "source": [
    "# Fit the model to the training dataset\n",
    "mymodel.fit(x_train, y_train)"
   ]
  },
  {
   "cell_type": "markdown",
   "id": "24717907",
   "metadata": {},
   "source": [
    "### Examine resulting model"
   ]
  },
  {
   "cell_type": "code",
   "execution_count": 98,
   "id": "dd1b5748",
   "metadata": {},
   "outputs": [
    {
     "data": {
      "text/plain": [
       "-764699.7776504275"
      ]
     },
     "execution_count": 98,
     "metadata": {},
     "output_type": "execute_result"
    }
   ],
   "source": [
    "# what is the intercept? (the value when all predictors are zero)\n",
    "mymodel.intercept_"
   ]
  },
  {
   "cell_type": "code",
   "execution_count": 99,
   "id": "0d469b09",
   "metadata": {},
   "outputs": [
    {
     "data": {
      "text/plain": [
       "[390.5031441248841,\n",
       " -0.017659688952919708,\n",
       " 103920.36002700841,\n",
       " 1745.5726762019538,\n",
       " 13946.538609987403,\n",
       " 5743.117645250859,\n",
       " -4301.212153910639,\n",
       " 8570.283187851448,\n",
       " 3708.44941088399,\n",
       " -1170.7571963590008,\n",
       " 3942.8207817679704,\n",
       " -2559.9572273672566,\n",
       " -3043.6496077529555,\n",
       " -9014.598056518584]"
      ]
     },
     "execution_count": 99,
     "metadata": {},
     "output_type": "execute_result"
    }
   ],
   "source": [
    "# what are the coefficients?\n",
    "pd.options.display.float_format = '{:.5f}'.format\n",
    "list(mymodel.coef_)"
   ]
  },
  {
   "cell_type": "markdown",
   "id": "bb78f1fa",
   "metadata": {},
   "source": [
    "### App Prep\n",
    "\n",
    "Some variables that will be needed to implement car sale price forecasting model"
   ]
  },
  {
   "cell_type": "code",
   "execution_count": 100,
   "id": "10d751dd",
   "metadata": {},
   "outputs": [],
   "source": [
    "# prediction model parameters - copy / paste from results above\n",
    "intercept = -804538.8643260737\n",
    "\n",
    "predictor_vars = ['year',\n",
    " 'odometer',\n",
    " 'ferrari',\n",
    " 'gas',\n",
    " 'diesel',\n",
    " 'other_fuel',\n",
    " 'sedan',\n",
    " 'pickup',\n",
    " 'other_type',\n",
    " 'automatic',\n",
    " 'other_transmission',\n",
    " 'excellent',\n",
    " 'good',\n",
    " 'fair']\n",
    "\n",
    "predictor_coeff = [390.5031441248841,\n",
    " -0.017659688952919708,\n",
    " 103920.36002700841,\n",
    " 1745.5726762019538,\n",
    " 13946.538609987403,\n",
    " 5743.117645250859,\n",
    " -4301.212153910639,\n",
    " 8570.283187851448,\n",
    " 3708.44941088399,\n",
    " -1170.7571963590008,\n",
    " 3942.8207817679704,\n",
    " -2559.9572273672566,\n",
    " -3043.6496077529555,\n",
    " -9014.598056518584]"
   ]
  },
  {
   "cell_type": "code",
   "execution_count": 101,
   "id": "d550215d",
   "metadata": {},
   "outputs": [
    {
     "name": "stdout",
     "output_type": "stream",
     "text": [
      "{'intercept': -804538.8643260737, 'year': 390.5031441248841, 'odometer': -0.017659688952919708, 'ferrari': 103920.36002700841, 'gas': 1745.5726762019538, 'diesel': 13946.538609987403, 'other_fuel': 5743.117645250859, 'sedan': -4301.212153910639, 'pickup': 8570.283187851448, 'other_type': 3708.44941088399, 'automatic': -1170.7571963590008, 'other_transmission': 3942.8207817679704, 'excellent': -2559.9572273672566, 'good': -3043.6496077529555, 'fair': -9014.598056518584}\n"
     ]
    }
   ],
   "source": [
    "predictor_model = {\n",
    "    \"intercept\": intercept   \n",
    "}\n",
    "\n",
    "for v in range(0,len(predictor_vars)):\n",
    "#     print(f\"{predictor_vars[v]}: {predictor_coeff[v]}\")\n",
    "    predictor_model[predictor_vars[v]] = predictor_coeff[v]\n",
    "\n",
    "print(predictor_model)"
   ]
  },
  {
   "cell_type": "code",
   "execution_count": 102,
   "id": "a3616559",
   "metadata": {},
   "outputs": [],
   "source": [
    "CAR_MANUFACTURER = ['Acura', 'Alfa-Romeo', 'Aston-Martin', 'Audi', 'Bmw', 'Buick',\n",
    "       'Cadillac', 'Chevrolet', 'Chrysler', 'Datsun', 'Dodge', 'Ferrari',\n",
    "       'Fiat', 'Ford', 'Gmc', 'Harley-Davidson', 'Honda', 'Hyundai',\n",
    "       'Infiniti', 'Jaguar', 'Jeep', 'Kia', 'Land Rover', 'Lexus',\n",
    "       'Lincoln', 'Mazda', 'Mercedes-Benz', 'Mercury', 'Mini',\n",
    "       'Mitsubishi', 'Morgan', 'Nissan', 'Pontiac', 'Porsche', 'Ram',\n",
    "       'Rover', 'Saturn', 'Subaru', 'Tesla', 'Toyota', 'Volkswagen',\n",
    "       'Volvo']"
   ]
  },
  {
   "cell_type": "code",
   "execution_count": 103,
   "id": "eeac6614",
   "metadata": {},
   "outputs": [],
   "source": [
    "FUEL_TYPE = ['gas',  'diesel', 'hybrid', 'electric', 'other']"
   ]
  },
  {
   "cell_type": "code",
   "execution_count": 104,
   "id": "c178aa69",
   "metadata": {},
   "outputs": [],
   "source": [
    "CAR_TYPE = ['pickup', 'truck', 'other_type', 'coupe', 'SUV', 'hatchback',\n",
    "       'mini-van', 'sedan', 'offroad', 'van', 'convertible', 'wagon',\n",
    "       'bus']"
   ]
  },
  {
   "cell_type": "code",
   "execution_count": 105,
   "id": "61610b3a",
   "metadata": {},
   "outputs": [],
   "source": [
    "TRANSMISSION = ['automatic', 'manual', 'other']"
   ]
  },
  {
   "cell_type": "code",
   "execution_count": 106,
   "id": "58c3333c",
   "metadata": {},
   "outputs": [],
   "source": [
    "CAR_CONDITION = ['new', 'like new', 'excellent', 'good', 'fair',  'salvage']"
   ]
  },
  {
   "cell_type": "markdown",
   "id": "6b517a57",
   "metadata": {},
   "source": [
    "#### App utils"
   ]
  },
  {
   "cell_type": "code",
   "execution_count": 107,
   "id": "b51e5879",
   "metadata": {},
   "outputs": [],
   "source": [
    "# create a dictionary of model intercept and coefficient values \n",
    "def initialize_predictor_model(intercept, predictor_vars):\n",
    "    predictor_model = {'intercept': intercept}\n",
    "    for v in range(0,len(predictor_vars) - 1):\n",
    "        predictor_model[predictor_vars[v]] = predictor_coeff[v]\n",
    "    return predictor_model\n",
    "\n",
    "# reset user input \n",
    "def reset_model_input(predictor_vars):\n",
    "    model_input = {'intercept': 1}\n",
    "    for v in range(0,len(predictor_vars)):\n",
    "        model_input[predictor_vars[v]] = 0 \n",
    "    return model_input \n",
    "\n",
    "# generate prediction based on user input\n",
    "def generate_prediction(predictor_model, model_input):\n",
    "    prediction = 0\n",
    "    for i in predictor_model.keys():\n",
    "        prediction += predictor_model[i] * model_input[i]\n",
    "    return '{:.2f}'.format(prediction)"
   ]
  },
  {
   "cell_type": "code",
   "execution_count": 108,
   "id": "66aea29e",
   "metadata": {},
   "outputs": [
    {
     "name": "stdout",
     "output_type": "stream",
     "text": [
      "dict_keys(['intercept', 'year', 'odometer', 'ferrari', 'gas', 'diesel', 'other_fuel', 'sedan', 'pickup', 'other_type', 'automatic', 'other_transmission', 'excellent', 'good', 'fair'])\n"
     ]
    }
   ],
   "source": [
    "print(predictor_model.keys())"
   ]
  },
  {
   "cell_type": "code",
   "execution_count": 109,
   "id": "53a7cd82",
   "metadata": {},
   "outputs": [
    {
     "name": "stdout",
     "output_type": "stream",
     "text": [
      "['intercept', 'year', 'odometer', 'ferrari', 'gas', 'diesel', 'other_fuel', 'sedan', 'pickup', 'other_type', 'automatic', 'other_transmission', 'excellent', 'good', 'fair']\n"
     ]
    }
   ],
   "source": [
    "predictor_vars = list(predictor_model.keys())\n",
    "print(predictor_vars)"
   ]
  },
  {
   "cell_type": "code",
   "execution_count": 110,
   "id": "d49833e3",
   "metadata": {},
   "outputs": [
    {
     "name": "stdout",
     "output_type": "stream",
     "text": [
      "{'intercept': 0, 'year': 0, 'odometer': 0, 'ferrari': 0, 'gas': 0, 'diesel': 0, 'other_fuel': 0, 'sedan': 0, 'pickup': 0, 'other_type': 0, 'automatic': 0, 'other_transmission': 0, 'excellent': 0, 'good': 0, 'fair': 0}\n"
     ]
    }
   ],
   "source": [
    "model_input = reset_model_input(predictor_vars)\n",
    "\n",
    "print(model_input)"
   ]
  },
  {
   "cell_type": "code",
   "execution_count": 111,
   "id": "f58523d9",
   "metadata": {},
   "outputs": [
    {
     "name": "stdout",
     "output_type": "stream",
     "text": [
      "0\n"
     ]
    }
   ],
   "source": [
    "print(model_input['year'])"
   ]
  },
  {
   "cell_type": "code",
   "execution_count": 112,
   "id": "3c126452",
   "metadata": {},
   "outputs": [],
   "source": [
    "model_input['year'] = 1980\n",
    "model_input['ferrari'] = 1\n",
    "\n"
   ]
  },
  {
   "cell_type": "code",
   "execution_count": 113,
   "id": "485565f3",
   "metadata": {},
   "outputs": [
    {
     "name": "stdout",
     "output_type": "stream",
     "text": [
      "877116.59\n"
     ]
    }
   ],
   "source": [
    "print(generate_prediction(predictor_model, model_input))"
   ]
  },
  {
   "cell_type": "code",
   "execution_count": 114,
   "id": "2f5b8ad6",
   "metadata": {},
   "outputs": [
    {
     "name": "stdout",
     "output_type": "stream",
     "text": [
      "Recommended Sale Price = -804538.86433 + (390.50314 X year) + (-0.01766 X odometer) + (103920.36003 X ferrari) + (1745.57268 X gas) + (13946.53861 X diesel) + (5743.11765 X other_fuel) + (-4301.21215 X sedan) + (8570.28319 X pickup) + (3708.44941 X other_type) + (-1170.7572 X automatic) + (3942.82078 X other_transmission) + (-2559.95723 X excellent) + (-3043.64961 X good) + (-9014.59806 X fair) + \n"
     ]
    }
   ],
   "source": [
    "REGRESSION_EQUATION = \"Recommended Sale Price = \" \n",
    "for v in predictor_model.keys():\n",
    "    if v == \"intercept\":\n",
    "        REGRESSION_EQUATION = REGRESSION_EQUATION + str(round(predictor_model[v],5)) + \" + \"\n",
    "    else:\n",
    "        REGRESSION_EQUATION = REGRESSION_EQUATION + \"(\" + str(round(predictor_model[v],5)) + \" X \" + v + \") + \"\n",
    "    \n",
    "print(REGRESSION_EQUATION)"
   ]
  },
  {
   "cell_type": "code",
   "execution_count": 120,
   "id": "5ccc7814",
   "metadata": {},
   "outputs": [
    {
     "name": "stdout",
     "output_type": "stream",
     "text": [
      "dict_keys(['intercept', 'year', 'odometer', 'ferrari', 'gas', 'diesel', 'other_fuel', 'sedan', 'pickup', 'other_type', 'automatic', 'other_transmission', 'excellent', 'good', 'fair'])\n",
      "-804538.8643260737:  0 | 390.5031441248841:  1980 | -0.017659688952919708:  0 | 103920.36002700841:  1 | 1745.5726762019538:  0 | 13946.538609987403:  0 | 5743.117645250859:  0 | -4301.212153910639:  0 | 8570.283187851448:  0 | 3708.44941088399:  0 | -1170.7571963590008:  0 | 3942.8207817679704:  0 | -2559.9572273672566:  0 | -3043.6496077529555:  0 | -9014.598056518584:  0 | \n"
     ]
    }
   ],
   "source": [
    "special_message = \"\"\n",
    "for i in predictor_model.keys():\n",
    "    special_message = special_message + f\"{predictor_model[i]}:  {model_input[i]} | \"\n",
    "\n",
    "print(predictor_model.keys())\n",
    "print(special_message)"
   ]
  },
  {
   "cell_type": "code",
   "execution_count": 115,
   "id": "78723782",
   "metadata": {},
   "outputs": [
    {
     "name": "stdout",
     "output_type": "stream",
     "text": [
      "intercept\n",
      "year\n",
      "odometer\n",
      "ferrari\n",
      "gas\n",
      "diesel\n",
      "other_fuel\n",
      "sedan\n",
      "pickup\n",
      "other_type\n",
      "automatic\n",
      "other_transmission\n",
      "excellent\n",
      "good\n",
      "fair\n"
     ]
    }
   ],
   "source": [
    "for i in predictor_vars:\n",
    "    print(i)"
   ]
  },
  {
   "cell_type": "code",
   "execution_count": 116,
   "id": "a2967da7",
   "metadata": {},
   "outputs": [
    {
     "name": "stdout",
     "output_type": "stream",
     "text": [
      "390.5031441248841\n",
      "-0.017659688952919708\n",
      "103920.36002700841\n",
      "1745.5726762019538\n",
      "13946.538609987403\n",
      "5743.117645250859\n",
      "-4301.212153910639\n",
      "8570.283187851448\n",
      "3708.44941088399\n",
      "-1170.7571963590008\n",
      "3942.8207817679704\n",
      "-2559.9572273672566\n",
      "-3043.6496077529555\n",
      "-9014.598056518584\n"
     ]
    }
   ],
   "source": [
    "for i in predictor_coeff:\n",
    "    print(i)"
   ]
  },
  {
   "cell_type": "code",
   "execution_count": null,
   "id": "92cb99ba",
   "metadata": {},
   "outputs": [],
   "source": []
  }
 ],
 "metadata": {
  "kernelspec": {
   "display_name": "Python 3 (ipykernel)",
   "language": "python",
   "name": "python3"
  },
  "language_info": {
   "codemirror_mode": {
    "name": "ipython",
    "version": 3
   },
   "file_extension": ".py",
   "mimetype": "text/x-python",
   "name": "python",
   "nbconvert_exporter": "python",
   "pygments_lexer": "ipython3",
   "version": "3.9.10"
  }
 },
 "nbformat": 4,
 "nbformat_minor": 5
}
