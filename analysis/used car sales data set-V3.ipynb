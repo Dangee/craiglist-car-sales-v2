{
 "cells": [
  {
   "cell_type": "markdown",
   "id": "69b68725",
   "metadata": {},
   "source": [
    "# Used Car sales data set\n",
    "\n",
    "Source: https://www.kaggle.com/datasets/austinreese/craigslist-carstrucks-data "
   ]
  },
  {
   "cell_type": "markdown",
   "id": "673f29fe",
   "metadata": {},
   "source": [
    "### Purpose of predictive model\n",
    "This application will provide you with an amount that you can expect to sell for your car for on Craiglist. \n",
    "\n",
    "Disclaimer: this tool is only intended as a guide to help you decide your car sale price. What you decide to ask for is entirely up to you. Remember: your car is only worth what someone else is prepared to pay for it ;-)     \n",
    "\n",
    "Craig list car sales: https://sfbay.craigslist.org/search/cta\n",
    "\n",
    "Consider following feature: \n",
    "* how much do you want to sell your car for \n",
    "* is it a good or bad deal? \n",
    "\n",
    "include a custom search link: https://sfbay.craigslist.org/search/cta?query=mustang+gt+convertible"
   ]
  },
  {
   "cell_type": "markdown",
   "id": "fbbde207",
   "metadata": {},
   "source": [
    "This iteration of the analysis compares various regression models to find the best fit"
   ]
  },
  {
   "cell_type": "code",
   "execution_count": 1,
   "id": "ca4fcc42",
   "metadata": {},
   "outputs": [],
   "source": [
    "import pandas as pd\n",
    "import numpy as np\n",
    "# from math import sqrt\n",
    "\n",
    "from pprint import pp\n",
    "\n",
    "# sci-kit learn is our one-stop shop for machine learning!\n",
    "import sklearn\n",
    "from sklearn.model_selection import train_test_split\n",
    "from sklearn.preprocessing import StandardScaler\n",
    "from sklearn.metrics import mean_squared_error\n",
    "from sklearn.metrics import mean_absolute_error\n",
    "from sklearn.linear_model import LinearRegression\n",
    "from sklearn import linear_model\n",
    "from sklearn.neighbors import KNeighborsRegressor\n",
    "from sklearn.tree import DecisionTreeRegressor\n",
    "from sklearn.ensemble import RandomForestRegressor\n",
    "from sklearn import metrics\n",
    "\n",
    "import os\n",
    "import pickle\n",
    "\n",
    "# import plotly as py \n",
    "import matplotlib.pyplot as plt\n",
    "import plotly.graph_objs as go\n",
    "import seaborn as sns\n",
    "\n",
    "# import matplotlib as mpl\n",
    "# mpl.rc('axes', labelsize=14)\n",
    "# mpl.rc('xtick', labelsize=12)\n",
    "# mpl.rc('ytick', labelsize=12)\n"
   ]
  },
  {
   "cell_type": "code",
   "execution_count": 2,
   "id": "205a38ff",
   "metadata": {},
   "outputs": [],
   "source": [
    "# make this notebook's output stable across runs\n",
    "np.random.seed(30)"
   ]
  },
  {
   "cell_type": "code",
   "execution_count": 3,
   "id": "d9d70301",
   "metadata": {},
   "outputs": [],
   "source": [
    "DATA_FILE = \"s:/Data/used_car_sales/vehicles.csv\"\n",
    "\n",
    "# only load columns for regression model\n",
    "# exclude high cardinality columns - such as model \n",
    "# except for id, the other ones will be considered for regression  modeling\n",
    "\n",
    "USE_COLUMNS = [\n",
    "    'id',\n",
    "#     'url',\n",
    "#     'region',\n",
    "#     'region_url',\n",
    "    'price',\n",
    "    'year',\n",
    "    'manufacturer',\n",
    "   'model',\n",
    "    'condition',\n",
    "    'cylinders',\n",
    "    'fuel',\n",
    "    'odometer',\n",
    "#    'title_status',\n",
    "    'transmission',\n",
    "#     'VIN',\n",
    "   'drive',\n",
    "    'size',\n",
    "    'type',\n",
    "#    'paint_color',\n",
    "#     'image_url',\n",
    "#     'description',\n",
    "#     'county',\n",
    "    'state',\n",
    "#     'lat',\n",
    "#     'long'\n",
    "#    'posting_date'\n",
    "]\n",
    "\n",
    "COL_DATA_TYPES = {\n",
    "     'id': object,\n",
    "#     'url',\n",
    "#     'region',\n",
    "#     'region_url',\n",
    "    'price': float,\n",
    "    'year': float,\n",
    "#     'manufacturer',\n",
    "#     'model',\n",
    "#     'condition',\n",
    "#     'cylinders',\n",
    "#     'fuel',\n",
    "    'odometer': float,\n",
    "#     'title_status',\n",
    "#     'transmission',\n",
    "#     'VIN',\n",
    "#     'drive',\n",
    "#     'size',\n",
    "#     'type',\n",
    "#     'paint_color',\n",
    "#     'image_url',\n",
    "#     'description',\n",
    "#     'county',\n",
    "#     'state',\n",
    "    'lat': float,\n",
    "    'long': float\n",
    "#     'posting_date'\n",
    "}"
   ]
  },
  {
   "cell_type": "code",
   "execution_count": 4,
   "id": "af221b1b",
   "metadata": {},
   "outputs": [],
   "source": [
    "df = pd.read_csv(DATA_FILE, usecols = USE_COLUMNS, dtype=COL_DATA_TYPES)"
   ]
  },
  {
   "cell_type": "code",
   "execution_count": 5,
   "id": "e0ea038d",
   "metadata": {},
   "outputs": [],
   "source": [
    "# exclude records with null year, manufaturer, type and price   \n",
    "df = df.dropna(subset=['year','manufacturer','odometer','type','price'])"
   ]
  },
  {
   "cell_type": "code",
   "execution_count": 6,
   "id": "30378b0e",
   "metadata": {},
   "outputs": [
    {
     "name": "stdout",
     "output_type": "stream",
     "text": [
      "<class 'pandas.core.frame.DataFrame'>\n",
      "Int64Index: 319544 entries, 27 to 426879\n",
      "Data columns (total 14 columns):\n",
      " #   Column        Non-Null Count   Dtype  \n",
      "---  ------        --------------   -----  \n",
      " 0   id            319544 non-null  object \n",
      " 1   price         319544 non-null  float64\n",
      " 2   year          319544 non-null  float64\n",
      " 3   manufacturer  319544 non-null  object \n",
      " 4   model         316647 non-null  object \n",
      " 5   condition     209929 non-null  object \n",
      " 6   cylinders     212362 non-null  object \n",
      " 7   fuel          317862 non-null  object \n",
      " 8   odometer      319544 non-null  float64\n",
      " 9   transmission  317986 non-null  object \n",
      " 10  drive         252879 non-null  object \n",
      " 11  size          110847 non-null  object \n",
      " 12  type          319544 non-null  object \n",
      " 13  state         319544 non-null  object \n",
      "dtypes: float64(3), object(11)\n",
      "memory usage: 36.6+ MB\n"
     ]
    }
   ],
   "source": [
    "df.info()"
   ]
  },
  {
   "cell_type": "code",
   "execution_count": 7,
   "id": "0b934d68",
   "metadata": {},
   "outputs": [
    {
     "data": {
      "text/plain": [
       "id              319544\n",
       "price            13479\n",
       "year               104\n",
       "manufacturer        42\n",
       "model            20486\n",
       "condition            6\n",
       "cylinders            8\n",
       "fuel                 5\n",
       "odometer         88865\n",
       "transmission         3\n",
       "drive                3\n",
       "size                 4\n",
       "type                13\n",
       "state               51\n",
       "dtype: int64"
      ]
     },
     "execution_count": 7,
     "metadata": {},
     "output_type": "execute_result"
    }
   ],
   "source": [
    "df.nunique()"
   ]
  },
  {
   "cell_type": "code",
   "execution_count": 8,
   "id": "ab56c4f7",
   "metadata": {},
   "outputs": [],
   "source": [
    "pd.set_option('display.max_rows', None)"
   ]
  },
  {
   "cell_type": "code",
   "execution_count": 9,
   "id": "ab6b558a",
   "metadata": {},
   "outputs": [
    {
     "data": {
      "text/plain": [
       "array(['gas', 'other', 'diesel', 'hybrid', nan, 'electric'], dtype=object)"
      ]
     },
     "execution_count": 9,
     "metadata": {},
     "output_type": "execute_result"
    }
   ],
   "source": [
    "df['fuel'].unique()"
   ]
  },
  {
   "cell_type": "code",
   "execution_count": 10,
   "id": "4bf43b95",
   "metadata": {},
   "outputs": [
    {
     "data": {
      "text/plain": [
       "<AxesSubplot:title={'center':'count by fuel type'}, xlabel='fuel'>"
      ]
     },
     "execution_count": 10,
     "metadata": {},
     "output_type": "execute_result"
    },
    {
     "data": {
      "image/png": "[encoded data removed]",
      "text/plain": [
       "<Figure size 432x288 with 1 Axes>"
      ]
     },
     "metadata": {
      "needs_background": "light"
     },
     "output_type": "display_data"
    }
   ],
   "source": [
    "df[['fuel','id']].groupby('fuel').count().plot(kind='bar', title=\"count by fuel type\")"
   ]
  },
  {
   "cell_type": "code",
   "execution_count": 11,
   "id": "70201ad4",
   "metadata": {},
   "outputs": [
    {
     "data": {
      "text/plain": [
       "array(['other', 'automatic', 'manual', nan], dtype=object)"
      ]
     },
     "execution_count": 11,
     "metadata": {},
     "output_type": "execute_result"
    }
   ],
   "source": [
    "df['transmission'].unique()"
   ]
  },
  {
   "cell_type": "code",
   "execution_count": 12,
   "id": "13a09966",
   "metadata": {},
   "outputs": [
    {
     "data": {
      "text/plain": [
       "<AxesSubplot:title={'center':'count by transmission type'}, xlabel='transmission'>"
      ]
     },
     "execution_count": 12,
     "metadata": {},
     "output_type": "execute_result"
    },
    {
     "data": {
      "image/png": "[encoded data removed]",
      "text/plain": [
       "<Figure size 432x288 with 1 Axes>"
      ]
     },
     "metadata": {
      "needs_background": "light"
     },
     "output_type": "display_data"
    }
   ],
   "source": [
    "df[['transmission','id']].groupby('transmission').count().plot(kind='bar', title=\"count by transmission type\")"
   ]
  },
  {
   "cell_type": "code",
   "execution_count": 13,
   "id": "9bf33c8a",
   "metadata": {},
   "outputs": [
    {
     "data": {
      "text/plain": [
       "array([nan, 'rwd', '4wd', 'fwd'], dtype=object)"
      ]
     },
     "execution_count": 13,
     "metadata": {},
     "output_type": "execute_result"
    }
   ],
   "source": [
    "df['drive'].unique()"
   ]
  },
  {
   "cell_type": "code",
   "execution_count": 14,
   "id": "96f49bda",
   "metadata": {},
   "outputs": [
    {
     "data": {
      "text/plain": [
       "<AxesSubplot:title={'center':'count by drive type'}, xlabel='drive'>"
      ]
     },
     "execution_count": 14,
     "metadata": {},
     "output_type": "execute_result"
    },
    {
     "data": {
      "image/png": "[encoded data removed]",
      "text/plain": [
       "<Figure size 432x288 with 1 Axes>"
      ]
     },
     "metadata": {
      "needs_background": "light"
     },
     "output_type": "display_data"
    }
   ],
   "source": [
    "df[['drive','id']].groupby('drive').count().plot(kind='bar', title=\"count by drive type\")"
   ]
  },
  {
   "cell_type": "code",
   "execution_count": 15,
   "id": "6357a712",
   "metadata": {},
   "outputs": [
    {
     "data": {
      "text/plain": [
       "array(['pickup', 'truck', 'other', 'coupe', 'SUV', 'hatchback',\n",
       "       'mini-van', 'sedan', 'offroad', 'van', 'convertible', 'wagon',\n",
       "       'bus'], dtype=object)"
      ]
     },
     "execution_count": 15,
     "metadata": {},
     "output_type": "execute_result"
    }
   ],
   "source": [
    "df['type'].unique()"
   ]
  },
  {
   "cell_type": "code",
   "execution_count": 16,
   "id": "fc3d22e1",
   "metadata": {},
   "outputs": [
    {
     "data": {
      "text/plain": [
       "<AxesSubplot:title={'center':'count by vehicle type'}, xlabel='type'>"
      ]
     },
     "execution_count": 16,
     "metadata": {},
     "output_type": "execute_result"
    },
    {
     "data": {
      "image/png": "[encoded data removed]",
      "text/plain": [
       "<Figure size 432x288 with 1 Axes>"
      ]
     },
     "metadata": {
      "needs_background": "light"
     },
     "output_type": "display_data"
    }
   ],
   "source": [
    "df[['type','id']].groupby('type').count().plot(kind='bar', title=\"count by vehicle type\")"
   ]
  },
  {
   "cell_type": "code",
   "execution_count": 17,
   "id": "90a8ccf7",
   "metadata": {},
   "outputs": [],
   "source": [
    "# update value 'other' to more specific value\n",
    "df.loc[df[(df['fuel'] == 'other')].index,'fuel'] = 'other_fuel'\n",
    "df.loc[df[(df['transmission'] == 'other')].index,'transmission'] = 'other_transmission'\n",
    "df.loc[df[(df['type'] == 'other')].index,'type'] = 'other_type'"
   ]
  },
  {
   "cell_type": "code",
   "execution_count": 18,
   "id": "6bae4849",
   "metadata": {},
   "outputs": [],
   "source": [
    "pd.set_option('display.max_rows', 15)"
   ]
  },
  {
   "cell_type": "code",
   "execution_count": 19,
   "id": "1cad9bb7",
   "metadata": {},
   "outputs": [
    {
     "name": "stdout",
     "output_type": "stream",
     "text": [
      "<class 'pandas.core.frame.DataFrame'>\n",
      "Int64Index: 319544 entries, 27 to 426879\n",
      "Data columns (total 14 columns):\n",
      " #   Column        Non-Null Count   Dtype   \n",
      "---  ------        --------------   -----   \n",
      " 0   id            319544 non-null  object  \n",
      " 1   price         319544 non-null  float64 \n",
      " 2   year          319544 non-null  int16   \n",
      " 3   manufacturer  319544 non-null  category\n",
      " 4   model         316647 non-null  object  \n",
      " 5   condition     209929 non-null  category\n",
      " 6   cylinders     212362 non-null  category\n",
      " 7   fuel          317862 non-null  category\n",
      " 8   odometer      319544 non-null  float64 \n",
      " 9   transmission  317986 non-null  category\n",
      " 10  drive         252879 non-null  category\n",
      " 11  size          110847 non-null  category\n",
      " 12  type          319544 non-null  category\n",
      " 13  state         319544 non-null  category\n",
      "dtypes: category(9), float64(2), int16(1), object(2)\n",
      "memory usage: 25.5+ MB\n"
     ]
    }
   ],
   "source": [
    "# convert to category columns - memory optimization\n",
    "\n",
    "df['year'] = df['year'].astype('int16')\n",
    "df['manufacturer'] = df['manufacturer'].astype('category')\n",
    "df['condition'] = df['condition'].astype('category')\n",
    "df['cylinders'] = df['cylinders'].astype('category')\n",
    "df['fuel'] = df['fuel'].astype('category')\n",
    "df['transmission'] = df['transmission'].astype('category')\n",
    "df['drive'] = df['drive'].astype('category')\n",
    "df['size'] = df['size'].astype('category')\n",
    "df['type'] = df['type'].astype('category')\n",
    "df['state'] = df['state'].astype('category')\n",
    "\n",
    "df.info()"
   ]
  },
  {
   "cell_type": "markdown",
   "id": "10ff58f5",
   "metadata": {},
   "source": [
    "### regression model notes\n",
    "* price is going to be our target variable \n",
    "* odometer reading will be broken down into bins "
   ]
  },
  {
   "cell_type": "code",
   "execution_count": 20,
   "id": "a9cdfafd",
   "metadata": {},
   "outputs": [],
   "source": [
    "pd.options.display.float_format = '{:.2f}'.format\n",
    "# pd.reset_option('^display.', silent=True)"
   ]
  },
  {
   "cell_type": "code",
   "execution_count": 21,
   "id": "cc739345",
   "metadata": {
    "scrolled": true
   },
   "outputs": [
    {
     "data": {
      "text/html": [
       "<div>\n",
       "<style scoped>\n",
       "    .dataframe tbody tr th:only-of-type {\n",
       "        vertical-align: middle;\n",
       "    }\n",
       "\n",
       "    .dataframe tbody tr th {\n",
       "        vertical-align: top;\n",
       "    }\n",
       "\n",
       "    .dataframe thead th {\n",
       "        text-align: right;\n",
       "    }\n",
       "</style>\n",
       "<table border=\"1\" class=\"dataframe\">\n",
       "  <thead>\n",
       "    <tr style=\"text-align: right;\">\n",
       "      <th></th>\n",
       "      <th>count</th>\n",
       "      <th>mean</th>\n",
       "      <th>std</th>\n",
       "      <th>min</th>\n",
       "      <th>25%</th>\n",
       "      <th>50%</th>\n",
       "      <th>75%</th>\n",
       "      <th>max</th>\n",
       "    </tr>\n",
       "  </thead>\n",
       "  <tbody>\n",
       "    <tr>\n",
       "      <th>price</th>\n",
       "      <td>319544.00</td>\n",
       "      <td>39773.08</td>\n",
       "      <td>7347842.21</td>\n",
       "      <td>0.00</td>\n",
       "      <td>6695.00</td>\n",
       "      <td>15000.00</td>\n",
       "      <td>27590.00</td>\n",
       "      <td>3736928711.00</td>\n",
       "    </tr>\n",
       "    <tr>\n",
       "      <th>year</th>\n",
       "      <td>319544.00</td>\n",
       "      <td>2012.20</td>\n",
       "      <td>8.08</td>\n",
       "      <td>1900.00</td>\n",
       "      <td>2010.00</td>\n",
       "      <td>2014.00</td>\n",
       "      <td>2017.00</td>\n",
       "      <td>2022.00</td>\n",
       "    </tr>\n",
       "    <tr>\n",
       "      <th>odometer</th>\n",
       "      <td>319544.00</td>\n",
       "      <td>90087.64</td>\n",
       "      <td>163640.07</td>\n",
       "      <td>0.00</td>\n",
       "      <td>34605.00</td>\n",
       "      <td>79845.50</td>\n",
       "      <td>127222.25</td>\n",
       "      <td>10000000.00</td>\n",
       "    </tr>\n",
       "  </tbody>\n",
       "</table>\n",
       "</div>"
      ],
      "text/plain": [
       "             count     mean        std     min      25%      50%       75%  \\\n",
       "price    319544.00 39773.08 7347842.21    0.00  6695.00 15000.00  27590.00   \n",
       "year     319544.00  2012.20       8.08 1900.00  2010.00  2014.00   2017.00   \n",
       "odometer 319544.00 90087.64  163640.07    0.00 34605.00 79845.50 127222.25   \n",
       "\n",
       "                   max  \n",
       "price    3736928711.00  \n",
       "year           2022.00  \n",
       "odometer   10000000.00  "
      ]
     },
     "execution_count": 21,
     "metadata": {},
     "output_type": "execute_result"
    }
   ],
   "source": [
    "df.describe().T"
   ]
  },
  {
   "cell_type": "code",
   "execution_count": 22,
   "id": "0582a0f8",
   "metadata": {},
   "outputs": [
    {
     "data": {
      "text/html": [
       "<div>\n",
       "<style scoped>\n",
       "    .dataframe tbody tr th:only-of-type {\n",
       "        vertical-align: middle;\n",
       "    }\n",
       "\n",
       "    .dataframe tbody tr th {\n",
       "        vertical-align: top;\n",
       "    }\n",
       "\n",
       "    .dataframe thead th {\n",
       "        text-align: right;\n",
       "    }\n",
       "</style>\n",
       "<table border=\"1\" class=\"dataframe\">\n",
       "  <thead>\n",
       "    <tr style=\"text-align: right;\">\n",
       "      <th></th>\n",
       "      <th>count</th>\n",
       "      <th>mean</th>\n",
       "      <th>std</th>\n",
       "      <th>min</th>\n",
       "      <th>25%</th>\n",
       "      <th>50%</th>\n",
       "      <th>75%</th>\n",
       "      <th>max</th>\n",
       "    </tr>\n",
       "  </thead>\n",
       "  <tbody>\n",
       "    <tr>\n",
       "      <th>price</th>\n",
       "      <td>293744.00</td>\n",
       "      <td>19739.10</td>\n",
       "      <td>14239.52</td>\n",
       "      <td>100.00</td>\n",
       "      <td>8228.00</td>\n",
       "      <td>16988.00</td>\n",
       "      <td>28590.00</td>\n",
       "      <td>100000.00</td>\n",
       "    </tr>\n",
       "    <tr>\n",
       "      <th>year</th>\n",
       "      <td>293744.00</td>\n",
       "      <td>2012.02</td>\n",
       "      <td>8.21</td>\n",
       "      <td>1900.00</td>\n",
       "      <td>2009.00</td>\n",
       "      <td>2014.00</td>\n",
       "      <td>2017.00</td>\n",
       "      <td>2022.00</td>\n",
       "    </tr>\n",
       "    <tr>\n",
       "      <th>odometer</th>\n",
       "      <td>293744.00</td>\n",
       "      <td>90605.27</td>\n",
       "      <td>148143.81</td>\n",
       "      <td>0.00</td>\n",
       "      <td>34484.75</td>\n",
       "      <td>80731.50</td>\n",
       "      <td>129179.00</td>\n",
       "      <td>10000000.00</td>\n",
       "    </tr>\n",
       "  </tbody>\n",
       "</table>\n",
       "</div>"
      ],
      "text/plain": [
       "             count     mean       std     min      25%      50%       75%  \\\n",
       "price    293744.00 19739.10  14239.52  100.00  8228.00 16988.00  28590.00   \n",
       "year     293744.00  2012.02      8.21 1900.00  2009.00  2014.00   2017.00   \n",
       "odometer 293744.00 90605.27 148143.81    0.00 34484.75 80731.50 129179.00   \n",
       "\n",
       "                 max  \n",
       "price      100000.00  \n",
       "year         2022.00  \n",
       "odometer 10000000.00  "
      ]
     },
     "execution_count": 22,
     "metadata": {},
     "output_type": "execute_result"
    }
   ],
   "source": [
    "# use clip function to drop price below 100 and above 100000  \n",
    "df = df[(df['price'] >= 100) & (df['price'] <= 100000)]\n",
    "\n",
    "df.describe().T"
   ]
  },
  {
   "cell_type": "code",
   "execution_count": 23,
   "id": "65574b44",
   "metadata": {},
   "outputs": [
    {
     "data": {
      "text/plain": [
       "<AxesSubplot:title={'center':'distribution price over year'}, xlabel='year', ylabel='price'>"
      ]
     },
     "execution_count": 23,
     "metadata": {},
     "output_type": "execute_result"
    },
    {
     "data": {
      "image/png": "[encoded data removed]",
      "text/plain": [
       "<Figure size 432x288 with 1 Axes>"
      ]
     },
     "metadata": {
      "needs_background": "light"
     },
     "output_type": "display_data"
    }
   ],
   "source": [
    "#scatter plot of price vs. year \n",
    "df.plot(kind=\"scatter\", x=\"year\", y=\"price\", title=\"distribution price over year\")"
   ]
  },
  {
   "cell_type": "markdown",
   "id": "bef1e161",
   "metadata": {},
   "source": [
    "There seems to be a trend where car price goes down for older cars, up to a point where it starts going up again - for instance, for cars older than 1980 (classic cars). And then the price trend goes down again for antique cars - i.e. prior to 1925. We will take this into account in the regression model by creating a car_categories of: `['modern','classic','antique']` \n",
    "\n",
    "These will appear as features in the regression model, so in preparation for that, we will create a matrix for these categories in the existing dataframe. "
   ]
  },
  {
   "cell_type": "code",
   "execution_count": 24,
   "id": "c1356ac3",
   "metadata": {},
   "outputs": [],
   "source": [
    "# would catagorizing cars as classic if built prior to 1980, \n",
    "# increase the accuracy of our model? \n",
    "df['classic_car'] = 0 \n",
    "df.loc[df[(df['year'] < 1980) & (df['year'] > 1925)].index,'classic_car'] = 1\n",
    "\n",
    "df['modern_car'] = 0 \n",
    "df.loc[df[(df['year'] >= 1980)].index,'modern_car'] = 1\n",
    "\n",
    "df['antique_car'] = 0 \n",
    "df.loc[df[(df['year'] <= 1925)].index,'antique_car'] = 1"
   ]
  },
  {
   "cell_type": "code",
   "execution_count": 25,
   "id": "41b5beba",
   "metadata": {},
   "outputs": [
    {
     "data": {
      "text/html": [
       "<div>\n",
       "<style scoped>\n",
       "    .dataframe tbody tr th:only-of-type {\n",
       "        vertical-align: middle;\n",
       "    }\n",
       "\n",
       "    .dataframe tbody tr th {\n",
       "        vertical-align: top;\n",
       "    }\n",
       "\n",
       "    .dataframe thead th {\n",
       "        text-align: right;\n",
       "    }\n",
       "</style>\n",
       "<table border=\"1\" class=\"dataframe\">\n",
       "  <thead>\n",
       "    <tr style=\"text-align: right;\">\n",
       "      <th></th>\n",
       "      <th>id</th>\n",
       "      <th>price</th>\n",
       "      <th>year</th>\n",
       "      <th>manufacturer</th>\n",
       "      <th>model</th>\n",
       "      <th>condition</th>\n",
       "      <th>cylinders</th>\n",
       "      <th>fuel</th>\n",
       "      <th>odometer</th>\n",
       "      <th>transmission</th>\n",
       "      <th>drive</th>\n",
       "      <th>size</th>\n",
       "      <th>type</th>\n",
       "      <th>state</th>\n",
       "      <th>classic_car</th>\n",
       "      <th>modern_car</th>\n",
       "      <th>antique_car</th>\n",
       "    </tr>\n",
       "  </thead>\n",
       "  <tbody>\n",
       "    <tr>\n",
       "      <th>401624</th>\n",
       "      <td>7306527823</td>\n",
       "      <td>6000.00</td>\n",
       "      <td>1982</td>\n",
       "      <td>chevrolet</td>\n",
       "      <td>el camino</td>\n",
       "      <td>excellent</td>\n",
       "      <td>8 cylinders</td>\n",
       "      <td>gas</td>\n",
       "      <td>112965.00</td>\n",
       "      <td>manual</td>\n",
       "      <td>rwd</td>\n",
       "      <td>full-size</td>\n",
       "      <td>pickup</td>\n",
       "      <td>wa</td>\n",
       "      <td>0</td>\n",
       "      <td>1</td>\n",
       "      <td>0</td>\n",
       "    </tr>\n",
       "    <tr>\n",
       "      <th>384928</th>\n",
       "      <td>7302478921</td>\n",
       "      <td>14900.00</td>\n",
       "      <td>1984</td>\n",
       "      <td>ford</td>\n",
       "      <td>bronco</td>\n",
       "      <td>good</td>\n",
       "      <td>8 cylinders</td>\n",
       "      <td>gas</td>\n",
       "      <td>70350.00</td>\n",
       "      <td>automatic</td>\n",
       "      <td>4wd</td>\n",
       "      <td>full-size</td>\n",
       "      <td>offroad</td>\n",
       "      <td>tx</td>\n",
       "      <td>0</td>\n",
       "      <td>1</td>\n",
       "      <td>0</td>\n",
       "    </tr>\n",
       "    <tr>\n",
       "      <th>224364</th>\n",
       "      <td>7308691862</td>\n",
       "      <td>22500.00</td>\n",
       "      <td>1976</td>\n",
       "      <td>ford</td>\n",
       "      <td>f250</td>\n",
       "      <td>excellent</td>\n",
       "      <td>8 cylinders</td>\n",
       "      <td>gas</td>\n",
       "      <td>5000.00</td>\n",
       "      <td>manual</td>\n",
       "      <td>4wd</td>\n",
       "      <td>full-size</td>\n",
       "      <td>pickup</td>\n",
       "      <td>mt</td>\n",
       "      <td>1</td>\n",
       "      <td>0</td>\n",
       "      <td>0</td>\n",
       "    </tr>\n",
       "    <tr>\n",
       "      <th>377365</th>\n",
       "      <td>7304932506</td>\n",
       "      <td>6500.00</td>\n",
       "      <td>1978</td>\n",
       "      <td>chevrolet</td>\n",
       "      <td>corvette</td>\n",
       "      <td>good</td>\n",
       "      <td>8 cylinders</td>\n",
       "      <td>gas</td>\n",
       "      <td>50000.00</td>\n",
       "      <td>automatic</td>\n",
       "      <td>rwd</td>\n",
       "      <td>full-size</td>\n",
       "      <td>coupe</td>\n",
       "      <td>tx</td>\n",
       "      <td>1</td>\n",
       "      <td>0</td>\n",
       "      <td>0</td>\n",
       "    </tr>\n",
       "    <tr>\n",
       "      <th>263315</th>\n",
       "      <td>7305894482</td>\n",
       "      <td>14000.00</td>\n",
       "      <td>1983</td>\n",
       "      <td>chevrolet</td>\n",
       "      <td>g20 van</td>\n",
       "      <td>good</td>\n",
       "      <td>8 cylinders</td>\n",
       "      <td>gas</td>\n",
       "      <td>37227.00</td>\n",
       "      <td>automatic</td>\n",
       "      <td>rwd</td>\n",
       "      <td>full-size</td>\n",
       "      <td>van</td>\n",
       "      <td>nm</td>\n",
       "      <td>0</td>\n",
       "      <td>1</td>\n",
       "      <td>0</td>\n",
       "    </tr>\n",
       "    <tr>\n",
       "      <th>...</th>\n",
       "      <td>...</td>\n",
       "      <td>...</td>\n",
       "      <td>...</td>\n",
       "      <td>...</td>\n",
       "      <td>...</td>\n",
       "      <td>...</td>\n",
       "      <td>...</td>\n",
       "      <td>...</td>\n",
       "      <td>...</td>\n",
       "      <td>...</td>\n",
       "      <td>...</td>\n",
       "      <td>...</td>\n",
       "      <td>...</td>\n",
       "      <td>...</td>\n",
       "      <td>...</td>\n",
       "      <td>...</td>\n",
       "      <td>...</td>\n",
       "    </tr>\n",
       "    <tr>\n",
       "      <th>336693</th>\n",
       "      <td>7312785589</td>\n",
       "      <td>10000.00</td>\n",
       "      <td>1979</td>\n",
       "      <td>chevrolet</td>\n",
       "      <td>corvette stingray</td>\n",
       "      <td>excellent</td>\n",
       "      <td>8 cylinders</td>\n",
       "      <td>gas</td>\n",
       "      <td>59000.00</td>\n",
       "      <td>automatic</td>\n",
       "      <td>rwd</td>\n",
       "      <td>NaN</td>\n",
       "      <td>coupe</td>\n",
       "      <td>pa</td>\n",
       "      <td>1</td>\n",
       "      <td>0</td>\n",
       "      <td>0</td>\n",
       "    </tr>\n",
       "    <tr>\n",
       "      <th>312684</th>\n",
       "      <td>7311028388</td>\n",
       "      <td>12000.00</td>\n",
       "      <td>1976</td>\n",
       "      <td>jeep</td>\n",
       "      <td>NaN</td>\n",
       "      <td>excellent</td>\n",
       "      <td>8 cylinders</td>\n",
       "      <td>gas</td>\n",
       "      <td>4000.00</td>\n",
       "      <td>automatic</td>\n",
       "      <td>4wd</td>\n",
       "      <td>NaN</td>\n",
       "      <td>offroad</td>\n",
       "      <td>or</td>\n",
       "      <td>1</td>\n",
       "      <td>0</td>\n",
       "      <td>0</td>\n",
       "    </tr>\n",
       "    <tr>\n",
       "      <th>26902</th>\n",
       "      <td>7312555674</td>\n",
       "      <td>29000.00</td>\n",
       "      <td>1980</td>\n",
       "      <td>pontiac</td>\n",
       "      <td>firebird</td>\n",
       "      <td>good</td>\n",
       "      <td>8 cylinders</td>\n",
       "      <td>gas</td>\n",
       "      <td>69068.00</td>\n",
       "      <td>automatic</td>\n",
       "      <td>rwd</td>\n",
       "      <td>mid-size</td>\n",
       "      <td>coupe</td>\n",
       "      <td>ca</td>\n",
       "      <td>0</td>\n",
       "      <td>1</td>\n",
       "      <td>0</td>\n",
       "    </tr>\n",
       "    <tr>\n",
       "      <th>83441</th>\n",
       "      <td>7302187945</td>\n",
       "      <td>10000.00</td>\n",
       "      <td>1982</td>\n",
       "      <td>chevrolet</td>\n",
       "      <td>scottsdale</td>\n",
       "      <td>good</td>\n",
       "      <td>8 cylinders</td>\n",
       "      <td>gas</td>\n",
       "      <td>36000.00</td>\n",
       "      <td>automatic</td>\n",
       "      <td>rwd</td>\n",
       "      <td>full-size</td>\n",
       "      <td>truck</td>\n",
       "      <td>ct</td>\n",
       "      <td>0</td>\n",
       "      <td>1</td>\n",
       "      <td>0</td>\n",
       "    </tr>\n",
       "    <tr>\n",
       "      <th>234436</th>\n",
       "      <td>7308088054</td>\n",
       "      <td>8995.00</td>\n",
       "      <td>1983</td>\n",
       "      <td>datsun</td>\n",
       "      <td>280zx</td>\n",
       "      <td>excellent</td>\n",
       "      <td>6 cylinders</td>\n",
       "      <td>gas</td>\n",
       "      <td>115000.00</td>\n",
       "      <td>manual</td>\n",
       "      <td>rwd</td>\n",
       "      <td>compact</td>\n",
       "      <td>coupe</td>\n",
       "      <td>nc</td>\n",
       "      <td>0</td>\n",
       "      <td>1</td>\n",
       "      <td>0</td>\n",
       "    </tr>\n",
       "  </tbody>\n",
       "</table>\n",
       "<p>20 rows × 17 columns</p>\n",
       "</div>"
      ],
      "text/plain": [
       "                id    price  year manufacturer              model  condition  \\\n",
       "401624  7306527823  6000.00  1982    chevrolet          el camino  excellent   \n",
       "384928  7302478921 14900.00  1984         ford             bronco       good   \n",
       "224364  7308691862 22500.00  1976         ford               f250  excellent   \n",
       "377365  7304932506  6500.00  1978    chevrolet           corvette       good   \n",
       "263315  7305894482 14000.00  1983    chevrolet            g20 van       good   \n",
       "...            ...      ...   ...          ...                ...        ...   \n",
       "336693  7312785589 10000.00  1979    chevrolet  corvette stingray  excellent   \n",
       "312684  7311028388 12000.00  1976         jeep                NaN  excellent   \n",
       "26902   7312555674 29000.00  1980      pontiac           firebird       good   \n",
       "83441   7302187945 10000.00  1982    chevrolet         scottsdale       good   \n",
       "234436  7308088054  8995.00  1983       datsun              280zx  excellent   \n",
       "\n",
       "          cylinders fuel  odometer transmission drive       size     type  \\\n",
       "401624  8 cylinders  gas 112965.00       manual   rwd  full-size   pickup   \n",
       "384928  8 cylinders  gas  70350.00    automatic   4wd  full-size  offroad   \n",
       "224364  8 cylinders  gas   5000.00       manual   4wd  full-size   pickup   \n",
       "377365  8 cylinders  gas  50000.00    automatic   rwd  full-size    coupe   \n",
       "263315  8 cylinders  gas  37227.00    automatic   rwd  full-size      van   \n",
       "...             ...  ...       ...          ...   ...        ...      ...   \n",
       "336693  8 cylinders  gas  59000.00    automatic   rwd        NaN    coupe   \n",
       "312684  8 cylinders  gas   4000.00    automatic   4wd        NaN  offroad   \n",
       "26902   8 cylinders  gas  69068.00    automatic   rwd   mid-size    coupe   \n",
       "83441   8 cylinders  gas  36000.00    automatic   rwd  full-size    truck   \n",
       "234436  6 cylinders  gas 115000.00       manual   rwd    compact    coupe   \n",
       "\n",
       "       state  classic_car  modern_car  antique_car  \n",
       "401624    wa            0           1            0  \n",
       "384928    tx            0           1            0  \n",
       "224364    mt            1           0            0  \n",
       "377365    tx            1           0            0  \n",
       "263315    nm            0           1            0  \n",
       "...      ...          ...         ...          ...  \n",
       "336693    pa            1           0            0  \n",
       "312684    or            1           0            0  \n",
       "26902     ca            0           1            0  \n",
       "83441     ct            0           1            0  \n",
       "234436    nc            0           1            0  \n",
       "\n",
       "[20 rows x 17 columns]"
      ]
     },
     "execution_count": 25,
     "metadata": {},
     "output_type": "execute_result"
    }
   ],
   "source": [
    "df[(df['year'] < 1985) & (df['year'] > 1975)].sample(20)"
   ]
  },
  {
   "cell_type": "code",
   "execution_count": 26,
   "id": "80afe2b6",
   "metadata": {},
   "outputs": [
    {
     "data": {
      "text/plain": [
       "odometer      -0.24\n",
       "classic_car   -0.01\n",
       "antique_car   -0.00\n",
       "modern_car     0.01\n",
       "year           0.41\n",
       "price          1.00\n",
       "Name: price, dtype: float64"
      ]
     },
     "execution_count": 26,
     "metadata": {},
     "output_type": "execute_result"
    }
   ],
   "source": [
    "# Check \"correlations\"\n",
    "corrs = df.corr()\n",
    "corrs['price'].sort_values()"
   ]
  },
  {
   "cell_type": "markdown",
   "id": "8c7e8300",
   "metadata": {},
   "source": [
    "car type is apparently not so much a factor"
   ]
  },
  {
   "cell_type": "code",
   "execution_count": 27,
   "id": "79a72ab3",
   "metadata": {},
   "outputs": [
    {
     "data": {
      "text/plain": [
       "0"
      ]
     },
     "execution_count": 27,
     "metadata": {},
     "output_type": "execute_result"
    }
   ],
   "source": [
    "df['odometer'].isna().sum()"
   ]
  },
  {
   "cell_type": "code",
   "execution_count": 28,
   "id": "1cce203f",
   "metadata": {},
   "outputs": [
    {
     "data": {
      "text/plain": [
       "2157"
      ]
     },
     "execution_count": 28,
     "metadata": {},
     "output_type": "execute_result"
    }
   ],
   "source": [
    "df[df['odometer'] <= 10]['odometer'].count()"
   ]
  },
  {
   "cell_type": "code",
   "execution_count": 29,
   "id": "b4645456",
   "metadata": {},
   "outputs": [
    {
     "data": {
      "text/html": [
       "<div>\n",
       "<style scoped>\n",
       "    .dataframe tbody tr th:only-of-type {\n",
       "        vertical-align: middle;\n",
       "    }\n",
       "\n",
       "    .dataframe tbody tr th {\n",
       "        vertical-align: top;\n",
       "    }\n",
       "\n",
       "    .dataframe thead th {\n",
       "        text-align: right;\n",
       "    }\n",
       "</style>\n",
       "<table border=\"1\" class=\"dataframe\">\n",
       "  <thead>\n",
       "    <tr style=\"text-align: right;\">\n",
       "      <th></th>\n",
       "      <th>count</th>\n",
       "      <th>mean</th>\n",
       "      <th>std</th>\n",
       "      <th>min</th>\n",
       "      <th>25%</th>\n",
       "      <th>50%</th>\n",
       "      <th>75%</th>\n",
       "      <th>max</th>\n",
       "    </tr>\n",
       "  </thead>\n",
       "  <tbody>\n",
       "    <tr>\n",
       "      <th>price</th>\n",
       "      <td>291587.00</td>\n",
       "      <td>19782.79</td>\n",
       "      <td>14201.23</td>\n",
       "      <td>100.00</td>\n",
       "      <td>8450.00</td>\n",
       "      <td>16990.00</td>\n",
       "      <td>28590.00</td>\n",
       "      <td>100000.00</td>\n",
       "    </tr>\n",
       "    <tr>\n",
       "      <th>year</th>\n",
       "      <td>291587.00</td>\n",
       "      <td>2012.05</td>\n",
       "      <td>8.07</td>\n",
       "      <td>1900.00</td>\n",
       "      <td>2009.00</td>\n",
       "      <td>2014.00</td>\n",
       "      <td>2017.00</td>\n",
       "      <td>2022.00</td>\n",
       "    </tr>\n",
       "    <tr>\n",
       "      <th>odometer</th>\n",
       "      <td>291587.00</td>\n",
       "      <td>91275.50</td>\n",
       "      <td>148484.89</td>\n",
       "      <td>11.00</td>\n",
       "      <td>35200.00</td>\n",
       "      <td>81481.00</td>\n",
       "      <td>129701.00</td>\n",
       "      <td>10000000.00</td>\n",
       "    </tr>\n",
       "    <tr>\n",
       "      <th>classic_car</th>\n",
       "      <td>291587.00</td>\n",
       "      <td>0.01</td>\n",
       "      <td>0.11</td>\n",
       "      <td>0.00</td>\n",
       "      <td>0.00</td>\n",
       "      <td>0.00</td>\n",
       "      <td>0.00</td>\n",
       "      <td>1.00</td>\n",
       "    </tr>\n",
       "    <tr>\n",
       "      <th>modern_car</th>\n",
       "      <td>291587.00</td>\n",
       "      <td>0.99</td>\n",
       "      <td>0.11</td>\n",
       "      <td>0.00</td>\n",
       "      <td>1.00</td>\n",
       "      <td>1.00</td>\n",
       "      <td>1.00</td>\n",
       "      <td>1.00</td>\n",
       "    </tr>\n",
       "    <tr>\n",
       "      <th>antique_car</th>\n",
       "      <td>291587.00</td>\n",
       "      <td>0.00</td>\n",
       "      <td>0.01</td>\n",
       "      <td>0.00</td>\n",
       "      <td>0.00</td>\n",
       "      <td>0.00</td>\n",
       "      <td>0.00</td>\n",
       "      <td>1.00</td>\n",
       "    </tr>\n",
       "  </tbody>\n",
       "</table>\n",
       "</div>"
      ],
      "text/plain": [
       "                count     mean       std     min      25%      50%       75%  \\\n",
       "price       291587.00 19782.79  14201.23  100.00  8450.00 16990.00  28590.00   \n",
       "year        291587.00  2012.05      8.07 1900.00  2009.00  2014.00   2017.00   \n",
       "odometer    291587.00 91275.50 148484.89   11.00 35200.00 81481.00 129701.00   \n",
       "classic_car 291587.00     0.01      0.11    0.00     0.00     0.00      0.00   \n",
       "modern_car  291587.00     0.99      0.11    0.00     1.00     1.00      1.00   \n",
       "antique_car 291587.00     0.00      0.01    0.00     0.00     0.00      0.00   \n",
       "\n",
       "                    max  \n",
       "price         100000.00  \n",
       "year            2022.00  \n",
       "odometer    10000000.00  \n",
       "classic_car        1.00  \n",
       "modern_car         1.00  \n",
       "antique_car        1.00  "
      ]
     },
     "execution_count": 29,
     "metadata": {},
     "output_type": "execute_result"
    }
   ],
   "source": [
    "# odo is required, drop odo of 10 miles or less\n",
    "df = df[df['odometer'] > 10]\n",
    "df.describe().T"
   ]
  },
  {
   "cell_type": "code",
   "execution_count": 30,
   "id": "872b0c2e",
   "metadata": {},
   "outputs": [
    {
     "name": "stderr",
     "output_type": "stream",
     "text": [
      "C:\\Users\\dgouin\\AppData\\Local\\Temp\\ipykernel_7340\\1214466414.py:2: SettingWithCopyWarning: \n",
      "A value is trying to be set on a copy of a slice from a DataFrame.\n",
      "Try using .loc[row_indexer,col_indexer] = value instead\n",
      "\n",
      "See the caveats in the documentation: https://pandas.pydata.org/pandas-docs/stable/user_guide/indexing.html#returning-a-view-versus-a-copy\n",
      "  df['odometer_cat'] = pd.cut(df[\"odometer\"],\n",
      "C:\\Users\\dgouin\\AppData\\Local\\Temp\\ipykernel_7340\\1214466414.py:7: SettingWithCopyWarning: \n",
      "A value is trying to be set on a copy of a slice from a DataFrame.\n",
      "Try using .loc[row_indexer,col_indexer] = value instead\n",
      "\n",
      "See the caveats in the documentation: https://pandas.pydata.org/pandas-docs/stable/user_guide/indexing.html#returning-a-view-versus-a-copy\n",
      "  df['odometer_cat'] = df['odometer_cat'].astype('category')\n"
     ]
    },
    {
     "data": {
      "text/plain": [
       "count        291587\n",
       "unique           11\n",
       "top       100k-150k\n",
       "freq          67291\n",
       "Name: odometer_cat, dtype: object"
      ]
     },
     "execution_count": 30,
     "metadata": {},
     "output_type": "execute_result"
    }
   ],
   "source": [
    "# create bins for odometer\n",
    "df['odometer_cat'] = pd.cut(df[\"odometer\"], \n",
    "                  bins=[0, 10000, 25000, 50000, 80000, 100000, 150000, 200000, 250000, 500000, 750000, np.inf], \n",
    "                  labels=['  0-010k',' 10k-25k',' 25k-50k',' 50k-80k',' 80k-100k','100k-150k','150k-200k',\n",
    "                              '200k-250k','250k-500k','500k-750k','750k+']).copy()\n",
    "\n",
    "df['odometer_cat'] = df['odometer_cat'].astype('category')\n",
    "\n",
    "df['odometer_cat'].describe().T"
   ]
  },
  {
   "cell_type": "code",
   "execution_count": 31,
   "id": "60fccbf6",
   "metadata": {},
   "outputs": [
    {
     "name": "stdout",
     "output_type": "stream",
     "text": [
      "<class 'pandas.core.frame.DataFrame'>\n",
      "Int64Index: 291587 entries, 27 to 426879\n",
      "Data columns (total 18 columns):\n",
      " #   Column        Non-Null Count   Dtype   \n",
      "---  ------        --------------   -----   \n",
      " 0   id            291587 non-null  object  \n",
      " 1   price         291587 non-null  float64 \n",
      " 2   year          291587 non-null  int16   \n",
      " 3   manufacturer  291587 non-null  category\n",
      " 4   model         289212 non-null  object  \n",
      " 5   condition     199425 non-null  category\n",
      " 6   cylinders     196038 non-null  category\n",
      " 7   fuel          289954 non-null  category\n",
      " 8   odometer      291587 non-null  float64 \n",
      " 9   transmission  290231 non-null  category\n",
      " 10  drive         230498 non-null  category\n",
      " 11  size          100086 non-null  category\n",
      " 12  type          291587 non-null  category\n",
      " 13  state         291587 non-null  category\n",
      " 14  classic_car   291587 non-null  int64   \n",
      " 15  modern_car    291587 non-null  int64   \n",
      " 16  antique_car   291587 non-null  int64   \n",
      " 17  odometer_cat  291587 non-null  category\n",
      "dtypes: category(10), float64(2), int16(1), int64(3), object(2)\n",
      "memory usage: 21.1+ MB\n"
     ]
    }
   ],
   "source": [
    "df.info()"
   ]
  },
  {
   "cell_type": "markdown",
   "id": "3ebbbed3",
   "metadata": {},
   "source": [
    "### Fill in the data gaps\n",
    "1. `model` missing for some records. However, there are over 20k different model descriptions. It is so granular, it should probably be examine further to categorize in fewer categories? For now, will rely only on manufacturer for initial iteration of the regression\n",
    "1. condition will default to `good` \n",
    "1. cylinders will ignore for now and exclude from the regression model \n",
    "1. fuel - will default to `gas` \n",
    "1. transmission will default to `automatic` \n",
    "1. size has a lot of missing records... will ignore and only rely on type "
   ]
  },
  {
   "cell_type": "code",
   "execution_count": 32,
   "id": "ba8425e2",
   "metadata": {},
   "outputs": [
    {
     "name": "stderr",
     "output_type": "stream",
     "text": [
      "C:\\Users\\dgouin\\AppData\\Local\\Programs\\Python\\Python39\\lib\\site-packages\\pandas\\core\\series.py:4530: SettingWithCopyWarning: \n",
      "A value is trying to be set on a copy of a slice from a DataFrame\n",
      "\n",
      "See the caveats in the documentation: https://pandas.pydata.org/pandas-docs/stable/user_guide/indexing.html#returning-a-view-versus-a-copy\n",
      "  return super().fillna(\n"
     ]
    },
    {
     "data": {
      "text/plain": [
       "['good', 'excellent', 'fair', 'like new', 'new', 'salvage']\n",
       "Categories (6, object): ['good', 'excellent', 'fair', 'like new', 'new', 'salvage']"
      ]
     },
     "execution_count": 32,
     "metadata": {},
     "output_type": "execute_result"
    }
   ],
   "source": [
    "# condition \n",
    "df['condition'].fillna('excellent', inplace=True)\n",
    "df['condition'].unique()\n"
   ]
  },
  {
   "cell_type": "code",
   "execution_count": 33,
   "id": "a299d18c",
   "metadata": {},
   "outputs": [
    {
     "data": {
      "text/plain": [
       "<AxesSubplot:title={'center':'count by condition type (after filling in NaN)'}, xlabel='condition'>"
      ]
     },
     "execution_count": 33,
     "metadata": {},
     "output_type": "execute_result"
    },
    {
     "data": {
      "image/png": "[encoded data removed]",
      "text/plain": [
       "<Figure size 432x288 with 1 Axes>"
      ]
     },
     "metadata": {
      "needs_background": "light"
     },
     "output_type": "display_data"
    }
   ],
   "source": [
    "df[['condition','id']].groupby('condition').count().plot(kind='bar', title=\"count by condition type (after filling in NaN)\")"
   ]
  },
  {
   "cell_type": "code",
   "execution_count": 34,
   "id": "c788d82b",
   "metadata": {},
   "outputs": [
    {
     "data": {
      "text/plain": [
       "['gas', 'other_fuel', 'diesel', 'hybrid', 'electric']\n",
       "Categories (5, object): ['gas', 'other_fuel', 'diesel', 'hybrid', 'electric']"
      ]
     },
     "execution_count": 34,
     "metadata": {},
     "output_type": "execute_result"
    }
   ],
   "source": [
    "# fuel\n",
    "df['fuel'].fillna('gas', inplace=True)\n",
    "df['fuel'].unique()\n"
   ]
  },
  {
   "cell_type": "code",
   "execution_count": 35,
   "id": "92b284dc",
   "metadata": {},
   "outputs": [
    {
     "data": {
      "text/plain": [
       "<AxesSubplot:title={'center':'count by fuel type (after filling in NaN)'}, xlabel='fuel'>"
      ]
     },
     "execution_count": 35,
     "metadata": {},
     "output_type": "execute_result"
    },
    {
     "data": {
      "image/png": "[encoded data removed]",
      "text/plain": [
       "<Figure size 432x288 with 1 Axes>"
      ]
     },
     "metadata": {
      "needs_background": "light"
     },
     "output_type": "display_data"
    }
   ],
   "source": [
    "df[['fuel','id']].groupby('fuel').count().plot(kind='bar', title=\"count by fuel type (after filling in NaN)\")"
   ]
  },
  {
   "cell_type": "code",
   "execution_count": 36,
   "id": "516efb08",
   "metadata": {},
   "outputs": [
    {
     "data": {
      "text/plain": [
       "['other_transmission', 'automatic', 'manual']\n",
       "Categories (3, object): ['other_transmission', 'automatic', 'manual']"
      ]
     },
     "execution_count": 36,
     "metadata": {},
     "output_type": "execute_result"
    }
   ],
   "source": [
    "# transmission\n",
    "df['transmission'].fillna('automatic', inplace=True)\n",
    "df['transmission'].unique()\n"
   ]
  },
  {
   "cell_type": "code",
   "execution_count": 37,
   "id": "e9c74998",
   "metadata": {},
   "outputs": [
    {
     "data": {
      "text/plain": [
       "<AxesSubplot:title={'center':'count by transmission type (after filling in NaN)'}, xlabel='transmission'>"
      ]
     },
     "execution_count": 37,
     "metadata": {},
     "output_type": "execute_result"
    },
    {
     "data": {
      "image/png": "[encoded data removed]",
      "text/plain": [
       "<Figure size 432x288 with 1 Axes>"
      ]
     },
     "metadata": {
      "needs_background": "light"
     },
     "output_type": "display_data"
    }
   ],
   "source": [
    "df[['transmission','id']].groupby('transmission').count().plot(kind='bar', title=\"count by transmission type (after filling in NaN)\")"
   ]
  },
  {
   "cell_type": "code",
   "execution_count": 38,
   "id": "6c50b50d",
   "metadata": {},
   "outputs": [
    {
     "data": {
      "text/plain": [
       "['fwd', 'rwd', '4wd']\n",
       "Categories (3, object): ['fwd', 'rwd', '4wd']"
      ]
     },
     "execution_count": 38,
     "metadata": {},
     "output_type": "execute_result"
    }
   ],
   "source": [
    "# drive\n",
    "df['drive'].fillna('fwd', inplace=True)\n",
    "df['drive'].unique()"
   ]
  },
  {
   "cell_type": "code",
   "execution_count": 39,
   "id": "bb769374",
   "metadata": {},
   "outputs": [
    {
     "data": {
      "text/plain": [
       "<AxesSubplot:title={'center':'count by drive type (after filling in NaN)'}, xlabel='drive'>"
      ]
     },
     "execution_count": 39,
     "metadata": {},
     "output_type": "execute_result"
    },
    {
     "data": {
      "image/png": "[encoded data removed]",
      "text/plain": [
       "<Figure size 432x288 with 1 Axes>"
      ]
     },
     "metadata": {
      "needs_background": "light"
     },
     "output_type": "display_data"
    }
   ],
   "source": [
    "df[['drive','id']].groupby('drive').count().plot(kind='bar', title=\"count by drive type (after filling in NaN)\")"
   ]
  },
  {
   "cell_type": "code",
   "execution_count": 40,
   "id": "7d6c7ba2",
   "metadata": {},
   "outputs": [
    {
     "name": "stdout",
     "output_type": "stream",
     "text": [
      "<class 'pandas.core.frame.DataFrame'>\n",
      "Int64Index: 291587 entries, 27 to 426879\n",
      "Data columns (total 18 columns):\n",
      " #   Column        Non-Null Count   Dtype   \n",
      "---  ------        --------------   -----   \n",
      " 0   id            291587 non-null  object  \n",
      " 1   price         291587 non-null  float64 \n",
      " 2   year          291587 non-null  int16   \n",
      " 3   manufacturer  291587 non-null  category\n",
      " 4   model         289212 non-null  object  \n",
      " 5   condition     291587 non-null  category\n",
      " 6   cylinders     196038 non-null  category\n",
      " 7   fuel          291587 non-null  category\n",
      " 8   odometer      291587 non-null  float64 \n",
      " 9   transmission  291587 non-null  category\n",
      " 10  drive         291587 non-null  category\n",
      " 11  size          100086 non-null  category\n",
      " 12  type          291587 non-null  category\n",
      " 13  state         291587 non-null  category\n",
      " 14  classic_car   291587 non-null  int64   \n",
      " 15  modern_car    291587 non-null  int64   \n",
      " 16  antique_car   291587 non-null  int64   \n",
      " 17  odometer_cat  291587 non-null  category\n",
      "dtypes: category(10), float64(2), int16(1), int64(3), object(2)\n",
      "memory usage: 21.1+ MB\n"
     ]
    }
   ],
   "source": [
    "df.info()"
   ]
  },
  {
   "cell_type": "markdown",
   "id": "bb4960da",
   "metadata": {},
   "source": [
    "### Setup data for regression modeling "
   ]
  },
  {
   "cell_type": "code",
   "execution_count": 50,
   "id": "eaf32fc3",
   "metadata": {},
   "outputs": [],
   "source": [
    "# create model for state of california\n",
    "df_model = df[df['state'] == 'ca'][['price',\n",
    "              'year',\n",
    "             'manufacturer',\n",
    "              'condition',\n",
    "              'fuel',\n",
    "              'odometer_cat',\n",
    "              'transmission',\n",
    "              'drive',\n",
    "              'type',\n",
    "#               'state',\n",
    "              'classic_car',\n",
    "              'modern_car',\n",
    "              'antique_car']]"
   ]
  },
  {
   "cell_type": "code",
   "execution_count": 51,
   "id": "0f29ac5c",
   "metadata": {},
   "outputs": [
    {
     "name": "stdout",
     "output_type": "stream",
     "text": [
      "<class 'pandas.core.frame.DataFrame'>\n",
      "Int64Index: 33956 entries, 21171 to 71784\n",
      "Data columns (total 12 columns):\n",
      " #   Column        Non-Null Count  Dtype   \n",
      "---  ------        --------------  -----   \n",
      " 0   price         33956 non-null  float64 \n",
      " 1   year          33956 non-null  int16   \n",
      " 2   manufacturer  33956 non-null  category\n",
      " 3   condition     33956 non-null  category\n",
      " 4   fuel          33956 non-null  category\n",
      " 5   odometer_cat  33956 non-null  category\n",
      " 6   transmission  33956 non-null  category\n",
      " 7   drive         33956 non-null  category\n",
      " 8   type          33956 non-null  category\n",
      " 9   classic_car   33956 non-null  int64   \n",
      " 10  modern_car    33956 non-null  int64   \n",
      " 11  antique_car   33956 non-null  int64   \n",
      "dtypes: category(7), float64(1), int16(1), int64(3)\n",
      "memory usage: 1.6 MB\n"
     ]
    }
   ],
   "source": [
    "df_model.info()"
   ]
  },
  {
   "cell_type": "code",
   "execution_count": 52,
   "id": "4d488ff7",
   "metadata": {},
   "outputs": [],
   "source": [
    "df_model = pd.get_dummies(df_model, columns = list(df_model.select_dtypes(include='category')), prefix='', prefix_sep='')"
   ]
  },
  {
   "cell_type": "code",
   "execution_count": 53,
   "id": "18994cea",
   "metadata": {},
   "outputs": [
    {
     "name": "stdout",
     "output_type": "stream",
     "text": [
      "<class 'pandas.core.frame.DataFrame'>\n",
      "Int64Index: 33956 entries, 21171 to 71784\n",
      "Data columns (total 88 columns):\n",
      " #   Column              Non-Null Count  Dtype  \n",
      "---  ------              --------------  -----  \n",
      " 0   price               33956 non-null  float64\n",
      " 1   year                33956 non-null  int16  \n",
      " 2   classic_car         33956 non-null  int64  \n",
      " 3   modern_car          33956 non-null  int64  \n",
      " 4   antique_car         33956 non-null  int64  \n",
      " 5   acura               33956 non-null  uint8  \n",
      " 6   alfa-romeo          33956 non-null  uint8  \n",
      " 7   aston-martin        33956 non-null  uint8  \n",
      " 8   audi                33956 non-null  uint8  \n",
      " 9   bmw                 33956 non-null  uint8  \n",
      " 10  buick               33956 non-null  uint8  \n",
      " 11  cadillac            33956 non-null  uint8  \n",
      " 12  chevrolet           33956 non-null  uint8  \n",
      " 13  chrysler            33956 non-null  uint8  \n",
      " 14  datsun              33956 non-null  uint8  \n",
      " 15  dodge               33956 non-null  uint8  \n",
      " 16  ferrari             33956 non-null  uint8  \n",
      " 17  fiat                33956 non-null  uint8  \n",
      " 18  ford                33956 non-null  uint8  \n",
      " 19  gmc                 33956 non-null  uint8  \n",
      " 20  harley-davidson     33956 non-null  uint8  \n",
      " 21  honda               33956 non-null  uint8  \n",
      " 22  hyundai             33956 non-null  uint8  \n",
      " 23  infiniti            33956 non-null  uint8  \n",
      " 24  jaguar              33956 non-null  uint8  \n",
      " 25  jeep                33956 non-null  uint8  \n",
      " 26  kia                 33956 non-null  uint8  \n",
      " 27  land rover          33956 non-null  uint8  \n",
      " 28  lexus               33956 non-null  uint8  \n",
      " 29  lincoln             33956 non-null  uint8  \n",
      " 30  mazda               33956 non-null  uint8  \n",
      " 31  mercedes-benz       33956 non-null  uint8  \n",
      " 32  mercury             33956 non-null  uint8  \n",
      " 33  mini                33956 non-null  uint8  \n",
      " 34  mitsubishi          33956 non-null  uint8  \n",
      " 35  morgan              33956 non-null  uint8  \n",
      " 36  nissan              33956 non-null  uint8  \n",
      " 37  pontiac             33956 non-null  uint8  \n",
      " 38  porsche             33956 non-null  uint8  \n",
      " 39  ram                 33956 non-null  uint8  \n",
      " 40  rover               33956 non-null  uint8  \n",
      " 41  saturn              33956 non-null  uint8  \n",
      " 42  subaru              33956 non-null  uint8  \n",
      " 43  tesla               33956 non-null  uint8  \n",
      " 44  toyota              33956 non-null  uint8  \n",
      " 45  volkswagen          33956 non-null  uint8  \n",
      " 46  volvo               33956 non-null  uint8  \n",
      " 47  excellent           33956 non-null  uint8  \n",
      " 48  fair                33956 non-null  uint8  \n",
      " 49  good                33956 non-null  uint8  \n",
      " 50  like new            33956 non-null  uint8  \n",
      " 51  new                 33956 non-null  uint8  \n",
      " 52  salvage             33956 non-null  uint8  \n",
      " 53  diesel              33956 non-null  uint8  \n",
      " 54  electric            33956 non-null  uint8  \n",
      " 55  gas                 33956 non-null  uint8  \n",
      " 56  hybrid              33956 non-null  uint8  \n",
      " 57  other_fuel          33956 non-null  uint8  \n",
      " 58    0-010k            33956 non-null  uint8  \n",
      " 59   10k-25k            33956 non-null  uint8  \n",
      " 60   25k-50k            33956 non-null  uint8  \n",
      " 61   50k-80k            33956 non-null  uint8  \n",
      " 62   80k-100k           33956 non-null  uint8  \n",
      " 63  100k-150k           33956 non-null  uint8  \n",
      " 64  150k-200k           33956 non-null  uint8  \n",
      " 65  200k-250k           33956 non-null  uint8  \n",
      " 66  250k-500k           33956 non-null  uint8  \n",
      " 67  500k-750k           33956 non-null  uint8  \n",
      " 68  750k+               33956 non-null  uint8  \n",
      " 69  automatic           33956 non-null  uint8  \n",
      " 70  manual              33956 non-null  uint8  \n",
      " 71  other_transmission  33956 non-null  uint8  \n",
      " 72  4wd                 33956 non-null  uint8  \n",
      " 73  fwd                 33956 non-null  uint8  \n",
      " 74  rwd                 33956 non-null  uint8  \n",
      " 75  SUV                 33956 non-null  uint8  \n",
      " 76  bus                 33956 non-null  uint8  \n",
      " 77  convertible         33956 non-null  uint8  \n",
      " 78  coupe               33956 non-null  uint8  \n",
      " 79  hatchback           33956 non-null  uint8  \n",
      " 80  mini-van            33956 non-null  uint8  \n",
      " 81  offroad             33956 non-null  uint8  \n",
      " 82  other_type          33956 non-null  uint8  \n",
      " 83  pickup              33956 non-null  uint8  \n",
      " 84  sedan               33956 non-null  uint8  \n",
      " 85  truck               33956 non-null  uint8  \n",
      " 86  van                 33956 non-null  uint8  \n",
      " 87  wagon               33956 non-null  uint8  \n",
      "dtypes: float64(1), int16(1), int64(3), uint8(83)\n",
      "memory usage: 4.0 MB\n"
     ]
    }
   ],
   "source": [
    "df_model.info()"
   ]
  },
  {
   "cell_type": "code",
   "execution_count": 54,
   "id": "97d65e48",
   "metadata": {},
   "outputs": [
    {
     "data": {
      "text/plain": [
       "(33956, 88)"
      ]
     },
     "execution_count": 54,
     "metadata": {},
     "output_type": "execute_result"
    }
   ],
   "source": [
    "df_model.shape"
   ]
  },
  {
   "cell_type": "code",
   "execution_count": 55,
   "id": "b9bd0fd0",
   "metadata": {},
   "outputs": [
    {
     "data": {
      "text/html": [
       "<div>\n",
       "<style scoped>\n",
       "    .dataframe tbody tr th:only-of-type {\n",
       "        vertical-align: middle;\n",
       "    }\n",
       "\n",
       "    .dataframe tbody tr th {\n",
       "        vertical-align: top;\n",
       "    }\n",
       "\n",
       "    .dataframe thead th {\n",
       "        text-align: right;\n",
       "    }\n",
       "</style>\n",
       "<table border=\"1\" class=\"dataframe\">\n",
       "  <thead>\n",
       "    <tr style=\"text-align: right;\">\n",
       "      <th></th>\n",
       "      <th>price</th>\n",
       "      <th>year</th>\n",
       "      <th>classic_car</th>\n",
       "      <th>modern_car</th>\n",
       "      <th>antique_car</th>\n",
       "      <th>acura</th>\n",
       "      <th>alfa-romeo</th>\n",
       "      <th>aston-martin</th>\n",
       "      <th>audi</th>\n",
       "      <th>bmw</th>\n",
       "      <th>...</th>\n",
       "      <th>coupe</th>\n",
       "      <th>hatchback</th>\n",
       "      <th>mini-van</th>\n",
       "      <th>offroad</th>\n",
       "      <th>other_type</th>\n",
       "      <th>pickup</th>\n",
       "      <th>sedan</th>\n",
       "      <th>truck</th>\n",
       "      <th>van</th>\n",
       "      <th>wagon</th>\n",
       "    </tr>\n",
       "  </thead>\n",
       "  <tbody>\n",
       "    <tr>\n",
       "      <th>58650</th>\n",
       "      <td>29777.00</td>\n",
       "      <td>2016</td>\n",
       "      <td>0</td>\n",
       "      <td>1</td>\n",
       "      <td>0</td>\n",
       "      <td>0</td>\n",
       "      <td>0</td>\n",
       "      <td>0</td>\n",
       "      <td>0</td>\n",
       "      <td>0</td>\n",
       "      <td>...</td>\n",
       "      <td>0</td>\n",
       "      <td>0</td>\n",
       "      <td>0</td>\n",
       "      <td>0</td>\n",
       "      <td>0</td>\n",
       "      <td>1</td>\n",
       "      <td>0</td>\n",
       "      <td>0</td>\n",
       "      <td>0</td>\n",
       "      <td>0</td>\n",
       "    </tr>\n",
       "    <tr>\n",
       "      <th>66576</th>\n",
       "      <td>10999.00</td>\n",
       "      <td>2011</td>\n",
       "      <td>0</td>\n",
       "      <td>1</td>\n",
       "      <td>0</td>\n",
       "      <td>0</td>\n",
       "      <td>0</td>\n",
       "      <td>0</td>\n",
       "      <td>0</td>\n",
       "      <td>0</td>\n",
       "      <td>...</td>\n",
       "      <td>0</td>\n",
       "      <td>0</td>\n",
       "      <td>0</td>\n",
       "      <td>0</td>\n",
       "      <td>0</td>\n",
       "      <td>0</td>\n",
       "      <td>1</td>\n",
       "      <td>0</td>\n",
       "      <td>0</td>\n",
       "      <td>0</td>\n",
       "    </tr>\n",
       "    <tr>\n",
       "      <th>57153</th>\n",
       "      <td>33590.00</td>\n",
       "      <td>2016</td>\n",
       "      <td>0</td>\n",
       "      <td>1</td>\n",
       "      <td>0</td>\n",
       "      <td>0</td>\n",
       "      <td>0</td>\n",
       "      <td>0</td>\n",
       "      <td>0</td>\n",
       "      <td>0</td>\n",
       "      <td>...</td>\n",
       "      <td>0</td>\n",
       "      <td>0</td>\n",
       "      <td>0</td>\n",
       "      <td>0</td>\n",
       "      <td>1</td>\n",
       "      <td>0</td>\n",
       "      <td>0</td>\n",
       "      <td>0</td>\n",
       "      <td>0</td>\n",
       "      <td>0</td>\n",
       "    </tr>\n",
       "    <tr>\n",
       "      <th>45006</th>\n",
       "      <td>8995.00</td>\n",
       "      <td>2016</td>\n",
       "      <td>0</td>\n",
       "      <td>1</td>\n",
       "      <td>0</td>\n",
       "      <td>0</td>\n",
       "      <td>0</td>\n",
       "      <td>0</td>\n",
       "      <td>0</td>\n",
       "      <td>0</td>\n",
       "      <td>...</td>\n",
       "      <td>0</td>\n",
       "      <td>0</td>\n",
       "      <td>0</td>\n",
       "      <td>0</td>\n",
       "      <td>0</td>\n",
       "      <td>0</td>\n",
       "      <td>1</td>\n",
       "      <td>0</td>\n",
       "      <td>0</td>\n",
       "      <td>0</td>\n",
       "    </tr>\n",
       "    <tr>\n",
       "      <th>40854</th>\n",
       "      <td>14590.00</td>\n",
       "      <td>2012</td>\n",
       "      <td>0</td>\n",
       "      <td>1</td>\n",
       "      <td>0</td>\n",
       "      <td>0</td>\n",
       "      <td>0</td>\n",
       "      <td>0</td>\n",
       "      <td>0</td>\n",
       "      <td>1</td>\n",
       "      <td>...</td>\n",
       "      <td>1</td>\n",
       "      <td>0</td>\n",
       "      <td>0</td>\n",
       "      <td>0</td>\n",
       "      <td>0</td>\n",
       "      <td>0</td>\n",
       "      <td>0</td>\n",
       "      <td>0</td>\n",
       "      <td>0</td>\n",
       "      <td>0</td>\n",
       "    </tr>\n",
       "    <tr>\n",
       "      <th>...</th>\n",
       "      <td>...</td>\n",
       "      <td>...</td>\n",
       "      <td>...</td>\n",
       "      <td>...</td>\n",
       "      <td>...</td>\n",
       "      <td>...</td>\n",
       "      <td>...</td>\n",
       "      <td>...</td>\n",
       "      <td>...</td>\n",
       "      <td>...</td>\n",
       "      <td>...</td>\n",
       "      <td>...</td>\n",
       "      <td>...</td>\n",
       "      <td>...</td>\n",
       "      <td>...</td>\n",
       "      <td>...</td>\n",
       "      <td>...</td>\n",
       "      <td>...</td>\n",
       "      <td>...</td>\n",
       "      <td>...</td>\n",
       "      <td>...</td>\n",
       "    </tr>\n",
       "    <tr>\n",
       "      <th>29239</th>\n",
       "      <td>8400.00</td>\n",
       "      <td>1973</td>\n",
       "      <td>1</td>\n",
       "      <td>0</td>\n",
       "      <td>0</td>\n",
       "      <td>0</td>\n",
       "      <td>0</td>\n",
       "      <td>0</td>\n",
       "      <td>0</td>\n",
       "      <td>0</td>\n",
       "      <td>...</td>\n",
       "      <td>0</td>\n",
       "      <td>0</td>\n",
       "      <td>0</td>\n",
       "      <td>0</td>\n",
       "      <td>0</td>\n",
       "      <td>0</td>\n",
       "      <td>0</td>\n",
       "      <td>1</td>\n",
       "      <td>0</td>\n",
       "      <td>0</td>\n",
       "    </tr>\n",
       "    <tr>\n",
       "      <th>37194</th>\n",
       "      <td>10499.00</td>\n",
       "      <td>2008</td>\n",
       "      <td>0</td>\n",
       "      <td>1</td>\n",
       "      <td>0</td>\n",
       "      <td>0</td>\n",
       "      <td>0</td>\n",
       "      <td>0</td>\n",
       "      <td>0</td>\n",
       "      <td>0</td>\n",
       "      <td>...</td>\n",
       "      <td>0</td>\n",
       "      <td>0</td>\n",
       "      <td>0</td>\n",
       "      <td>0</td>\n",
       "      <td>0</td>\n",
       "      <td>1</td>\n",
       "      <td>0</td>\n",
       "      <td>0</td>\n",
       "      <td>0</td>\n",
       "      <td>0</td>\n",
       "    </tr>\n",
       "    <tr>\n",
       "      <th>63260</th>\n",
       "      <td>31990.00</td>\n",
       "      <td>2019</td>\n",
       "      <td>0</td>\n",
       "      <td>1</td>\n",
       "      <td>0</td>\n",
       "      <td>0</td>\n",
       "      <td>0</td>\n",
       "      <td>0</td>\n",
       "      <td>0</td>\n",
       "      <td>0</td>\n",
       "      <td>...</td>\n",
       "      <td>0</td>\n",
       "      <td>1</td>\n",
       "      <td>0</td>\n",
       "      <td>0</td>\n",
       "      <td>0</td>\n",
       "      <td>0</td>\n",
       "      <td>0</td>\n",
       "      <td>0</td>\n",
       "      <td>0</td>\n",
       "      <td>0</td>\n",
       "    </tr>\n",
       "    <tr>\n",
       "      <th>56990</th>\n",
       "      <td>24495.00</td>\n",
       "      <td>2016</td>\n",
       "      <td>0</td>\n",
       "      <td>1</td>\n",
       "      <td>0</td>\n",
       "      <td>0</td>\n",
       "      <td>0</td>\n",
       "      <td>0</td>\n",
       "      <td>0</td>\n",
       "      <td>1</td>\n",
       "      <td>...</td>\n",
       "      <td>0</td>\n",
       "      <td>0</td>\n",
       "      <td>0</td>\n",
       "      <td>0</td>\n",
       "      <td>0</td>\n",
       "      <td>0</td>\n",
       "      <td>0</td>\n",
       "      <td>0</td>\n",
       "      <td>0</td>\n",
       "      <td>0</td>\n",
       "    </tr>\n",
       "    <tr>\n",
       "      <th>48854</th>\n",
       "      <td>30990.00</td>\n",
       "      <td>2019</td>\n",
       "      <td>0</td>\n",
       "      <td>1</td>\n",
       "      <td>0</td>\n",
       "      <td>0</td>\n",
       "      <td>0</td>\n",
       "      <td>0</td>\n",
       "      <td>0</td>\n",
       "      <td>0</td>\n",
       "      <td>...</td>\n",
       "      <td>0</td>\n",
       "      <td>0</td>\n",
       "      <td>0</td>\n",
       "      <td>0</td>\n",
       "      <td>0</td>\n",
       "      <td>1</td>\n",
       "      <td>0</td>\n",
       "      <td>0</td>\n",
       "      <td>0</td>\n",
       "      <td>0</td>\n",
       "    </tr>\n",
       "  </tbody>\n",
       "</table>\n",
       "<p>25 rows × 88 columns</p>\n",
       "</div>"
      ],
      "text/plain": [
       "         price  year  classic_car  modern_car  antique_car  acura  alfa-romeo  \\\n",
       "58650 29777.00  2016            0           1            0      0           0   \n",
       "66576 10999.00  2011            0           1            0      0           0   \n",
       "57153 33590.00  2016            0           1            0      0           0   \n",
       "45006  8995.00  2016            0           1            0      0           0   \n",
       "40854 14590.00  2012            0           1            0      0           0   \n",
       "...        ...   ...          ...         ...          ...    ...         ...   \n",
       "29239  8400.00  1973            1           0            0      0           0   \n",
       "37194 10499.00  2008            0           1            0      0           0   \n",
       "63260 31990.00  2019            0           1            0      0           0   \n",
       "56990 24495.00  2016            0           1            0      0           0   \n",
       "48854 30990.00  2019            0           1            0      0           0   \n",
       "\n",
       "       aston-martin  audi  bmw  ...  coupe  hatchback  mini-van  offroad  \\\n",
       "58650             0     0    0  ...      0          0         0        0   \n",
       "66576             0     0    0  ...      0          0         0        0   \n",
       "57153             0     0    0  ...      0          0         0        0   \n",
       "45006             0     0    0  ...      0          0         0        0   \n",
       "40854             0     0    1  ...      1          0         0        0   \n",
       "...             ...   ...  ...  ...    ...        ...       ...      ...   \n",
       "29239             0     0    0  ...      0          0         0        0   \n",
       "37194             0     0    0  ...      0          0         0        0   \n",
       "63260             0     0    0  ...      0          1         0        0   \n",
       "56990             0     0    1  ...      0          0         0        0   \n",
       "48854             0     0    0  ...      0          0         0        0   \n",
       "\n",
       "       other_type  pickup  sedan  truck  van  wagon  \n",
       "58650           0       1      0      0    0      0  \n",
       "66576           0       0      1      0    0      0  \n",
       "57153           1       0      0      0    0      0  \n",
       "45006           0       0      1      0    0      0  \n",
       "40854           0       0      0      0    0      0  \n",
       "...           ...     ...    ...    ...  ...    ...  \n",
       "29239           0       0      0      1    0      0  \n",
       "37194           0       1      0      0    0      0  \n",
       "63260           0       0      0      0    0      0  \n",
       "56990           0       0      0      0    0      0  \n",
       "48854           0       1      0      0    0      0  \n",
       "\n",
       "[25 rows x 88 columns]"
      ]
     },
     "execution_count": 55,
     "metadata": {},
     "output_type": "execute_result"
    }
   ],
   "source": [
    "df_model.sample(25)"
   ]
  },
  {
   "cell_type": "code",
   "execution_count": 56,
   "id": "511eb62d",
   "metadata": {},
   "outputs": [],
   "source": [
    "# sample complete model data set \n",
    "with open('./df_model.pkl', 'wb') as handle:\n",
    "    pickle.dump(df_model, handle, protocol=pickle.HIGHEST_PROTOCOL)"
   ]
  },
  {
   "cell_type": "code",
   "execution_count": 47,
   "id": "b2b51ff8",
   "metadata": {},
   "outputs": [
    {
     "name": "stdout",
     "output_type": "stream",
     "text": [
      "gas                  -0.28\n",
      "100k-150k            -0.27\n",
      "150k-200k            -0.24\n",
      "fwd                  -0.23\n",
      "automatic            -0.21\n",
      "sedan                -0.21\n",
      "200k-250k            -0.15\n",
      "fair                 -0.14\n",
      "honda                -0.10\n",
      "excellent            -0.10\n",
      "250k-500k            -0.09\n",
      "hatchback            -0.09\n",
      "nissan               -0.09\n",
      "manual               -0.09\n",
      "hyundai              -0.08\n",
      "mini-van             -0.07\n",
      " 80k-100k            -0.07\n",
      "wagon                -0.06\n",
      "volkswagen           -0.06\n",
      "kia                  -0.05\n",
      "toyota               -0.05\n",
      "chrysler             -0.05\n",
      "salvage              -0.05\n",
      "mercury              -0.04\n",
      "saturn               -0.04\n",
      "SUV                  -0.04\n",
      "subaru               -0.04\n",
      "mazda                -0.04\n",
      "dodge                -0.04\n",
      "hybrid               -0.03\n",
      "mitsubishi           -0.03\n",
      "pontiac              -0.03\n",
      "mini                 -0.03\n",
      "modern_car           -0.02\n",
      "fiat                 -0.02\n",
      "750k+                -0.02\n",
      "buick                -0.02\n",
      "offroad              -0.02\n",
      "like new             -0.01\n",
      "datsun               -0.01\n",
      "harley-davidson      -0.01\n",
      "bus                  -0.01\n",
      "land rover           -0.00\n",
      "van                  -0.00\n",
      "500k-750k             0.00\n",
      "lexus                 0.00\n",
      "acura                 0.00\n",
      "infiniti              0.00\n",
      "convertible           0.01\n",
      "aston-martin          0.01\n",
      "bmw                   0.01\n",
      "coupe                 0.02\n",
      "new                   0.02\n",
      "electric              0.02\n",
      "antique_car           0.02\n",
      "classic_car           0.02\n",
      "jaguar                0.03\n",
      "rwd                   0.03\n",
      "lincoln               0.03\n",
      "cadillac              0.03\n",
      "jeep                  0.04\n",
      "chevrolet             0.04\n",
      "audi                  0.04\n",
      "ford                  0.05\n",
      "alfa-romeo            0.05\n",
      "ferrari               0.05\n",
      "mercedes-benz         0.06\n",
      "truck                 0.06\n",
      "rover                 0.06\n",
      "tesla                 0.07\n",
      " 50k-80k              0.07\n",
      "gmc                   0.07\n",
      "volvo                 0.07\n",
      "porsche               0.07\n",
      "other_type            0.12\n",
      "ram                   0.14\n",
      "good                  0.15\n",
      "other_fuel            0.20\n",
      "  0-010k              0.23\n",
      "diesel                0.23\n",
      "4wd                   0.24\n",
      " 25k-50k              0.25\n",
      " 10k-25k              0.27\n",
      "other_transmission    0.28\n",
      "pickup                0.30\n",
      "year                  0.34\n",
      "price                 1.00\n",
      "morgan                 nan\n",
      "Name: price, dtype: float64\n"
     ]
    }
   ],
   "source": [
    "# Check \"correlations\" again\n",
    "corrs = df_model.corr()\n",
    "corr_factors = corrs['price'].sort_values()\n",
    "\n",
    "pd.set_option('display.max_rows', None)\n",
    "print(corr_factors)\n",
    "pd.set_option('display.max_rows', 10)\n"
   ]
  },
  {
   "cell_type": "code",
   "execution_count": 48,
   "id": "bbb43951",
   "metadata": {},
   "outputs": [
    {
     "name": "stderr",
     "output_type": "stream",
     "text": [
      "C:\\Users\\dgouin\\AppData\\Local\\Temp\\ipykernel_7340\\1543825126.py:3: UserWarning: Boolean Series key will be reindexed to match DataFrame index.\n",
      "  sns.heatmap(corrs[abs(corr_factors) >= .1]);\n"
     ]
    },
    {
     "data": {
      "image/png": "[encoded data removed]",
      "text/plain": [
       "<Figure size 864x576 with 2 Axes>"
      ]
     },
     "metadata": {
      "needs_background": "light"
     },
     "output_type": "display_data"
    }
   ],
   "source": [
    "# heatmap correlations\n",
    "plt.figure(figsize=(12,8))\n",
    "sns.heatmap(corrs[abs(corr_factors) >= .1]);"
   ]
  },
  {
   "cell_type": "code",
   "execution_count": 49,
   "id": "d7dcb52e",
   "metadata": {},
   "outputs": [
    {
     "data": {
      "text/plain": [
       "['gas',\n",
       " '100k-150k',\n",
       " '150k-200k',\n",
       " 'fwd',\n",
       " 'automatic',\n",
       " 'sedan',\n",
       " '200k-250k',\n",
       " 'fair',\n",
       " 'honda',\n",
       " 'other_type',\n",
       " 'ram',\n",
       " 'good',\n",
       " 'other_fuel',\n",
       " '  0-010k',\n",
       " 'diesel',\n",
       " '4wd',\n",
       " ' 25k-50k',\n",
       " ' 10k-25k',\n",
       " 'other_transmission',\n",
       " 'pickup',\n",
       " 'year',\n",
       " 'price']"
      ]
     },
     "execution_count": 49,
     "metadata": {},
     "output_type": "execute_result"
    }
   ],
   "source": [
    "# retain columns with correlation factors outside -.1 to .1 as features \n",
    "feature_list = corr_factors.loc[abs(corr_factors) >= .1].index.tolist()\n",
    "\n",
    "feature_list"
   ]
  },
  {
   "cell_type": "code",
   "execution_count": 50,
   "id": "09be01e9",
   "metadata": {},
   "outputs": [
    {
     "name": "stdout",
     "output_type": "stream",
     "text": [
      "<class 'pandas.core.frame.DataFrame'>\n",
      "Int64Index: 33956 entries, 21171 to 71784\n",
      "Data columns (total 22 columns):\n",
      " #   Column              Non-Null Count  Dtype  \n",
      "---  ------              --------------  -----  \n",
      " 0   gas                 33956 non-null  uint8  \n",
      " 1   100k-150k           33956 non-null  uint8  \n",
      " 2   150k-200k           33956 non-null  uint8  \n",
      " 3   fwd                 33956 non-null  uint8  \n",
      " 4   automatic           33956 non-null  uint8  \n",
      " 5   sedan               33956 non-null  uint8  \n",
      " 6   200k-250k           33956 non-null  uint8  \n",
      " 7   fair                33956 non-null  uint8  \n",
      " 8   honda               33956 non-null  uint8  \n",
      " 9   other_type          33956 non-null  uint8  \n",
      " 10  ram                 33956 non-null  uint8  \n",
      " 11  good                33956 non-null  uint8  \n",
      " 12  other_fuel          33956 non-null  uint8  \n",
      " 13    0-010k            33956 non-null  uint8  \n",
      " 14  diesel              33956 non-null  uint8  \n",
      " 15  4wd                 33956 non-null  uint8  \n",
      " 16   25k-50k            33956 non-null  uint8  \n",
      " 17   10k-25k            33956 non-null  uint8  \n",
      " 18  other_transmission  33956 non-null  uint8  \n",
      " 19  pickup              33956 non-null  uint8  \n",
      " 20  year                33956 non-null  int16  \n",
      " 21  price               33956 non-null  float64\n",
      "dtypes: float64(1), int16(1), uint8(20)\n",
      "memory usage: 1.2 MB\n"
     ]
    }
   ],
   "source": [
    "# restrict to relevant features\n",
    "df_model = df_model[feature_list].copy()\n",
    "df_model.info()"
   ]
  },
  {
   "cell_type": "code",
   "execution_count": 51,
   "id": "b5ef608a",
   "metadata": {},
   "outputs": [
    {
     "data": {
      "image/png": "[encoded data removed]",
      "text/plain": [
       "<Figure size 1440x1080 with 25 Axes>"
      ]
     },
     "metadata": {
      "needs_background": "light"
     },
     "output_type": "display_data"
    }
   ],
   "source": [
    "# distribution by feature \n",
    "fig = df_model.hist(bins=10, figsize=(20,15))"
   ]
  },
  {
   "cell_type": "code",
   "execution_count": 52,
   "id": "c19810a0",
   "metadata": {},
   "outputs": [
    {
     "data": {
      "text/html": [
       "<div>\n",
       "<style scoped>\n",
       "    .dataframe tbody tr th:only-of-type {\n",
       "        vertical-align: middle;\n",
       "    }\n",
       "\n",
       "    .dataframe tbody tr th {\n",
       "        vertical-align: top;\n",
       "    }\n",
       "\n",
       "    .dataframe thead th {\n",
       "        text-align: right;\n",
       "    }\n",
       "</style>\n",
       "<table border=\"1\" class=\"dataframe\">\n",
       "  <thead>\n",
       "    <tr style=\"text-align: right;\">\n",
       "      <th></th>\n",
       "      <th>gas</th>\n",
       "      <th>100k-150k</th>\n",
       "      <th>150k-200k</th>\n",
       "      <th>fwd</th>\n",
       "      <th>automatic</th>\n",
       "      <th>sedan</th>\n",
       "      <th>200k-250k</th>\n",
       "      <th>fair</th>\n",
       "      <th>honda</th>\n",
       "      <th>other_type</th>\n",
       "      <th>...</th>\n",
       "      <th>other_fuel</th>\n",
       "      <th>0-010k</th>\n",
       "      <th>diesel</th>\n",
       "      <th>4wd</th>\n",
       "      <th>25k-50k</th>\n",
       "      <th>10k-25k</th>\n",
       "      <th>other_transmission</th>\n",
       "      <th>pickup</th>\n",
       "      <th>year</th>\n",
       "      <th>price</th>\n",
       "    </tr>\n",
       "  </thead>\n",
       "  <tbody>\n",
       "    <tr>\n",
       "      <th>21171</th>\n",
       "      <td>1</td>\n",
       "      <td>0</td>\n",
       "      <td>0</td>\n",
       "      <td>1</td>\n",
       "      <td>0</td>\n",
       "      <td>1</td>\n",
       "      <td>0</td>\n",
       "      <td>0</td>\n",
       "      <td>0</td>\n",
       "      <td>0</td>\n",
       "      <td>...</td>\n",
       "      <td>0</td>\n",
       "      <td>0</td>\n",
       "      <td>0</td>\n",
       "      <td>0</td>\n",
       "      <td>0</td>\n",
       "      <td>1</td>\n",
       "      <td>1</td>\n",
       "      <td>0</td>\n",
       "      <td>2018</td>\n",
       "      <td>16990.00</td>\n",
       "    </tr>\n",
       "    <tr>\n",
       "      <th>21174</th>\n",
       "      <td>1</td>\n",
       "      <td>0</td>\n",
       "      <td>0</td>\n",
       "      <td>0</td>\n",
       "      <td>1</td>\n",
       "      <td>0</td>\n",
       "      <td>1</td>\n",
       "      <td>0</td>\n",
       "      <td>0</td>\n",
       "      <td>0</td>\n",
       "      <td>...</td>\n",
       "      <td>0</td>\n",
       "      <td>0</td>\n",
       "      <td>0</td>\n",
       "      <td>0</td>\n",
       "      <td>0</td>\n",
       "      <td>0</td>\n",
       "      <td>0</td>\n",
       "      <td>1</td>\n",
       "      <td>2003</td>\n",
       "      <td>11975.00</td>\n",
       "    </tr>\n",
       "    <tr>\n",
       "      <th>21176</th>\n",
       "      <td>0</td>\n",
       "      <td>0</td>\n",
       "      <td>0</td>\n",
       "      <td>0</td>\n",
       "      <td>1</td>\n",
       "      <td>0</td>\n",
       "      <td>1</td>\n",
       "      <td>0</td>\n",
       "      <td>0</td>\n",
       "      <td>0</td>\n",
       "      <td>...</td>\n",
       "      <td>0</td>\n",
       "      <td>0</td>\n",
       "      <td>1</td>\n",
       "      <td>1</td>\n",
       "      <td>0</td>\n",
       "      <td>0</td>\n",
       "      <td>0</td>\n",
       "      <td>0</td>\n",
       "      <td>2003</td>\n",
       "      <td>21950.00</td>\n",
       "    </tr>\n",
       "    <tr>\n",
       "      <th>21178</th>\n",
       "      <td>1</td>\n",
       "      <td>0</td>\n",
       "      <td>0</td>\n",
       "      <td>1</td>\n",
       "      <td>0</td>\n",
       "      <td>1</td>\n",
       "      <td>0</td>\n",
       "      <td>0</td>\n",
       "      <td>0</td>\n",
       "      <td>0</td>\n",
       "      <td>...</td>\n",
       "      <td>0</td>\n",
       "      <td>0</td>\n",
       "      <td>0</td>\n",
       "      <td>0</td>\n",
       "      <td>0</td>\n",
       "      <td>1</td>\n",
       "      <td>1</td>\n",
       "      <td>0</td>\n",
       "      <td>2018</td>\n",
       "      <td>27590.00</td>\n",
       "    </tr>\n",
       "    <tr>\n",
       "      <th>21179</th>\n",
       "      <td>1</td>\n",
       "      <td>0</td>\n",
       "      <td>0</td>\n",
       "      <td>1</td>\n",
       "      <td>0</td>\n",
       "      <td>0</td>\n",
       "      <td>0</td>\n",
       "      <td>0</td>\n",
       "      <td>0</td>\n",
       "      <td>1</td>\n",
       "      <td>...</td>\n",
       "      <td>0</td>\n",
       "      <td>1</td>\n",
       "      <td>0</td>\n",
       "      <td>0</td>\n",
       "      <td>0</td>\n",
       "      <td>0</td>\n",
       "      <td>1</td>\n",
       "      <td>0</td>\n",
       "      <td>2018</td>\n",
       "      <td>21990.00</td>\n",
       "    </tr>\n",
       "  </tbody>\n",
       "</table>\n",
       "<p>5 rows × 22 columns</p>\n",
       "</div>"
      ],
      "text/plain": [
       "       gas  100k-150k  150k-200k  fwd  automatic  sedan  200k-250k  fair  \\\n",
       "21171    1          0          0    1          0      1          0     0   \n",
       "21174    1          0          0    0          1      0          1     0   \n",
       "21176    0          0          0    0          1      0          1     0   \n",
       "21178    1          0          0    1          0      1          0     0   \n",
       "21179    1          0          0    1          0      0          0     0   \n",
       "\n",
       "       honda  other_type  ...  other_fuel    0-010k  diesel  4wd   25k-50k  \\\n",
       "21171      0           0  ...           0         0       0    0         0   \n",
       "21174      0           0  ...           0         0       0    0         0   \n",
       "21176      0           0  ...           0         0       1    1         0   \n",
       "21178      0           0  ...           0         0       0    0         0   \n",
       "21179      0           1  ...           0         1       0    0         0   \n",
       "\n",
       "        10k-25k  other_transmission  pickup  year    price  \n",
       "21171         1                   1       0  2018 16990.00  \n",
       "21174         0                   0       1  2003 11975.00  \n",
       "21176         0                   0       0  2003 21950.00  \n",
       "21178         1                   1       0  2018 27590.00  \n",
       "21179         0                   1       0  2018 21990.00  \n",
       "\n",
       "[5 rows x 22 columns]"
      ]
     },
     "execution_count": 52,
     "metadata": {},
     "output_type": "execute_result"
    }
   ],
   "source": [
    "df_model.reset_index\n",
    "df_model.head()"
   ]
  },
  {
   "cell_type": "code",
   "execution_count": 53,
   "id": "ce3b0468",
   "metadata": {},
   "outputs": [
    {
     "data": {
      "text/html": [
       "<div>\n",
       "<style scoped>\n",
       "    .dataframe tbody tr th:only-of-type {\n",
       "        vertical-align: middle;\n",
       "    }\n",
       "\n",
       "    .dataframe tbody tr th {\n",
       "        vertical-align: top;\n",
       "    }\n",
       "\n",
       "    .dataframe thead th {\n",
       "        text-align: right;\n",
       "    }\n",
       "</style>\n",
       "<table border=\"1\" class=\"dataframe\">\n",
       "  <thead>\n",
       "    <tr style=\"text-align: right;\">\n",
       "      <th></th>\n",
       "      <th>gas</th>\n",
       "      <th>100k-150k</th>\n",
       "      <th>150k-200k</th>\n",
       "      <th>fwd</th>\n",
       "      <th>automatic</th>\n",
       "      <th>sedan</th>\n",
       "      <th>200k-250k</th>\n",
       "      <th>fair</th>\n",
       "      <th>honda</th>\n",
       "      <th>other_type</th>\n",
       "      <th>...</th>\n",
       "      <th>other_fuel</th>\n",
       "      <th>0-010k</th>\n",
       "      <th>diesel</th>\n",
       "      <th>4wd</th>\n",
       "      <th>25k-50k</th>\n",
       "      <th>10k-25k</th>\n",
       "      <th>other_transmission</th>\n",
       "      <th>pickup</th>\n",
       "      <th>year</th>\n",
       "      <th>price</th>\n",
       "    </tr>\n",
       "  </thead>\n",
       "  <tbody>\n",
       "    <tr>\n",
       "      <th>58650</th>\n",
       "      <td>1</td>\n",
       "      <td>0</td>\n",
       "      <td>0</td>\n",
       "      <td>0</td>\n",
       "      <td>1</td>\n",
       "      <td>0</td>\n",
       "      <td>0</td>\n",
       "      <td>0</td>\n",
       "      <td>0</td>\n",
       "      <td>0</td>\n",
       "      <td>...</td>\n",
       "      <td>0</td>\n",
       "      <td>0</td>\n",
       "      <td>0</td>\n",
       "      <td>1</td>\n",
       "      <td>1</td>\n",
       "      <td>0</td>\n",
       "      <td>0</td>\n",
       "      <td>1</td>\n",
       "      <td>2016</td>\n",
       "      <td>29777.00</td>\n",
       "    </tr>\n",
       "    <tr>\n",
       "      <th>66576</th>\n",
       "      <td>1</td>\n",
       "      <td>0</td>\n",
       "      <td>1</td>\n",
       "      <td>0</td>\n",
       "      <td>1</td>\n",
       "      <td>1</td>\n",
       "      <td>0</td>\n",
       "      <td>0</td>\n",
       "      <td>0</td>\n",
       "      <td>0</td>\n",
       "      <td>...</td>\n",
       "      <td>0</td>\n",
       "      <td>0</td>\n",
       "      <td>0</td>\n",
       "      <td>0</td>\n",
       "      <td>0</td>\n",
       "      <td>0</td>\n",
       "      <td>0</td>\n",
       "      <td>0</td>\n",
       "      <td>2011</td>\n",
       "      <td>10999.00</td>\n",
       "    </tr>\n",
       "    <tr>\n",
       "      <th>57153</th>\n",
       "      <td>1</td>\n",
       "      <td>0</td>\n",
       "      <td>0</td>\n",
       "      <td>0</td>\n",
       "      <td>0</td>\n",
       "      <td>0</td>\n",
       "      <td>0</td>\n",
       "      <td>0</td>\n",
       "      <td>0</td>\n",
       "      <td>1</td>\n",
       "      <td>...</td>\n",
       "      <td>0</td>\n",
       "      <td>0</td>\n",
       "      <td>0</td>\n",
       "      <td>1</td>\n",
       "      <td>0</td>\n",
       "      <td>0</td>\n",
       "      <td>1</td>\n",
       "      <td>0</td>\n",
       "      <td>2016</td>\n",
       "      <td>33590.00</td>\n",
       "    </tr>\n",
       "    <tr>\n",
       "      <th>45006</th>\n",
       "      <td>1</td>\n",
       "      <td>0</td>\n",
       "      <td>0</td>\n",
       "      <td>1</td>\n",
       "      <td>1</td>\n",
       "      <td>1</td>\n",
       "      <td>0</td>\n",
       "      <td>0</td>\n",
       "      <td>0</td>\n",
       "      <td>0</td>\n",
       "      <td>...</td>\n",
       "      <td>0</td>\n",
       "      <td>0</td>\n",
       "      <td>0</td>\n",
       "      <td>0</td>\n",
       "      <td>0</td>\n",
       "      <td>0</td>\n",
       "      <td>0</td>\n",
       "      <td>0</td>\n",
       "      <td>2016</td>\n",
       "      <td>8995.00</td>\n",
       "    </tr>\n",
       "    <tr>\n",
       "      <th>40854</th>\n",
       "      <td>0</td>\n",
       "      <td>0</td>\n",
       "      <td>0</td>\n",
       "      <td>1</td>\n",
       "      <td>0</td>\n",
       "      <td>0</td>\n",
       "      <td>0</td>\n",
       "      <td>0</td>\n",
       "      <td>0</td>\n",
       "      <td>0</td>\n",
       "      <td>...</td>\n",
       "      <td>1</td>\n",
       "      <td>0</td>\n",
       "      <td>0</td>\n",
       "      <td>0</td>\n",
       "      <td>0</td>\n",
       "      <td>0</td>\n",
       "      <td>1</td>\n",
       "      <td>0</td>\n",
       "      <td>2012</td>\n",
       "      <td>14590.00</td>\n",
       "    </tr>\n",
       "    <tr>\n",
       "      <th>...</th>\n",
       "      <td>...</td>\n",
       "      <td>...</td>\n",
       "      <td>...</td>\n",
       "      <td>...</td>\n",
       "      <td>...</td>\n",
       "      <td>...</td>\n",
       "      <td>...</td>\n",
       "      <td>...</td>\n",
       "      <td>...</td>\n",
       "      <td>...</td>\n",
       "      <td>...</td>\n",
       "      <td>...</td>\n",
       "      <td>...</td>\n",
       "      <td>...</td>\n",
       "      <td>...</td>\n",
       "      <td>...</td>\n",
       "      <td>...</td>\n",
       "      <td>...</td>\n",
       "      <td>...</td>\n",
       "      <td>...</td>\n",
       "      <td>...</td>\n",
       "    </tr>\n",
       "    <tr>\n",
       "      <th>67574</th>\n",
       "      <td>1</td>\n",
       "      <td>1</td>\n",
       "      <td>0</td>\n",
       "      <td>1</td>\n",
       "      <td>0</td>\n",
       "      <td>0</td>\n",
       "      <td>0</td>\n",
       "      <td>0</td>\n",
       "      <td>0</td>\n",
       "      <td>0</td>\n",
       "      <td>...</td>\n",
       "      <td>0</td>\n",
       "      <td>0</td>\n",
       "      <td>0</td>\n",
       "      <td>0</td>\n",
       "      <td>0</td>\n",
       "      <td>0</td>\n",
       "      <td>1</td>\n",
       "      <td>0</td>\n",
       "      <td>2014</td>\n",
       "      <td>8999.00</td>\n",
       "    </tr>\n",
       "    <tr>\n",
       "      <th>45378</th>\n",
       "      <td>1</td>\n",
       "      <td>1</td>\n",
       "      <td>0</td>\n",
       "      <td>0</td>\n",
       "      <td>0</td>\n",
       "      <td>0</td>\n",
       "      <td>0</td>\n",
       "      <td>0</td>\n",
       "      <td>0</td>\n",
       "      <td>0</td>\n",
       "      <td>...</td>\n",
       "      <td>0</td>\n",
       "      <td>0</td>\n",
       "      <td>0</td>\n",
       "      <td>1</td>\n",
       "      <td>0</td>\n",
       "      <td>0</td>\n",
       "      <td>0</td>\n",
       "      <td>0</td>\n",
       "      <td>2005</td>\n",
       "      <td>14900.00</td>\n",
       "    </tr>\n",
       "    <tr>\n",
       "      <th>26119</th>\n",
       "      <td>1</td>\n",
       "      <td>1</td>\n",
       "      <td>0</td>\n",
       "      <td>1</td>\n",
       "      <td>1</td>\n",
       "      <td>1</td>\n",
       "      <td>0</td>\n",
       "      <td>0</td>\n",
       "      <td>0</td>\n",
       "      <td>0</td>\n",
       "      <td>...</td>\n",
       "      <td>0</td>\n",
       "      <td>0</td>\n",
       "      <td>0</td>\n",
       "      <td>0</td>\n",
       "      <td>0</td>\n",
       "      <td>0</td>\n",
       "      <td>0</td>\n",
       "      <td>0</td>\n",
       "      <td>2014</td>\n",
       "      <td>14700.00</td>\n",
       "    </tr>\n",
       "    <tr>\n",
       "      <th>24015</th>\n",
       "      <td>1</td>\n",
       "      <td>1</td>\n",
       "      <td>0</td>\n",
       "      <td>1</td>\n",
       "      <td>1</td>\n",
       "      <td>0</td>\n",
       "      <td>0</td>\n",
       "      <td>0</td>\n",
       "      <td>0</td>\n",
       "      <td>0</td>\n",
       "      <td>...</td>\n",
       "      <td>0</td>\n",
       "      <td>0</td>\n",
       "      <td>0</td>\n",
       "      <td>0</td>\n",
       "      <td>0</td>\n",
       "      <td>0</td>\n",
       "      <td>0</td>\n",
       "      <td>0</td>\n",
       "      <td>2004</td>\n",
       "      <td>15999.00</td>\n",
       "    </tr>\n",
       "    <tr>\n",
       "      <th>68803</th>\n",
       "      <td>1</td>\n",
       "      <td>0</td>\n",
       "      <td>0</td>\n",
       "      <td>0</td>\n",
       "      <td>1</td>\n",
       "      <td>0</td>\n",
       "      <td>0</td>\n",
       "      <td>0</td>\n",
       "      <td>0</td>\n",
       "      <td>0</td>\n",
       "      <td>...</td>\n",
       "      <td>0</td>\n",
       "      <td>0</td>\n",
       "      <td>0</td>\n",
       "      <td>1</td>\n",
       "      <td>0</td>\n",
       "      <td>0</td>\n",
       "      <td>0</td>\n",
       "      <td>1</td>\n",
       "      <td>1974</td>\n",
       "      <td>10750.00</td>\n",
       "    </tr>\n",
       "  </tbody>\n",
       "</table>\n",
       "<p>15 rows × 22 columns</p>\n",
       "</div>"
      ],
      "text/plain": [
       "       gas  100k-150k  150k-200k  fwd  automatic  sedan  200k-250k  fair  \\\n",
       "58650    1          0          0    0          1      0          0     0   \n",
       "66576    1          0          1    0          1      1          0     0   \n",
       "57153    1          0          0    0          0      0          0     0   \n",
       "45006    1          0          0    1          1      1          0     0   \n",
       "40854    0          0          0    1          0      0          0     0   \n",
       "...    ...        ...        ...  ...        ...    ...        ...   ...   \n",
       "67574    1          1          0    1          0      0          0     0   \n",
       "45378    1          1          0    0          0      0          0     0   \n",
       "26119    1          1          0    1          1      1          0     0   \n",
       "24015    1          1          0    1          1      0          0     0   \n",
       "68803    1          0          0    0          1      0          0     0   \n",
       "\n",
       "       honda  other_type  ...  other_fuel    0-010k  diesel  4wd   25k-50k  \\\n",
       "58650      0           0  ...           0         0       0    1         1   \n",
       "66576      0           0  ...           0         0       0    0         0   \n",
       "57153      0           1  ...           0         0       0    1         0   \n",
       "45006      0           0  ...           0         0       0    0         0   \n",
       "40854      0           0  ...           1         0       0    0         0   \n",
       "...      ...         ...  ...         ...       ...     ...  ...       ...   \n",
       "67574      0           0  ...           0         0       0    0         0   \n",
       "45378      0           0  ...           0         0       0    1         0   \n",
       "26119      0           0  ...           0         0       0    0         0   \n",
       "24015      0           0  ...           0         0       0    0         0   \n",
       "68803      0           0  ...           0         0       0    1         0   \n",
       "\n",
       "        10k-25k  other_transmission  pickup  year    price  \n",
       "58650         0                   0       1  2016 29777.00  \n",
       "66576         0                   0       0  2011 10999.00  \n",
       "57153         0                   1       0  2016 33590.00  \n",
       "45006         0                   0       0  2016  8995.00  \n",
       "40854         0                   1       0  2012 14590.00  \n",
       "...         ...                 ...     ...   ...      ...  \n",
       "67574         0                   1       0  2014  8999.00  \n",
       "45378         0                   0       0  2005 14900.00  \n",
       "26119         0                   0       0  2014 14700.00  \n",
       "24015         0                   0       0  2004 15999.00  \n",
       "68803         0                   0       1  1974 10750.00  \n",
       "\n",
       "[15 rows x 22 columns]"
      ]
     },
     "execution_count": 53,
     "metadata": {},
     "output_type": "execute_result"
    }
   ],
   "source": [
    "df_model.sample(15)"
   ]
  },
  {
   "cell_type": "code",
   "execution_count": 54,
   "id": "26be6e78",
   "metadata": {
    "scrolled": true
   },
   "outputs": [
    {
     "data": {
      "text/plain": [
       "0"
      ]
     },
     "execution_count": 54,
     "metadata": {},
     "output_type": "execute_result"
    }
   ],
   "source": [
    "df_model.isna().sum().sum()"
   ]
  },
  {
   "cell_type": "markdown",
   "id": "e7318f61",
   "metadata": {},
   "source": [
    "### Model Building"
   ]
  },
  {
   "cell_type": "code",
   "execution_count": 55,
   "id": "3608d72c",
   "metadata": {},
   "outputs": [
    {
     "data": {
      "text/plain": [
       "(33956,)"
      ]
     },
     "execution_count": 55,
     "metadata": {},
     "output_type": "execute_result"
    }
   ],
   "source": [
    "# declare target variable\n",
    "y = df_model['price']\n",
    "y.shape"
   ]
  },
  {
   "cell_type": "code",
   "execution_count": 56,
   "id": "b073201d",
   "metadata": {},
   "outputs": [
    {
     "data": {
      "text/plain": [
       "(33956, 21)"
      ]
     },
     "execution_count": 56,
     "metadata": {},
     "output_type": "execute_result"
    }
   ],
   "source": [
    "X = df_model.drop(['price'], axis=1)\n",
    "X.shape"
   ]
  },
  {
   "cell_type": "code",
   "execution_count": 57,
   "id": "1fbd3795",
   "metadata": {},
   "outputs": [
    {
     "data": {
      "text/plain": [
       "['gas',\n",
       " '100k-150k',\n",
       " '150k-200k',\n",
       " 'fwd',\n",
       " 'automatic',\n",
       " 'sedan',\n",
       " '200k-250k',\n",
       " 'fair',\n",
       " 'honda',\n",
       " 'other_type',\n",
       " 'ram',\n",
       " 'good',\n",
       " 'other_fuel',\n",
       " '  0-010k',\n",
       " 'diesel',\n",
       " '4wd',\n",
       " ' 25k-50k',\n",
       " ' 10k-25k',\n",
       " 'other_transmission',\n",
       " 'pickup',\n",
       " 'year']"
      ]
     },
     "execution_count": 57,
     "metadata": {},
     "output_type": "execute_result"
    }
   ],
   "source": [
    "list(X.columns)"
   ]
  },
  {
   "cell_type": "code",
   "execution_count": 58,
   "id": "233a91f9",
   "metadata": {},
   "outputs": [],
   "source": [
    "# train-test split\n",
    "X_train, X_test, y_train, y_test = train_test_split(X, y, test_size = .25, random_state = 30)"
   ]
  },
  {
   "cell_type": "markdown",
   "id": "24717907",
   "metadata": {},
   "source": [
    "### Linear regression model"
   ]
  },
  {
   "cell_type": "code",
   "execution_count": 59,
   "id": "0a8da550",
   "metadata": {},
   "outputs": [],
   "source": [
    "# Instantiate the SKlearn algorithm\n",
    "# https://scikit-learn.org/stable/modules/generated/sklearn.linear_model.LinearRegression.html\n",
    "mymodel = LinearRegression(fit_intercept=True, \n",
    "#                            normalize=False, # deprecated\n",
    "                           copy_X=True, \n",
    "                           n_jobs=None, \n",
    "                           positive=False)"
   ]
  },
  {
   "cell_type": "code",
   "execution_count": 60,
   "id": "fdcc52c6",
   "metadata": {},
   "outputs": [
    {
     "data": {
      "text/plain": [
       "LinearRegression()"
      ]
     },
     "execution_count": 60,
     "metadata": {},
     "output_type": "execute_result"
    }
   ],
   "source": [
    "# Fit the model to the training dataset\n",
    "mymodel.fit(X_train, y_train)"
   ]
  },
  {
   "cell_type": "code",
   "execution_count": 61,
   "id": "dd1b5748",
   "metadata": {},
   "outputs": [
    {
     "data": {
      "text/plain": [
       "-455904.52509993606"
      ]
     },
     "execution_count": 61,
     "metadata": {},
     "output_type": "execute_result"
    }
   ],
   "source": [
    "# what is the intercept? (the value when all predictors are zero)\n",
    "mymodel.intercept_"
   ]
  },
  {
   "cell_type": "code",
   "execution_count": 62,
   "id": "0d469b09",
   "metadata": {},
   "outputs": [
    {
     "data": {
      "text/plain": [
       "[1206.524841881094,\n",
       " -5328.567356322737,\n",
       " -8388.956257931755,\n",
       " -4604.431858123659,\n",
       " 397.3097258338783,\n",
       " -2127.7428177918864,\n",
       " -10226.96459157207,\n",
       " -6567.205494203253,\n",
       " -391.8923468508713,\n",
       " 4021.3628948208952,\n",
       " -167.42906033016746,\n",
       " -1052.4753701198345,\n",
       " 4288.053058444601,\n",
       " 12355.40614055657,\n",
       " 11697.949756776563,\n",
       " 2494.1128097533333,\n",
       " 6462.403062965344,\n",
       " 9520.23928664581,\n",
       " 1336.1929534715086,\n",
       " 7100.340355415625,\n",
       " 235.67980620625846]"
      ]
     },
     "execution_count": 62,
     "metadata": {},
     "output_type": "execute_result"
    }
   ],
   "source": [
    "# what are the coefficients?\n",
    "pd.options.display.float_format = '{:.5f}'.format\n",
    "list(mymodel.coef_)"
   ]
  },
  {
   "cell_type": "markdown",
   "id": "a0566f4b",
   "metadata": {},
   "source": [
    "### Feature Scaling"
   ]
  },
  {
   "cell_type": "code",
   "execution_count": 63,
   "id": "d69350ec",
   "metadata": {},
   "outputs": [
    {
     "data": {
      "text/plain": [
       "Index(['gas', '100k-150k', '150k-200k', 'fwd', 'automatic', 'sedan',\n",
       "       '200k-250k', 'fair', 'honda', 'other_type', 'ram', 'good', 'other_fuel',\n",
       "       '  0-010k', 'diesel', '4wd', ' 25k-50k', ' 10k-25k',\n",
       "       'other_transmission', 'pickup', 'year'],\n",
       "      dtype='object')"
      ]
     },
     "execution_count": 63,
     "metadata": {},
     "output_type": "execute_result"
    }
   ],
   "source": [
    "X_train.describe().columns"
   ]
  },
  {
   "cell_type": "markdown",
   "id": "23bfd16a",
   "metadata": {},
   "source": [
    "Standardization"
   ]
  },
  {
   "cell_type": "code",
   "execution_count": 64,
   "id": "f81971a1",
   "metadata": {},
   "outputs": [
    {
     "data": {
      "text/plain": [
       "array([ 0.43664488, -0.56430548, -0.34029275,  0.86509344,  0.5617047 ,\n",
       "       -0.65844446, -0.17857259, -0.12224975, -0.26870885, -0.2746254 ,\n",
       "       -0.19140144, -0.69408895, -0.29564155, -0.23926643, -0.22786113,\n",
       "       -0.56285393, -0.4425589 , -0.33087736, -0.47163074, -0.3848286 ,\n",
       "       -0.63894442])"
      ]
     },
     "execution_count": 64,
     "metadata": {},
     "output_type": "execute_result"
    }
   ],
   "source": [
    "std_scaler = StandardScaler()\n",
    "std_scaler = std_scaler.fit(X_train.values)\n",
    "X_train_scaled = std_scaler.transform(X_train.values)\n",
    "X_train_scaled[0]"
   ]
  },
  {
   "cell_type": "code",
   "execution_count": 65,
   "id": "699797b2",
   "metadata": {},
   "outputs": [
    {
     "data": {
      "text/plain": [
       "array([ 0.43664488,  1.77208984, -0.34029275, -1.1559445 ,  0.5617047 ,\n",
       "       -0.65844446, -0.17857259, -0.12224975, -0.26870885, -0.2746254 ,\n",
       "       -0.19140144, -0.69408895, -0.29564155, -0.23926643, -0.22786113,\n",
       "        1.77665988, -0.4425589 , -0.33087736, -0.47163074,  2.59855949,\n",
       "       -0.63894442])"
      ]
     },
     "execution_count": 65,
     "metadata": {},
     "output_type": "execute_result"
    }
   ],
   "source": [
    "X_test_scaled = std_scaler.transform(X_test.values)\n",
    "X_test_scaled[0]"
   ]
  },
  {
   "cell_type": "markdown",
   "id": "10185d46",
   "metadata": {},
   "source": [
    "### Select and train a model\n",
    "\n",
    "#### Linear regression"
   ]
  },
  {
   "cell_type": "code",
   "execution_count": 66,
   "id": "72f57201",
   "metadata": {},
   "outputs": [
    {
     "data": {
      "text/plain": [
       "18909.853182549992"
      ]
     },
     "execution_count": 66,
     "metadata": {},
     "output_type": "execute_result"
    }
   ],
   "source": [
    "# Create a local instance of the sklearn class\n",
    "lin_reg = LinearRegression(fit_intercept=True)\n",
    "lin_reg.fit(X_train_scaled, y_train)\n",
    "lin_reg.intercept_"
   ]
  },
  {
   "cell_type": "code",
   "execution_count": 67,
   "id": "de5daf65",
   "metadata": {},
   "outputs": [
    {
     "data": {
      "text/plain": [
       "array([  442.46337831, -2280.67884129, -2558.43626527, -2278.25107818,\n",
       "         169.64551488,  -977.29507004, -1769.81922284,  -791.01749875,\n",
       "         -98.21349105,  1026.9190828 ,   -30.91365595,  -493.00277054,\n",
       "        1165.82866361,  2796.158218  ,  2533.94390785,  1066.08167836,\n",
       "        2391.58250259,  2839.19687908,   515.5197528 ,  2379.95867578,\n",
       "        2061.56133493])"
      ]
     },
     "execution_count": 67,
     "metadata": {},
     "output_type": "execute_result"
    }
   ],
   "source": [
    "# scaled features relative importance - as all are now on a comparable scale \n",
    "lin_reg.coef_"
   ]
  },
  {
   "cell_type": "code",
   "execution_count": 68,
   "id": "0c2a22bd",
   "metadata": {},
   "outputs": [
    {
     "data": {
      "text/html": [
       "<div>\n",
       "<style scoped>\n",
       "    .dataframe tbody tr th:only-of-type {\n",
       "        vertical-align: middle;\n",
       "    }\n",
       "\n",
       "    .dataframe tbody tr th {\n",
       "        vertical-align: top;\n",
       "    }\n",
       "\n",
       "    .dataframe thead th {\n",
       "        text-align: right;\n",
       "    }\n",
       "</style>\n",
       "<table border=\"1\" class=\"dataframe\">\n",
       "  <thead>\n",
       "    <tr style=\"text-align: right;\">\n",
       "      <th></th>\n",
       "      <th>coeffs</th>\n",
       "    </tr>\n",
       "    <tr>\n",
       "      <th>features</th>\n",
       "      <th></th>\n",
       "    </tr>\n",
       "  </thead>\n",
       "  <tbody>\n",
       "    <tr>\n",
       "      <th>150k-200k</th>\n",
       "      <td>-2558.43627</td>\n",
       "    </tr>\n",
       "    <tr>\n",
       "      <th>100k-150k</th>\n",
       "      <td>-2280.67884</td>\n",
       "    </tr>\n",
       "    <tr>\n",
       "      <th>fwd</th>\n",
       "      <td>-2278.25108</td>\n",
       "    </tr>\n",
       "    <tr>\n",
       "      <th>200k-250k</th>\n",
       "      <td>-1769.81922</td>\n",
       "    </tr>\n",
       "    <tr>\n",
       "      <th>sedan</th>\n",
       "      <td>-977.29507</td>\n",
       "    </tr>\n",
       "    <tr>\n",
       "      <th>...</th>\n",
       "      <td>...</td>\n",
       "    </tr>\n",
       "    <tr>\n",
       "      <th>pickup</th>\n",
       "      <td>2379.95868</td>\n",
       "    </tr>\n",
       "    <tr>\n",
       "      <th>25k-50k</th>\n",
       "      <td>2391.58250</td>\n",
       "    </tr>\n",
       "    <tr>\n",
       "      <th>diesel</th>\n",
       "      <td>2533.94391</td>\n",
       "    </tr>\n",
       "    <tr>\n",
       "      <th>0-010k</th>\n",
       "      <td>2796.15822</td>\n",
       "    </tr>\n",
       "    <tr>\n",
       "      <th>10k-25k</th>\n",
       "      <td>2839.19688</td>\n",
       "    </tr>\n",
       "  </tbody>\n",
       "</table>\n",
       "<p>21 rows × 1 columns</p>\n",
       "</div>"
      ],
      "text/plain": [
       "               coeffs\n",
       "features             \n",
       "150k-200k -2558.43627\n",
       "100k-150k -2280.67884\n",
       "fwd       -2278.25108\n",
       "200k-250k -1769.81922\n",
       "sedan      -977.29507\n",
       "...               ...\n",
       "pickup     2379.95868\n",
       " 25k-50k   2391.58250\n",
       "diesel     2533.94391\n",
       "  0-010k   2796.15822\n",
       " 10k-25k   2839.19688\n",
       "\n",
       "[21 rows x 1 columns]"
      ]
     },
     "execution_count": 68,
     "metadata": {},
     "output_type": "execute_result"
    }
   ],
   "source": [
    "# let's take a look at the results\n",
    "feature_imp = pd.DataFrame(list(zip(X_test.columns, lin_reg.coef_)), columns=['features', 'coeffs'])\n",
    "feature_imp=feature_imp.set_index('features')\n",
    "feature_imp=feature_imp.sort_values('coeffs')\n",
    "feature_imp"
   ]
  },
  {
   "cell_type": "code",
   "execution_count": 69,
   "id": "a0459e7b",
   "metadata": {},
   "outputs": [
    {
     "data": {
      "text/html": [
       "<div>\n",
       "<style scoped>\n",
       "    .dataframe tbody tr th:only-of-type {\n",
       "        vertical-align: middle;\n",
       "    }\n",
       "\n",
       "    .dataframe tbody tr th {\n",
       "        vertical-align: top;\n",
       "    }\n",
       "\n",
       "    .dataframe thead th {\n",
       "        text-align: right;\n",
       "    }\n",
       "</style>\n",
       "<table border=\"1\" class=\"dataframe\">\n",
       "  <thead>\n",
       "    <tr style=\"text-align: right;\">\n",
       "      <th></th>\n",
       "      <th>count</th>\n",
       "      <th>mean</th>\n",
       "      <th>std</th>\n",
       "      <th>min</th>\n",
       "      <th>25%</th>\n",
       "      <th>50%</th>\n",
       "      <th>75%</th>\n",
       "      <th>max</th>\n",
       "    </tr>\n",
       "  </thead>\n",
       "  <tbody>\n",
       "    <tr>\n",
       "      <th>coeffs</th>\n",
       "      <td>21.00000</td>\n",
       "      <td>386.24913</td>\n",
       "      <td>1742.78759</td>\n",
       "      <td>-2558.43627</td>\n",
       "      <td>-791.01750</td>\n",
       "      <td>442.46338</td>\n",
       "      <td>2061.56133</td>\n",
       "      <td>2839.19688</td>\n",
       "    </tr>\n",
       "  </tbody>\n",
       "</table>\n",
       "</div>"
      ],
      "text/plain": [
       "          count      mean        std         min        25%       50%  \\\n",
       "coeffs 21.00000 386.24913 1742.78759 -2558.43627 -791.01750 442.46338   \n",
       "\n",
       "              75%        max  \n",
       "coeffs 2061.56133 2839.19688  "
      ]
     },
     "execution_count": 69,
     "metadata": {},
     "output_type": "execute_result"
    }
   ],
   "source": [
    "feature_imp.describe().T"
   ]
  },
  {
   "cell_type": "code",
   "execution_count": 108,
   "id": "48e12797",
   "metadata": {},
   "outputs": [
    {
     "data": {
      "application/vnd.plotly.v1+json": {
       "config": {
        "plotlyServerURL": "https://plot.ly"
       },
       "data": [
        {
         "type": "bar",
         "x": [
          "150k-200k",
          "100k-150k",
          "fwd",
          "200k-250k",
          "sedan",
          "fair",
          "good",
          "honda",
          "ram",
          "automatic",
          "gas",
          "other_transmission",
          "other_type",
          "4wd",
          "other_fuel",
          "year",
          "pickup",
          " 25k-50k",
          "diesel",
          "  0-010k",
          " 10k-25k"
         ],
         "y": [
          -2558.4362652662644,
          -2280.6788412913247,
          -2278.251078178676,
          -1769.819222839014,
          -977.2950700432493,
          -791.0174987479754,
          -493.0027705448495,
          -98.21349104841116,
          -30.91365594867525,
          169.6455148829993,
          442.4633783071757,
          515.5197528004378,
          1026.9190827972413,
          1066.0816783550024,
          1165.8286636059615,
          2061.5613349326863,
          2379.958675783332,
          2391.5825025905738,
          2533.9439078472788,
          2796.158217999485,
          2839.1968790824976
         ]
        }
       ],
       "layout": {
        "template": {
         "data": {
          "bar": [
           {
            "error_x": {
             "color": "#2a3f5f"
            },
            "error_y": {
             "color": "#2a3f5f"
            },
            "marker": {
             "line": {
              "color": "#E5ECF6",
              "width": 0.5
             },
             "pattern": {
              "fillmode": "overlay",
              "size": 10,
              "solidity": 0.2
             }
            },
            "type": "bar"
           }
          ],
          "barpolar": [
           {
            "marker": {
             "line": {
              "color": "#E5ECF6",
              "width": 0.5
             },
             "pattern": {
              "fillmode": "overlay",
              "size": 10,
              "solidity": 0.2
             }
            },
            "type": "barpolar"
           }
          ],
          "carpet": [
           {
            "aaxis": {
             "endlinecolor": "#2a3f5f",
             "gridcolor": "white",
             "linecolor": "white",
             "minorgridcolor": "white",
             "startlinecolor": "#2a3f5f"
            },
            "baxis": {
             "endlinecolor": "#2a3f5f",
             "gridcolor": "white",
             "linecolor": "white",
             "minorgridcolor": "white",
             "startlinecolor": "#2a3f5f"
            },
            "type": "carpet"
           }
          ],
          "choropleth": [
           {
            "colorbar": {
             "outlinewidth": 0,
             "ticks": ""
            },
            "type": "choropleth"
           }
          ],
          "contour": [
           {
            "colorbar": {
             "outlinewidth": 0,
             "ticks": ""
            },
            "colorscale": [
             [
              0,
              "#0d0887"
             ],
             [
              0.1111111111111111,
              "#46039f"
             ],
             [
              0.2222222222222222,
              "#7201a8"
             ],
             [
              0.3333333333333333,
              "#9c179e"
             ],
             [
              0.4444444444444444,
              "#bd3786"
             ],
             [
              0.5555555555555556,
              "#d8576b"
             ],
             [
              0.6666666666666666,
              "#ed7953"
             ],
             [
              0.7777777777777778,
              "#fb9f3a"
             ],
             [
              0.8888888888888888,
              "#fdca26"
             ],
             [
              1,
              "#f0f921"
             ]
            ],
            "type": "contour"
           }
          ],
          "contourcarpet": [
           {
            "colorbar": {
             "outlinewidth": 0,
             "ticks": ""
            },
            "type": "contourcarpet"
           }
          ],
          "heatmap": [
           {
            "colorbar": {
             "outlinewidth": 0,
             "ticks": ""
            },
            "colorscale": [
             [
              0,
              "#0d0887"
             ],
             [
              0.1111111111111111,
              "#46039f"
             ],
             [
              0.2222222222222222,
              "#7201a8"
             ],
             [
              0.3333333333333333,
              "#9c179e"
             ],
             [
              0.4444444444444444,
              "#bd3786"
             ],
             [
              0.5555555555555556,
              "#d8576b"
             ],
             [
              0.6666666666666666,
              "#ed7953"
             ],
             [
              0.7777777777777778,
              "#fb9f3a"
             ],
             [
              0.8888888888888888,
              "#fdca26"
             ],
             [
              1,
              "#f0f921"
             ]
            ],
            "type": "heatmap"
           }
          ],
          "heatmapgl": [
           {
            "colorbar": {
             "outlinewidth": 0,
             "ticks": ""
            },
            "colorscale": [
             [
              0,
              "#0d0887"
             ],
             [
              0.1111111111111111,
              "#46039f"
             ],
             [
              0.2222222222222222,
              "#7201a8"
             ],
             [
              0.3333333333333333,
              "#9c179e"
             ],
             [
              0.4444444444444444,
              "#bd3786"
             ],
             [
              0.5555555555555556,
              "#d8576b"
             ],
             [
              0.6666666666666666,
              "#ed7953"
             ],
             [
              0.7777777777777778,
              "#fb9f3a"
             ],
             [
              0.8888888888888888,
              "#fdca26"
             ],
             [
              1,
              "#f0f921"
             ]
            ],
            "type": "heatmapgl"
           }
          ],
          "histogram": [
           {
            "marker": {
             "pattern": {
              "fillmode": "overlay",
              "size": 10,
              "solidity": 0.2
             }
            },
            "type": "histogram"
           }
          ],
          "histogram2d": [
           {
            "colorbar": {
             "outlinewidth": 0,
             "ticks": ""
            },
            "colorscale": [
             [
              0,
              "#0d0887"
             ],
             [
              0.1111111111111111,
              "#46039f"
             ],
             [
              0.2222222222222222,
              "#7201a8"
             ],
             [
              0.3333333333333333,
              "#9c179e"
             ],
             [
              0.4444444444444444,
              "#bd3786"
             ],
             [
              0.5555555555555556,
              "#d8576b"
             ],
             [
              0.6666666666666666,
              "#ed7953"
             ],
             [
              0.7777777777777778,
              "#fb9f3a"
             ],
             [
              0.8888888888888888,
              "#fdca26"
             ],
             [
              1,
              "#f0f921"
             ]
            ],
            "type": "histogram2d"
           }
          ],
          "histogram2dcontour": [
           {
            "colorbar": {
             "outlinewidth": 0,
             "ticks": ""
            },
            "colorscale": [
             [
              0,
              "#0d0887"
             ],
             [
              0.1111111111111111,
              "#46039f"
             ],
             [
              0.2222222222222222,
              "#7201a8"
             ],
             [
              0.3333333333333333,
              "#9c179e"
             ],
             [
              0.4444444444444444,
              "#bd3786"
             ],
             [
              0.5555555555555556,
              "#d8576b"
             ],
             [
              0.6666666666666666,
              "#ed7953"
             ],
             [
              0.7777777777777778,
              "#fb9f3a"
             ],
             [
              0.8888888888888888,
              "#fdca26"
             ],
             [
              1,
              "#f0f921"
             ]
            ],
            "type": "histogram2dcontour"
           }
          ],
          "mesh3d": [
           {
            "colorbar": {
             "outlinewidth": 0,
             "ticks": ""
            },
            "type": "mesh3d"
           }
          ],
          "parcoords": [
           {
            "line": {
             "colorbar": {
              "outlinewidth": 0,
              "ticks": ""
             }
            },
            "type": "parcoords"
           }
          ],
          "pie": [
           {
            "automargin": true,
            "type": "pie"
           }
          ],
          "scatter": [
           {
            "marker": {
             "colorbar": {
              "outlinewidth": 0,
              "ticks": ""
             }
            },
            "type": "scatter"
           }
          ],
          "scatter3d": [
           {
            "line": {
             "colorbar": {
              "outlinewidth": 0,
              "ticks": ""
             }
            },
            "marker": {
             "colorbar": {
              "outlinewidth": 0,
              "ticks": ""
             }
            },
            "type": "scatter3d"
           }
          ],
          "scattercarpet": [
           {
            "marker": {
             "colorbar": {
              "outlinewidth": 0,
              "ticks": ""
             }
            },
            "type": "scattercarpet"
           }
          ],
          "scattergeo": [
           {
            "marker": {
             "colorbar": {
              "outlinewidth": 0,
              "ticks": ""
             }
            },
            "type": "scattergeo"
           }
          ],
          "scattergl": [
           {
            "marker": {
             "colorbar": {
              "outlinewidth": 0,
              "ticks": ""
             }
            },
            "type": "scattergl"
           }
          ],
          "scattermapbox": [
           {
            "marker": {
             "colorbar": {
              "outlinewidth": 0,
              "ticks": ""
             }
            },
            "type": "scattermapbox"
           }
          ],
          "scatterpolar": [
           {
            "marker": {
             "colorbar": {
              "outlinewidth": 0,
              "ticks": ""
             }
            },
            "type": "scatterpolar"
           }
          ],
          "scatterpolargl": [
           {
            "marker": {
             "colorbar": {
              "outlinewidth": 0,
              "ticks": ""
             }
            },
            "type": "scatterpolargl"
           }
          ],
          "scatterternary": [
           {
            "marker": {
             "colorbar": {
              "outlinewidth": 0,
              "ticks": ""
             }
            },
            "type": "scatterternary"
           }
          ],
          "surface": [
           {
            "colorbar": {
             "outlinewidth": 0,
             "ticks": ""
            },
            "colorscale": [
             [
              0,
              "#0d0887"
             ],
             [
              0.1111111111111111,
              "#46039f"
             ],
             [
              0.2222222222222222,
              "#7201a8"
             ],
             [
              0.3333333333333333,
              "#9c179e"
             ],
             [
              0.4444444444444444,
              "#bd3786"
             ],
             [
              0.5555555555555556,
              "#d8576b"
             ],
             [
              0.6666666666666666,
              "#ed7953"
             ],
             [
              0.7777777777777778,
              "#fb9f3a"
             ],
             [
              0.8888888888888888,
              "#fdca26"
             ],
             [
              1,
              "#f0f921"
             ]
            ],
            "type": "surface"
           }
          ],
          "table": [
           {
            "cells": {
             "fill": {
              "color": "#EBF0F8"
             },
             "line": {
              "color": "white"
             }
            },
            "header": {
             "fill": {
              "color": "#C8D4E3"
             },
             "line": {
              "color": "white"
             }
            },
            "type": "table"
           }
          ]
         },
         "layout": {
          "annotationdefaults": {
           "arrowcolor": "#2a3f5f",
           "arrowhead": 0,
           "arrowwidth": 1
          },
          "autotypenumbers": "strict",
          "coloraxis": {
           "colorbar": {
            "outlinewidth": 0,
            "ticks": ""
           }
          },
          "colorscale": {
           "diverging": [
            [
             0,
             "#8e0152"
            ],
            [
             0.1,
             "#c51b7d"
            ],
            [
             0.2,
             "#de77ae"
            ],
            [
             0.3,
             "#f1b6da"
            ],
            [
             0.4,
             "#fde0ef"
            ],
            [
             0.5,
             "#f7f7f7"
            ],
            [
             0.6,
             "#e6f5d0"
            ],
            [
             0.7,
             "#b8e186"
            ],
            [
             0.8,
             "#7fbc41"
            ],
            [
             0.9,
             "#4d9221"
            ],
            [
             1,
             "#276419"
            ]
           ],
           "sequential": [
            [
             0,
             "#0d0887"
            ],
            [
             0.1111111111111111,
             "#46039f"
            ],
            [
             0.2222222222222222,
             "#7201a8"
            ],
            [
             0.3333333333333333,
             "#9c179e"
            ],
            [
             0.4444444444444444,
             "#bd3786"
            ],
            [
             0.5555555555555556,
             "#d8576b"
            ],
            [
             0.6666666666666666,
             "#ed7953"
            ],
            [
             0.7777777777777778,
             "#fb9f3a"
            ],
            [
             0.8888888888888888,
             "#fdca26"
            ],
            [
             1,
             "#f0f921"
            ]
           ],
           "sequentialminus": [
            [
             0,
             "#0d0887"
            ],
            [
             0.1111111111111111,
             "#46039f"
            ],
            [
             0.2222222222222222,
             "#7201a8"
            ],
            [
             0.3333333333333333,
             "#9c179e"
            ],
            [
             0.4444444444444444,
             "#bd3786"
            ],
            [
             0.5555555555555556,
             "#d8576b"
            ],
            [
             0.6666666666666666,
             "#ed7953"
            ],
            [
             0.7777777777777778,
             "#fb9f3a"
            ],
            [
             0.8888888888888888,
             "#fdca26"
            ],
            [
             1,
             "#f0f921"
            ]
           ]
          },
          "colorway": [
           "#636efa",
           "#EF553B",
           "#00cc96",
           "#ab63fa",
           "#FFA15A",
           "#19d3f3",
           "#FF6692",
           "#B6E880",
           "#FF97FF",
           "#FECB52"
          ],
          "font": {
           "color": "#2a3f5f"
          },
          "geo": {
           "bgcolor": "white",
           "lakecolor": "white",
           "landcolor": "#E5ECF6",
           "showlakes": true,
           "showland": true,
           "subunitcolor": "white"
          },
          "hoverlabel": {
           "align": "left"
          },
          "hovermode": "closest",
          "mapbox": {
           "style": "light"
          },
          "paper_bgcolor": "white",
          "plot_bgcolor": "#E5ECF6",
          "polar": {
           "angularaxis": {
            "gridcolor": "white",
            "linecolor": "white",
            "ticks": ""
           },
           "bgcolor": "#E5ECF6",
           "radialaxis": {
            "gridcolor": "white",
            "linecolor": "white",
            "ticks": ""
           }
          },
          "scene": {
           "xaxis": {
            "backgroundcolor": "#E5ECF6",
            "gridcolor": "white",
            "gridwidth": 2,
            "linecolor": "white",
            "showbackground": true,
            "ticks": "",
            "zerolinecolor": "white"
           },
           "yaxis": {
            "backgroundcolor": "#E5ECF6",
            "gridcolor": "white",
            "gridwidth": 2,
            "linecolor": "white",
            "showbackground": true,
            "ticks": "",
            "zerolinecolor": "white"
           },
           "zaxis": {
            "backgroundcolor": "#E5ECF6",
            "gridcolor": "white",
            "gridwidth": 2,
            "linecolor": "white",
            "showbackground": true,
            "ticks": "",
            "zerolinecolor": "white"
           }
          },
          "shapedefaults": {
           "line": {
            "color": "#2a3f5f"
           }
          },
          "ternary": {
           "aaxis": {
            "gridcolor": "white",
            "linecolor": "white",
            "ticks": ""
           },
           "baxis": {
            "gridcolor": "white",
            "linecolor": "white",
            "ticks": ""
           },
           "bgcolor": "#E5ECF6",
           "caxis": {
            "gridcolor": "white",
            "linecolor": "white",
            "ticks": ""
           }
          },
          "title": {
           "x": 0.05
          },
          "xaxis": {
           "automargin": true,
           "gridcolor": "white",
           "linecolor": "white",
           "ticks": "",
           "title": {
            "standoff": 15
           },
           "zerolinecolor": "white",
           "zerolinewidth": 2
          },
          "yaxis": {
           "automargin": true,
           "gridcolor": "white",
           "linecolor": "white",
           "ticks": "",
           "title": {
            "standoff": 15
           },
           "zerolinecolor": "white",
           "zerolinewidth": 2
          }
         }
        },
        "title": {
         "text": "Prediction Model Feature list ordered by their impact on price prediction"
        },
        "xaxis": {
         "title": {
          "text": "features"
         }
        },
        "yaxis": {
         "title": {
          "text": "standardized (scaled) coefficients"
         }
        }
       }
      },
      "text/html": [
       "<div>                            <div id=\"ee3d1384-d2b3-4c82-8893-777306b13b9c\" class=\"plotly-graph-div\" style=\"height:525px; width:100%;\"></div>            <script type=\"text/javascript\">                require([\"plotly\"], function(Plotly) {                    window.PLOTLYENV=window.PLOTLYENV || {};                                    if (document.getElementById(\"ee3d1384-d2b3-4c82-8893-777306b13b9c\")) {                    Plotly.newPlot(                        \"ee3d1384-d2b3-4c82-8893-777306b13b9c\",                        [{\"x\":[\"150k-200k\",\"100k-150k\",\"fwd\",\"200k-250k\",\"sedan\",\"fair\",\"good\",\"honda\",\"ram\",\"automatic\",\"gas\",\"other_transmission\",\"other_type\",\"4wd\",\"other_fuel\",\"year\",\"pickup\",\" 25k-50k\",\"diesel\",\"  0-010k\",\" 10k-25k\"],\"y\":[-2558.4362652662644,-2280.6788412913247,-2278.251078178676,-1769.819222839014,-977.2950700432493,-791.0174987479754,-493.0027705448495,-98.21349104841116,-30.91365594867525,169.6455148829993,442.4633783071757,515.5197528004378,1026.9190827972413,1066.0816783550024,1165.8286636059615,2061.5613349326863,2379.958675783332,2391.5825025905738,2533.9439078472788,2796.158217999485,2839.1968790824976],\"type\":\"bar\"}],                        {\"title\":{\"text\":\"Prediction Model Feature list ordered by their impact on price prediction\"},\"xaxis\":{\"title\":{\"text\":\"features\"}},\"yaxis\":{\"title\":{\"text\":\"standardized (scaled) coefficients\"}},\"template\":{\"data\":{\"bar\":[{\"error_x\":{\"color\":\"#2a3f5f\"},\"error_y\":{\"color\":\"#2a3f5f\"},\"marker\":{\"line\":{\"color\":\"#E5ECF6\",\"width\":0.5},\"pattern\":{\"fillmode\":\"overlay\",\"size\":10,\"solidity\":0.2}},\"type\":\"bar\"}],\"barpolar\":[{\"marker\":{\"line\":{\"color\":\"#E5ECF6\",\"width\":0.5},\"pattern\":{\"fillmode\":\"overlay\",\"size\":10,\"solidity\":0.2}},\"type\":\"barpolar\"}],\"carpet\":[{\"aaxis\":{\"endlinecolor\":\"#2a3f5f\",\"gridcolor\":\"white\",\"linecolor\":\"white\",\"minorgridcolor\":\"white\",\"startlinecolor\":\"#2a3f5f\"},\"baxis\":{\"endlinecolor\":\"#2a3f5f\",\"gridcolor\":\"white\",\"linecolor\":\"white\",\"minorgridcolor\":\"white\",\"startlinecolor\":\"#2a3f5f\"},\"type\":\"carpet\"}],\"choropleth\":[{\"colorbar\":{\"outlinewidth\":0,\"ticks\":\"\"},\"type\":\"choropleth\"}],\"contour\":[{\"colorbar\":{\"outlinewidth\":0,\"ticks\":\"\"},\"colorscale\":[[0.0,\"#0d0887\"],[0.1111111111111111,\"#46039f\"],[0.2222222222222222,\"#7201a8\"],[0.3333333333333333,\"#9c179e\"],[0.4444444444444444,\"#bd3786\"],[0.5555555555555556,\"#d8576b\"],[0.6666666666666666,\"#ed7953\"],[0.7777777777777778,\"#fb9f3a\"],[0.8888888888888888,\"#fdca26\"],[1.0,\"#f0f921\"]],\"type\":\"contour\"}],\"contourcarpet\":[{\"colorbar\":{\"outlinewidth\":0,\"ticks\":\"\"},\"type\":\"contourcarpet\"}],\"heatmap\":[{\"colorbar\":{\"outlinewidth\":0,\"ticks\":\"\"},\"colorscale\":[[0.0,\"#0d0887\"],[0.1111111111111111,\"#46039f\"],[0.2222222222222222,\"#7201a8\"],[0.3333333333333333,\"#9c179e\"],[0.4444444444444444,\"#bd3786\"],[0.5555555555555556,\"#d8576b\"],[0.6666666666666666,\"#ed7953\"],[0.7777777777777778,\"#fb9f3a\"],[0.8888888888888888,\"#fdca26\"],[1.0,\"#f0f921\"]],\"type\":\"heatmap\"}],\"heatmapgl\":[{\"colorbar\":{\"outlinewidth\":0,\"ticks\":\"\"},\"colorscale\":[[0.0,\"#0d0887\"],[0.1111111111111111,\"#46039f\"],[0.2222222222222222,\"#7201a8\"],[0.3333333333333333,\"#9c179e\"],[0.4444444444444444,\"#bd3786\"],[0.5555555555555556,\"#d8576b\"],[0.6666666666666666,\"#ed7953\"],[0.7777777777777778,\"#fb9f3a\"],[0.8888888888888888,\"#fdca26\"],[1.0,\"#f0f921\"]],\"type\":\"heatmapgl\"}],\"histogram\":[{\"marker\":{\"pattern\":{\"fillmode\":\"overlay\",\"size\":10,\"solidity\":0.2}},\"type\":\"histogram\"}],\"histogram2d\":[{\"colorbar\":{\"outlinewidth\":0,\"ticks\":\"\"},\"colorscale\":[[0.0,\"#0d0887\"],[0.1111111111111111,\"#46039f\"],[0.2222222222222222,\"#7201a8\"],[0.3333333333333333,\"#9c179e\"],[0.4444444444444444,\"#bd3786\"],[0.5555555555555556,\"#d8576b\"],[0.6666666666666666,\"#ed7953\"],[0.7777777777777778,\"#fb9f3a\"],[0.8888888888888888,\"#fdca26\"],[1.0,\"#f0f921\"]],\"type\":\"histogram2d\"}],\"histogram2dcontour\":[{\"colorbar\":{\"outlinewidth\":0,\"ticks\":\"\"},\"colorscale\":[[0.0,\"#0d0887\"],[0.1111111111111111,\"#46039f\"],[0.2222222222222222,\"#7201a8\"],[0.3333333333333333,\"#9c179e\"],[0.4444444444444444,\"#bd3786\"],[0.5555555555555556,\"#d8576b\"],[0.6666666666666666,\"#ed7953\"],[0.7777777777777778,\"#fb9f3a\"],[0.8888888888888888,\"#fdca26\"],[1.0,\"#f0f921\"]],\"type\":\"histogram2dcontour\"}],\"mesh3d\":[{\"colorbar\":{\"outlinewidth\":0,\"ticks\":\"\"},\"type\":\"mesh3d\"}],\"parcoords\":[{\"line\":{\"colorbar\":{\"outlinewidth\":0,\"ticks\":\"\"}},\"type\":\"parcoords\"}],\"pie\":[{\"automargin\":true,\"type\":\"pie\"}],\"scatter\":[{\"marker\":{\"colorbar\":{\"outlinewidth\":0,\"ticks\":\"\"}},\"type\":\"scatter\"}],\"scatter3d\":[{\"line\":{\"colorbar\":{\"outlinewidth\":0,\"ticks\":\"\"}},\"marker\":{\"colorbar\":{\"outlinewidth\":0,\"ticks\":\"\"}},\"type\":\"scatter3d\"}],\"scattercarpet\":[{\"marker\":{\"colorbar\":{\"outlinewidth\":0,\"ticks\":\"\"}},\"type\":\"scattercarpet\"}],\"scattergeo\":[{\"marker\":{\"colorbar\":{\"outlinewidth\":0,\"ticks\":\"\"}},\"type\":\"scattergeo\"}],\"scattergl\":[{\"marker\":{\"colorbar\":{\"outlinewidth\":0,\"ticks\":\"\"}},\"type\":\"scattergl\"}],\"scattermapbox\":[{\"marker\":{\"colorbar\":{\"outlinewidth\":0,\"ticks\":\"\"}},\"type\":\"scattermapbox\"}],\"scatterpolar\":[{\"marker\":{\"colorbar\":{\"outlinewidth\":0,\"ticks\":\"\"}},\"type\":\"scatterpolar\"}],\"scatterpolargl\":[{\"marker\":{\"colorbar\":{\"outlinewidth\":0,\"ticks\":\"\"}},\"type\":\"scatterpolargl\"}],\"scatterternary\":[{\"marker\":{\"colorbar\":{\"outlinewidth\":0,\"ticks\":\"\"}},\"type\":\"scatterternary\"}],\"surface\":[{\"colorbar\":{\"outlinewidth\":0,\"ticks\":\"\"},\"colorscale\":[[0.0,\"#0d0887\"],[0.1111111111111111,\"#46039f\"],[0.2222222222222222,\"#7201a8\"],[0.3333333333333333,\"#9c179e\"],[0.4444444444444444,\"#bd3786\"],[0.5555555555555556,\"#d8576b\"],[0.6666666666666666,\"#ed7953\"],[0.7777777777777778,\"#fb9f3a\"],[0.8888888888888888,\"#fdca26\"],[1.0,\"#f0f921\"]],\"type\":\"surface\"}],\"table\":[{\"cells\":{\"fill\":{\"color\":\"#EBF0F8\"},\"line\":{\"color\":\"white\"}},\"header\":{\"fill\":{\"color\":\"#C8D4E3\"},\"line\":{\"color\":\"white\"}},\"type\":\"table\"}]},\"layout\":{\"annotationdefaults\":{\"arrowcolor\":\"#2a3f5f\",\"arrowhead\":0,\"arrowwidth\":1},\"autotypenumbers\":\"strict\",\"coloraxis\":{\"colorbar\":{\"outlinewidth\":0,\"ticks\":\"\"}},\"colorscale\":{\"diverging\":[[0,\"#8e0152\"],[0.1,\"#c51b7d\"],[0.2,\"#de77ae\"],[0.3,\"#f1b6da\"],[0.4,\"#fde0ef\"],[0.5,\"#f7f7f7\"],[0.6,\"#e6f5d0\"],[0.7,\"#b8e186\"],[0.8,\"#7fbc41\"],[0.9,\"#4d9221\"],[1,\"#276419\"]],\"sequential\":[[0.0,\"#0d0887\"],[0.1111111111111111,\"#46039f\"],[0.2222222222222222,\"#7201a8\"],[0.3333333333333333,\"#9c179e\"],[0.4444444444444444,\"#bd3786\"],[0.5555555555555556,\"#d8576b\"],[0.6666666666666666,\"#ed7953\"],[0.7777777777777778,\"#fb9f3a\"],[0.8888888888888888,\"#fdca26\"],[1.0,\"#f0f921\"]],\"sequentialminus\":[[0.0,\"#0d0887\"],[0.1111111111111111,\"#46039f\"],[0.2222222222222222,\"#7201a8\"],[0.3333333333333333,\"#9c179e\"],[0.4444444444444444,\"#bd3786\"],[0.5555555555555556,\"#d8576b\"],[0.6666666666666666,\"#ed7953\"],[0.7777777777777778,\"#fb9f3a\"],[0.8888888888888888,\"#fdca26\"],[1.0,\"#f0f921\"]]},\"colorway\":[\"#636efa\",\"#EF553B\",\"#00cc96\",\"#ab63fa\",\"#FFA15A\",\"#19d3f3\",\"#FF6692\",\"#B6E880\",\"#FF97FF\",\"#FECB52\"],\"font\":{\"color\":\"#2a3f5f\"},\"geo\":{\"bgcolor\":\"white\",\"lakecolor\":\"white\",\"landcolor\":\"#E5ECF6\",\"showlakes\":true,\"showland\":true,\"subunitcolor\":\"white\"},\"hoverlabel\":{\"align\":\"left\"},\"hovermode\":\"closest\",\"mapbox\":{\"style\":\"light\"},\"paper_bgcolor\":\"white\",\"plot_bgcolor\":\"#E5ECF6\",\"polar\":{\"angularaxis\":{\"gridcolor\":\"white\",\"linecolor\":\"white\",\"ticks\":\"\"},\"bgcolor\":\"#E5ECF6\",\"radialaxis\":{\"gridcolor\":\"white\",\"linecolor\":\"white\",\"ticks\":\"\"}},\"scene\":{\"xaxis\":{\"backgroundcolor\":\"#E5ECF6\",\"gridcolor\":\"white\",\"gridwidth\":2,\"linecolor\":\"white\",\"showbackground\":true,\"ticks\":\"\",\"zerolinecolor\":\"white\"},\"yaxis\":{\"backgroundcolor\":\"#E5ECF6\",\"gridcolor\":\"white\",\"gridwidth\":2,\"linecolor\":\"white\",\"showbackground\":true,\"ticks\":\"\",\"zerolinecolor\":\"white\"},\"zaxis\":{\"backgroundcolor\":\"#E5ECF6\",\"gridcolor\":\"white\",\"gridwidth\":2,\"linecolor\":\"white\",\"showbackground\":true,\"ticks\":\"\",\"zerolinecolor\":\"white\"}},\"shapedefaults\":{\"line\":{\"color\":\"#2a3f5f\"}},\"ternary\":{\"aaxis\":{\"gridcolor\":\"white\",\"linecolor\":\"white\",\"ticks\":\"\"},\"baxis\":{\"gridcolor\":\"white\",\"linecolor\":\"white\",\"ticks\":\"\"},\"bgcolor\":\"#E5ECF6\",\"caxis\":{\"gridcolor\":\"white\",\"linecolor\":\"white\",\"ticks\":\"\"}},\"title\":{\"x\":0.05},\"xaxis\":{\"automargin\":true,\"gridcolor\":\"white\",\"linecolor\":\"white\",\"ticks\":\"\",\"title\":{\"standoff\":15},\"zerolinecolor\":\"white\",\"zerolinewidth\":2},\"yaxis\":{\"automargin\":true,\"gridcolor\":\"white\",\"linecolor\":\"white\",\"ticks\":\"\",\"title\":{\"standoff\":15},\"zerolinecolor\":\"white\",\"zerolinewidth\":2}}}},                        {\"responsive\": true}                    ).then(function(){\n",
       "                            \n",
       "var gd = document.getElementById('ee3d1384-d2b3-4c82-8893-777306b13b9c');\n",
       "var x = new MutationObserver(function (mutations, observer) {{\n",
       "        var display = window.getComputedStyle(gd).display;\n",
       "        if (!display || display === 'none') {{\n",
       "            console.log([gd, 'removed!']);\n",
       "            Plotly.purge(gd);\n",
       "            observer.disconnect();\n",
       "        }}\n",
       "}});\n",
       "\n",
       "// Listen for the removal of the full notebook cells\n",
       "var notebookContainer = gd.closest('#notebook-container');\n",
       "if (notebookContainer) {{\n",
       "    x.observe(notebookContainer, {childList: true});\n",
       "}}\n",
       "\n",
       "// Listen for the clearing of the current output cell\n",
       "var outputEl = gd.closest('.output');\n",
       "if (outputEl) {{\n",
       "    x.observe(outputEl, {childList: true});\n",
       "}}\n",
       "\n",
       "                        })                };                });            </script>        </div>"
      ]
     },
     "metadata": {},
     "output_type": "display_data"
    }
   ],
   "source": [
    "# feature_imp.plot(kind='bar', title=\"features in order of importance \")\n",
    "\n",
    "data = go.Bar(x=list(feature_imp.index), y=feature_imp['coeffs'])\n",
    "mylayout = go.Layout(title = 'Prediction Model Feature list ordered by their impact on price prediction', \n",
    "                     xaxis = dict(title='features'), \n",
    "                     yaxis = dict(title='standardized (scaled) coefficients')) \n",
    "coefs = go.Figure([data],mylayout)\n",
    "coefs\n"
   ]
  },
  {
   "cell_type": "markdown",
   "id": "cdd27acd",
   "metadata": {},
   "source": [
    "Feature interpretation:  \n",
    "- mileage between 100k and 200k has the highest negative impact on price \n",
    "- front wheel drive (fwd) also have a negative impact on price - less popular with buyers\n",
    "- sedan are also are the less popular type \n",
    "- condition of fair and good have a negative impact on price \n",
    "- pickup, diesel and low mileage car have the highest positive impact on price "
   ]
  },
  {
   "cell_type": "markdown",
   "id": "fe01d1cd",
   "metadata": {},
   "source": [
    "Make model predictions"
   ]
  },
  {
   "cell_type": "code",
   "execution_count": 71,
   "id": "d7f5cc2e",
   "metadata": {},
   "outputs": [
    {
     "data": {
      "text/plain": [
       "array([22738.88652638, 14097.62410368, 30257.67426473, ...,\n",
       "       21952.60475497,  8533.37694115, 11166.33484585])"
      ]
     },
     "execution_count": 71,
     "metadata": {},
     "output_type": "execute_result"
    }
   ],
   "source": [
    "y_preds = lin_reg.predict(X_test_scaled)\n",
    "y_preds"
   ]
  },
  {
   "cell_type": "code",
   "execution_count": 72,
   "id": "8313c90d",
   "metadata": {},
   "outputs": [],
   "source": [
    "num_pred = 10\n",
    "true_y = list(round(y_test[:num_pred], 1))\n",
    "pred_y = [round(x,1) for x in list(y_preds[:num_pred])]"
   ]
  },
  {
   "cell_type": "code",
   "execution_count": 73,
   "id": "33bd3fcd",
   "metadata": {},
   "outputs": [
    {
     "data": {
      "text/html": [
       "<div>\n",
       "<style scoped>\n",
       "    .dataframe tbody tr th:only-of-type {\n",
       "        vertical-align: middle;\n",
       "    }\n",
       "\n",
       "    .dataframe tbody tr th {\n",
       "        vertical-align: top;\n",
       "    }\n",
       "\n",
       "    .dataframe thead th {\n",
       "        text-align: right;\n",
       "    }\n",
       "</style>\n",
       "<table border=\"1\" class=\"dataframe\">\n",
       "  <thead>\n",
       "    <tr style=\"text-align: right;\">\n",
       "      <th></th>\n",
       "      <th>true</th>\n",
       "      <th>predicted</th>\n",
       "      <th>over/under</th>\n",
       "    </tr>\n",
       "  </thead>\n",
       "  <tbody>\n",
       "    <tr>\n",
       "      <th>0</th>\n",
       "      <td>18995.00000</td>\n",
       "      <td>22738.90000</td>\n",
       "      <td>3743.90000</td>\n",
       "    </tr>\n",
       "    <tr>\n",
       "      <th>1</th>\n",
       "      <td>34998.00000</td>\n",
       "      <td>14097.60000</td>\n",
       "      <td>-20900.40000</td>\n",
       "    </tr>\n",
       "    <tr>\n",
       "      <th>2</th>\n",
       "      <td>51995.00000</td>\n",
       "      <td>30257.70000</td>\n",
       "      <td>-21737.30000</td>\n",
       "    </tr>\n",
       "    <tr>\n",
       "      <th>3</th>\n",
       "      <td>36990.00000</td>\n",
       "      <td>31897.30000</td>\n",
       "      <td>-5092.70000</td>\n",
       "    </tr>\n",
       "    <tr>\n",
       "      <th>4</th>\n",
       "      <td>19985.00000</td>\n",
       "      <td>13756.60000</td>\n",
       "      <td>-6228.40000</td>\n",
       "    </tr>\n",
       "    <tr>\n",
       "      <th>5</th>\n",
       "      <td>9000.00000</td>\n",
       "      <td>15282.60000</td>\n",
       "      <td>6282.60000</td>\n",
       "    </tr>\n",
       "    <tr>\n",
       "      <th>6</th>\n",
       "      <td>16900.00000</td>\n",
       "      <td>30493.40000</td>\n",
       "      <td>13593.40000</td>\n",
       "    </tr>\n",
       "    <tr>\n",
       "      <th>7</th>\n",
       "      <td>5990.00000</td>\n",
       "      <td>14350.40000</td>\n",
       "      <td>8360.40000</td>\n",
       "    </tr>\n",
       "    <tr>\n",
       "      <th>8</th>\n",
       "      <td>4000.00000</td>\n",
       "      <td>9216.30000</td>\n",
       "      <td>5216.30000</td>\n",
       "    </tr>\n",
       "    <tr>\n",
       "      <th>9</th>\n",
       "      <td>30622.00000</td>\n",
       "      <td>23146.50000</td>\n",
       "      <td>-7475.50000</td>\n",
       "    </tr>\n",
       "  </tbody>\n",
       "</table>\n",
       "</div>"
      ],
      "text/plain": [
       "         true   predicted   over/under\n",
       "0 18995.00000 22738.90000   3743.90000\n",
       "1 34998.00000 14097.60000 -20900.40000\n",
       "2 51995.00000 30257.70000 -21737.30000\n",
       "3 36990.00000 31897.30000  -5092.70000\n",
       "4 19985.00000 13756.60000  -6228.40000\n",
       "5  9000.00000 15282.60000   6282.60000\n",
       "6 16900.00000 30493.40000  13593.40000\n",
       "7  5990.00000 14350.40000   8360.40000\n",
       "8  4000.00000  9216.30000   5216.30000\n",
       "9 30622.00000 23146.50000  -7475.50000"
      ]
     },
     "execution_count": 73,
     "metadata": {},
     "output_type": "execute_result"
    }
   ],
   "source": [
    "pred_summary = pd.DataFrame(list(zip(true_y, pred_y)), columns=['true', 'predicted'])\n",
    "pred_summary['over/under'] = pred_summary['predicted'].sub(pred_summary['true'])\n",
    "pred_summary"
   ]
  },
  {
   "cell_type": "code",
   "execution_count": 74,
   "id": "51b7312d",
   "metadata": {},
   "outputs": [
    {
     "data": {
      "text/html": [
       "<div>\n",
       "<style scoped>\n",
       "    .dataframe tbody tr th:only-of-type {\n",
       "        vertical-align: middle;\n",
       "    }\n",
       "\n",
       "    .dataframe tbody tr th {\n",
       "        vertical-align: top;\n",
       "    }\n",
       "\n",
       "    .dataframe thead th {\n",
       "        text-align: right;\n",
       "    }\n",
       "</style>\n",
       "<table border=\"1\" class=\"dataframe\">\n",
       "  <thead>\n",
       "    <tr style=\"text-align: right;\">\n",
       "      <th></th>\n",
       "      <th>count</th>\n",
       "      <th>mean</th>\n",
       "      <th>std</th>\n",
       "      <th>min</th>\n",
       "      <th>25%</th>\n",
       "      <th>50%</th>\n",
       "      <th>75%</th>\n",
       "      <th>max</th>\n",
       "    </tr>\n",
       "  </thead>\n",
       "  <tbody>\n",
       "    <tr>\n",
       "      <th>true</th>\n",
       "      <td>10.00000</td>\n",
       "      <td>22947.50000</td>\n",
       "      <td>15445.71066</td>\n",
       "      <td>4000.00000</td>\n",
       "      <td>10975.00000</td>\n",
       "      <td>19490.00000</td>\n",
       "      <td>33904.00000</td>\n",
       "      <td>51995.00000</td>\n",
       "    </tr>\n",
       "    <tr>\n",
       "      <th>predicted</th>\n",
       "      <td>10.00000</td>\n",
       "      <td>20523.73000</td>\n",
       "      <td>8271.87405</td>\n",
       "      <td>9216.30000</td>\n",
       "      <td>14160.80000</td>\n",
       "      <td>19010.75000</td>\n",
       "      <td>28479.90000</td>\n",
       "      <td>31897.30000</td>\n",
       "    </tr>\n",
       "    <tr>\n",
       "      <th>over/under</th>\n",
       "      <td>10.00000</td>\n",
       "      <td>-2423.77000</td>\n",
       "      <td>12048.86546</td>\n",
       "      <td>-21737.30000</td>\n",
       "      <td>-7163.72500</td>\n",
       "      <td>-674.40000</td>\n",
       "      <td>6016.02500</td>\n",
       "      <td>13593.40000</td>\n",
       "    </tr>\n",
       "  </tbody>\n",
       "</table>\n",
       "</div>"
      ],
      "text/plain": [
       "              count        mean         std          min         25%  \\\n",
       "true       10.00000 22947.50000 15445.71066   4000.00000 10975.00000   \n",
       "predicted  10.00000 20523.73000  8271.87405   9216.30000 14160.80000   \n",
       "over/under 10.00000 -2423.77000 12048.86546 -21737.30000 -7163.72500   \n",
       "\n",
       "                   50%         75%         max  \n",
       "true       19490.00000 33904.00000 51995.00000  \n",
       "predicted  19010.75000 28479.90000 31897.30000  \n",
       "over/under  -674.40000  6016.02500 13593.40000  "
      ]
     },
     "execution_count": 74,
     "metadata": {},
     "output_type": "execute_result"
    }
   ],
   "source": [
    "pred_summary.describe().T"
   ]
  },
  {
   "cell_type": "markdown",
   "id": "c6e42492",
   "metadata": {},
   "source": [
    "Evaluate the model"
   ]
  },
  {
   "cell_type": "code",
   "execution_count": 75,
   "id": "a247f991",
   "metadata": {},
   "outputs": [
    {
     "data": {
      "text/plain": [
       "9297"
      ]
     },
     "execution_count": 75,
     "metadata": {},
     "output_type": "execute_result"
    }
   ],
   "source": [
    "# Root mean square (RMSE)\n",
    "rmse_ols = np.sqrt(metrics.mean_squared_error(y_test, y_preds))\n",
    "rmse_ols = int(rmse_ols)\n",
    "rmse_ols"
   ]
  },
  {
   "cell_type": "code",
   "execution_count": 76,
   "id": "b6791b00",
   "metadata": {},
   "outputs": [
    {
     "data": {
      "text/plain": [
       "0.52"
      ]
     },
     "execution_count": 76,
     "metadata": {},
     "output_type": "execute_result"
    }
   ],
   "source": [
    "# R-squared\n",
    "r2_ols=metrics.r2_score(y_test, y_preds)\n",
    "r2_ols=round(r2_ols, 2)\n",
    "r2_ols"
   ]
  },
  {
   "cell_type": "code",
   "execution_count": 77,
   "id": "d785d0f0",
   "metadata": {},
   "outputs": [
    {
     "data": {
      "image/png": "[encoded data removed]",
      "text/plain": [
       "<Figure size 504x504 with 1 Axes>"
      ]
     },
     "metadata": {
      "needs_background": "light"
     },
     "output_type": "display_data"
    }
   ],
   "source": [
    "# Visualize our true vs. predicted values\n",
    "plt.figure(figsize=(7,7))\n",
    "plt.title('Car Sale Prices - Linear model')\n",
    "plt.ylabel('True Values')\n",
    "plt.xlabel('Predicted Values')\n",
    "fig=sns.regplot(x=y_preds, y=y_test)\n",
    "plt.show(fig)"
   ]
  },
  {
   "cell_type": "markdown",
   "id": "867068db",
   "metadata": {},
   "source": [
    "#### Ridget Regression"
   ]
  },
  {
   "cell_type": "code",
   "execution_count": 78,
   "id": "9f5916f6",
   "metadata": {},
   "outputs": [
    {
     "name": "stdout",
     "output_type": "stream",
     "text": [
      "9297 0.52\n"
     ]
    }
   ],
   "source": [
    "# Create a local instance of the sklearn class\n",
    "ridge_model = linear_model.Ridge(alpha=.5)\n",
    "\n",
    "# Fit your instance to the training dataset\n",
    "ridge_model.fit(X_train_scaled, y_train)\n",
    "\n",
    "# Make predictions on the testing dataset\n",
    "y_preds = ridge_model.predict(X_test_scaled)\n",
    "\n",
    "# root mean squared error represents the average error (in $) of our model\n",
    "ridge_rmse = int(np.sqrt(metrics.mean_squared_error(y_test, y_preds)))\n",
    "\n",
    "# R-squared is the proportion of the variance in the DV that's explained by the model\n",
    "ridge_r2=round(metrics.r2_score(y_test, y_preds),2)\n",
    "print(ridge_rmse, ridge_r2)"
   ]
  },
  {
   "cell_type": "code",
   "execution_count": 79,
   "id": "aba5c473",
   "metadata": {},
   "outputs": [
    {
     "data": {
      "image/png": "[encoded data removed]",
      "text/plain": [
       "<Figure size 504x504 with 1 Axes>"
      ]
     },
     "metadata": {
      "needs_background": "light"
     },
     "output_type": "display_data"
    }
   ],
   "source": [
    "# Visualize our true vs. predicted values\n",
    "plt.figure(figsize=(7,7))\n",
    "plt.title('Car Sale Prices - Rigrest Regression model')\n",
    "plt.ylabel('True Values')\n",
    "plt.xlabel('Predicted Values')\n",
    "fig=sns.regplot(x=y_preds, y=y_test)\n",
    "plt.show(fig)"
   ]
  },
  {
   "cell_type": "markdown",
   "id": "eb6d1aba",
   "metadata": {},
   "source": [
    "#### K-Nearest Neighbors Regression"
   ]
  },
  {
   "cell_type": "code",
   "execution_count": 80,
   "id": "349486e7",
   "metadata": {},
   "outputs": [
    {
     "name": "stdout",
     "output_type": "stream",
     "text": [
      "8140 0.63\n"
     ]
    }
   ],
   "source": [
    "# Create a local instance of the sklearn class\n",
    "knn_model = KNeighborsRegressor(n_neighbors=8)\n",
    "\n",
    "# Fit your instance to the training dataset\n",
    "knn_model.fit(X_train_scaled, y_train)\n",
    "\n",
    "# Make predictions on the testing dataset\n",
    "y_preds = knn_model.predict(X_test_scaled)\n",
    "\n",
    "# root mean squared error represents the average error (in $) of our model\n",
    "knn_rmse = int(np.sqrt(metrics.mean_squared_error(y_test, y_preds)))\n",
    "\n",
    "# R-squared is the proportion of the variance in the DV that's explained by the model\n",
    "knn_r2=round(metrics.r2_score(y_test, y_preds),2)\n",
    "print(knn_rmse, knn_r2)"
   ]
  },
  {
   "cell_type": "code",
   "execution_count": 81,
   "id": "7b54e275",
   "metadata": {},
   "outputs": [
    {
     "data": {
      "image/png": "[encoded data removed]",
      "text/plain": [
       "<Figure size 504x504 with 1 Axes>"
      ]
     },
     "metadata": {
      "needs_background": "light"
     },
     "output_type": "display_data"
    }
   ],
   "source": [
    "# Visualize our true vs. predicted values\n",
    "plt.figure(figsize=(7,7))\n",
    "plt.title('Car Sale Prices - K-Nearest Neighbors Regression model')\n",
    "plt.ylabel('True Values')\n",
    "plt.xlabel('Predicted Values')\n",
    "fig=sns.regplot(x=y_preds, y=y_test)\n",
    "plt.show(fig)"
   ]
  },
  {
   "cell_type": "markdown",
   "id": "74c30894",
   "metadata": {},
   "source": [
    "#### Decision Tree Regression"
   ]
  },
  {
   "cell_type": "code",
   "execution_count": 82,
   "id": "b91f601e",
   "metadata": {},
   "outputs": [
    {
     "name": "stdout",
     "output_type": "stream",
     "text": [
      "8349 0.61\n"
     ]
    }
   ],
   "source": [
    "# Create a local instance of the sklearn class\n",
    "tree_model = DecisionTreeRegressor(max_depth=9)\n",
    "\n",
    "# Fit your instance to the training dataset\n",
    "tree_model.fit(X_train_scaled, y_train)\n",
    "\n",
    "# Make predictions on the testing dataset\n",
    "y_preds = tree_model.predict(X_test_scaled)\n",
    "\n",
    "# root mean squared error represents the average error (in $) of our model\n",
    "tree_rmse = int(np.sqrt(metrics.mean_squared_error(y_test, y_preds)))\n",
    "\n",
    "# R-squared is the proportion of the variance in the DV that's explained by the model\n",
    "tree_r2=round(metrics.r2_score(y_test, y_preds),2)\n",
    "print(tree_rmse, tree_r2)"
   ]
  },
  {
   "cell_type": "code",
   "execution_count": 83,
   "id": "64a67bf5",
   "metadata": {},
   "outputs": [
    {
     "data": {
      "image/png": "[encoded data removed]",
      "text/plain": [
       "<Figure size 504x504 with 1 Axes>"
      ]
     },
     "metadata": {
      "needs_background": "light"
     },
     "output_type": "display_data"
    }
   ],
   "source": [
    "# Visualize our true vs. predicted values\n",
    "plt.figure(figsize=(7,7))\n",
    "plt.title('Car Sale Prices - K-Nearest Neighbors Regression model')\n",
    "plt.ylabel('True Values')\n",
    "plt.xlabel('Predicted Values')\n",
    "fig=sns.regplot(x=y_preds, y=y_test)\n",
    "plt.show(fig)"
   ]
  },
  {
   "cell_type": "markdown",
   "id": "61689ec8",
   "metadata": {},
   "source": [
    "#### Random Forest Regression"
   ]
  },
  {
   "cell_type": "code",
   "execution_count": 84,
   "id": "901841a0",
   "metadata": {},
   "outputs": [
    {
     "name": "stdout",
     "output_type": "stream",
     "text": [
      "7934 0.65\n"
     ]
    }
   ],
   "source": [
    "# Create a local instance of the sklearn class\n",
    "forest_model = RandomForestRegressor(max_depth=10, n_estimators=200)\n",
    "\n",
    "# Fit your instance to the training dataset\n",
    "forest_model.fit(X_train_scaled, y_train)\n",
    "\n",
    "# Make predictions on the testing dataset\n",
    "y_preds = forest_model.predict(X_test_scaled)\n",
    "\n",
    "# root mean squared error represents the average error (in $) of our model\n",
    "forest_rmse = int(np.sqrt(metrics.mean_squared_error(y_test, y_preds)))\n",
    "\n",
    "# R-squared is the proportion of the variance in the DV that's explained by the model\n",
    "forest_r2=round(metrics.r2_score(y_test, y_preds),2)\n",
    "print(forest_rmse, forest_r2)"
   ]
  },
  {
   "cell_type": "code",
   "execution_count": 85,
   "id": "3ac93755",
   "metadata": {},
   "outputs": [
    {
     "data": {
      "image/png": "[encoded data removed]",
      "text/plain": [
       "<Figure size 504x504 with 1 Axes>"
      ]
     },
     "metadata": {
      "needs_background": "light"
     },
     "output_type": "display_data"
    }
   ],
   "source": [
    "# Visualize our true vs. predicted values\n",
    "plt.figure(figsize=(7,7))\n",
    "plt.title('Car Sale Prices - K-Nearest Neighbors Regression model')\n",
    "plt.ylabel('True Values')\n",
    "plt.xlabel('Predicted Values')\n",
    "fig=sns.regplot(x=y_preds, y=y_test)\n",
    "plt.show(fig)"
   ]
  },
  {
   "cell_type": "markdown",
   "id": "bef73e63",
   "metadata": {},
   "source": [
    "#### Compare regression models"
   ]
  },
  {
   "cell_type": "code",
   "execution_count": 86,
   "id": "1000e169",
   "metadata": {},
   "outputs": [
    {
     "data": {
      "text/html": [
       "<div>\n",
       "<style scoped>\n",
       "    .dataframe tbody tr th:only-of-type {\n",
       "        vertical-align: middle;\n",
       "    }\n",
       "\n",
       "    .dataframe tbody tr th {\n",
       "        vertical-align: top;\n",
       "    }\n",
       "\n",
       "    .dataframe thead th {\n",
       "        text-align: right;\n",
       "    }\n",
       "</style>\n",
       "<table border=\"1\" class=\"dataframe\">\n",
       "  <thead>\n",
       "    <tr style=\"text-align: right;\">\n",
       "      <th></th>\n",
       "      <th>RMSE</th>\n",
       "      <th>R-squared</th>\n",
       "    </tr>\n",
       "    <tr>\n",
       "      <th>Model</th>\n",
       "      <th></th>\n",
       "      <th></th>\n",
       "    </tr>\n",
       "  </thead>\n",
       "  <tbody>\n",
       "    <tr>\n",
       "      <th>OLS Linear Regression</th>\n",
       "      <td>9297</td>\n",
       "      <td>0.52000</td>\n",
       "    </tr>\n",
       "    <tr>\n",
       "      <th>Ridge Regession</th>\n",
       "      <td>9297</td>\n",
       "      <td>0.52000</td>\n",
       "    </tr>\n",
       "    <tr>\n",
       "      <th>K-Nearest Neighbors Regression</th>\n",
       "      <td>8140</td>\n",
       "      <td>0.63000</td>\n",
       "    </tr>\n",
       "    <tr>\n",
       "      <th>Decision Tree Regression</th>\n",
       "      <td>8349</td>\n",
       "      <td>0.61000</td>\n",
       "    </tr>\n",
       "    <tr>\n",
       "      <th>Random Forest Regression</th>\n",
       "      <td>7934</td>\n",
       "      <td>0.65000</td>\n",
       "    </tr>\n",
       "  </tbody>\n",
       "</table>\n",
       "</div>"
      ],
      "text/plain": [
       "                                RMSE  R-squared\n",
       "Model                                          \n",
       "OLS Linear Regression           9297    0.52000\n",
       "Ridge Regession                 9297    0.52000\n",
       "K-Nearest Neighbors Regression  8140    0.63000\n",
       "Decision Tree Regression        8349    0.61000\n",
       "Random Forest Regression        7934    0.65000"
      ]
     },
     "execution_count": 86,
     "metadata": {},
     "output_type": "execute_result"
    }
   ],
   "source": [
    "# Compare OLS Linear Regression to the Baseline\n",
    "\n",
    "evaluation_df2 = pd.DataFrame([ \n",
    "                              ['OLS Linear Regression', rmse_ols, r2_ols],\n",
    "                              ['Ridge Regession', ridge_rmse, ridge_r2],\n",
    "                              ['K-Nearest Neighbors Regression', knn_rmse, knn_r2],\n",
    "                              ['Decision Tree Regression', tree_rmse, tree_r2],\n",
    "                              ['Random Forest Regression', forest_rmse, forest_r2]], \n",
    "                             columns=['Model','RMSE','R-squared']\n",
    "                            )\n",
    "evaluation_df2.set_index('Model', inplace=True)\n",
    "evaluation_df2"
   ]
  },
  {
   "cell_type": "code",
   "execution_count": 87,
   "id": "1eff93b2",
   "metadata": {},
   "outputs": [
    {
     "data": {
      "application/vnd.plotly.v1+json": {
       "config": {
        "plotlyServerURL": "https://plot.ly"
       },
       "data": [
        {
         "marker": {
          "color": [
           "#ebc83d",
           "#badf55",
           "#35b1c9",
           "#b06dad",
           "#e96060",
           "#1e1d69"
          ]
         },
         "type": "bar",
         "x": [
          "OLS Linear Regression",
          "Ridge Regession",
          "K-Nearest Neighbors Regression",
          "Decision Tree Regression",
          "Random Forest Regression"
         ],
         "y": [
          9297,
          9297,
          8140,
          8349,
          7934
         ]
        }
       ],
       "layout": {
        "template": {
         "data": {
          "bar": [
           {
            "error_x": {
             "color": "#2a3f5f"
            },
            "error_y": {
             "color": "#2a3f5f"
            },
            "marker": {
             "line": {
              "color": "#E5ECF6",
              "width": 0.5
             },
             "pattern": {
              "fillmode": "overlay",
              "size": 10,
              "solidity": 0.2
             }
            },
            "type": "bar"
           }
          ],
          "barpolar": [
           {
            "marker": {
             "line": {
              "color": "#E5ECF6",
              "width": 0.5
             },
             "pattern": {
              "fillmode": "overlay",
              "size": 10,
              "solidity": 0.2
             }
            },
            "type": "barpolar"
           }
          ],
          "carpet": [
           {
            "aaxis": {
             "endlinecolor": "#2a3f5f",
             "gridcolor": "white",
             "linecolor": "white",
             "minorgridcolor": "white",
             "startlinecolor": "#2a3f5f"
            },
            "baxis": {
             "endlinecolor": "#2a3f5f",
             "gridcolor": "white",
             "linecolor": "white",
             "minorgridcolor": "white",
             "startlinecolor": "#2a3f5f"
            },
            "type": "carpet"
           }
          ],
          "choropleth": [
           {
            "colorbar": {
             "outlinewidth": 0,
             "ticks": ""
            },
            "type": "choropleth"
           }
          ],
          "contour": [
           {
            "colorbar": {
             "outlinewidth": 0,
             "ticks": ""
            },
            "colorscale": [
             [
              0,
              "#0d0887"
             ],
             [
              0.1111111111111111,
              "#46039f"
             ],
             [
              0.2222222222222222,
              "#7201a8"
             ],
             [
              0.3333333333333333,
              "#9c179e"
             ],
             [
              0.4444444444444444,
              "#bd3786"
             ],
             [
              0.5555555555555556,
              "#d8576b"
             ],
             [
              0.6666666666666666,
              "#ed7953"
             ],
             [
              0.7777777777777778,
              "#fb9f3a"
             ],
             [
              0.8888888888888888,
              "#fdca26"
             ],
             [
              1,
              "#f0f921"
             ]
            ],
            "type": "contour"
           }
          ],
          "contourcarpet": [
           {
            "colorbar": {
             "outlinewidth": 0,
             "ticks": ""
            },
            "type": "contourcarpet"
           }
          ],
          "heatmap": [
           {
            "colorbar": {
             "outlinewidth": 0,
             "ticks": ""
            },
            "colorscale": [
             [
              0,
              "#0d0887"
             ],
             [
              0.1111111111111111,
              "#46039f"
             ],
             [
              0.2222222222222222,
              "#7201a8"
             ],
             [
              0.3333333333333333,
              "#9c179e"
             ],
             [
              0.4444444444444444,
              "#bd3786"
             ],
             [
              0.5555555555555556,
              "#d8576b"
             ],
             [
              0.6666666666666666,
              "#ed7953"
             ],
             [
              0.7777777777777778,
              "#fb9f3a"
             ],
             [
              0.8888888888888888,
              "#fdca26"
             ],
             [
              1,
              "#f0f921"
             ]
            ],
            "type": "heatmap"
           }
          ],
          "heatmapgl": [
           {
            "colorbar": {
             "outlinewidth": 0,
             "ticks": ""
            },
            "colorscale": [
             [
              0,
              "#0d0887"
             ],
             [
              0.1111111111111111,
              "#46039f"
             ],
             [
              0.2222222222222222,
              "#7201a8"
             ],
             [
              0.3333333333333333,
              "#9c179e"
             ],
             [
              0.4444444444444444,
              "#bd3786"
             ],
             [
              0.5555555555555556,
              "#d8576b"
             ],
             [
              0.6666666666666666,
              "#ed7953"
             ],
             [
              0.7777777777777778,
              "#fb9f3a"
             ],
             [
              0.8888888888888888,
              "#fdca26"
             ],
             [
              1,
              "#f0f921"
             ]
            ],
            "type": "heatmapgl"
           }
          ],
          "histogram": [
           {
            "marker": {
             "pattern": {
              "fillmode": "overlay",
              "size": 10,
              "solidity": 0.2
             }
            },
            "type": "histogram"
           }
          ],
          "histogram2d": [
           {
            "colorbar": {
             "outlinewidth": 0,
             "ticks": ""
            },
            "colorscale": [
             [
              0,
              "#0d0887"
             ],
             [
              0.1111111111111111,
              "#46039f"
             ],
             [
              0.2222222222222222,
              "#7201a8"
             ],
             [
              0.3333333333333333,
              "#9c179e"
             ],
             [
              0.4444444444444444,
              "#bd3786"
             ],
             [
              0.5555555555555556,
              "#d8576b"
             ],
             [
              0.6666666666666666,
              "#ed7953"
             ],
             [
              0.7777777777777778,
              "#fb9f3a"
             ],
             [
              0.8888888888888888,
              "#fdca26"
             ],
             [
              1,
              "#f0f921"
             ]
            ],
            "type": "histogram2d"
           }
          ],
          "histogram2dcontour": [
           {
            "colorbar": {
             "outlinewidth": 0,
             "ticks": ""
            },
            "colorscale": [
             [
              0,
              "#0d0887"
             ],
             [
              0.1111111111111111,
              "#46039f"
             ],
             [
              0.2222222222222222,
              "#7201a8"
             ],
             [
              0.3333333333333333,
              "#9c179e"
             ],
             [
              0.4444444444444444,
              "#bd3786"
             ],
             [
              0.5555555555555556,
              "#d8576b"
             ],
             [
              0.6666666666666666,
              "#ed7953"
             ],
             [
              0.7777777777777778,
              "#fb9f3a"
             ],
             [
              0.8888888888888888,
              "#fdca26"
             ],
             [
              1,
              "#f0f921"
             ]
            ],
            "type": "histogram2dcontour"
           }
          ],
          "mesh3d": [
           {
            "colorbar": {
             "outlinewidth": 0,
             "ticks": ""
            },
            "type": "mesh3d"
           }
          ],
          "parcoords": [
           {
            "line": {
             "colorbar": {
              "outlinewidth": 0,
              "ticks": ""
             }
            },
            "type": "parcoords"
           }
          ],
          "pie": [
           {
            "automargin": true,
            "type": "pie"
           }
          ],
          "scatter": [
           {
            "marker": {
             "colorbar": {
              "outlinewidth": 0,
              "ticks": ""
             }
            },
            "type": "scatter"
           }
          ],
          "scatter3d": [
           {
            "line": {
             "colorbar": {
              "outlinewidth": 0,
              "ticks": ""
             }
            },
            "marker": {
             "colorbar": {
              "outlinewidth": 0,
              "ticks": ""
             }
            },
            "type": "scatter3d"
           }
          ],
          "scattercarpet": [
           {
            "marker": {
             "colorbar": {
              "outlinewidth": 0,
              "ticks": ""
             }
            },
            "type": "scattercarpet"
           }
          ],
          "scattergeo": [
           {
            "marker": {
             "colorbar": {
              "outlinewidth": 0,
              "ticks": ""
             }
            },
            "type": "scattergeo"
           }
          ],
          "scattergl": [
           {
            "marker": {
             "colorbar": {
              "outlinewidth": 0,
              "ticks": ""
             }
            },
            "type": "scattergl"
           }
          ],
          "scattermapbox": [
           {
            "marker": {
             "colorbar": {
              "outlinewidth": 0,
              "ticks": ""
             }
            },
            "type": "scattermapbox"
           }
          ],
          "scatterpolar": [
           {
            "marker": {
             "colorbar": {
              "outlinewidth": 0,
              "ticks": ""
             }
            },
            "type": "scatterpolar"
           }
          ],
          "scatterpolargl": [
           {
            "marker": {
             "colorbar": {
              "outlinewidth": 0,
              "ticks": ""
             }
            },
            "type": "scatterpolargl"
           }
          ],
          "scatterternary": [
           {
            "marker": {
             "colorbar": {
              "outlinewidth": 0,
              "ticks": ""
             }
            },
            "type": "scatterternary"
           }
          ],
          "surface": [
           {
            "colorbar": {
             "outlinewidth": 0,
             "ticks": ""
            },
            "colorscale": [
             [
              0,
              "#0d0887"
             ],
             [
              0.1111111111111111,
              "#46039f"
             ],
             [
              0.2222222222222222,
              "#7201a8"
             ],
             [
              0.3333333333333333,
              "#9c179e"
             ],
             [
              0.4444444444444444,
              "#bd3786"
             ],
             [
              0.5555555555555556,
              "#d8576b"
             ],
             [
              0.6666666666666666,
              "#ed7953"
             ],
             [
              0.7777777777777778,
              "#fb9f3a"
             ],
             [
              0.8888888888888888,
              "#fdca26"
             ],
             [
              1,
              "#f0f921"
             ]
            ],
            "type": "surface"
           }
          ],
          "table": [
           {
            "cells": {
             "fill": {
              "color": "#EBF0F8"
             },
             "line": {
              "color": "white"
             }
            },
            "header": {
             "fill": {
              "color": "#C8D4E3"
             },
             "line": {
              "color": "white"
             }
            },
            "type": "table"
           }
          ]
         },
         "layout": {
          "annotationdefaults": {
           "arrowcolor": "#2a3f5f",
           "arrowhead": 0,
           "arrowwidth": 1
          },
          "autotypenumbers": "strict",
          "coloraxis": {
           "colorbar": {
            "outlinewidth": 0,
            "ticks": ""
           }
          },
          "colorscale": {
           "diverging": [
            [
             0,
             "#8e0152"
            ],
            [
             0.1,
             "#c51b7d"
            ],
            [
             0.2,
             "#de77ae"
            ],
            [
             0.3,
             "#f1b6da"
            ],
            [
             0.4,
             "#fde0ef"
            ],
            [
             0.5,
             "#f7f7f7"
            ],
            [
             0.6,
             "#e6f5d0"
            ],
            [
             0.7,
             "#b8e186"
            ],
            [
             0.8,
             "#7fbc41"
            ],
            [
             0.9,
             "#4d9221"
            ],
            [
             1,
             "#276419"
            ]
           ],
           "sequential": [
            [
             0,
             "#0d0887"
            ],
            [
             0.1111111111111111,
             "#46039f"
            ],
            [
             0.2222222222222222,
             "#7201a8"
            ],
            [
             0.3333333333333333,
             "#9c179e"
            ],
            [
             0.4444444444444444,
             "#bd3786"
            ],
            [
             0.5555555555555556,
             "#d8576b"
            ],
            [
             0.6666666666666666,
             "#ed7953"
            ],
            [
             0.7777777777777778,
             "#fb9f3a"
            ],
            [
             0.8888888888888888,
             "#fdca26"
            ],
            [
             1,
             "#f0f921"
            ]
           ],
           "sequentialminus": [
            [
             0,
             "#0d0887"
            ],
            [
             0.1111111111111111,
             "#46039f"
            ],
            [
             0.2222222222222222,
             "#7201a8"
            ],
            [
             0.3333333333333333,
             "#9c179e"
            ],
            [
             0.4444444444444444,
             "#bd3786"
            ],
            [
             0.5555555555555556,
             "#d8576b"
            ],
            [
             0.6666666666666666,
             "#ed7953"
            ],
            [
             0.7777777777777778,
             "#fb9f3a"
            ],
            [
             0.8888888888888888,
             "#fdca26"
            ],
            [
             1,
             "#f0f921"
            ]
           ]
          },
          "colorway": [
           "#636efa",
           "#EF553B",
           "#00cc96",
           "#ab63fa",
           "#FFA15A",
           "#19d3f3",
           "#FF6692",
           "#B6E880",
           "#FF97FF",
           "#FECB52"
          ],
          "font": {
           "color": "#2a3f5f"
          },
          "geo": {
           "bgcolor": "white",
           "lakecolor": "white",
           "landcolor": "#E5ECF6",
           "showlakes": true,
           "showland": true,
           "subunitcolor": "white"
          },
          "hoverlabel": {
           "align": "left"
          },
          "hovermode": "closest",
          "mapbox": {
           "style": "light"
          },
          "paper_bgcolor": "white",
          "plot_bgcolor": "#E5ECF6",
          "polar": {
           "angularaxis": {
            "gridcolor": "white",
            "linecolor": "white",
            "ticks": ""
           },
           "bgcolor": "#E5ECF6",
           "radialaxis": {
            "gridcolor": "white",
            "linecolor": "white",
            "ticks": ""
           }
          },
          "scene": {
           "xaxis": {
            "backgroundcolor": "#E5ECF6",
            "gridcolor": "white",
            "gridwidth": 2,
            "linecolor": "white",
            "showbackground": true,
            "ticks": "",
            "zerolinecolor": "white"
           },
           "yaxis": {
            "backgroundcolor": "#E5ECF6",
            "gridcolor": "white",
            "gridwidth": 2,
            "linecolor": "white",
            "showbackground": true,
            "ticks": "",
            "zerolinecolor": "white"
           },
           "zaxis": {
            "backgroundcolor": "#E5ECF6",
            "gridcolor": "white",
            "gridwidth": 2,
            "linecolor": "white",
            "showbackground": true,
            "ticks": "",
            "zerolinecolor": "white"
           }
          },
          "shapedefaults": {
           "line": {
            "color": "#2a3f5f"
           }
          },
          "ternary": {
           "aaxis": {
            "gridcolor": "white",
            "linecolor": "white",
            "ticks": ""
           },
           "baxis": {
            "gridcolor": "white",
            "linecolor": "white",
            "ticks": ""
           },
           "bgcolor": "#E5ECF6",
           "caxis": {
            "gridcolor": "white",
            "linecolor": "white",
            "ticks": ""
           }
          },
          "title": {
           "x": 0.05
          },
          "xaxis": {
           "automargin": true,
           "gridcolor": "white",
           "linecolor": "white",
           "ticks": "",
           "title": {
            "standoff": 15
           },
           "zerolinecolor": "white",
           "zerolinewidth": 2
          },
          "yaxis": {
           "automargin": true,
           "gridcolor": "white",
           "linecolor": "white",
           "ticks": "",
           "title": {
            "standoff": 15
           },
           "zerolinecolor": "white",
           "zerolinewidth": 2
          }
         }
        },
        "title": {
         "text": "Model Comparison: Root Mean Squared Error"
        },
        "xaxis": {
         "title": {
          "text": "RMSE"
         }
        },
        "yaxis": {
         "title": {
          "text": "Models"
         }
        }
       }
      },
      "text/html": [
       "<div>                            <div id=\"97d80653-77a3-4490-8a4b-353bd8ab2aa0\" class=\"plotly-graph-div\" style=\"height:525px; width:100%;\"></div>            <script type=\"text/javascript\">                require([\"plotly\"], function(Plotly) {                    window.PLOTLYENV=window.PLOTLYENV || {};                                    if (document.getElementById(\"97d80653-77a3-4490-8a4b-353bd8ab2aa0\")) {                    Plotly.newPlot(                        \"97d80653-77a3-4490-8a4b-353bd8ab2aa0\",                        [{\"marker\":{\"color\":[\"#ebc83d\",\"#badf55\",\"#35b1c9\",\"#b06dad\",\"#e96060\",\"#1e1d69\"]},\"x\":[\"OLS Linear Regression\",\"Ridge Regession\",\"K-Nearest Neighbors Regression\",\"Decision Tree Regression\",\"Random Forest Regression\"],\"y\":[9297,9297,8140,8349,7934],\"type\":\"bar\"}],                        {\"title\":{\"text\":\"Model Comparison: Root Mean Squared Error\"},\"xaxis\":{\"title\":{\"text\":\"RMSE\"}},\"yaxis\":{\"title\":{\"text\":\"Models\"}},\"template\":{\"data\":{\"bar\":[{\"error_x\":{\"color\":\"#2a3f5f\"},\"error_y\":{\"color\":\"#2a3f5f\"},\"marker\":{\"line\":{\"color\":\"#E5ECF6\",\"width\":0.5},\"pattern\":{\"fillmode\":\"overlay\",\"size\":10,\"solidity\":0.2}},\"type\":\"bar\"}],\"barpolar\":[{\"marker\":{\"line\":{\"color\":\"#E5ECF6\",\"width\":0.5},\"pattern\":{\"fillmode\":\"overlay\",\"size\":10,\"solidity\":0.2}},\"type\":\"barpolar\"}],\"carpet\":[{\"aaxis\":{\"endlinecolor\":\"#2a3f5f\",\"gridcolor\":\"white\",\"linecolor\":\"white\",\"minorgridcolor\":\"white\",\"startlinecolor\":\"#2a3f5f\"},\"baxis\":{\"endlinecolor\":\"#2a3f5f\",\"gridcolor\":\"white\",\"linecolor\":\"white\",\"minorgridcolor\":\"white\",\"startlinecolor\":\"#2a3f5f\"},\"type\":\"carpet\"}],\"choropleth\":[{\"colorbar\":{\"outlinewidth\":0,\"ticks\":\"\"},\"type\":\"choropleth\"}],\"contour\":[{\"colorbar\":{\"outlinewidth\":0,\"ticks\":\"\"},\"colorscale\":[[0.0,\"#0d0887\"],[0.1111111111111111,\"#46039f\"],[0.2222222222222222,\"#7201a8\"],[0.3333333333333333,\"#9c179e\"],[0.4444444444444444,\"#bd3786\"],[0.5555555555555556,\"#d8576b\"],[0.6666666666666666,\"#ed7953\"],[0.7777777777777778,\"#fb9f3a\"],[0.8888888888888888,\"#fdca26\"],[1.0,\"#f0f921\"]],\"type\":\"contour\"}],\"contourcarpet\":[{\"colorbar\":{\"outlinewidth\":0,\"ticks\":\"\"},\"type\":\"contourcarpet\"}],\"heatmap\":[{\"colorbar\":{\"outlinewidth\":0,\"ticks\":\"\"},\"colorscale\":[[0.0,\"#0d0887\"],[0.1111111111111111,\"#46039f\"],[0.2222222222222222,\"#7201a8\"],[0.3333333333333333,\"#9c179e\"],[0.4444444444444444,\"#bd3786\"],[0.5555555555555556,\"#d8576b\"],[0.6666666666666666,\"#ed7953\"],[0.7777777777777778,\"#fb9f3a\"],[0.8888888888888888,\"#fdca26\"],[1.0,\"#f0f921\"]],\"type\":\"heatmap\"}],\"heatmapgl\":[{\"colorbar\":{\"outlinewidth\":0,\"ticks\":\"\"},\"colorscale\":[[0.0,\"#0d0887\"],[0.1111111111111111,\"#46039f\"],[0.2222222222222222,\"#7201a8\"],[0.3333333333333333,\"#9c179e\"],[0.4444444444444444,\"#bd3786\"],[0.5555555555555556,\"#d8576b\"],[0.6666666666666666,\"#ed7953\"],[0.7777777777777778,\"#fb9f3a\"],[0.8888888888888888,\"#fdca26\"],[1.0,\"#f0f921\"]],\"type\":\"heatmapgl\"}],\"histogram\":[{\"marker\":{\"pattern\":{\"fillmode\":\"overlay\",\"size\":10,\"solidity\":0.2}},\"type\":\"histogram\"}],\"histogram2d\":[{\"colorbar\":{\"outlinewidth\":0,\"ticks\":\"\"},\"colorscale\":[[0.0,\"#0d0887\"],[0.1111111111111111,\"#46039f\"],[0.2222222222222222,\"#7201a8\"],[0.3333333333333333,\"#9c179e\"],[0.4444444444444444,\"#bd3786\"],[0.5555555555555556,\"#d8576b\"],[0.6666666666666666,\"#ed7953\"],[0.7777777777777778,\"#fb9f3a\"],[0.8888888888888888,\"#fdca26\"],[1.0,\"#f0f921\"]],\"type\":\"histogram2d\"}],\"histogram2dcontour\":[{\"colorbar\":{\"outlinewidth\":0,\"ticks\":\"\"},\"colorscale\":[[0.0,\"#0d0887\"],[0.1111111111111111,\"#46039f\"],[0.2222222222222222,\"#7201a8\"],[0.3333333333333333,\"#9c179e\"],[0.4444444444444444,\"#bd3786\"],[0.5555555555555556,\"#d8576b\"],[0.6666666666666666,\"#ed7953\"],[0.7777777777777778,\"#fb9f3a\"],[0.8888888888888888,\"#fdca26\"],[1.0,\"#f0f921\"]],\"type\":\"histogram2dcontour\"}],\"mesh3d\":[{\"colorbar\":{\"outlinewidth\":0,\"ticks\":\"\"},\"type\":\"mesh3d\"}],\"parcoords\":[{\"line\":{\"colorbar\":{\"outlinewidth\":0,\"ticks\":\"\"}},\"type\":\"parcoords\"}],\"pie\":[{\"automargin\":true,\"type\":\"pie\"}],\"scatter\":[{\"marker\":{\"colorbar\":{\"outlinewidth\":0,\"ticks\":\"\"}},\"type\":\"scatter\"}],\"scatter3d\":[{\"line\":{\"colorbar\":{\"outlinewidth\":0,\"ticks\":\"\"}},\"marker\":{\"colorbar\":{\"outlinewidth\":0,\"ticks\":\"\"}},\"type\":\"scatter3d\"}],\"scattercarpet\":[{\"marker\":{\"colorbar\":{\"outlinewidth\":0,\"ticks\":\"\"}},\"type\":\"scattercarpet\"}],\"scattergeo\":[{\"marker\":{\"colorbar\":{\"outlinewidth\":0,\"ticks\":\"\"}},\"type\":\"scattergeo\"}],\"scattergl\":[{\"marker\":{\"colorbar\":{\"outlinewidth\":0,\"ticks\":\"\"}},\"type\":\"scattergl\"}],\"scattermapbox\":[{\"marker\":{\"colorbar\":{\"outlinewidth\":0,\"ticks\":\"\"}},\"type\":\"scattermapbox\"}],\"scatterpolar\":[{\"marker\":{\"colorbar\":{\"outlinewidth\":0,\"ticks\":\"\"}},\"type\":\"scatterpolar\"}],\"scatterpolargl\":[{\"marker\":{\"colorbar\":{\"outlinewidth\":0,\"ticks\":\"\"}},\"type\":\"scatterpolargl\"}],\"scatterternary\":[{\"marker\":{\"colorbar\":{\"outlinewidth\":0,\"ticks\":\"\"}},\"type\":\"scatterternary\"}],\"surface\":[{\"colorbar\":{\"outlinewidth\":0,\"ticks\":\"\"},\"colorscale\":[[0.0,\"#0d0887\"],[0.1111111111111111,\"#46039f\"],[0.2222222222222222,\"#7201a8\"],[0.3333333333333333,\"#9c179e\"],[0.4444444444444444,\"#bd3786\"],[0.5555555555555556,\"#d8576b\"],[0.6666666666666666,\"#ed7953\"],[0.7777777777777778,\"#fb9f3a\"],[0.8888888888888888,\"#fdca26\"],[1.0,\"#f0f921\"]],\"type\":\"surface\"}],\"table\":[{\"cells\":{\"fill\":{\"color\":\"#EBF0F8\"},\"line\":{\"color\":\"white\"}},\"header\":{\"fill\":{\"color\":\"#C8D4E3\"},\"line\":{\"color\":\"white\"}},\"type\":\"table\"}]},\"layout\":{\"annotationdefaults\":{\"arrowcolor\":\"#2a3f5f\",\"arrowhead\":0,\"arrowwidth\":1},\"autotypenumbers\":\"strict\",\"coloraxis\":{\"colorbar\":{\"outlinewidth\":0,\"ticks\":\"\"}},\"colorscale\":{\"diverging\":[[0,\"#8e0152\"],[0.1,\"#c51b7d\"],[0.2,\"#de77ae\"],[0.3,\"#f1b6da\"],[0.4,\"#fde0ef\"],[0.5,\"#f7f7f7\"],[0.6,\"#e6f5d0\"],[0.7,\"#b8e186\"],[0.8,\"#7fbc41\"],[0.9,\"#4d9221\"],[1,\"#276419\"]],\"sequential\":[[0.0,\"#0d0887\"],[0.1111111111111111,\"#46039f\"],[0.2222222222222222,\"#7201a8\"],[0.3333333333333333,\"#9c179e\"],[0.4444444444444444,\"#bd3786\"],[0.5555555555555556,\"#d8576b\"],[0.6666666666666666,\"#ed7953\"],[0.7777777777777778,\"#fb9f3a\"],[0.8888888888888888,\"#fdca26\"],[1.0,\"#f0f921\"]],\"sequentialminus\":[[0.0,\"#0d0887\"],[0.1111111111111111,\"#46039f\"],[0.2222222222222222,\"#7201a8\"],[0.3333333333333333,\"#9c179e\"],[0.4444444444444444,\"#bd3786\"],[0.5555555555555556,\"#d8576b\"],[0.6666666666666666,\"#ed7953\"],[0.7777777777777778,\"#fb9f3a\"],[0.8888888888888888,\"#fdca26\"],[1.0,\"#f0f921\"]]},\"colorway\":[\"#636efa\",\"#EF553B\",\"#00cc96\",\"#ab63fa\",\"#FFA15A\",\"#19d3f3\",\"#FF6692\",\"#B6E880\",\"#FF97FF\",\"#FECB52\"],\"font\":{\"color\":\"#2a3f5f\"},\"geo\":{\"bgcolor\":\"white\",\"lakecolor\":\"white\",\"landcolor\":\"#E5ECF6\",\"showlakes\":true,\"showland\":true,\"subunitcolor\":\"white\"},\"hoverlabel\":{\"align\":\"left\"},\"hovermode\":\"closest\",\"mapbox\":{\"style\":\"light\"},\"paper_bgcolor\":\"white\",\"plot_bgcolor\":\"#E5ECF6\",\"polar\":{\"angularaxis\":{\"gridcolor\":\"white\",\"linecolor\":\"white\",\"ticks\":\"\"},\"bgcolor\":\"#E5ECF6\",\"radialaxis\":{\"gridcolor\":\"white\",\"linecolor\":\"white\",\"ticks\":\"\"}},\"scene\":{\"xaxis\":{\"backgroundcolor\":\"#E5ECF6\",\"gridcolor\":\"white\",\"gridwidth\":2,\"linecolor\":\"white\",\"showbackground\":true,\"ticks\":\"\",\"zerolinecolor\":\"white\"},\"yaxis\":{\"backgroundcolor\":\"#E5ECF6\",\"gridcolor\":\"white\",\"gridwidth\":2,\"linecolor\":\"white\",\"showbackground\":true,\"ticks\":\"\",\"zerolinecolor\":\"white\"},\"zaxis\":{\"backgroundcolor\":\"#E5ECF6\",\"gridcolor\":\"white\",\"gridwidth\":2,\"linecolor\":\"white\",\"showbackground\":true,\"ticks\":\"\",\"zerolinecolor\":\"white\"}},\"shapedefaults\":{\"line\":{\"color\":\"#2a3f5f\"}},\"ternary\":{\"aaxis\":{\"gridcolor\":\"white\",\"linecolor\":\"white\",\"ticks\":\"\"},\"baxis\":{\"gridcolor\":\"white\",\"linecolor\":\"white\",\"ticks\":\"\"},\"bgcolor\":\"#E5ECF6\",\"caxis\":{\"gridcolor\":\"white\",\"linecolor\":\"white\",\"ticks\":\"\"}},\"title\":{\"x\":0.05},\"xaxis\":{\"automargin\":true,\"gridcolor\":\"white\",\"linecolor\":\"white\",\"ticks\":\"\",\"title\":{\"standoff\":15},\"zerolinecolor\":\"white\",\"zerolinewidth\":2},\"yaxis\":{\"automargin\":true,\"gridcolor\":\"white\",\"linecolor\":\"white\",\"ticks\":\"\",\"title\":{\"standoff\":15},\"zerolinecolor\":\"white\",\"zerolinewidth\":2}}}},                        {\"responsive\": true}                    ).then(function(){\n",
       "                            \n",
       "var gd = document.getElementById('97d80653-77a3-4490-8a4b-353bd8ab2aa0');\n",
       "var x = new MutationObserver(function (mutations, observer) {{\n",
       "        var display = window.getComputedStyle(gd).display;\n",
       "        if (!display || display === 'none') {{\n",
       "            console.log([gd, 'removed!']);\n",
       "            Plotly.purge(gd);\n",
       "            observer.disconnect();\n",
       "        }}\n",
       "}});\n",
       "\n",
       "// Listen for the removal of the full notebook cells\n",
       "var notebookContainer = gd.closest('#notebook-container');\n",
       "if (notebookContainer) {{\n",
       "    x.observe(notebookContainer, {childList: true});\n",
       "}}\n",
       "\n",
       "// Listen for the clearing of the current output cell\n",
       "var outputEl = gd.closest('.output');\n",
       "if (outputEl) {{\n",
       "    x.observe(outputEl, {childList: true});\n",
       "}}\n",
       "\n",
       "                        })                };                });            </script>        </div>"
      ]
     },
     "metadata": {},
     "output_type": "display_data"
    }
   ],
   "source": [
    "# Bar chart with plotly: RMSE\n",
    "trace = go.Bar(x=list(evaluation_df2.index), \n",
    "               y=evaluation_df2['RMSE'], \n",
    "                marker=dict(color=['#ebc83d','#badf55', '#35b1c9','#b06dad','#e96060', '#1e1d69'])\n",
    "              )\n",
    "layout = go.Layout(title = 'Model Comparison: Root Mean Squared Error', # Graph title\n",
    "    yaxis = dict(title = 'Models'), # x-axis label\n",
    "    xaxis = dict(title = 'RMSE'), # y-axis label  \n",
    "                  ) \n",
    "\n",
    "rmse_fig = go.Figure(data = [trace], layout=layout)\n",
    "rmse_fig"
   ]
  },
  {
   "cell_type": "code",
   "execution_count": 88,
   "id": "4da37c5c",
   "metadata": {},
   "outputs": [
    {
     "data": {
      "application/vnd.plotly.v1+json": {
       "config": {
        "plotlyServerURL": "https://plot.ly"
       },
       "data": [
        {
         "marker": {
          "color": [
           "#ebc83d",
           "#badf55",
           "#35b1c9",
           "#b06dad",
           "#e96060",
           "#1e1d69"
          ]
         },
         "type": "bar",
         "x": [
          "OLS Linear Regression",
          "Ridge Regession",
          "K-Nearest Neighbors Regression",
          "Decision Tree Regression",
          "Random Forest Regression"
         ],
         "y": [
          0.52,
          0.52,
          0.63,
          0.61,
          0.65
         ]
        }
       ],
       "layout": {
        "template": {
         "data": {
          "bar": [
           {
            "error_x": {
             "color": "#2a3f5f"
            },
            "error_y": {
             "color": "#2a3f5f"
            },
            "marker": {
             "line": {
              "color": "#E5ECF6",
              "width": 0.5
             },
             "pattern": {
              "fillmode": "overlay",
              "size": 10,
              "solidity": 0.2
             }
            },
            "type": "bar"
           }
          ],
          "barpolar": [
           {
            "marker": {
             "line": {
              "color": "#E5ECF6",
              "width": 0.5
             },
             "pattern": {
              "fillmode": "overlay",
              "size": 10,
              "solidity": 0.2
             }
            },
            "type": "barpolar"
           }
          ],
          "carpet": [
           {
            "aaxis": {
             "endlinecolor": "#2a3f5f",
             "gridcolor": "white",
             "linecolor": "white",
             "minorgridcolor": "white",
             "startlinecolor": "#2a3f5f"
            },
            "baxis": {
             "endlinecolor": "#2a3f5f",
             "gridcolor": "white",
             "linecolor": "white",
             "minorgridcolor": "white",
             "startlinecolor": "#2a3f5f"
            },
            "type": "carpet"
           }
          ],
          "choropleth": [
           {
            "colorbar": {
             "outlinewidth": 0,
             "ticks": ""
            },
            "type": "choropleth"
           }
          ],
          "contour": [
           {
            "colorbar": {
             "outlinewidth": 0,
             "ticks": ""
            },
            "colorscale": [
             [
              0,
              "#0d0887"
             ],
             [
              0.1111111111111111,
              "#46039f"
             ],
             [
              0.2222222222222222,
              "#7201a8"
             ],
             [
              0.3333333333333333,
              "#9c179e"
             ],
             [
              0.4444444444444444,
              "#bd3786"
             ],
             [
              0.5555555555555556,
              "#d8576b"
             ],
             [
              0.6666666666666666,
              "#ed7953"
             ],
             [
              0.7777777777777778,
              "#fb9f3a"
             ],
             [
              0.8888888888888888,
              "#fdca26"
             ],
             [
              1,
              "#f0f921"
             ]
            ],
            "type": "contour"
           }
          ],
          "contourcarpet": [
           {
            "colorbar": {
             "outlinewidth": 0,
             "ticks": ""
            },
            "type": "contourcarpet"
           }
          ],
          "heatmap": [
           {
            "colorbar": {
             "outlinewidth": 0,
             "ticks": ""
            },
            "colorscale": [
             [
              0,
              "#0d0887"
             ],
             [
              0.1111111111111111,
              "#46039f"
             ],
             [
              0.2222222222222222,
              "#7201a8"
             ],
             [
              0.3333333333333333,
              "#9c179e"
             ],
             [
              0.4444444444444444,
              "#bd3786"
             ],
             [
              0.5555555555555556,
              "#d8576b"
             ],
             [
              0.6666666666666666,
              "#ed7953"
             ],
             [
              0.7777777777777778,
              "#fb9f3a"
             ],
             [
              0.8888888888888888,
              "#fdca26"
             ],
             [
              1,
              "#f0f921"
             ]
            ],
            "type": "heatmap"
           }
          ],
          "heatmapgl": [
           {
            "colorbar": {
             "outlinewidth": 0,
             "ticks": ""
            },
            "colorscale": [
             [
              0,
              "#0d0887"
             ],
             [
              0.1111111111111111,
              "#46039f"
             ],
             [
              0.2222222222222222,
              "#7201a8"
             ],
             [
              0.3333333333333333,
              "#9c179e"
             ],
             [
              0.4444444444444444,
              "#bd3786"
             ],
             [
              0.5555555555555556,
              "#d8576b"
             ],
             [
              0.6666666666666666,
              "#ed7953"
             ],
             [
              0.7777777777777778,
              "#fb9f3a"
             ],
             [
              0.8888888888888888,
              "#fdca26"
             ],
             [
              1,
              "#f0f921"
             ]
            ],
            "type": "heatmapgl"
           }
          ],
          "histogram": [
           {
            "marker": {
             "pattern": {
              "fillmode": "overlay",
              "size": 10,
              "solidity": 0.2
             }
            },
            "type": "histogram"
           }
          ],
          "histogram2d": [
           {
            "colorbar": {
             "outlinewidth": 0,
             "ticks": ""
            },
            "colorscale": [
             [
              0,
              "#0d0887"
             ],
             [
              0.1111111111111111,
              "#46039f"
             ],
             [
              0.2222222222222222,
              "#7201a8"
             ],
             [
              0.3333333333333333,
              "#9c179e"
             ],
             [
              0.4444444444444444,
              "#bd3786"
             ],
             [
              0.5555555555555556,
              "#d8576b"
             ],
             [
              0.6666666666666666,
              "#ed7953"
             ],
             [
              0.7777777777777778,
              "#fb9f3a"
             ],
             [
              0.8888888888888888,
              "#fdca26"
             ],
             [
              1,
              "#f0f921"
             ]
            ],
            "type": "histogram2d"
           }
          ],
          "histogram2dcontour": [
           {
            "colorbar": {
             "outlinewidth": 0,
             "ticks": ""
            },
            "colorscale": [
             [
              0,
              "#0d0887"
             ],
             [
              0.1111111111111111,
              "#46039f"
             ],
             [
              0.2222222222222222,
              "#7201a8"
             ],
             [
              0.3333333333333333,
              "#9c179e"
             ],
             [
              0.4444444444444444,
              "#bd3786"
             ],
             [
              0.5555555555555556,
              "#d8576b"
             ],
             [
              0.6666666666666666,
              "#ed7953"
             ],
             [
              0.7777777777777778,
              "#fb9f3a"
             ],
             [
              0.8888888888888888,
              "#fdca26"
             ],
             [
              1,
              "#f0f921"
             ]
            ],
            "type": "histogram2dcontour"
           }
          ],
          "mesh3d": [
           {
            "colorbar": {
             "outlinewidth": 0,
             "ticks": ""
            },
            "type": "mesh3d"
           }
          ],
          "parcoords": [
           {
            "line": {
             "colorbar": {
              "outlinewidth": 0,
              "ticks": ""
             }
            },
            "type": "parcoords"
           }
          ],
          "pie": [
           {
            "automargin": true,
            "type": "pie"
           }
          ],
          "scatter": [
           {
            "marker": {
             "colorbar": {
              "outlinewidth": 0,
              "ticks": ""
             }
            },
            "type": "scatter"
           }
          ],
          "scatter3d": [
           {
            "line": {
             "colorbar": {
              "outlinewidth": 0,
              "ticks": ""
             }
            },
            "marker": {
             "colorbar": {
              "outlinewidth": 0,
              "ticks": ""
             }
            },
            "type": "scatter3d"
           }
          ],
          "scattercarpet": [
           {
            "marker": {
             "colorbar": {
              "outlinewidth": 0,
              "ticks": ""
             }
            },
            "type": "scattercarpet"
           }
          ],
          "scattergeo": [
           {
            "marker": {
             "colorbar": {
              "outlinewidth": 0,
              "ticks": ""
             }
            },
            "type": "scattergeo"
           }
          ],
          "scattergl": [
           {
            "marker": {
             "colorbar": {
              "outlinewidth": 0,
              "ticks": ""
             }
            },
            "type": "scattergl"
           }
          ],
          "scattermapbox": [
           {
            "marker": {
             "colorbar": {
              "outlinewidth": 0,
              "ticks": ""
             }
            },
            "type": "scattermapbox"
           }
          ],
          "scatterpolar": [
           {
            "marker": {
             "colorbar": {
              "outlinewidth": 0,
              "ticks": ""
             }
            },
            "type": "scatterpolar"
           }
          ],
          "scatterpolargl": [
           {
            "marker": {
             "colorbar": {
              "outlinewidth": 0,
              "ticks": ""
             }
            },
            "type": "scatterpolargl"
           }
          ],
          "scatterternary": [
           {
            "marker": {
             "colorbar": {
              "outlinewidth": 0,
              "ticks": ""
             }
            },
            "type": "scatterternary"
           }
          ],
          "surface": [
           {
            "colorbar": {
             "outlinewidth": 0,
             "ticks": ""
            },
            "colorscale": [
             [
              0,
              "#0d0887"
             ],
             [
              0.1111111111111111,
              "#46039f"
             ],
             [
              0.2222222222222222,
              "#7201a8"
             ],
             [
              0.3333333333333333,
              "#9c179e"
             ],
             [
              0.4444444444444444,
              "#bd3786"
             ],
             [
              0.5555555555555556,
              "#d8576b"
             ],
             [
              0.6666666666666666,
              "#ed7953"
             ],
             [
              0.7777777777777778,
              "#fb9f3a"
             ],
             [
              0.8888888888888888,
              "#fdca26"
             ],
             [
              1,
              "#f0f921"
             ]
            ],
            "type": "surface"
           }
          ],
          "table": [
           {
            "cells": {
             "fill": {
              "color": "#EBF0F8"
             },
             "line": {
              "color": "white"
             }
            },
            "header": {
             "fill": {
              "color": "#C8D4E3"
             },
             "line": {
              "color": "white"
             }
            },
            "type": "table"
           }
          ]
         },
         "layout": {
          "annotationdefaults": {
           "arrowcolor": "#2a3f5f",
           "arrowhead": 0,
           "arrowwidth": 1
          },
          "autotypenumbers": "strict",
          "coloraxis": {
           "colorbar": {
            "outlinewidth": 0,
            "ticks": ""
           }
          },
          "colorscale": {
           "diverging": [
            [
             0,
             "#8e0152"
            ],
            [
             0.1,
             "#c51b7d"
            ],
            [
             0.2,
             "#de77ae"
            ],
            [
             0.3,
             "#f1b6da"
            ],
            [
             0.4,
             "#fde0ef"
            ],
            [
             0.5,
             "#f7f7f7"
            ],
            [
             0.6,
             "#e6f5d0"
            ],
            [
             0.7,
             "#b8e186"
            ],
            [
             0.8,
             "#7fbc41"
            ],
            [
             0.9,
             "#4d9221"
            ],
            [
             1,
             "#276419"
            ]
           ],
           "sequential": [
            [
             0,
             "#0d0887"
            ],
            [
             0.1111111111111111,
             "#46039f"
            ],
            [
             0.2222222222222222,
             "#7201a8"
            ],
            [
             0.3333333333333333,
             "#9c179e"
            ],
            [
             0.4444444444444444,
             "#bd3786"
            ],
            [
             0.5555555555555556,
             "#d8576b"
            ],
            [
             0.6666666666666666,
             "#ed7953"
            ],
            [
             0.7777777777777778,
             "#fb9f3a"
            ],
            [
             0.8888888888888888,
             "#fdca26"
            ],
            [
             1,
             "#f0f921"
            ]
           ],
           "sequentialminus": [
            [
             0,
             "#0d0887"
            ],
            [
             0.1111111111111111,
             "#46039f"
            ],
            [
             0.2222222222222222,
             "#7201a8"
            ],
            [
             0.3333333333333333,
             "#9c179e"
            ],
            [
             0.4444444444444444,
             "#bd3786"
            ],
            [
             0.5555555555555556,
             "#d8576b"
            ],
            [
             0.6666666666666666,
             "#ed7953"
            ],
            [
             0.7777777777777778,
             "#fb9f3a"
            ],
            [
             0.8888888888888888,
             "#fdca26"
            ],
            [
             1,
             "#f0f921"
            ]
           ]
          },
          "colorway": [
           "#636efa",
           "#EF553B",
           "#00cc96",
           "#ab63fa",
           "#FFA15A",
           "#19d3f3",
           "#FF6692",
           "#B6E880",
           "#FF97FF",
           "#FECB52"
          ],
          "font": {
           "color": "#2a3f5f"
          },
          "geo": {
           "bgcolor": "white",
           "lakecolor": "white",
           "landcolor": "#E5ECF6",
           "showlakes": true,
           "showland": true,
           "subunitcolor": "white"
          },
          "hoverlabel": {
           "align": "left"
          },
          "hovermode": "closest",
          "mapbox": {
           "style": "light"
          },
          "paper_bgcolor": "white",
          "plot_bgcolor": "#E5ECF6",
          "polar": {
           "angularaxis": {
            "gridcolor": "white",
            "linecolor": "white",
            "ticks": ""
           },
           "bgcolor": "#E5ECF6",
           "radialaxis": {
            "gridcolor": "white",
            "linecolor": "white",
            "ticks": ""
           }
          },
          "scene": {
           "xaxis": {
            "backgroundcolor": "#E5ECF6",
            "gridcolor": "white",
            "gridwidth": 2,
            "linecolor": "white",
            "showbackground": true,
            "ticks": "",
            "zerolinecolor": "white"
           },
           "yaxis": {
            "backgroundcolor": "#E5ECF6",
            "gridcolor": "white",
            "gridwidth": 2,
            "linecolor": "white",
            "showbackground": true,
            "ticks": "",
            "zerolinecolor": "white"
           },
           "zaxis": {
            "backgroundcolor": "#E5ECF6",
            "gridcolor": "white",
            "gridwidth": 2,
            "linecolor": "white",
            "showbackground": true,
            "ticks": "",
            "zerolinecolor": "white"
           }
          },
          "shapedefaults": {
           "line": {
            "color": "#2a3f5f"
           }
          },
          "ternary": {
           "aaxis": {
            "gridcolor": "white",
            "linecolor": "white",
            "ticks": ""
           },
           "baxis": {
            "gridcolor": "white",
            "linecolor": "white",
            "ticks": ""
           },
           "bgcolor": "#E5ECF6",
           "caxis": {
            "gridcolor": "white",
            "linecolor": "white",
            "ticks": ""
           }
          },
          "title": {
           "x": 0.05
          },
          "xaxis": {
           "automargin": true,
           "gridcolor": "white",
           "linecolor": "white",
           "ticks": "",
           "title": {
            "standoff": 15
           },
           "zerolinecolor": "white",
           "zerolinewidth": 2
          },
          "yaxis": {
           "automargin": true,
           "gridcolor": "white",
           "linecolor": "white",
           "ticks": "",
           "title": {
            "standoff": 15
           },
           "zerolinecolor": "white",
           "zerolinewidth": 2
          }
         }
        },
        "title": {
         "text": "Model Comparison: R-Squared"
        },
        "xaxis": {
         "title": {
          "text": "R-Squared"
         }
        },
        "yaxis": {
         "title": {
          "text": "Models"
         }
        }
       }
      },
      "text/html": [
       "<div>                            <div id=\"a0b95762-51ac-4d31-b9df-7119a9ef6c89\" class=\"plotly-graph-div\" style=\"height:525px; width:100%;\"></div>            <script type=\"text/javascript\">                require([\"plotly\"], function(Plotly) {                    window.PLOTLYENV=window.PLOTLYENV || {};                                    if (document.getElementById(\"a0b95762-51ac-4d31-b9df-7119a9ef6c89\")) {                    Plotly.newPlot(                        \"a0b95762-51ac-4d31-b9df-7119a9ef6c89\",                        [{\"marker\":{\"color\":[\"#ebc83d\",\"#badf55\",\"#35b1c9\",\"#b06dad\",\"#e96060\",\"#1e1d69\"]},\"x\":[\"OLS Linear Regression\",\"Ridge Regession\",\"K-Nearest Neighbors Regression\",\"Decision Tree Regression\",\"Random Forest Regression\"],\"y\":[0.52,0.52,0.63,0.61,0.65],\"type\":\"bar\"}],                        {\"title\":{\"text\":\"Model Comparison: R-Squared\"},\"xaxis\":{\"title\":{\"text\":\"R-Squared\"}},\"yaxis\":{\"title\":{\"text\":\"Models\"}},\"template\":{\"data\":{\"bar\":[{\"error_x\":{\"color\":\"#2a3f5f\"},\"error_y\":{\"color\":\"#2a3f5f\"},\"marker\":{\"line\":{\"color\":\"#E5ECF6\",\"width\":0.5},\"pattern\":{\"fillmode\":\"overlay\",\"size\":10,\"solidity\":0.2}},\"type\":\"bar\"}],\"barpolar\":[{\"marker\":{\"line\":{\"color\":\"#E5ECF6\",\"width\":0.5},\"pattern\":{\"fillmode\":\"overlay\",\"size\":10,\"solidity\":0.2}},\"type\":\"barpolar\"}],\"carpet\":[{\"aaxis\":{\"endlinecolor\":\"#2a3f5f\",\"gridcolor\":\"white\",\"linecolor\":\"white\",\"minorgridcolor\":\"white\",\"startlinecolor\":\"#2a3f5f\"},\"baxis\":{\"endlinecolor\":\"#2a3f5f\",\"gridcolor\":\"white\",\"linecolor\":\"white\",\"minorgridcolor\":\"white\",\"startlinecolor\":\"#2a3f5f\"},\"type\":\"carpet\"}],\"choropleth\":[{\"colorbar\":{\"outlinewidth\":0,\"ticks\":\"\"},\"type\":\"choropleth\"}],\"contour\":[{\"colorbar\":{\"outlinewidth\":0,\"ticks\":\"\"},\"colorscale\":[[0.0,\"#0d0887\"],[0.1111111111111111,\"#46039f\"],[0.2222222222222222,\"#7201a8\"],[0.3333333333333333,\"#9c179e\"],[0.4444444444444444,\"#bd3786\"],[0.5555555555555556,\"#d8576b\"],[0.6666666666666666,\"#ed7953\"],[0.7777777777777778,\"#fb9f3a\"],[0.8888888888888888,\"#fdca26\"],[1.0,\"#f0f921\"]],\"type\":\"contour\"}],\"contourcarpet\":[{\"colorbar\":{\"outlinewidth\":0,\"ticks\":\"\"},\"type\":\"contourcarpet\"}],\"heatmap\":[{\"colorbar\":{\"outlinewidth\":0,\"ticks\":\"\"},\"colorscale\":[[0.0,\"#0d0887\"],[0.1111111111111111,\"#46039f\"],[0.2222222222222222,\"#7201a8\"],[0.3333333333333333,\"#9c179e\"],[0.4444444444444444,\"#bd3786\"],[0.5555555555555556,\"#d8576b\"],[0.6666666666666666,\"#ed7953\"],[0.7777777777777778,\"#fb9f3a\"],[0.8888888888888888,\"#fdca26\"],[1.0,\"#f0f921\"]],\"type\":\"heatmap\"}],\"heatmapgl\":[{\"colorbar\":{\"outlinewidth\":0,\"ticks\":\"\"},\"colorscale\":[[0.0,\"#0d0887\"],[0.1111111111111111,\"#46039f\"],[0.2222222222222222,\"#7201a8\"],[0.3333333333333333,\"#9c179e\"],[0.4444444444444444,\"#bd3786\"],[0.5555555555555556,\"#d8576b\"],[0.6666666666666666,\"#ed7953\"],[0.7777777777777778,\"#fb9f3a\"],[0.8888888888888888,\"#fdca26\"],[1.0,\"#f0f921\"]],\"type\":\"heatmapgl\"}],\"histogram\":[{\"marker\":{\"pattern\":{\"fillmode\":\"overlay\",\"size\":10,\"solidity\":0.2}},\"type\":\"histogram\"}],\"histogram2d\":[{\"colorbar\":{\"outlinewidth\":0,\"ticks\":\"\"},\"colorscale\":[[0.0,\"#0d0887\"],[0.1111111111111111,\"#46039f\"],[0.2222222222222222,\"#7201a8\"],[0.3333333333333333,\"#9c179e\"],[0.4444444444444444,\"#bd3786\"],[0.5555555555555556,\"#d8576b\"],[0.6666666666666666,\"#ed7953\"],[0.7777777777777778,\"#fb9f3a\"],[0.8888888888888888,\"#fdca26\"],[1.0,\"#f0f921\"]],\"type\":\"histogram2d\"}],\"histogram2dcontour\":[{\"colorbar\":{\"outlinewidth\":0,\"ticks\":\"\"},\"colorscale\":[[0.0,\"#0d0887\"],[0.1111111111111111,\"#46039f\"],[0.2222222222222222,\"#7201a8\"],[0.3333333333333333,\"#9c179e\"],[0.4444444444444444,\"#bd3786\"],[0.5555555555555556,\"#d8576b\"],[0.6666666666666666,\"#ed7953\"],[0.7777777777777778,\"#fb9f3a\"],[0.8888888888888888,\"#fdca26\"],[1.0,\"#f0f921\"]],\"type\":\"histogram2dcontour\"}],\"mesh3d\":[{\"colorbar\":{\"outlinewidth\":0,\"ticks\":\"\"},\"type\":\"mesh3d\"}],\"parcoords\":[{\"line\":{\"colorbar\":{\"outlinewidth\":0,\"ticks\":\"\"}},\"type\":\"parcoords\"}],\"pie\":[{\"automargin\":true,\"type\":\"pie\"}],\"scatter\":[{\"marker\":{\"colorbar\":{\"outlinewidth\":0,\"ticks\":\"\"}},\"type\":\"scatter\"}],\"scatter3d\":[{\"line\":{\"colorbar\":{\"outlinewidth\":0,\"ticks\":\"\"}},\"marker\":{\"colorbar\":{\"outlinewidth\":0,\"ticks\":\"\"}},\"type\":\"scatter3d\"}],\"scattercarpet\":[{\"marker\":{\"colorbar\":{\"outlinewidth\":0,\"ticks\":\"\"}},\"type\":\"scattercarpet\"}],\"scattergeo\":[{\"marker\":{\"colorbar\":{\"outlinewidth\":0,\"ticks\":\"\"}},\"type\":\"scattergeo\"}],\"scattergl\":[{\"marker\":{\"colorbar\":{\"outlinewidth\":0,\"ticks\":\"\"}},\"type\":\"scattergl\"}],\"scattermapbox\":[{\"marker\":{\"colorbar\":{\"outlinewidth\":0,\"ticks\":\"\"}},\"type\":\"scattermapbox\"}],\"scatterpolar\":[{\"marker\":{\"colorbar\":{\"outlinewidth\":0,\"ticks\":\"\"}},\"type\":\"scatterpolar\"}],\"scatterpolargl\":[{\"marker\":{\"colorbar\":{\"outlinewidth\":0,\"ticks\":\"\"}},\"type\":\"scatterpolargl\"}],\"scatterternary\":[{\"marker\":{\"colorbar\":{\"outlinewidth\":0,\"ticks\":\"\"}},\"type\":\"scatterternary\"}],\"surface\":[{\"colorbar\":{\"outlinewidth\":0,\"ticks\":\"\"},\"colorscale\":[[0.0,\"#0d0887\"],[0.1111111111111111,\"#46039f\"],[0.2222222222222222,\"#7201a8\"],[0.3333333333333333,\"#9c179e\"],[0.4444444444444444,\"#bd3786\"],[0.5555555555555556,\"#d8576b\"],[0.6666666666666666,\"#ed7953\"],[0.7777777777777778,\"#fb9f3a\"],[0.8888888888888888,\"#fdca26\"],[1.0,\"#f0f921\"]],\"type\":\"surface\"}],\"table\":[{\"cells\":{\"fill\":{\"color\":\"#EBF0F8\"},\"line\":{\"color\":\"white\"}},\"header\":{\"fill\":{\"color\":\"#C8D4E3\"},\"line\":{\"color\":\"white\"}},\"type\":\"table\"}]},\"layout\":{\"annotationdefaults\":{\"arrowcolor\":\"#2a3f5f\",\"arrowhead\":0,\"arrowwidth\":1},\"autotypenumbers\":\"strict\",\"coloraxis\":{\"colorbar\":{\"outlinewidth\":0,\"ticks\":\"\"}},\"colorscale\":{\"diverging\":[[0,\"#8e0152\"],[0.1,\"#c51b7d\"],[0.2,\"#de77ae\"],[0.3,\"#f1b6da\"],[0.4,\"#fde0ef\"],[0.5,\"#f7f7f7\"],[0.6,\"#e6f5d0\"],[0.7,\"#b8e186\"],[0.8,\"#7fbc41\"],[0.9,\"#4d9221\"],[1,\"#276419\"]],\"sequential\":[[0.0,\"#0d0887\"],[0.1111111111111111,\"#46039f\"],[0.2222222222222222,\"#7201a8\"],[0.3333333333333333,\"#9c179e\"],[0.4444444444444444,\"#bd3786\"],[0.5555555555555556,\"#d8576b\"],[0.6666666666666666,\"#ed7953\"],[0.7777777777777778,\"#fb9f3a\"],[0.8888888888888888,\"#fdca26\"],[1.0,\"#f0f921\"]],\"sequentialminus\":[[0.0,\"#0d0887\"],[0.1111111111111111,\"#46039f\"],[0.2222222222222222,\"#7201a8\"],[0.3333333333333333,\"#9c179e\"],[0.4444444444444444,\"#bd3786\"],[0.5555555555555556,\"#d8576b\"],[0.6666666666666666,\"#ed7953\"],[0.7777777777777778,\"#fb9f3a\"],[0.8888888888888888,\"#fdca26\"],[1.0,\"#f0f921\"]]},\"colorway\":[\"#636efa\",\"#EF553B\",\"#00cc96\",\"#ab63fa\",\"#FFA15A\",\"#19d3f3\",\"#FF6692\",\"#B6E880\",\"#FF97FF\",\"#FECB52\"],\"font\":{\"color\":\"#2a3f5f\"},\"geo\":{\"bgcolor\":\"white\",\"lakecolor\":\"white\",\"landcolor\":\"#E5ECF6\",\"showlakes\":true,\"showland\":true,\"subunitcolor\":\"white\"},\"hoverlabel\":{\"align\":\"left\"},\"hovermode\":\"closest\",\"mapbox\":{\"style\":\"light\"},\"paper_bgcolor\":\"white\",\"plot_bgcolor\":\"#E5ECF6\",\"polar\":{\"angularaxis\":{\"gridcolor\":\"white\",\"linecolor\":\"white\",\"ticks\":\"\"},\"bgcolor\":\"#E5ECF6\",\"radialaxis\":{\"gridcolor\":\"white\",\"linecolor\":\"white\",\"ticks\":\"\"}},\"scene\":{\"xaxis\":{\"backgroundcolor\":\"#E5ECF6\",\"gridcolor\":\"white\",\"gridwidth\":2,\"linecolor\":\"white\",\"showbackground\":true,\"ticks\":\"\",\"zerolinecolor\":\"white\"},\"yaxis\":{\"backgroundcolor\":\"#E5ECF6\",\"gridcolor\":\"white\",\"gridwidth\":2,\"linecolor\":\"white\",\"showbackground\":true,\"ticks\":\"\",\"zerolinecolor\":\"white\"},\"zaxis\":{\"backgroundcolor\":\"#E5ECF6\",\"gridcolor\":\"white\",\"gridwidth\":2,\"linecolor\":\"white\",\"showbackground\":true,\"ticks\":\"\",\"zerolinecolor\":\"white\"}},\"shapedefaults\":{\"line\":{\"color\":\"#2a3f5f\"}},\"ternary\":{\"aaxis\":{\"gridcolor\":\"white\",\"linecolor\":\"white\",\"ticks\":\"\"},\"baxis\":{\"gridcolor\":\"white\",\"linecolor\":\"white\",\"ticks\":\"\"},\"bgcolor\":\"#E5ECF6\",\"caxis\":{\"gridcolor\":\"white\",\"linecolor\":\"white\",\"ticks\":\"\"}},\"title\":{\"x\":0.05},\"xaxis\":{\"automargin\":true,\"gridcolor\":\"white\",\"linecolor\":\"white\",\"ticks\":\"\",\"title\":{\"standoff\":15},\"zerolinecolor\":\"white\",\"zerolinewidth\":2},\"yaxis\":{\"automargin\":true,\"gridcolor\":\"white\",\"linecolor\":\"white\",\"ticks\":\"\",\"title\":{\"standoff\":15},\"zerolinecolor\":\"white\",\"zerolinewidth\":2}}}},                        {\"responsive\": true}                    ).then(function(){\n",
       "                            \n",
       "var gd = document.getElementById('a0b95762-51ac-4d31-b9df-7119a9ef6c89');\n",
       "var x = new MutationObserver(function (mutations, observer) {{\n",
       "        var display = window.getComputedStyle(gd).display;\n",
       "        if (!display || display === 'none') {{\n",
       "            console.log([gd, 'removed!']);\n",
       "            Plotly.purge(gd);\n",
       "            observer.disconnect();\n",
       "        }}\n",
       "}});\n",
       "\n",
       "// Listen for the removal of the full notebook cells\n",
       "var notebookContainer = gd.closest('#notebook-container');\n",
       "if (notebookContainer) {{\n",
       "    x.observe(notebookContainer, {childList: true});\n",
       "}}\n",
       "\n",
       "// Listen for the clearing of the current output cell\n",
       "var outputEl = gd.closest('.output');\n",
       "if (outputEl) {{\n",
       "    x.observe(outputEl, {childList: true});\n",
       "}}\n",
       "\n",
       "                        })                };                });            </script>        </div>"
      ]
     },
     "metadata": {},
     "output_type": "display_data"
    }
   ],
   "source": [
    "# Bar chart with plotly: R-Squared\n",
    "trace = go.Bar(x=list(evaluation_df2.index), \n",
    "               y=evaluation_df2['R-squared'], \n",
    "                marker=dict(color=['#ebc83d','#badf55', '#35b1c9','#b06dad','#e96060', '#1e1d69']),\n",
    "              )\n",
    "layout = go.Layout(title = 'Model Comparison: R-Squared', # Graph title\n",
    "    yaxis = dict(title = 'Models'), # x-axis label\n",
    "    xaxis = dict(title = 'R-Squared'), # y-axis label  \n",
    "                  ) \n",
    "\n",
    "r2_fig = go.Figure(data = [trace], layout=layout)\n",
    "r2_fig"
   ]
  },
  {
   "cell_type": "markdown",
   "id": "51d7ae31",
   "metadata": {},
   "source": [
    "Observation:\n",
    "* OLS and Ridge regression returned similar results \n",
    "* OLS and Ridge regression have the lowest R-Squaredbut a higher price error based on RMSE "
   ]
  },
  {
   "cell_type": "markdown",
   "id": "bb78f1fa",
   "metadata": {},
   "source": [
    "### App Prep\n",
    "\n",
    "Some variables that will be needed to implement car sale price forecasting model"
   ]
  },
  {
   "cell_type": "code",
   "execution_count": 89,
   "id": "f232f915",
   "metadata": {},
   "outputs": [
    {
     "data": {
      "text/plain": [
       "Index(['gas', '100k-150k', '150k-200k', 'fwd', 'automatic', 'sedan',\n",
       "       '200k-250k', 'fair', 'honda', 'other_type', 'ram', 'good', 'other_fuel',\n",
       "       '  0-010k', 'diesel', '4wd', ' 25k-50k', ' 10k-25k',\n",
       "       'other_transmission', 'pickup', 'year'],\n",
       "      dtype='object')"
      ]
     },
     "execution_count": 89,
     "metadata": {},
     "output_type": "execute_result"
    }
   ],
   "source": [
    "X.columns"
   ]
  },
  {
   "cell_type": "code",
   "execution_count": 109,
   "id": "588a13c1",
   "metadata": {
    "scrolled": true
   },
   "outputs": [
    {
     "name": "stdout",
     "output_type": "stream",
     "text": [
      "{'predictor_vars': Index(['gas', '100k-150k', '150k-200k', 'fwd', 'automatic', 'sedan',\n",
      "       '200k-250k', 'fair', 'honda', 'other_type', 'ram', 'good', 'other_fuel',\n",
      "       '  0-010k', 'diesel', '4wd', ' 25k-50k', ' 10k-25k',\n",
      "       'other_transmission', 'pickup', 'year'],\n",
      "      dtype='object'),\n",
      " 'predictor_target': 'price',\n",
      " 'coeff_go_fig': Figure({\n",
      "    'data': [{'type': 'bar',\n",
      "              'x': [150k-200k, 100k-150k, fwd, 200k-250k, sedan, fair, good,\n",
      "                    honda, ram, automatic, gas, other_transmission, other_type,\n",
      "                    4wd, other_fuel, year, pickup,  25k-50k, diesel,   0-010k,\n",
      "                    10k-25k],\n",
      "              'y': array([-2558.43626527, -2280.67884129, -2278.25107818, -1769.81922284,\n",
      "                           -977.29507004,  -791.01749875,  -493.00277054,   -98.21349105,\n",
      "                            -30.91365595,   169.64551488,   442.46337831,   515.5197528 ,\n",
      "                           1026.9190828 ,  1066.08167836,  1165.82866361,  2061.56133493,\n",
      "                           2379.95867578,  2391.58250259,  2533.94390785,  2796.158218  ,\n",
      "                           2839.19687908])}],\n",
      "    'layout': {'template': '...',\n",
      "               'title': {'text': 'Prediction Model Feature list ordered by their impact on price prediction'},\n",
      "               'xaxis': {'title': {'text': 'features'}},\n",
      "               'yaxis': {'title': {'text': 'standardized (scaled) coefficients'}}}\n",
      "}),\n",
      " 'rmse_go_fig': Figure({\n",
      "    'data': [{'marker': {'color': ['#ebc83d', '#badf55', '#35b1c9', '#b06dad', '#e96060', '#1e1d69']},\n",
      "              'type': 'bar',\n",
      "              'x': [OLS Linear Regression, Ridge Regession, K-Nearest Neighbors\n",
      "                    Regression, Decision Tree Regression, Random Forest Regression],\n",
      "              'y': array([9297, 9297, 8140, 8349, 7934], dtype=int64)}],\n",
      "    'layout': {'template': '...',\n",
      "               'title': {'text': 'Model Comparison: Root Mean Squared Error'},\n",
      "               'xaxis': {'title': {'text': 'RMSE'}},\n",
      "               'yaxis': {'title': {'text': 'Models'}}}\n",
      "}),\n",
      " 'r2_go_fig': Figure({\n",
      "    'data': [{'marker': {'color': ['#ebc83d', '#badf55', '#35b1c9', '#b06dad', '#e96060', '#1e1d69']},\n",
      "              'type': 'bar',\n",
      "              'x': [OLS Linear Regression, Ridge Regession, K-Nearest Neighbors\n",
      "                    Regression, Decision Tree Regression, Random Forest Regression],\n",
      "              'y': array([0.52, 0.52, 0.63, 0.61, 0.65])}],\n",
      "    'layout': {'template': '...',\n",
      "               'title': {'text': 'Model Comparison: R-Squared'},\n",
      "               'xaxis': {'title': {'text': 'R-Squared'}},\n",
      "               'yaxis': {'title': {'text': 'Models'}}}\n",
      "}),\n",
      " 'lin_reg': {'intercept': 18909.853182549992,\n",
      "             'coeff': array([  442.46337831, -2280.67884129, -2558.43626527, -2278.25107818,\n",
      "         169.64551488,  -977.29507004, -1769.81922284,  -791.01749875,\n",
      "         -98.21349105,  1026.9190828 ,   -30.91365595,  -493.00277054,\n",
      "        1165.82866361,  2796.158218  ,  2533.94390785,  1066.08167836,\n",
      "        2391.58250259,  2839.19687908,   515.5197528 ,  2379.95867578,\n",
      "        2061.56133493])}}\n"
     ]
    }
   ],
   "source": [
    "# prepare dict object to export model info\n",
    "\n",
    "# predictor model\n",
    "predictor_model = {\"predictor_vars\": X.columns, \n",
    "                   \"predictor_target\": y.name}\n",
    "\n",
    "# predictor_model['std_scaler'] = std_scaler \n",
    "predictor_model['coeff_go_fig'] = coefs\n",
    "predictor_model['rmse_go_fig'] = rmse_fig\n",
    "predictor_model['r2_go_fig'] = r2_fig\n",
    "# predictor_model['lin_reg'] = lin_reg\n",
    "\n",
    "model_data = {\n",
    "    'intercept': lin_reg.intercept_,\n",
    "    'coeff': lin_reg.coef_\n",
    "}\n",
    "predictor_model['lin_reg'] = model_data\n",
    "\n",
    "pp(predictor_model)"
   ]
  },
  {
   "cell_type": "markdown",
   "id": "9609fcc1",
   "metadata": {},
   "source": [
    "#### save objects"
   ]
  },
  {
   "cell_type": "code",
   "execution_count": 106,
   "id": "ab4ce72f",
   "metadata": {},
   "outputs": [],
   "source": [
    "with open('./components_data/std_scaler.pkl', 'wb') as handle:\n",
    "    pickle.dump(std_scaler, handle, protocol=pickle.HIGHEST_PROTOCOL)\n",
    "with open('./components_data/lin_reg.pkl', 'wb') as handle:\n",
    "    pickle.dump(lin_reg, handle, protocol=pickle.HIGHEST_PROTOCOL)\n",
    "with open('./components_data/predictor_model.pkl', 'wb') as handle:\n",
    "    pickle.dump(predictor_model, handle, protocol=pickle.HIGHEST_PROTOCOL)"
   ]
  },
  {
   "cell_type": "code",
   "execution_count": 107,
   "id": "70476dc2",
   "metadata": {},
   "outputs": [
    {
     "data": {
      "application/vnd.plotly.v1+json": {
       "config": {
        "plotlyServerURL": "https://plot.ly"
       },
       "data": [
        {
         "marker": {
          "color": [
           "#ebc83d",
           "#badf55",
           "#35b1c9",
           "#b06dad",
           "#e96060",
           "#1e1d69"
          ]
         },
         "type": "bar",
         "x": [
          "OLS Linear Regression",
          "Ridge Regession",
          "K-Nearest Neighbors Regression",
          "Decision Tree Regression",
          "Random Forest Regression"
         ],
         "y": [
          9297,
          9297,
          8140,
          8349,
          7934
         ]
        }
       ],
       "layout": {
        "template": {
         "data": {
          "bar": [
           {
            "error_x": {
             "color": "#2a3f5f"
            },
            "error_y": {
             "color": "#2a3f5f"
            },
            "marker": {
             "line": {
              "color": "#E5ECF6",
              "width": 0.5
             },
             "pattern": {
              "fillmode": "overlay",
              "size": 10,
              "solidity": 0.2
             }
            },
            "type": "bar"
           }
          ],
          "barpolar": [
           {
            "marker": {
             "line": {
              "color": "#E5ECF6",
              "width": 0.5
             },
             "pattern": {
              "fillmode": "overlay",
              "size": 10,
              "solidity": 0.2
             }
            },
            "type": "barpolar"
           }
          ],
          "carpet": [
           {
            "aaxis": {
             "endlinecolor": "#2a3f5f",
             "gridcolor": "white",
             "linecolor": "white",
             "minorgridcolor": "white",
             "startlinecolor": "#2a3f5f"
            },
            "baxis": {
             "endlinecolor": "#2a3f5f",
             "gridcolor": "white",
             "linecolor": "white",
             "minorgridcolor": "white",
             "startlinecolor": "#2a3f5f"
            },
            "type": "carpet"
           }
          ],
          "choropleth": [
           {
            "colorbar": {
             "outlinewidth": 0,
             "ticks": ""
            },
            "type": "choropleth"
           }
          ],
          "contour": [
           {
            "colorbar": {
             "outlinewidth": 0,
             "ticks": ""
            },
            "colorscale": [
             [
              0,
              "#0d0887"
             ],
             [
              0.1111111111111111,
              "#46039f"
             ],
             [
              0.2222222222222222,
              "#7201a8"
             ],
             [
              0.3333333333333333,
              "#9c179e"
             ],
             [
              0.4444444444444444,
              "#bd3786"
             ],
             [
              0.5555555555555556,
              "#d8576b"
             ],
             [
              0.6666666666666666,
              "#ed7953"
             ],
             [
              0.7777777777777778,
              "#fb9f3a"
             ],
             [
              0.8888888888888888,
              "#fdca26"
             ],
             [
              1,
              "#f0f921"
             ]
            ],
            "type": "contour"
           }
          ],
          "contourcarpet": [
           {
            "colorbar": {
             "outlinewidth": 0,
             "ticks": ""
            },
            "type": "contourcarpet"
           }
          ],
          "heatmap": [
           {
            "colorbar": {
             "outlinewidth": 0,
             "ticks": ""
            },
            "colorscale": [
             [
              0,
              "#0d0887"
             ],
             [
              0.1111111111111111,
              "#46039f"
             ],
             [
              0.2222222222222222,
              "#7201a8"
             ],
             [
              0.3333333333333333,
              "#9c179e"
             ],
             [
              0.4444444444444444,
              "#bd3786"
             ],
             [
              0.5555555555555556,
              "#d8576b"
             ],
             [
              0.6666666666666666,
              "#ed7953"
             ],
             [
              0.7777777777777778,
              "#fb9f3a"
             ],
             [
              0.8888888888888888,
              "#fdca26"
             ],
             [
              1,
              "#f0f921"
             ]
            ],
            "type": "heatmap"
           }
          ],
          "heatmapgl": [
           {
            "colorbar": {
             "outlinewidth": 0,
             "ticks": ""
            },
            "colorscale": [
             [
              0,
              "#0d0887"
             ],
             [
              0.1111111111111111,
              "#46039f"
             ],
             [
              0.2222222222222222,
              "#7201a8"
             ],
             [
              0.3333333333333333,
              "#9c179e"
             ],
             [
              0.4444444444444444,
              "#bd3786"
             ],
             [
              0.5555555555555556,
              "#d8576b"
             ],
             [
              0.6666666666666666,
              "#ed7953"
             ],
             [
              0.7777777777777778,
              "#fb9f3a"
             ],
             [
              0.8888888888888888,
              "#fdca26"
             ],
             [
              1,
              "#f0f921"
             ]
            ],
            "type": "heatmapgl"
           }
          ],
          "histogram": [
           {
            "marker": {
             "pattern": {
              "fillmode": "overlay",
              "size": 10,
              "solidity": 0.2
             }
            },
            "type": "histogram"
           }
          ],
          "histogram2d": [
           {
            "colorbar": {
             "outlinewidth": 0,
             "ticks": ""
            },
            "colorscale": [
             [
              0,
              "#0d0887"
             ],
             [
              0.1111111111111111,
              "#46039f"
             ],
             [
              0.2222222222222222,
              "#7201a8"
             ],
             [
              0.3333333333333333,
              "#9c179e"
             ],
             [
              0.4444444444444444,
              "#bd3786"
             ],
             [
              0.5555555555555556,
              "#d8576b"
             ],
             [
              0.6666666666666666,
              "#ed7953"
             ],
             [
              0.7777777777777778,
              "#fb9f3a"
             ],
             [
              0.8888888888888888,
              "#fdca26"
             ],
             [
              1,
              "#f0f921"
             ]
            ],
            "type": "histogram2d"
           }
          ],
          "histogram2dcontour": [
           {
            "colorbar": {
             "outlinewidth": 0,
             "ticks": ""
            },
            "colorscale": [
             [
              0,
              "#0d0887"
             ],
             [
              0.1111111111111111,
              "#46039f"
             ],
             [
              0.2222222222222222,
              "#7201a8"
             ],
             [
              0.3333333333333333,
              "#9c179e"
             ],
             [
              0.4444444444444444,
              "#bd3786"
             ],
             [
              0.5555555555555556,
              "#d8576b"
             ],
             [
              0.6666666666666666,
              "#ed7953"
             ],
             [
              0.7777777777777778,
              "#fb9f3a"
             ],
             [
              0.8888888888888888,
              "#fdca26"
             ],
             [
              1,
              "#f0f921"
             ]
            ],
            "type": "histogram2dcontour"
           }
          ],
          "mesh3d": [
           {
            "colorbar": {
             "outlinewidth": 0,
             "ticks": ""
            },
            "type": "mesh3d"
           }
          ],
          "parcoords": [
           {
            "line": {
             "colorbar": {
              "outlinewidth": 0,
              "ticks": ""
             }
            },
            "type": "parcoords"
           }
          ],
          "pie": [
           {
            "automargin": true,
            "type": "pie"
           }
          ],
          "scatter": [
           {
            "marker": {
             "colorbar": {
              "outlinewidth": 0,
              "ticks": ""
             }
            },
            "type": "scatter"
           }
          ],
          "scatter3d": [
           {
            "line": {
             "colorbar": {
              "outlinewidth": 0,
              "ticks": ""
             }
            },
            "marker": {
             "colorbar": {
              "outlinewidth": 0,
              "ticks": ""
             }
            },
            "type": "scatter3d"
           }
          ],
          "scattercarpet": [
           {
            "marker": {
             "colorbar": {
              "outlinewidth": 0,
              "ticks": ""
             }
            },
            "type": "scattercarpet"
           }
          ],
          "scattergeo": [
           {
            "marker": {
             "colorbar": {
              "outlinewidth": 0,
              "ticks": ""
             }
            },
            "type": "scattergeo"
           }
          ],
          "scattergl": [
           {
            "marker": {
             "colorbar": {
              "outlinewidth": 0,
              "ticks": ""
             }
            },
            "type": "scattergl"
           }
          ],
          "scattermapbox": [
           {
            "marker": {
             "colorbar": {
              "outlinewidth": 0,
              "ticks": ""
             }
            },
            "type": "scattermapbox"
           }
          ],
          "scatterpolar": [
           {
            "marker": {
             "colorbar": {
              "outlinewidth": 0,
              "ticks": ""
             }
            },
            "type": "scatterpolar"
           }
          ],
          "scatterpolargl": [
           {
            "marker": {
             "colorbar": {
              "outlinewidth": 0,
              "ticks": ""
             }
            },
            "type": "scatterpolargl"
           }
          ],
          "scatterternary": [
           {
            "marker": {
             "colorbar": {
              "outlinewidth": 0,
              "ticks": ""
             }
            },
            "type": "scatterternary"
           }
          ],
          "surface": [
           {
            "colorbar": {
             "outlinewidth": 0,
             "ticks": ""
            },
            "colorscale": [
             [
              0,
              "#0d0887"
             ],
             [
              0.1111111111111111,
              "#46039f"
             ],
             [
              0.2222222222222222,
              "#7201a8"
             ],
             [
              0.3333333333333333,
              "#9c179e"
             ],
             [
              0.4444444444444444,
              "#bd3786"
             ],
             [
              0.5555555555555556,
              "#d8576b"
             ],
             [
              0.6666666666666666,
              "#ed7953"
             ],
             [
              0.7777777777777778,
              "#fb9f3a"
             ],
             [
              0.8888888888888888,
              "#fdca26"
             ],
             [
              1,
              "#f0f921"
             ]
            ],
            "type": "surface"
           }
          ],
          "table": [
           {
            "cells": {
             "fill": {
              "color": "#EBF0F8"
             },
             "line": {
              "color": "white"
             }
            },
            "header": {
             "fill": {
              "color": "#C8D4E3"
             },
             "line": {
              "color": "white"
             }
            },
            "type": "table"
           }
          ]
         },
         "layout": {
          "annotationdefaults": {
           "arrowcolor": "#2a3f5f",
           "arrowhead": 0,
           "arrowwidth": 1
          },
          "autotypenumbers": "strict",
          "coloraxis": {
           "colorbar": {
            "outlinewidth": 0,
            "ticks": ""
           }
          },
          "colorscale": {
           "diverging": [
            [
             0,
             "#8e0152"
            ],
            [
             0.1,
             "#c51b7d"
            ],
            [
             0.2,
             "#de77ae"
            ],
            [
             0.3,
             "#f1b6da"
            ],
            [
             0.4,
             "#fde0ef"
            ],
            [
             0.5,
             "#f7f7f7"
            ],
            [
             0.6,
             "#e6f5d0"
            ],
            [
             0.7,
             "#b8e186"
            ],
            [
             0.8,
             "#7fbc41"
            ],
            [
             0.9,
             "#4d9221"
            ],
            [
             1,
             "#276419"
            ]
           ],
           "sequential": [
            [
             0,
             "#0d0887"
            ],
            [
             0.1111111111111111,
             "#46039f"
            ],
            [
             0.2222222222222222,
             "#7201a8"
            ],
            [
             0.3333333333333333,
             "#9c179e"
            ],
            [
             0.4444444444444444,
             "#bd3786"
            ],
            [
             0.5555555555555556,
             "#d8576b"
            ],
            [
             0.6666666666666666,
             "#ed7953"
            ],
            [
             0.7777777777777778,
             "#fb9f3a"
            ],
            [
             0.8888888888888888,
             "#fdca26"
            ],
            [
             1,
             "#f0f921"
            ]
           ],
           "sequentialminus": [
            [
             0,
             "#0d0887"
            ],
            [
             0.1111111111111111,
             "#46039f"
            ],
            [
             0.2222222222222222,
             "#7201a8"
            ],
            [
             0.3333333333333333,
             "#9c179e"
            ],
            [
             0.4444444444444444,
             "#bd3786"
            ],
            [
             0.5555555555555556,
             "#d8576b"
            ],
            [
             0.6666666666666666,
             "#ed7953"
            ],
            [
             0.7777777777777778,
             "#fb9f3a"
            ],
            [
             0.8888888888888888,
             "#fdca26"
            ],
            [
             1,
             "#f0f921"
            ]
           ]
          },
          "colorway": [
           "#636efa",
           "#EF553B",
           "#00cc96",
           "#ab63fa",
           "#FFA15A",
           "#19d3f3",
           "#FF6692",
           "#B6E880",
           "#FF97FF",
           "#FECB52"
          ],
          "font": {
           "color": "#2a3f5f"
          },
          "geo": {
           "bgcolor": "white",
           "lakecolor": "white",
           "landcolor": "#E5ECF6",
           "showlakes": true,
           "showland": true,
           "subunitcolor": "white"
          },
          "hoverlabel": {
           "align": "left"
          },
          "hovermode": "closest",
          "mapbox": {
           "style": "light"
          },
          "paper_bgcolor": "white",
          "plot_bgcolor": "#E5ECF6",
          "polar": {
           "angularaxis": {
            "gridcolor": "white",
            "linecolor": "white",
            "ticks": ""
           },
           "bgcolor": "#E5ECF6",
           "radialaxis": {
            "gridcolor": "white",
            "linecolor": "white",
            "ticks": ""
           }
          },
          "scene": {
           "xaxis": {
            "backgroundcolor": "#E5ECF6",
            "gridcolor": "white",
            "gridwidth": 2,
            "linecolor": "white",
            "showbackground": true,
            "ticks": "",
            "zerolinecolor": "white"
           },
           "yaxis": {
            "backgroundcolor": "#E5ECF6",
            "gridcolor": "white",
            "gridwidth": 2,
            "linecolor": "white",
            "showbackground": true,
            "ticks": "",
            "zerolinecolor": "white"
           },
           "zaxis": {
            "backgroundcolor": "#E5ECF6",
            "gridcolor": "white",
            "gridwidth": 2,
            "linecolor": "white",
            "showbackground": true,
            "ticks": "",
            "zerolinecolor": "white"
           }
          },
          "shapedefaults": {
           "line": {
            "color": "#2a3f5f"
           }
          },
          "ternary": {
           "aaxis": {
            "gridcolor": "white",
            "linecolor": "white",
            "ticks": ""
           },
           "baxis": {
            "gridcolor": "white",
            "linecolor": "white",
            "ticks": ""
           },
           "bgcolor": "#E5ECF6",
           "caxis": {
            "gridcolor": "white",
            "linecolor": "white",
            "ticks": ""
           }
          },
          "title": {
           "x": 0.05
          },
          "xaxis": {
           "automargin": true,
           "gridcolor": "white",
           "linecolor": "white",
           "ticks": "",
           "title": {
            "standoff": 15
           },
           "zerolinecolor": "white",
           "zerolinewidth": 2
          },
          "yaxis": {
           "automargin": true,
           "gridcolor": "white",
           "linecolor": "white",
           "ticks": "",
           "title": {
            "standoff": 15
           },
           "zerolinecolor": "white",
           "zerolinewidth": 2
          }
         }
        },
        "title": {
         "text": "Model Comparison: Root Mean Squared Error"
        },
        "xaxis": {
         "title": {
          "text": "RMSE"
         }
        },
        "yaxis": {
         "title": {
          "text": "Models"
         }
        }
       }
      },
      "text/html": [
       "<div>                            <div id=\"1dde7a39-c677-4a02-9a87-17f5c2d06c4d\" class=\"plotly-graph-div\" style=\"height:525px; width:100%;\"></div>            <script type=\"text/javascript\">                require([\"plotly\"], function(Plotly) {                    window.PLOTLYENV=window.PLOTLYENV || {};                                    if (document.getElementById(\"1dde7a39-c677-4a02-9a87-17f5c2d06c4d\")) {                    Plotly.newPlot(                        \"1dde7a39-c677-4a02-9a87-17f5c2d06c4d\",                        [{\"marker\":{\"color\":[\"#ebc83d\",\"#badf55\",\"#35b1c9\",\"#b06dad\",\"#e96060\",\"#1e1d69\"]},\"x\":[\"OLS Linear Regression\",\"Ridge Regession\",\"K-Nearest Neighbors Regression\",\"Decision Tree Regression\",\"Random Forest Regression\"],\"y\":[9297,9297,8140,8349,7934],\"type\":\"bar\"}],                        {\"template\":{\"data\":{\"barpolar\":[{\"marker\":{\"line\":{\"color\":\"#E5ECF6\",\"width\":0.5},\"pattern\":{\"fillmode\":\"overlay\",\"size\":10,\"solidity\":0.2}},\"type\":\"barpolar\"}],\"bar\":[{\"error_x\":{\"color\":\"#2a3f5f\"},\"error_y\":{\"color\":\"#2a3f5f\"},\"marker\":{\"line\":{\"color\":\"#E5ECF6\",\"width\":0.5},\"pattern\":{\"fillmode\":\"overlay\",\"size\":10,\"solidity\":0.2}},\"type\":\"bar\"}],\"carpet\":[{\"aaxis\":{\"endlinecolor\":\"#2a3f5f\",\"gridcolor\":\"white\",\"linecolor\":\"white\",\"minorgridcolor\":\"white\",\"startlinecolor\":\"#2a3f5f\"},\"baxis\":{\"endlinecolor\":\"#2a3f5f\",\"gridcolor\":\"white\",\"linecolor\":\"white\",\"minorgridcolor\":\"white\",\"startlinecolor\":\"#2a3f5f\"},\"type\":\"carpet\"}],\"choropleth\":[{\"colorbar\":{\"outlinewidth\":0,\"ticks\":\"\"},\"type\":\"choropleth\"}],\"contourcarpet\":[{\"colorbar\":{\"outlinewidth\":0,\"ticks\":\"\"},\"type\":\"contourcarpet\"}],\"contour\":[{\"colorbar\":{\"outlinewidth\":0,\"ticks\":\"\"},\"colorscale\":[[0.0,\"#0d0887\"],[0.1111111111111111,\"#46039f\"],[0.2222222222222222,\"#7201a8\"],[0.3333333333333333,\"#9c179e\"],[0.4444444444444444,\"#bd3786\"],[0.5555555555555556,\"#d8576b\"],[0.6666666666666666,\"#ed7953\"],[0.7777777777777778,\"#fb9f3a\"],[0.8888888888888888,\"#fdca26\"],[1.0,\"#f0f921\"]],\"type\":\"contour\"}],\"heatmapgl\":[{\"colorbar\":{\"outlinewidth\":0,\"ticks\":\"\"},\"colorscale\":[[0.0,\"#0d0887\"],[0.1111111111111111,\"#46039f\"],[0.2222222222222222,\"#7201a8\"],[0.3333333333333333,\"#9c179e\"],[0.4444444444444444,\"#bd3786\"],[0.5555555555555556,\"#d8576b\"],[0.6666666666666666,\"#ed7953\"],[0.7777777777777778,\"#fb9f3a\"],[0.8888888888888888,\"#fdca26\"],[1.0,\"#f0f921\"]],\"type\":\"heatmapgl\"}],\"heatmap\":[{\"colorbar\":{\"outlinewidth\":0,\"ticks\":\"\"},\"colorscale\":[[0.0,\"#0d0887\"],[0.1111111111111111,\"#46039f\"],[0.2222222222222222,\"#7201a8\"],[0.3333333333333333,\"#9c179e\"],[0.4444444444444444,\"#bd3786\"],[0.5555555555555556,\"#d8576b\"],[0.6666666666666666,\"#ed7953\"],[0.7777777777777778,\"#fb9f3a\"],[0.8888888888888888,\"#fdca26\"],[1.0,\"#f0f921\"]],\"type\":\"heatmap\"}],\"histogram2dcontour\":[{\"colorbar\":{\"outlinewidth\":0,\"ticks\":\"\"},\"colorscale\":[[0.0,\"#0d0887\"],[0.1111111111111111,\"#46039f\"],[0.2222222222222222,\"#7201a8\"],[0.3333333333333333,\"#9c179e\"],[0.4444444444444444,\"#bd3786\"],[0.5555555555555556,\"#d8576b\"],[0.6666666666666666,\"#ed7953\"],[0.7777777777777778,\"#fb9f3a\"],[0.8888888888888888,\"#fdca26\"],[1.0,\"#f0f921\"]],\"type\":\"histogram2dcontour\"}],\"histogram2d\":[{\"colorbar\":{\"outlinewidth\":0,\"ticks\":\"\"},\"colorscale\":[[0.0,\"#0d0887\"],[0.1111111111111111,\"#46039f\"],[0.2222222222222222,\"#7201a8\"],[0.3333333333333333,\"#9c179e\"],[0.4444444444444444,\"#bd3786\"],[0.5555555555555556,\"#d8576b\"],[0.6666666666666666,\"#ed7953\"],[0.7777777777777778,\"#fb9f3a\"],[0.8888888888888888,\"#fdca26\"],[1.0,\"#f0f921\"]],\"type\":\"histogram2d\"}],\"histogram\":[{\"marker\":{\"pattern\":{\"fillmode\":\"overlay\",\"size\":10,\"solidity\":0.2}},\"type\":\"histogram\"}],\"mesh3d\":[{\"colorbar\":{\"outlinewidth\":0,\"ticks\":\"\"},\"type\":\"mesh3d\"}],\"parcoords\":[{\"line\":{\"colorbar\":{\"outlinewidth\":0,\"ticks\":\"\"}},\"type\":\"parcoords\"}],\"pie\":[{\"automargin\":true,\"type\":\"pie\"}],\"scatter3d\":[{\"line\":{\"colorbar\":{\"outlinewidth\":0,\"ticks\":\"\"}},\"marker\":{\"colorbar\":{\"outlinewidth\":0,\"ticks\":\"\"}},\"type\":\"scatter3d\"}],\"scattercarpet\":[{\"marker\":{\"colorbar\":{\"outlinewidth\":0,\"ticks\":\"\"}},\"type\":\"scattercarpet\"}],\"scattergeo\":[{\"marker\":{\"colorbar\":{\"outlinewidth\":0,\"ticks\":\"\"}},\"type\":\"scattergeo\"}],\"scattergl\":[{\"marker\":{\"colorbar\":{\"outlinewidth\":0,\"ticks\":\"\"}},\"type\":\"scattergl\"}],\"scattermapbox\":[{\"marker\":{\"colorbar\":{\"outlinewidth\":0,\"ticks\":\"\"}},\"type\":\"scattermapbox\"}],\"scatterpolargl\":[{\"marker\":{\"colorbar\":{\"outlinewidth\":0,\"ticks\":\"\"}},\"type\":\"scatterpolargl\"}],\"scatterpolar\":[{\"marker\":{\"colorbar\":{\"outlinewidth\":0,\"ticks\":\"\"}},\"type\":\"scatterpolar\"}],\"scatter\":[{\"marker\":{\"colorbar\":{\"outlinewidth\":0,\"ticks\":\"\"}},\"type\":\"scatter\"}],\"scatterternary\":[{\"marker\":{\"colorbar\":{\"outlinewidth\":0,\"ticks\":\"\"}},\"type\":\"scatterternary\"}],\"surface\":[{\"colorbar\":{\"outlinewidth\":0,\"ticks\":\"\"},\"colorscale\":[[0.0,\"#0d0887\"],[0.1111111111111111,\"#46039f\"],[0.2222222222222222,\"#7201a8\"],[0.3333333333333333,\"#9c179e\"],[0.4444444444444444,\"#bd3786\"],[0.5555555555555556,\"#d8576b\"],[0.6666666666666666,\"#ed7953\"],[0.7777777777777778,\"#fb9f3a\"],[0.8888888888888888,\"#fdca26\"],[1.0,\"#f0f921\"]],\"type\":\"surface\"}],\"table\":[{\"cells\":{\"fill\":{\"color\":\"#EBF0F8\"},\"line\":{\"color\":\"white\"}},\"header\":{\"fill\":{\"color\":\"#C8D4E3\"},\"line\":{\"color\":\"white\"}},\"type\":\"table\"}]},\"layout\":{\"annotationdefaults\":{\"arrowcolor\":\"#2a3f5f\",\"arrowhead\":0,\"arrowwidth\":1},\"autotypenumbers\":\"strict\",\"coloraxis\":{\"colorbar\":{\"outlinewidth\":0,\"ticks\":\"\"}},\"colorscale\":{\"diverging\":[[0,\"#8e0152\"],[0.1,\"#c51b7d\"],[0.2,\"#de77ae\"],[0.3,\"#f1b6da\"],[0.4,\"#fde0ef\"],[0.5,\"#f7f7f7\"],[0.6,\"#e6f5d0\"],[0.7,\"#b8e186\"],[0.8,\"#7fbc41\"],[0.9,\"#4d9221\"],[1,\"#276419\"]],\"sequential\":[[0.0,\"#0d0887\"],[0.1111111111111111,\"#46039f\"],[0.2222222222222222,\"#7201a8\"],[0.3333333333333333,\"#9c179e\"],[0.4444444444444444,\"#bd3786\"],[0.5555555555555556,\"#d8576b\"],[0.6666666666666666,\"#ed7953\"],[0.7777777777777778,\"#fb9f3a\"],[0.8888888888888888,\"#fdca26\"],[1.0,\"#f0f921\"]],\"sequentialminus\":[[0.0,\"#0d0887\"],[0.1111111111111111,\"#46039f\"],[0.2222222222222222,\"#7201a8\"],[0.3333333333333333,\"#9c179e\"],[0.4444444444444444,\"#bd3786\"],[0.5555555555555556,\"#d8576b\"],[0.6666666666666666,\"#ed7953\"],[0.7777777777777778,\"#fb9f3a\"],[0.8888888888888888,\"#fdca26\"],[1.0,\"#f0f921\"]]},\"colorway\":[\"#636efa\",\"#EF553B\",\"#00cc96\",\"#ab63fa\",\"#FFA15A\",\"#19d3f3\",\"#FF6692\",\"#B6E880\",\"#FF97FF\",\"#FECB52\"],\"font\":{\"color\":\"#2a3f5f\"},\"geo\":{\"bgcolor\":\"white\",\"lakecolor\":\"white\",\"landcolor\":\"#E5ECF6\",\"showlakes\":true,\"showland\":true,\"subunitcolor\":\"white\"},\"hoverlabel\":{\"align\":\"left\"},\"hovermode\":\"closest\",\"mapbox\":{\"style\":\"light\"},\"paper_bgcolor\":\"white\",\"plot_bgcolor\":\"#E5ECF6\",\"polar\":{\"angularaxis\":{\"gridcolor\":\"white\",\"linecolor\":\"white\",\"ticks\":\"\"},\"bgcolor\":\"#E5ECF6\",\"radialaxis\":{\"gridcolor\":\"white\",\"linecolor\":\"white\",\"ticks\":\"\"}},\"scene\":{\"xaxis\":{\"backgroundcolor\":\"#E5ECF6\",\"gridcolor\":\"white\",\"gridwidth\":2,\"linecolor\":\"white\",\"showbackground\":true,\"ticks\":\"\",\"zerolinecolor\":\"white\"},\"yaxis\":{\"backgroundcolor\":\"#E5ECF6\",\"gridcolor\":\"white\",\"gridwidth\":2,\"linecolor\":\"white\",\"showbackground\":true,\"ticks\":\"\",\"zerolinecolor\":\"white\"},\"zaxis\":{\"backgroundcolor\":\"#E5ECF6\",\"gridcolor\":\"white\",\"gridwidth\":2,\"linecolor\":\"white\",\"showbackground\":true,\"ticks\":\"\",\"zerolinecolor\":\"white\"}},\"shapedefaults\":{\"line\":{\"color\":\"#2a3f5f\"}},\"ternary\":{\"aaxis\":{\"gridcolor\":\"white\",\"linecolor\":\"white\",\"ticks\":\"\"},\"baxis\":{\"gridcolor\":\"white\",\"linecolor\":\"white\",\"ticks\":\"\"},\"bgcolor\":\"#E5ECF6\",\"caxis\":{\"gridcolor\":\"white\",\"linecolor\":\"white\",\"ticks\":\"\"}},\"title\":{\"x\":0.05},\"xaxis\":{\"automargin\":true,\"gridcolor\":\"white\",\"linecolor\":\"white\",\"ticks\":\"\",\"title\":{\"standoff\":15},\"zerolinecolor\":\"white\",\"zerolinewidth\":2},\"yaxis\":{\"automargin\":true,\"gridcolor\":\"white\",\"linecolor\":\"white\",\"ticks\":\"\",\"title\":{\"standoff\":15},\"zerolinecolor\":\"white\",\"zerolinewidth\":2}}},\"title\":{\"text\":\"Model Comparison: Root Mean Squared Error\"},\"xaxis\":{\"title\":{\"text\":\"RMSE\"}},\"yaxis\":{\"title\":{\"text\":\"Models\"}}},                        {\"responsive\": true}                    ).then(function(){\n",
       "                            \n",
       "var gd = document.getElementById('1dde7a39-c677-4a02-9a87-17f5c2d06c4d');\n",
       "var x = new MutationObserver(function (mutations, observer) {{\n",
       "        var display = window.getComputedStyle(gd).display;\n",
       "        if (!display || display === 'none') {{\n",
       "            console.log([gd, 'removed!']);\n",
       "            Plotly.purge(gd);\n",
       "            observer.disconnect();\n",
       "        }}\n",
       "}});\n",
       "\n",
       "// Listen for the removal of the full notebook cells\n",
       "var notebookContainer = gd.closest('#notebook-container');\n",
       "if (notebookContainer) {{\n",
       "    x.observe(notebookContainer, {childList: true});\n",
       "}}\n",
       "\n",
       "// Listen for the clearing of the current output cell\n",
       "var outputEl = gd.closest('.output');\n",
       "if (outputEl) {{\n",
       "    x.observe(outputEl, {childList: true});\n",
       "}}\n",
       "\n",
       "                        })                };                });            </script>        </div>"
      ]
     },
     "metadata": {},
     "output_type": "display_data"
    }
   ],
   "source": [
    "# test reopen\n",
    "with open('./components_data/predictor_model.pkl', 'rb') as f:\n",
    "    reopen_predictor_model = pickle.load(f)\n",
    "reopen_predictor_model['rmse_go_fig']"
   ]
  },
  {
   "cell_type": "markdown",
   "id": "ba7c3212",
   "metadata": {},
   "source": [
    "#### Setup category lists"
   ]
  },
  {
   "cell_type": "code",
   "execution_count": 93,
   "id": "ff6b2358",
   "metadata": {},
   "outputs": [
    {
     "name": "stdout",
     "output_type": "stream",
     "text": [
      "['gas', 'other_fuel', 'diesel', 'hybrid', 'electric']\n"
     ]
    }
   ],
   "source": [
    "print(list(df['fuel'].unique()))"
   ]
  },
  {
   "cell_type": "code",
   "execution_count": 94,
   "id": "4c193857",
   "metadata": {},
   "outputs": [
    {
     "name": "stdout",
     "output_type": "stream",
     "text": [
      "'fuel_type': ['gas', 'other_fuel', 'diesel', 'hybrid', 'electric'],\n",
      "'transmission': ['other_transmission', 'automatic', 'manual'],\n",
      "'drive': ['fwd', 'rwd', '4wd'],\n",
      "car_type': ['pickup', 'truck', 'other_type', 'coupe', 'SUV', 'hatchback', 'mini-van', 'sedan', 'offroad', 'convertible', 'wagon', 'van', 'bus'],\n",
      "'car_condition': ['good', 'excellent', 'fair', 'like new', 'new', 'salvage']\n",
      "'odometer_cat': [' 50k-80k', ' 10k-25k', ' 25k-50k', '100k-150k', '  0-010k', ' 80k-100k', '150k-200k', '200k-250k', '250k-500k', '750k+', '500k-750k']\n"
     ]
    }
   ],
   "source": [
    "print(f\"'fuel_type': {list(df['fuel'].unique())},\")\n",
    "print(f\"'transmission': {list(df['transmission'].unique())},\")\n",
    "print(f\"'drive': {list(df['drive'].unique())},\")\n",
    "print(f\"car_type': {list(df['type'].unique())},\"),\n",
    "print(f\"'car_condition': {list(df['condition'].unique())}\")\n",
    "print(f\"'odometer_cat': {list(df['odometer_cat'].unique())}\")"
   ]
  },
  {
   "cell_type": "code",
   "execution_count": 95,
   "id": "f2da2ae2",
   "metadata": {},
   "outputs": [
    {
     "data": {
      "text/plain": [
       "[' 50k-80k', ' 10k-25k', ' 25k-50k', '100k-150k', '  0-010k', ..., '150k-200k', '200k-250k', '250k-500k', '750k+', '500k-750k']\n",
       "Length: 11\n",
       "Categories (11, object): ['  0-010k' < ' 10k-25k' < ' 25k-50k' < ' 50k-80k' ... '200k-250k' < '250k-500k' < '500k-750k' < '750k+']"
      ]
     },
     "execution_count": 95,
     "metadata": {},
     "output_type": "execute_result"
    }
   ],
   "source": [
    "df['odometer_cat'].unique()"
   ]
  },
  {
   "cell_type": "code",
   "execution_count": 96,
   "id": "9cdbf717",
   "metadata": {},
   "outputs": [
    {
     "name": "stdout",
     "output_type": "stream",
     "text": [
      "{'fuel_type': ['gas', 'diesel', 'other_fuel', 'hybrid', 'electric'],\n",
      " 'transmission': ['automatic', 'manual', 'other_transmission'],\n",
      " 'drive': ['fwd', 'rwd', '4wd'],\n",
      " 'car_type': ['sedan',\n",
      "              'coupe',\n",
      "              'convertible',\n",
      "              'hatchback',\n",
      "              'wagon',\n",
      "              'mini-van',\n",
      "              'van',\n",
      "              'bus',\n",
      "              'SUV',\n",
      "              'pickup',\n",
      "              'truck',\n",
      "              'offroad',\n",
      "              'other_type'],\n",
      " 'car_condition': ['new', 'like new', 'excellent', 'good', 'fair', 'salvage'],\n",
      " 'odometer_cat': [' 0-010k',\n",
      "                  ' 10k-25k',\n",
      "                  ' 25k-50k',\n",
      "                  ' 50k-80k',\n",
      "                  ' 80k-100k',\n",
      "                  '100k-150k',\n",
      "                  '150k-200k',\n",
      "                  '200k-250k',\n",
      "                  '250k-500k',\n",
      "                  '500k-750k',\n",
      "                  '750k+']}\n"
     ]
    }
   ],
   "source": [
    "# manually copy / paste cat list and reorder items\n",
    "app_categories = {\n",
    "    'fuel_type': ['gas', 'diesel', 'other_fuel', 'hybrid', 'electric'],\n",
    "    'transmission': ['automatic', 'manual', 'other_transmission'],\n",
    "    'drive': ['fwd', 'rwd', '4wd'],\n",
    "    'car_type': [ 'sedan', 'coupe', 'convertible','hatchback', \n",
    "                 'wagon','mini-van', 'van', 'bus','SUV', 'pickup', 'truck',\n",
    "                 'offroad', 'other_type'],\n",
    "    'car_condition': ['new', 'like new', 'excellent','good', 'fair',  'salvage'],\n",
    "    'odometer_cat': [' 0-010k', ' 10k-25k', ' 25k-50k', ' 50k-80k', ' 80k-100k', '100k-150k', \n",
    "                      '150k-200k', '200k-250k', '250k-500k', '500k-750k', '750k+'] \n",
    "}\n",
    "\n",
    "pp(app_categories)"
   ]
  },
  {
   "cell_type": "code",
   "execution_count": 97,
   "id": "0023f88f",
   "metadata": {},
   "outputs": [],
   "source": [
    "with open('./components_data/app_categories.pkl', 'wb') as handle:\n",
    "    pickle.dump(app_categories, handle, protocol=pickle.HIGHEST_PROTOCOL)"
   ]
  },
  {
   "cell_type": "markdown",
   "id": "6b517a57",
   "metadata": {},
   "source": [
    "#### App utils"
   ]
  },
  {
   "cell_type": "code",
   "execution_count": 98,
   "id": "b51e5879",
   "metadata": {},
   "outputs": [],
   "source": [
    "# create a dictionary of model intercept and coefficient values \n",
    "def initialize_prediction_model(intercept, predictor_vars, predictor_coeff):\n",
    "    predictor_model = {'intercept': intercept}\n",
    "    for v in range(0,len(predictor_vars) - 1):\n",
    "        predictor_model[predictor_vars[v]] = predictor_coeff[v]\n",
    "    return predictor_model\n",
    "\n",
    "# reset user input \n",
    "def reset_model_input(predictor_vars):\n",
    "    model_input = {'intercept': 1}\n",
    "    for v in range(0,len(predictor_vars)):\n",
    "        model_input[predictor_vars[v]] = 0 \n",
    "    return model_input \n",
    "\n",
    "# generate prediction based on user input\n",
    "def generate_prediction(predictor_model, model_input):\n",
    "    prediction = 0\n",
    "    for i in predictor_model.keys():\n",
    "        prediction += predictor_model[i] * model_input[i]\n",
    "    return '{:.2f}'.format(prediction)"
   ]
  },
  {
   "cell_type": "code",
   "execution_count": 99,
   "id": "c19b0d52",
   "metadata": {},
   "outputs": [
    {
     "name": "stdout",
     "output_type": "stream",
     "text": [
      "{'intercept': 18909.853182549992, 'gas': 442.4633783071757, '100k-150k': -2280.6788412913247, '150k-200k': -2558.4362652662644, 'fwd': -2278.251078178676, 'automatic': 169.6455148829993, 'sedan': -977.2950700432493, '200k-250k': -1769.819222839014, 'fair': -791.0174987479754, 'honda': -98.21349104841116, 'other_type': 1026.9190827972413, 'ram': -30.91365594867525, 'good': -493.0027705448495, 'other_fuel': 1165.8286636059615, '  0-010k': 2796.158217999485, 'diesel': 2533.9439078472788, '4wd': 1066.0816783550024, ' 25k-50k': 2391.5825025905738, ' 10k-25k': 2839.1968790824976, 'other_transmission': 515.5197528004378, 'pickup': 2379.958675783332}\n"
     ]
    }
   ],
   "source": [
    "prediction_model = initialize_prediction_model(predictor_model['lin_reg']['intercept'],\n",
    "                                               predictor_model['predictor_vars'],\n",
    "                                               predictor_model['lin_reg']['coeff'])\n",
    "print(prediction_model)"
   ]
  },
  {
   "cell_type": "code",
   "execution_count": 100,
   "id": "75bf2f09",
   "metadata": {},
   "outputs": [
    {
     "name": "stdout",
     "output_type": "stream",
     "text": [
      "{'intercept': 1, 'gas': 0, '100k-150k': 0, '150k-200k': 0, 'fwd': 0, 'automatic': 0, 'sedan': 0, '200k-250k': 0, 'fair': 0, 'honda': 0, 'other_type': 0, 'ram': 0, 'good': 0, 'other_fuel': 0, '  0-010k': 0, 'diesel': 0, '4wd': 0, ' 25k-50k': 0, ' 10k-25k': 0, 'other_transmission': 0, 'pickup': 0, 'year': 0}\n"
     ]
    }
   ],
   "source": [
    "model_input = reset_model_input(predictor_model['predictor_vars'])\n",
    "print(model_input)"
   ]
  },
  {
   "cell_type": "code",
   "execution_count": 101,
   "id": "485565f3",
   "metadata": {},
   "outputs": [
    {
     "name": "stdout",
     "output_type": "stream",
     "text": [
      "18909.85\n"
     ]
    }
   ],
   "source": [
    "print(generate_prediction(prediction_model, model_input))"
   ]
  },
  {
   "cell_type": "code",
   "execution_count": null,
   "id": "92cb99ba",
   "metadata": {},
   "outputs": [],
   "source": []
  }
 ],
 "metadata": {
  "kernelspec": {
   "display_name": "Python 3 (ipykernel)",
   "language": "python",
   "name": "python3"
  },
  "language_info": {
   "codemirror_mode": {
    "name": "ipython",
    "version": 3
   },
   "file_extension": ".py",
   "mimetype": "text/x-python",
   "name": "python",
   "nbconvert_exporter": "python",
   "pygments_lexer": "ipython3",
   "version": "3.9.10"
  }
 },
 "nbformat": 4,
 "nbformat_minor": 5
}
