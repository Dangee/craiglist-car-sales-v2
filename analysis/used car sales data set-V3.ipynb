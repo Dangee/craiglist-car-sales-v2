{
 "cells": [
  {
   "cell_type": "markdown",
   "id": "69b68725",
   "metadata": {},
   "source": [
    "# Used Car sales data set\n",
    "\n",
    "Source: https://www.kaggle.com/datasets/austinreese/craigslist-carstrucks-data "
   ]
  },
  {
   "cell_type": "markdown",
   "id": "673f29fe",
   "metadata": {},
   "source": [
    "### Purpose of predictive model\n",
    "This application will provide you with an amount that you can expect to sell for your car for on Craiglist. \n",
    "\n",
    "Disclaimer: this tool is only intended as a guide to help you decide your car sale price. What you decide to ask for is entirely up to you. Remember: your car is only worth what someone else is prepared to pay for it ;-)     \n",
    "\n",
    "Craig list car sales: https://sfbay.craigslist.org/search/cta\n",
    "\n",
    "Consider following feature: \n",
    "* how much do you want to sell your car for \n",
    "* is it a good or bad deal? \n",
    "\n",
    "include a custom search link: https://sfbay.craigslist.org/search/cta?query=mustang+gt+convertible"
   ]
  },
  {
   "cell_type": "markdown",
   "id": "fbbde207",
   "metadata": {},
   "source": [
    "This iteration of the analysis compares various regression models to find the best fit"
   ]
  },
  {
   "cell_type": "code",
   "execution_count": 1,
   "id": "ca4fcc42",
   "metadata": {},
   "outputs": [],
   "source": [
    "import pandas as pd\n",
    "import numpy as np\n",
    "# from math import sqrt\n",
    "\n",
    "# sci-kit learn is our one-stop shop for machine learning!\n",
    "import sklearn\n",
    "from sklearn.model_selection import train_test_split\n",
    "from sklearn.preprocessing import StandardScaler\n",
    "from sklearn.metrics import mean_squared_error\n",
    "from sklearn.metrics import mean_absolute_error\n",
    "from sklearn.linear_model import LinearRegression\n",
    "from sklearn import metrics\n",
    "\n",
    "import os\n",
    "\n",
    "# import plotly as py \n",
    "import matplotlib.pyplot as plt\n",
    "import seaborn as sns\n",
    "\n",
    "# import matplotlib as mpl\n",
    "# mpl.rc('axes', labelsize=14)\n",
    "# mpl.rc('xtick', labelsize=12)\n",
    "# mpl.rc('ytick', labelsize=12)\n"
   ]
  },
  {
   "cell_type": "code",
   "execution_count": 2,
   "id": "205a38ff",
   "metadata": {},
   "outputs": [],
   "source": [
    "# make this notebook's output stable across runs\n",
    "np.random.seed(30)"
   ]
  },
  {
   "cell_type": "code",
   "execution_count": 3,
   "id": "d9d70301",
   "metadata": {},
   "outputs": [],
   "source": [
    "DATA_FILE = \"s:/Data/used_car_sales/vehicles.csv\"\n",
    "\n",
    "# only load columns for regression model\n",
    "# exclude high cardinality columns - such as model \n",
    "# except for id, the other ones will be considered for regression  modeling\n",
    "\n",
    "USE_COLUMNS = [\n",
    "    'id',\n",
    "#     'url',\n",
    "#     'region',\n",
    "#     'region_url',\n",
    "    'price',\n",
    "    'year',\n",
    "    'manufacturer',\n",
    "   'model',\n",
    "    'condition',\n",
    "    'cylinders',\n",
    "    'fuel',\n",
    "    'odometer',\n",
    "#    'title_status',\n",
    "    'transmission',\n",
    "#     'VIN',\n",
    "   'drive',\n",
    "    'size',\n",
    "    'type',\n",
    "#    'paint_color',\n",
    "#     'image_url',\n",
    "#     'description',\n",
    "#     'county',\n",
    "    'state',\n",
    "#     'lat',\n",
    "#     'long'\n",
    "#    'posting_date'\n",
    "]\n",
    "\n",
    "COL_DATA_TYPES = {\n",
    "     'id': object,\n",
    "#     'url',\n",
    "#     'region',\n",
    "#     'region_url',\n",
    "    'price': float,\n",
    "    'year': float,\n",
    "#     'manufacturer',\n",
    "#     'model',\n",
    "#     'condition',\n",
    "#     'cylinders',\n",
    "#     'fuel',\n",
    "    'odometer': float,\n",
    "#     'title_status',\n",
    "#     'transmission',\n",
    "#     'VIN',\n",
    "#     'drive',\n",
    "#     'size',\n",
    "#     'type',\n",
    "#     'paint_color',\n",
    "#     'image_url',\n",
    "#     'description',\n",
    "#     'county',\n",
    "#     'state',\n",
    "    'lat': float,\n",
    "    'long': float\n",
    "#     'posting_date'\n",
    "}"
   ]
  },
  {
   "cell_type": "code",
   "execution_count": 4,
   "id": "af221b1b",
   "metadata": {},
   "outputs": [],
   "source": [
    "df = pd.read_csv(DATA_FILE, usecols = USE_COLUMNS, dtype=COL_DATA_TYPES)"
   ]
  },
  {
   "cell_type": "code",
   "execution_count": 28,
   "id": "e0ea038d",
   "metadata": {},
   "outputs": [],
   "source": [
    "# exclude records with null year, manufaturer, type and price   \n",
    "df = df.dropna(subset=['year','manufacturer','odometer','type','price'])"
   ]
  },
  {
   "cell_type": "code",
   "execution_count": 29,
   "id": "30378b0e",
   "metadata": {},
   "outputs": [
    {
     "name": "stdout",
     "output_type": "stream",
     "text": [
      "<class 'pandas.core.frame.DataFrame'>\n",
      "Int64Index: 293744 entries, 27 to 426879\n",
      "Data columns (total 17 columns):\n",
      " #   Column        Non-Null Count   Dtype   \n",
      "---  ------        --------------   -----   \n",
      " 0   id            293744 non-null  object  \n",
      " 1   price         293744 non-null  float64 \n",
      " 2   year          293744 non-null  int16   \n",
      " 3   manufacturer  293744 non-null  category\n",
      " 4   model         291322 non-null  object  \n",
      " 5   condition     200548 non-null  category\n",
      " 6   cylinders     197425 non-null  category\n",
      " 7   fuel          292101 non-null  category\n",
      " 8   odometer      293744 non-null  float64 \n",
      " 9   transmission  292339 non-null  category\n",
      " 10  drive         232028 non-null  category\n",
      " 11  size          100554 non-null  category\n",
      " 12  type          293744 non-null  category\n",
      " 13  state         293744 non-null  category\n",
      " 14  classic_car   293744 non-null  int64   \n",
      " 15  modern_car    293744 non-null  int64   \n",
      " 16  antique_car   293744 non-null  int64   \n",
      "dtypes: category(9), float64(2), int16(1), int64(3), object(2)\n",
      "memory usage: 21.0+ MB\n"
     ]
    }
   ],
   "source": [
    "df.info()"
   ]
  },
  {
   "cell_type": "code",
   "execution_count": 30,
   "id": "0b934d68",
   "metadata": {},
   "outputs": [
    {
     "data": {
      "text/plain": [
       "id              293744\n",
       "price            13267\n",
       "year               104\n",
       "manufacturer        42\n",
       "model            19435\n",
       "                 ...  \n",
       "type                13\n",
       "state               51\n",
       "classic_car          2\n",
       "modern_car           2\n",
       "antique_car          2\n",
       "Length: 17, dtype: int64"
      ]
     },
     "execution_count": 30,
     "metadata": {},
     "output_type": "execute_result"
    }
   ],
   "source": [
    "df.nunique()"
   ]
  },
  {
   "cell_type": "code",
   "execution_count": 31,
   "id": "ab56c4f7",
   "metadata": {},
   "outputs": [],
   "source": [
    "pd.set_option('display.max_rows', None)"
   ]
  },
  {
   "cell_type": "code",
   "execution_count": 32,
   "id": "ab6b558a",
   "metadata": {},
   "outputs": [
    {
     "data": {
      "text/plain": [
       "['gas', 'other_fuel', 'diesel', 'hybrid', NaN, 'electric']\n",
       "Categories (5, object): ['diesel', 'electric', 'gas', 'hybrid', 'other_fuel']"
      ]
     },
     "execution_count": 32,
     "metadata": {},
     "output_type": "execute_result"
    }
   ],
   "source": [
    "df['fuel'].unique()"
   ]
  },
  {
   "cell_type": "code",
   "execution_count": 33,
   "id": "4bf43b95",
   "metadata": {},
   "outputs": [
    {
     "data": {
      "text/plain": [
       "<AxesSubplot:xlabel='fuel'>"
      ]
     },
     "execution_count": 33,
     "metadata": {},
     "output_type": "execute_result"
    },
    {
     "data": {
      "image/png": "[encoded data removed]",
      "text/plain": [
       "<Figure size 432x288 with 1 Axes>"
      ]
     },
     "metadata": {
      "needs_background": "light"
     },
     "output_type": "display_data"
    }
   ],
   "source": [
    "df[['fuel','id']].groupby('fuel').count().plot(kind='bar')"
   ]
  },
  {
   "cell_type": "code",
   "execution_count": 34,
   "id": "70201ad4",
   "metadata": {},
   "outputs": [
    {
     "data": {
      "text/plain": [
       "['other_transmission', 'automatic', 'manual', NaN]\n",
       "Categories (3, object): ['automatic', 'manual', 'other_transmission']"
      ]
     },
     "execution_count": 34,
     "metadata": {},
     "output_type": "execute_result"
    }
   ],
   "source": [
    "df['transmission'].unique()"
   ]
  },
  {
   "cell_type": "code",
   "execution_count": 35,
   "id": "13a09966",
   "metadata": {},
   "outputs": [
    {
     "data": {
      "text/plain": [
       "<AxesSubplot:xlabel='transmission'>"
      ]
     },
     "execution_count": 35,
     "metadata": {},
     "output_type": "execute_result"
    },
    {
     "data": {
      "image/png": "[encoded data removed]",
      "text/plain": [
       "<Figure size 432x288 with 1 Axes>"
      ]
     },
     "metadata": {
      "needs_background": "light"
     },
     "output_type": "display_data"
    }
   ],
   "source": [
    "df[['transmission','id']].groupby('transmission').count().plot(kind='bar')"
   ]
  },
  {
   "cell_type": "code",
   "execution_count": 36,
   "id": "9bf33c8a",
   "metadata": {},
   "outputs": [
    {
     "data": {
      "text/plain": [
       "[NaN, 'rwd', '4wd', 'fwd']\n",
       "Categories (3, object): ['4wd', 'fwd', 'rwd']"
      ]
     },
     "execution_count": 36,
     "metadata": {},
     "output_type": "execute_result"
    }
   ],
   "source": [
    "df['drive'].unique()"
   ]
  },
  {
   "cell_type": "code",
   "execution_count": 37,
   "id": "96f49bda",
   "metadata": {},
   "outputs": [
    {
     "data": {
      "text/plain": [
       "<AxesSubplot:xlabel='drive'>"
      ]
     },
     "execution_count": 37,
     "metadata": {},
     "output_type": "execute_result"
    },
    {
     "data": {
      "image/png": "[encoded data removed]",
      "text/plain": [
       "<Figure size 432x288 with 1 Axes>"
      ]
     },
     "metadata": {
      "needs_background": "light"
     },
     "output_type": "display_data"
    }
   ],
   "source": [
    "df[['drive','id']].groupby('drive').count().plot(kind='bar')"
   ]
  },
  {
   "cell_type": "code",
   "execution_count": 38,
   "id": "6357a712",
   "metadata": {},
   "outputs": [
    {
     "data": {
      "text/plain": [
       "['pickup', 'truck', 'other_type', 'coupe', 'SUV', ..., 'offroad', 'convertible', 'wagon', 'van', 'bus']\n",
       "Length: 13\n",
       "Categories (13, object): ['SUV', 'bus', 'convertible', 'coupe', ..., 'sedan', 'truck', 'van', 'wagon']"
      ]
     },
     "execution_count": 38,
     "metadata": {},
     "output_type": "execute_result"
    }
   ],
   "source": [
    "df['type'].unique()"
   ]
  },
  {
   "cell_type": "code",
   "execution_count": 39,
   "id": "fc3d22e1",
   "metadata": {},
   "outputs": [
    {
     "data": {
      "text/plain": [
       "<AxesSubplot:xlabel='type'>"
      ]
     },
     "execution_count": 39,
     "metadata": {},
     "output_type": "execute_result"
    },
    {
     "data": {
      "image/png": "[encoded data removed]",
      "text/plain": [
       "<Figure size 432x288 with 1 Axes>"
      ]
     },
     "metadata": {
      "needs_background": "light"
     },
     "output_type": "display_data"
    }
   ],
   "source": [
    "df[['type','id']].groupby('type').count().plot(kind='bar')"
   ]
  },
  {
   "cell_type": "code",
   "execution_count": 40,
   "id": "90a8ccf7",
   "metadata": {},
   "outputs": [],
   "source": [
    "# update value 'other' to more specific value\n",
    "df.loc[df[(df['fuel'] == 'other')].index,'fuel'] = 'other_fuel'\n",
    "df.loc[df[(df['transmission'] == 'other')].index,'transmission'] = 'other_transmission'\n",
    "df.loc[df[(df['type'] == 'other')].index,'type'] = 'other_type'"
   ]
  },
  {
   "cell_type": "code",
   "execution_count": 41,
   "id": "6bae4849",
   "metadata": {},
   "outputs": [],
   "source": [
    "pd.set_option('display.max_rows', 15)"
   ]
  },
  {
   "cell_type": "code",
   "execution_count": 42,
   "id": "1cad9bb7",
   "metadata": {},
   "outputs": [
    {
     "name": "stdout",
     "output_type": "stream",
     "text": [
      "<class 'pandas.core.frame.DataFrame'>\n",
      "Int64Index: 293744 entries, 27 to 426879\n",
      "Data columns (total 17 columns):\n",
      " #   Column        Non-Null Count   Dtype   \n",
      "---  ------        --------------   -----   \n",
      " 0   id            293744 non-null  object  \n",
      " 1   price         293744 non-null  float64 \n",
      " 2   year          293744 non-null  int16   \n",
      " 3   manufacturer  293744 non-null  category\n",
      " 4   model         291322 non-null  object  \n",
      " 5   condition     200548 non-null  category\n",
      " 6   cylinders     197425 non-null  category\n",
      " 7   fuel          292101 non-null  category\n",
      " 8   odometer      293744 non-null  float64 \n",
      " 9   transmission  292339 non-null  category\n",
      " 10  drive         232028 non-null  category\n",
      " 11  size          100554 non-null  category\n",
      " 12  type          293744 non-null  category\n",
      " 13  state         293744 non-null  category\n",
      " 14  classic_car   293744 non-null  int64   \n",
      " 15  modern_car    293744 non-null  int64   \n",
      " 16  antique_car   293744 non-null  int64   \n",
      "dtypes: category(9), float64(2), int16(1), int64(3), object(2)\n",
      "memory usage: 29.1+ MB\n"
     ]
    },
    {
     "name": "stderr",
     "output_type": "stream",
     "text": [
      "C:\\Users\\dgouin\\AppData\\Local\\Temp\\ipykernel_17304\\827515111.py:3: SettingWithCopyWarning: \n",
      "A value is trying to be set on a copy of a slice from a DataFrame.\n",
      "Try using .loc[row_indexer,col_indexer] = value instead\n",
      "\n",
      "See the caveats in the documentation: https://pandas.pydata.org/pandas-docs/stable/user_guide/indexing.html#returning-a-view-versus-a-copy\n",
      "  df['year'] = df['year'].astype('int16')\n",
      "C:\\Users\\dgouin\\AppData\\Local\\Temp\\ipykernel_17304\\827515111.py:4: SettingWithCopyWarning: \n",
      "A value is trying to be set on a copy of a slice from a DataFrame.\n",
      "Try using .loc[row_indexer,col_indexer] = value instead\n",
      "\n",
      "See the caveats in the documentation: https://pandas.pydata.org/pandas-docs/stable/user_guide/indexing.html#returning-a-view-versus-a-copy\n",
      "  df['manufacturer'] = df['manufacturer'].astype('category')\n",
      "C:\\Users\\dgouin\\AppData\\Local\\Temp\\ipykernel_17304\\827515111.py:5: SettingWithCopyWarning: \n",
      "A value is trying to be set on a copy of a slice from a DataFrame.\n",
      "Try using .loc[row_indexer,col_indexer] = value instead\n",
      "\n",
      "See the caveats in the documentation: https://pandas.pydata.org/pandas-docs/stable/user_guide/indexing.html#returning-a-view-versus-a-copy\n",
      "  df['condition'] = df['condition'].astype('category')\n",
      "C:\\Users\\dgouin\\AppData\\Local\\Temp\\ipykernel_17304\\827515111.py:6: SettingWithCopyWarning: \n",
      "A value is trying to be set on a copy of a slice from a DataFrame.\n",
      "Try using .loc[row_indexer,col_indexer] = value instead\n",
      "\n",
      "See the caveats in the documentation: https://pandas.pydata.org/pandas-docs/stable/user_guide/indexing.html#returning-a-view-versus-a-copy\n",
      "  df['cylinders'] = df['cylinders'].astype('category')\n",
      "C:\\Users\\dgouin\\AppData\\Local\\Temp\\ipykernel_17304\\827515111.py:7: SettingWithCopyWarning: \n",
      "A value is trying to be set on a copy of a slice from a DataFrame.\n",
      "Try using .loc[row_indexer,col_indexer] = value instead\n",
      "\n",
      "See the caveats in the documentation: https://pandas.pydata.org/pandas-docs/stable/user_guide/indexing.html#returning-a-view-versus-a-copy\n",
      "  df['fuel'] = df['fuel'].astype('category')\n",
      "C:\\Users\\dgouin\\AppData\\Local\\Temp\\ipykernel_17304\\827515111.py:8: SettingWithCopyWarning: \n",
      "A value is trying to be set on a copy of a slice from a DataFrame.\n",
      "Try using .loc[row_indexer,col_indexer] = value instead\n",
      "\n",
      "See the caveats in the documentation: https://pandas.pydata.org/pandas-docs/stable/user_guide/indexing.html#returning-a-view-versus-a-copy\n",
      "  df['transmission'] = df['transmission'].astype('category')\n",
      "C:\\Users\\dgouin\\AppData\\Local\\Temp\\ipykernel_17304\\827515111.py:9: SettingWithCopyWarning: \n",
      "A value is trying to be set on a copy of a slice from a DataFrame.\n",
      "Try using .loc[row_indexer,col_indexer] = value instead\n",
      "\n",
      "See the caveats in the documentation: https://pandas.pydata.org/pandas-docs/stable/user_guide/indexing.html#returning-a-view-versus-a-copy\n",
      "  df['drive'] = df['drive'].astype('category')\n",
      "C:\\Users\\dgouin\\AppData\\Local\\Temp\\ipykernel_17304\\827515111.py:10: SettingWithCopyWarning: \n",
      "A value is trying to be set on a copy of a slice from a DataFrame.\n",
      "Try using .loc[row_indexer,col_indexer] = value instead\n",
      "\n",
      "See the caveats in the documentation: https://pandas.pydata.org/pandas-docs/stable/user_guide/indexing.html#returning-a-view-versus-a-copy\n",
      "  df['size'] = df['size'].astype('category')\n",
      "C:\\Users\\dgouin\\AppData\\Local\\Temp\\ipykernel_17304\\827515111.py:11: SettingWithCopyWarning: \n",
      "A value is trying to be set on a copy of a slice from a DataFrame.\n",
      "Try using .loc[row_indexer,col_indexer] = value instead\n",
      "\n",
      "See the caveats in the documentation: https://pandas.pydata.org/pandas-docs/stable/user_guide/indexing.html#returning-a-view-versus-a-copy\n",
      "  df['type'] = df['type'].astype('category')\n",
      "C:\\Users\\dgouin\\AppData\\Local\\Temp\\ipykernel_17304\\827515111.py:12: SettingWithCopyWarning: \n",
      "A value is trying to be set on a copy of a slice from a DataFrame.\n",
      "Try using .loc[row_indexer,col_indexer] = value instead\n",
      "\n",
      "See the caveats in the documentation: https://pandas.pydata.org/pandas-docs/stable/user_guide/indexing.html#returning-a-view-versus-a-copy\n",
      "  df['state'] = df['state'].astype('category')\n"
     ]
    }
   ],
   "source": [
    "# convert to category columns - memory optimization\n",
    "\n",
    "df['year'] = df['year'].astype('int16')\n",
    "df['manufacturer'] = df['manufacturer'].astype('category')\n",
    "df['condition'] = df['condition'].astype('category')\n",
    "df['cylinders'] = df['cylinders'].astype('category')\n",
    "df['fuel'] = df['fuel'].astype('category')\n",
    "df['transmission'] = df['transmission'].astype('category')\n",
    "df['drive'] = df['drive'].astype('category')\n",
    "df['size'] = df['size'].astype('category')\n",
    "df['type'] = df['type'].astype('category')\n",
    "df['state'] = df['state'].astype('category')\n",
    "\n",
    "df.info()"
   ]
  },
  {
   "cell_type": "markdown",
   "id": "10ff58f5",
   "metadata": {},
   "source": [
    "### regression model notes\n",
    "* price is going to be our target variable \n",
    "* odometer reading will be broken down into bins "
   ]
  },
  {
   "cell_type": "code",
   "execution_count": 43,
   "id": "a9cdfafd",
   "metadata": {},
   "outputs": [],
   "source": [
    "pd.options.display.float_format = '{:.2f}'.format\n",
    "# pd.reset_option('^display.', silent=True)"
   ]
  },
  {
   "cell_type": "code",
   "execution_count": 44,
   "id": "cc739345",
   "metadata": {
    "scrolled": true
   },
   "outputs": [
    {
     "data": {
      "text/html": [
       "<div>\n",
       "<style scoped>\n",
       "    .dataframe tbody tr th:only-of-type {\n",
       "        vertical-align: middle;\n",
       "    }\n",
       "\n",
       "    .dataframe tbody tr th {\n",
       "        vertical-align: top;\n",
       "    }\n",
       "\n",
       "    .dataframe thead th {\n",
       "        text-align: right;\n",
       "    }\n",
       "</style>\n",
       "<table border=\"1\" class=\"dataframe\">\n",
       "  <thead>\n",
       "    <tr style=\"text-align: right;\">\n",
       "      <th></th>\n",
       "      <th>count</th>\n",
       "      <th>mean</th>\n",
       "      <th>std</th>\n",
       "      <th>min</th>\n",
       "      <th>25%</th>\n",
       "      <th>50%</th>\n",
       "      <th>75%</th>\n",
       "      <th>max</th>\n",
       "    </tr>\n",
       "  </thead>\n",
       "  <tbody>\n",
       "    <tr>\n",
       "      <th>price</th>\n",
       "      <td>293744.00</td>\n",
       "      <td>19739.10</td>\n",
       "      <td>14239.52</td>\n",
       "      <td>100.00</td>\n",
       "      <td>8228.00</td>\n",
       "      <td>16988.00</td>\n",
       "      <td>28590.00</td>\n",
       "      <td>100000.00</td>\n",
       "    </tr>\n",
       "    <tr>\n",
       "      <th>year</th>\n",
       "      <td>293744.00</td>\n",
       "      <td>2012.02</td>\n",
       "      <td>8.21</td>\n",
       "      <td>1900.00</td>\n",
       "      <td>2009.00</td>\n",
       "      <td>2014.00</td>\n",
       "      <td>2017.00</td>\n",
       "      <td>2022.00</td>\n",
       "    </tr>\n",
       "    <tr>\n",
       "      <th>odometer</th>\n",
       "      <td>293744.00</td>\n",
       "      <td>90605.27</td>\n",
       "      <td>148143.81</td>\n",
       "      <td>0.00</td>\n",
       "      <td>34484.75</td>\n",
       "      <td>80731.50</td>\n",
       "      <td>129179.00</td>\n",
       "      <td>10000000.00</td>\n",
       "    </tr>\n",
       "    <tr>\n",
       "      <th>classic_car</th>\n",
       "      <td>293744.00</td>\n",
       "      <td>0.01</td>\n",
       "      <td>0.11</td>\n",
       "      <td>0.00</td>\n",
       "      <td>0.00</td>\n",
       "      <td>0.00</td>\n",
       "      <td>0.00</td>\n",
       "      <td>1.00</td>\n",
       "    </tr>\n",
       "    <tr>\n",
       "      <th>modern_car</th>\n",
       "      <td>293744.00</td>\n",
       "      <td>0.99</td>\n",
       "      <td>0.11</td>\n",
       "      <td>0.00</td>\n",
       "      <td>1.00</td>\n",
       "      <td>1.00</td>\n",
       "      <td>1.00</td>\n",
       "      <td>1.00</td>\n",
       "    </tr>\n",
       "    <tr>\n",
       "      <th>antique_car</th>\n",
       "      <td>293744.00</td>\n",
       "      <td>0.00</td>\n",
       "      <td>0.01</td>\n",
       "      <td>0.00</td>\n",
       "      <td>0.00</td>\n",
       "      <td>0.00</td>\n",
       "      <td>0.00</td>\n",
       "      <td>1.00</td>\n",
       "    </tr>\n",
       "  </tbody>\n",
       "</table>\n",
       "</div>"
      ],
      "text/plain": [
       "                count     mean       std     min      25%      50%       75%  \\\n",
       "price       293744.00 19739.10  14239.52  100.00  8228.00 16988.00  28590.00   \n",
       "year        293744.00  2012.02      8.21 1900.00  2009.00  2014.00   2017.00   \n",
       "odometer    293744.00 90605.27 148143.81    0.00 34484.75 80731.50 129179.00   \n",
       "classic_car 293744.00     0.01      0.11    0.00     0.00     0.00      0.00   \n",
       "modern_car  293744.00     0.99      0.11    0.00     1.00     1.00      1.00   \n",
       "antique_car 293744.00     0.00      0.01    0.00     0.00     0.00      0.00   \n",
       "\n",
       "                    max  \n",
       "price         100000.00  \n",
       "year            2022.00  \n",
       "odometer    10000000.00  \n",
       "classic_car        1.00  \n",
       "modern_car         1.00  \n",
       "antique_car        1.00  "
      ]
     },
     "execution_count": 44,
     "metadata": {},
     "output_type": "execute_result"
    }
   ],
   "source": [
    "df.describe().T"
   ]
  },
  {
   "cell_type": "code",
   "execution_count": 45,
   "id": "0582a0f8",
   "metadata": {},
   "outputs": [
    {
     "data": {
      "text/html": [
       "<div>\n",
       "<style scoped>\n",
       "    .dataframe tbody tr th:only-of-type {\n",
       "        vertical-align: middle;\n",
       "    }\n",
       "\n",
       "    .dataframe tbody tr th {\n",
       "        vertical-align: top;\n",
       "    }\n",
       "\n",
       "    .dataframe thead th {\n",
       "        text-align: right;\n",
       "    }\n",
       "</style>\n",
       "<table border=\"1\" class=\"dataframe\">\n",
       "  <thead>\n",
       "    <tr style=\"text-align: right;\">\n",
       "      <th></th>\n",
       "      <th>count</th>\n",
       "      <th>mean</th>\n",
       "      <th>std</th>\n",
       "      <th>min</th>\n",
       "      <th>25%</th>\n",
       "      <th>50%</th>\n",
       "      <th>75%</th>\n",
       "      <th>max</th>\n",
       "    </tr>\n",
       "  </thead>\n",
       "  <tbody>\n",
       "    <tr>\n",
       "      <th>price</th>\n",
       "      <td>293744.00</td>\n",
       "      <td>19739.10</td>\n",
       "      <td>14239.52</td>\n",
       "      <td>100.00</td>\n",
       "      <td>8228.00</td>\n",
       "      <td>16988.00</td>\n",
       "      <td>28590.00</td>\n",
       "      <td>100000.00</td>\n",
       "    </tr>\n",
       "    <tr>\n",
       "      <th>year</th>\n",
       "      <td>293744.00</td>\n",
       "      <td>2012.02</td>\n",
       "      <td>8.21</td>\n",
       "      <td>1900.00</td>\n",
       "      <td>2009.00</td>\n",
       "      <td>2014.00</td>\n",
       "      <td>2017.00</td>\n",
       "      <td>2022.00</td>\n",
       "    </tr>\n",
       "    <tr>\n",
       "      <th>odometer</th>\n",
       "      <td>293744.00</td>\n",
       "      <td>90605.27</td>\n",
       "      <td>148143.81</td>\n",
       "      <td>0.00</td>\n",
       "      <td>34484.75</td>\n",
       "      <td>80731.50</td>\n",
       "      <td>129179.00</td>\n",
       "      <td>10000000.00</td>\n",
       "    </tr>\n",
       "    <tr>\n",
       "      <th>classic_car</th>\n",
       "      <td>293744.00</td>\n",
       "      <td>0.01</td>\n",
       "      <td>0.11</td>\n",
       "      <td>0.00</td>\n",
       "      <td>0.00</td>\n",
       "      <td>0.00</td>\n",
       "      <td>0.00</td>\n",
       "      <td>1.00</td>\n",
       "    </tr>\n",
       "    <tr>\n",
       "      <th>modern_car</th>\n",
       "      <td>293744.00</td>\n",
       "      <td>0.99</td>\n",
       "      <td>0.11</td>\n",
       "      <td>0.00</td>\n",
       "      <td>1.00</td>\n",
       "      <td>1.00</td>\n",
       "      <td>1.00</td>\n",
       "      <td>1.00</td>\n",
       "    </tr>\n",
       "    <tr>\n",
       "      <th>antique_car</th>\n",
       "      <td>293744.00</td>\n",
       "      <td>0.00</td>\n",
       "      <td>0.01</td>\n",
       "      <td>0.00</td>\n",
       "      <td>0.00</td>\n",
       "      <td>0.00</td>\n",
       "      <td>0.00</td>\n",
       "      <td>1.00</td>\n",
       "    </tr>\n",
       "  </tbody>\n",
       "</table>\n",
       "</div>"
      ],
      "text/plain": [
       "                count     mean       std     min      25%      50%       75%  \\\n",
       "price       293744.00 19739.10  14239.52  100.00  8228.00 16988.00  28590.00   \n",
       "year        293744.00  2012.02      8.21 1900.00  2009.00  2014.00   2017.00   \n",
       "odometer    293744.00 90605.27 148143.81    0.00 34484.75 80731.50 129179.00   \n",
       "classic_car 293744.00     0.01      0.11    0.00     0.00     0.00      0.00   \n",
       "modern_car  293744.00     0.99      0.11    0.00     1.00     1.00      1.00   \n",
       "antique_car 293744.00     0.00      0.01    0.00     0.00     0.00      0.00   \n",
       "\n",
       "                    max  \n",
       "price         100000.00  \n",
       "year            2022.00  \n",
       "odometer    10000000.00  \n",
       "classic_car        1.00  \n",
       "modern_car         1.00  \n",
       "antique_car        1.00  "
      ]
     },
     "execution_count": 45,
     "metadata": {},
     "output_type": "execute_result"
    }
   ],
   "source": [
    "# use clip function to drop price below 100 and above 100000  \n",
    "df = df[(df['price'] >= 100) & (df['price'] <= 100000)]\n",
    "\n",
    "df.describe().T"
   ]
  },
  {
   "cell_type": "code",
   "execution_count": 46,
   "id": "65574b44",
   "metadata": {},
   "outputs": [
    {
     "data": {
      "text/plain": [
       "<AxesSubplot:xlabel='year', ylabel='price'>"
      ]
     },
     "execution_count": 46,
     "metadata": {},
     "output_type": "execute_result"
    },
    {
     "data": {
      "image/png": "[encoded data removed]",
      "text/plain": [
       "<Figure size 432x288 with 1 Axes>"
      ]
     },
     "metadata": {
      "needs_background": "light"
     },
     "output_type": "display_data"
    }
   ],
   "source": [
    "#scatter plot of price vs. year \n",
    "df.plot(kind=\"scatter\", x=\"year\", y=\"price\")"
   ]
  },
  {
   "cell_type": "markdown",
   "id": "bef1e161",
   "metadata": {},
   "source": [
    "There seems to be a trend where car price goes down for older cars, up to a point where it starts going up again - for instance, for cars older than 1980 (classic cars). And then the price trend goes down again for antique cars - i.e. prior to 1925. We will take this into account in the regression model by creating a car_categories of: `['modern','classic','antique']` \n",
    "\n",
    "These will appear as features in the regression model, so in preparation for that, we will create a matrix for these categories in the existing dataframe. "
   ]
  },
  {
   "cell_type": "code",
   "execution_count": 47,
   "id": "c1356ac3",
   "metadata": {},
   "outputs": [],
   "source": [
    "# would catagorizing cars as classic if built prior to 1980, \n",
    "# increase the accuracy of our model? \n",
    "df['classic_car'] = 0 \n",
    "df.loc[df[(df['year'] < 1980) & (df['year'] > 1925)].index,'classic_car'] = 1\n",
    "\n",
    "df['modern_car'] = 0 \n",
    "df.loc[df[(df['year'] >= 1980)].index,'modern_car'] = 1\n",
    "\n",
    "df['antique_car'] = 0 \n",
    "df.loc[df[(df['year'] <= 1925)].index,'antique_car'] = 1"
   ]
  },
  {
   "cell_type": "code",
   "execution_count": 48,
   "id": "41b5beba",
   "metadata": {},
   "outputs": [
    {
     "data": {
      "text/html": [
       "<div>\n",
       "<style scoped>\n",
       "    .dataframe tbody tr th:only-of-type {\n",
       "        vertical-align: middle;\n",
       "    }\n",
       "\n",
       "    .dataframe tbody tr th {\n",
       "        vertical-align: top;\n",
       "    }\n",
       "\n",
       "    .dataframe thead th {\n",
       "        text-align: right;\n",
       "    }\n",
       "</style>\n",
       "<table border=\"1\" class=\"dataframe\">\n",
       "  <thead>\n",
       "    <tr style=\"text-align: right;\">\n",
       "      <th></th>\n",
       "      <th>id</th>\n",
       "      <th>price</th>\n",
       "      <th>year</th>\n",
       "      <th>manufacturer</th>\n",
       "      <th>model</th>\n",
       "      <th>condition</th>\n",
       "      <th>cylinders</th>\n",
       "      <th>fuel</th>\n",
       "      <th>odometer</th>\n",
       "      <th>transmission</th>\n",
       "      <th>drive</th>\n",
       "      <th>size</th>\n",
       "      <th>type</th>\n",
       "      <th>state</th>\n",
       "      <th>classic_car</th>\n",
       "      <th>modern_car</th>\n",
       "      <th>antique_car</th>\n",
       "    </tr>\n",
       "  </thead>\n",
       "  <tbody>\n",
       "    <tr>\n",
       "      <th>335028</th>\n",
       "      <td>7308494154</td>\n",
       "      <td>22000.00</td>\n",
       "      <td>1979</td>\n",
       "      <td>pontiac</td>\n",
       "      <td>firebird trans am</td>\n",
       "      <td>excellent</td>\n",
       "      <td>8 cylinders</td>\n",
       "      <td>gas</td>\n",
       "      <td>72000.00</td>\n",
       "      <td>automatic</td>\n",
       "      <td>rwd</td>\n",
       "      <td>mid-size</td>\n",
       "      <td>coupe</td>\n",
       "      <td>pa</td>\n",
       "      <td>1</td>\n",
       "      <td>0</td>\n",
       "      <td>0</td>\n",
       "    </tr>\n",
       "    <tr>\n",
       "      <th>410127</th>\n",
       "      <td>7313633230</td>\n",
       "      <td>5850.00</td>\n",
       "      <td>1984</td>\n",
       "      <td>pontiac</td>\n",
       "      <td>sunbird</td>\n",
       "      <td>excellent</td>\n",
       "      <td>4 cylinders</td>\n",
       "      <td>gas</td>\n",
       "      <td>131000.00</td>\n",
       "      <td>automatic</td>\n",
       "      <td>fwd</td>\n",
       "      <td>mid-size</td>\n",
       "      <td>convertible</td>\n",
       "      <td>wa</td>\n",
       "      <td>0</td>\n",
       "      <td>1</td>\n",
       "      <td>0</td>\n",
       "    </tr>\n",
       "    <tr>\n",
       "      <th>80598</th>\n",
       "      <td>7302898963</td>\n",
       "      <td>6700.00</td>\n",
       "      <td>1980</td>\n",
       "      <td>jeep</td>\n",
       "      <td>cj5</td>\n",
       "      <td>good</td>\n",
       "      <td>6 cylinders</td>\n",
       "      <td>gas</td>\n",
       "      <td>174600.00</td>\n",
       "      <td>manual</td>\n",
       "      <td>4wd</td>\n",
       "      <td>NaN</td>\n",
       "      <td>convertible</td>\n",
       "      <td>co</td>\n",
       "      <td>0</td>\n",
       "      <td>1</td>\n",
       "      <td>0</td>\n",
       "    </tr>\n",
       "    <tr>\n",
       "      <th>343040</th>\n",
       "      <td>7308774745</td>\n",
       "      <td>7000.00</td>\n",
       "      <td>1982</td>\n",
       "      <td>mercedes-benz</td>\n",
       "      <td>NaN</td>\n",
       "      <td>excellent</td>\n",
       "      <td>6 cylinders</td>\n",
       "      <td>gas</td>\n",
       "      <td>116000.00</td>\n",
       "      <td>automatic</td>\n",
       "      <td>rwd</td>\n",
       "      <td>NaN</td>\n",
       "      <td>convertible</td>\n",
       "      <td>ri</td>\n",
       "      <td>0</td>\n",
       "      <td>1</td>\n",
       "      <td>0</td>\n",
       "    </tr>\n",
       "    <tr>\n",
       "      <th>406661</th>\n",
       "      <td>7307537260</td>\n",
       "      <td>12000.00</td>\n",
       "      <td>1982</td>\n",
       "      <td>mercedes-benz</td>\n",
       "      <td>300d</td>\n",
       "      <td>excellent</td>\n",
       "      <td>5 cylinders</td>\n",
       "      <td>diesel</td>\n",
       "      <td>137000.00</td>\n",
       "      <td>automatic</td>\n",
       "      <td>rwd</td>\n",
       "      <td>compact</td>\n",
       "      <td>sedan</td>\n",
       "      <td>wa</td>\n",
       "      <td>0</td>\n",
       "      <td>1</td>\n",
       "      <td>0</td>\n",
       "    </tr>\n",
       "    <tr>\n",
       "      <th>...</th>\n",
       "      <td>...</td>\n",
       "      <td>...</td>\n",
       "      <td>...</td>\n",
       "      <td>...</td>\n",
       "      <td>...</td>\n",
       "      <td>...</td>\n",
       "      <td>...</td>\n",
       "      <td>...</td>\n",
       "      <td>...</td>\n",
       "      <td>...</td>\n",
       "      <td>...</td>\n",
       "      <td>...</td>\n",
       "      <td>...</td>\n",
       "      <td>...</td>\n",
       "      <td>...</td>\n",
       "      <td>...</td>\n",
       "      <td>...</td>\n",
       "    </tr>\n",
       "    <tr>\n",
       "      <th>37653</th>\n",
       "      <td>7313161763</td>\n",
       "      <td>6500.00</td>\n",
       "      <td>1981</td>\n",
       "      <td>toyota</td>\n",
       "      <td>trekker</td>\n",
       "      <td>fair</td>\n",
       "      <td>4 cylinders</td>\n",
       "      <td>gas</td>\n",
       "      <td>100000.00</td>\n",
       "      <td>manual</td>\n",
       "      <td>4wd</td>\n",
       "      <td>NaN</td>\n",
       "      <td>pickup</td>\n",
       "      <td>ca</td>\n",
       "      <td>0</td>\n",
       "      <td>1</td>\n",
       "      <td>0</td>\n",
       "    </tr>\n",
       "    <tr>\n",
       "      <th>262689</th>\n",
       "      <td>7302397183</td>\n",
       "      <td>6800.00</td>\n",
       "      <td>1983</td>\n",
       "      <td>jeep</td>\n",
       "      <td>wagoneer</td>\n",
       "      <td>fair</td>\n",
       "      <td>8 cylinders</td>\n",
       "      <td>gas</td>\n",
       "      <td>132000.00</td>\n",
       "      <td>automatic</td>\n",
       "      <td>4wd</td>\n",
       "      <td>full-size</td>\n",
       "      <td>SUV</td>\n",
       "      <td>nm</td>\n",
       "      <td>0</td>\n",
       "      <td>1</td>\n",
       "      <td>0</td>\n",
       "    </tr>\n",
       "    <tr>\n",
       "      <th>258505</th>\n",
       "      <td>7305575010</td>\n",
       "      <td>17000.00</td>\n",
       "      <td>1983</td>\n",
       "      <td>lincoln</td>\n",
       "      <td>mark vi</td>\n",
       "      <td>good</td>\n",
       "      <td>NaN</td>\n",
       "      <td>gas</td>\n",
       "      <td>34000.00</td>\n",
       "      <td>automatic</td>\n",
       "      <td>NaN</td>\n",
       "      <td>NaN</td>\n",
       "      <td>sedan</td>\n",
       "      <td>nj</td>\n",
       "      <td>0</td>\n",
       "      <td>1</td>\n",
       "      <td>0</td>\n",
       "    </tr>\n",
       "    <tr>\n",
       "      <th>284879</th>\n",
       "      <td>7312786450</td>\n",
       "      <td>7500.00</td>\n",
       "      <td>1983</td>\n",
       "      <td>jeep</td>\n",
       "      <td>cj-7</td>\n",
       "      <td>good</td>\n",
       "      <td>6 cylinders</td>\n",
       "      <td>gas</td>\n",
       "      <td>156000.00</td>\n",
       "      <td>automatic</td>\n",
       "      <td>4wd</td>\n",
       "      <td>mid-size</td>\n",
       "      <td>SUV</td>\n",
       "      <td>nh</td>\n",
       "      <td>0</td>\n",
       "      <td>1</td>\n",
       "      <td>0</td>\n",
       "    </tr>\n",
       "    <tr>\n",
       "      <th>134077</th>\n",
       "      <td>7308342712</td>\n",
       "      <td>7500.00</td>\n",
       "      <td>1984</td>\n",
       "      <td>gmc</td>\n",
       "      <td>sierra 1500 classic</td>\n",
       "      <td>good</td>\n",
       "      <td>8 cylinders</td>\n",
       "      <td>diesel</td>\n",
       "      <td>85000.00</td>\n",
       "      <td>automatic</td>\n",
       "      <td>4wd</td>\n",
       "      <td>full-size</td>\n",
       "      <td>truck</td>\n",
       "      <td>id</td>\n",
       "      <td>0</td>\n",
       "      <td>1</td>\n",
       "      <td>0</td>\n",
       "    </tr>\n",
       "  </tbody>\n",
       "</table>\n",
       "<p>20 rows × 17 columns</p>\n",
       "</div>"
      ],
      "text/plain": [
       "                id    price  year   manufacturer                model  \\\n",
       "335028  7308494154 22000.00  1979        pontiac    firebird trans am   \n",
       "410127  7313633230  5850.00  1984        pontiac              sunbird   \n",
       "80598   7302898963  6700.00  1980           jeep                  cj5   \n",
       "343040  7308774745  7000.00  1982  mercedes-benz                  NaN   \n",
       "406661  7307537260 12000.00  1982  mercedes-benz                 300d   \n",
       "...            ...      ...   ...            ...                  ...   \n",
       "37653   7313161763  6500.00  1981         toyota              trekker   \n",
       "262689  7302397183  6800.00  1983           jeep             wagoneer   \n",
       "258505  7305575010 17000.00  1983        lincoln              mark vi   \n",
       "284879  7312786450  7500.00  1983           jeep                 cj-7   \n",
       "134077  7308342712  7500.00  1984            gmc  sierra 1500 classic   \n",
       "\n",
       "        condition    cylinders    fuel  odometer transmission drive  \\\n",
       "335028  excellent  8 cylinders     gas  72000.00    automatic   rwd   \n",
       "410127  excellent  4 cylinders     gas 131000.00    automatic   fwd   \n",
       "80598        good  6 cylinders     gas 174600.00       manual   4wd   \n",
       "343040  excellent  6 cylinders     gas 116000.00    automatic   rwd   \n",
       "406661  excellent  5 cylinders  diesel 137000.00    automatic   rwd   \n",
       "...           ...          ...     ...       ...          ...   ...   \n",
       "37653        fair  4 cylinders     gas 100000.00       manual   4wd   \n",
       "262689       fair  8 cylinders     gas 132000.00    automatic   4wd   \n",
       "258505       good          NaN     gas  34000.00    automatic   NaN   \n",
       "284879       good  6 cylinders     gas 156000.00    automatic   4wd   \n",
       "134077       good  8 cylinders  diesel  85000.00    automatic   4wd   \n",
       "\n",
       "             size         type state  classic_car  modern_car  antique_car  \n",
       "335028   mid-size        coupe    pa            1           0            0  \n",
       "410127   mid-size  convertible    wa            0           1            0  \n",
       "80598         NaN  convertible    co            0           1            0  \n",
       "343040        NaN  convertible    ri            0           1            0  \n",
       "406661    compact        sedan    wa            0           1            0  \n",
       "...           ...          ...   ...          ...         ...          ...  \n",
       "37653         NaN       pickup    ca            0           1            0  \n",
       "262689  full-size          SUV    nm            0           1            0  \n",
       "258505        NaN        sedan    nj            0           1            0  \n",
       "284879   mid-size          SUV    nh            0           1            0  \n",
       "134077  full-size        truck    id            0           1            0  \n",
       "\n",
       "[20 rows x 17 columns]"
      ]
     },
     "execution_count": 48,
     "metadata": {},
     "output_type": "execute_result"
    }
   ],
   "source": [
    "df[(df['year'] < 1985) & (df['year'] > 1975)].sample(20)"
   ]
  },
  {
   "cell_type": "code",
   "execution_count": 26,
   "id": "80afe2b6",
   "metadata": {},
   "outputs": [
    {
     "data": {
      "text/plain": [
       "odometer      -0.24\n",
       "classic_car   -0.01\n",
       "antique_car   -0.00\n",
       "modern_car     0.01\n",
       "year           0.41\n",
       "price          1.00\n",
       "Name: price, dtype: float64"
      ]
     },
     "execution_count": 26,
     "metadata": {},
     "output_type": "execute_result"
    }
   ],
   "source": [
    "# Check \"correlations\"\n",
    "corrs = df.corr()\n",
    "corrs['price'].sort_values()"
   ]
  },
  {
   "cell_type": "markdown",
   "id": "8c7e8300",
   "metadata": {},
   "source": [
    "car type is apparently not so much a factor"
   ]
  },
  {
   "cell_type": "code",
   "execution_count": 49,
   "id": "79a72ab3",
   "metadata": {},
   "outputs": [
    {
     "data": {
      "text/plain": [
       "0"
      ]
     },
     "execution_count": 49,
     "metadata": {},
     "output_type": "execute_result"
    }
   ],
   "source": [
    "df['odometer'].isna().sum()"
   ]
  },
  {
   "cell_type": "code",
   "execution_count": 50,
   "id": "1cce203f",
   "metadata": {},
   "outputs": [
    {
     "data": {
      "text/plain": [
       "2157"
      ]
     },
     "execution_count": 50,
     "metadata": {},
     "output_type": "execute_result"
    }
   ],
   "source": [
    "df[df['odometer'] <= 10]['odometer'].count()"
   ]
  },
  {
   "cell_type": "code",
   "execution_count": 51,
   "id": "b4645456",
   "metadata": {},
   "outputs": [
    {
     "data": {
      "text/html": [
       "<div>\n",
       "<style scoped>\n",
       "    .dataframe tbody tr th:only-of-type {\n",
       "        vertical-align: middle;\n",
       "    }\n",
       "\n",
       "    .dataframe tbody tr th {\n",
       "        vertical-align: top;\n",
       "    }\n",
       "\n",
       "    .dataframe thead th {\n",
       "        text-align: right;\n",
       "    }\n",
       "</style>\n",
       "<table border=\"1\" class=\"dataframe\">\n",
       "  <thead>\n",
       "    <tr style=\"text-align: right;\">\n",
       "      <th></th>\n",
       "      <th>count</th>\n",
       "      <th>mean</th>\n",
       "      <th>std</th>\n",
       "      <th>min</th>\n",
       "      <th>25%</th>\n",
       "      <th>50%</th>\n",
       "      <th>75%</th>\n",
       "      <th>max</th>\n",
       "    </tr>\n",
       "  </thead>\n",
       "  <tbody>\n",
       "    <tr>\n",
       "      <th>price</th>\n",
       "      <td>291587.00</td>\n",
       "      <td>19782.79</td>\n",
       "      <td>14201.23</td>\n",
       "      <td>100.00</td>\n",
       "      <td>8450.00</td>\n",
       "      <td>16990.00</td>\n",
       "      <td>28590.00</td>\n",
       "      <td>100000.00</td>\n",
       "    </tr>\n",
       "    <tr>\n",
       "      <th>year</th>\n",
       "      <td>291587.00</td>\n",
       "      <td>2012.05</td>\n",
       "      <td>8.07</td>\n",
       "      <td>1900.00</td>\n",
       "      <td>2009.00</td>\n",
       "      <td>2014.00</td>\n",
       "      <td>2017.00</td>\n",
       "      <td>2022.00</td>\n",
       "    </tr>\n",
       "    <tr>\n",
       "      <th>odometer</th>\n",
       "      <td>291587.00</td>\n",
       "      <td>91275.50</td>\n",
       "      <td>148484.89</td>\n",
       "      <td>11.00</td>\n",
       "      <td>35200.00</td>\n",
       "      <td>81481.00</td>\n",
       "      <td>129701.00</td>\n",
       "      <td>10000000.00</td>\n",
       "    </tr>\n",
       "    <tr>\n",
       "      <th>classic_car</th>\n",
       "      <td>291587.00</td>\n",
       "      <td>0.01</td>\n",
       "      <td>0.11</td>\n",
       "      <td>0.00</td>\n",
       "      <td>0.00</td>\n",
       "      <td>0.00</td>\n",
       "      <td>0.00</td>\n",
       "      <td>1.00</td>\n",
       "    </tr>\n",
       "    <tr>\n",
       "      <th>modern_car</th>\n",
       "      <td>291587.00</td>\n",
       "      <td>0.99</td>\n",
       "      <td>0.11</td>\n",
       "      <td>0.00</td>\n",
       "      <td>1.00</td>\n",
       "      <td>1.00</td>\n",
       "      <td>1.00</td>\n",
       "      <td>1.00</td>\n",
       "    </tr>\n",
       "    <tr>\n",
       "      <th>antique_car</th>\n",
       "      <td>291587.00</td>\n",
       "      <td>0.00</td>\n",
       "      <td>0.01</td>\n",
       "      <td>0.00</td>\n",
       "      <td>0.00</td>\n",
       "      <td>0.00</td>\n",
       "      <td>0.00</td>\n",
       "      <td>1.00</td>\n",
       "    </tr>\n",
       "  </tbody>\n",
       "</table>\n",
       "</div>"
      ],
      "text/plain": [
       "                count     mean       std     min      25%      50%       75%  \\\n",
       "price       291587.00 19782.79  14201.23  100.00  8450.00 16990.00  28590.00   \n",
       "year        291587.00  2012.05      8.07 1900.00  2009.00  2014.00   2017.00   \n",
       "odometer    291587.00 91275.50 148484.89   11.00 35200.00 81481.00 129701.00   \n",
       "classic_car 291587.00     0.01      0.11    0.00     0.00     0.00      0.00   \n",
       "modern_car  291587.00     0.99      0.11    0.00     1.00     1.00      1.00   \n",
       "antique_car 291587.00     0.00      0.01    0.00     0.00     0.00      0.00   \n",
       "\n",
       "                    max  \n",
       "price         100000.00  \n",
       "year            2022.00  \n",
       "odometer    10000000.00  \n",
       "classic_car        1.00  \n",
       "modern_car         1.00  \n",
       "antique_car        1.00  "
      ]
     },
     "execution_count": 51,
     "metadata": {},
     "output_type": "execute_result"
    }
   ],
   "source": [
    "# odo is required, drop odo of 10 miles or less\n",
    "df = df[df['odometer'] > 10]\n",
    "df.describe().T"
   ]
  },
  {
   "cell_type": "code",
   "execution_count": 55,
   "id": "872b0c2e",
   "metadata": {},
   "outputs": [
    {
     "data": {
      "text/plain": [
       "count        291587\n",
       "unique           11\n",
       "top       100k-150k\n",
       "freq          67291\n",
       "Name: odometer_cat, dtype: object"
      ]
     },
     "execution_count": 55,
     "metadata": {},
     "output_type": "execute_result"
    }
   ],
   "source": [
    "# create bins for odometer\n",
    "df['odometer_cat'] = pd.cut(df[\"odometer\"], \n",
    "                  bins=[0, 10000, 25000, 50000, 80000, 100000, 150000, 200000, 250000, 500000, 750000, np.inf], \n",
    "                  labels=['  0-010k',' 10k-25k',' 25k-50k',' 50k-80k',' 80k-100k','100k-150k','150k-200k',\n",
    "                              '200k-250k','250k-500k','500k-750k','750k+'])\n",
    "\n",
    "df['odometer_cat'] = df['odometer_cat'].astype('category')\n",
    "\n",
    "df['odometer_cat'].describe().T"
   ]
  },
  {
   "cell_type": "code",
   "execution_count": 57,
   "id": "60fccbf6",
   "metadata": {},
   "outputs": [
    {
     "name": "stdout",
     "output_type": "stream",
     "text": [
      "<class 'pandas.core.frame.DataFrame'>\n",
      "Int64Index: 291587 entries, 27 to 426879\n",
      "Data columns (total 18 columns):\n",
      " #   Column        Non-Null Count   Dtype   \n",
      "---  ------        --------------   -----   \n",
      " 0   id            291587 non-null  object  \n",
      " 1   price         291587 non-null  float64 \n",
      " 2   year          291587 non-null  int16   \n",
      " 3   manufacturer  291587 non-null  category\n",
      " 4   model         289212 non-null  object  \n",
      " 5   condition     199425 non-null  category\n",
      " 6   cylinders     196038 non-null  category\n",
      " 7   fuel          289954 non-null  category\n",
      " 8   odometer      291587 non-null  float64 \n",
      " 9   transmission  290231 non-null  category\n",
      " 10  drive         230498 non-null  category\n",
      " 11  size          100086 non-null  category\n",
      " 12  type          291587 non-null  category\n",
      " 13  state         291587 non-null  category\n",
      " 14  classic_car   291587 non-null  int64   \n",
      " 15  modern_car    291587 non-null  int64   \n",
      " 16  antique_car   291587 non-null  int64   \n",
      " 17  odometer_cat  291587 non-null  category\n",
      "dtypes: category(10), float64(2), int16(1), int64(3), object(2)\n",
      "memory usage: 21.1+ MB\n"
     ]
    }
   ],
   "source": [
    "df.info()"
   ]
  },
  {
   "cell_type": "markdown",
   "id": "3ebbbed3",
   "metadata": {},
   "source": [
    "### Fill in the data gaps\n",
    "1. `model` missing for some records. However, there are over 20k different model descriptions. It is so granular, it should probably be examine further to categorize in fewer categories? For now, will rely only on manufacturer for initial iteration of the regression\n",
    "1. condition will default to `good` \n",
    "1. cylinders will ignore for now and exclude from the regression model \n",
    "1. fuel - will default to `gas` \n",
    "1. transmission will default to `automatic` \n",
    "1. size has a lot of missing records... will ignore and only rely on type "
   ]
  },
  {
   "cell_type": "code",
   "execution_count": 58,
   "id": "ba8425e2",
   "metadata": {},
   "outputs": [
    {
     "data": {
      "text/plain": [
       "['good', 'excellent', 'fair', 'like new', 'new', 'salvage']\n",
       "Categories (6, object): ['excellent', 'fair', 'good', 'like new', 'new', 'salvage']"
      ]
     },
     "execution_count": 58,
     "metadata": {},
     "output_type": "execute_result"
    }
   ],
   "source": [
    "# condition \n",
    "df['condition'].fillna('excellent', inplace=True)\n",
    "df['condition'].unique()\n"
   ]
  },
  {
   "cell_type": "code",
   "execution_count": 59,
   "id": "a299d18c",
   "metadata": {},
   "outputs": [
    {
     "data": {
      "text/plain": [
       "<AxesSubplot:xlabel='condition'>"
      ]
     },
     "execution_count": 59,
     "metadata": {},
     "output_type": "execute_result"
    },
    {
     "data": {
      "image/png": "[encoded data removed]",
      "text/plain": [
       "<Figure size 432x288 with 1 Axes>"
      ]
     },
     "metadata": {
      "needs_background": "light"
     },
     "output_type": "display_data"
    }
   ],
   "source": [
    "df[['condition','id']].groupby('condition').count().plot(kind='bar')"
   ]
  },
  {
   "cell_type": "code",
   "execution_count": 60,
   "id": "c788d82b",
   "metadata": {},
   "outputs": [
    {
     "data": {
      "text/plain": [
       "['gas', 'other_fuel', 'diesel', 'hybrid', 'electric']\n",
       "Categories (5, object): ['diesel', 'electric', 'gas', 'hybrid', 'other_fuel']"
      ]
     },
     "execution_count": 60,
     "metadata": {},
     "output_type": "execute_result"
    }
   ],
   "source": [
    "# fuel\n",
    "df['fuel'].fillna('gas', inplace=True)\n",
    "df['fuel'].unique()\n"
   ]
  },
  {
   "cell_type": "code",
   "execution_count": 61,
   "id": "92b284dc",
   "metadata": {},
   "outputs": [
    {
     "data": {
      "text/plain": [
       "<AxesSubplot:xlabel='fuel'>"
      ]
     },
     "execution_count": 61,
     "metadata": {},
     "output_type": "execute_result"
    },
    {
     "data": {
      "image/png": "[encoded data removed]",
      "text/plain": [
       "<Figure size 432x288 with 1 Axes>"
      ]
     },
     "metadata": {
      "needs_background": "light"
     },
     "output_type": "display_data"
    }
   ],
   "source": [
    "df[['fuel','id']].groupby('fuel').count().plot(kind='bar')"
   ]
  },
  {
   "cell_type": "code",
   "execution_count": 62,
   "id": "516efb08",
   "metadata": {},
   "outputs": [
    {
     "data": {
      "text/plain": [
       "['other_transmission', 'automatic', 'manual']\n",
       "Categories (3, object): ['automatic', 'manual', 'other_transmission']"
      ]
     },
     "execution_count": 62,
     "metadata": {},
     "output_type": "execute_result"
    }
   ],
   "source": [
    "# transmission\n",
    "df['transmission'].fillna('automatic', inplace=True)\n",
    "df['transmission'].unique()\n"
   ]
  },
  {
   "cell_type": "code",
   "execution_count": 63,
   "id": "e9c74998",
   "metadata": {},
   "outputs": [
    {
     "data": {
      "text/plain": [
       "<AxesSubplot:xlabel='transmission'>"
      ]
     },
     "execution_count": 63,
     "metadata": {},
     "output_type": "execute_result"
    },
    {
     "data": {
      "image/png": "[encoded data removed]",
      "text/plain": [
       "<Figure size 432x288 with 1 Axes>"
      ]
     },
     "metadata": {
      "needs_background": "light"
     },
     "output_type": "display_data"
    }
   ],
   "source": [
    "df[['transmission','id']].groupby('transmission').count().plot(kind='bar')"
   ]
  },
  {
   "cell_type": "code",
   "execution_count": 64,
   "id": "6c50b50d",
   "metadata": {},
   "outputs": [
    {
     "data": {
      "text/plain": [
       "['fwd', 'rwd', '4wd']\n",
       "Categories (3, object): ['4wd', 'fwd', 'rwd']"
      ]
     },
     "execution_count": 64,
     "metadata": {},
     "output_type": "execute_result"
    }
   ],
   "source": [
    "# drive\n",
    "df['drive'].fillna('fwd', inplace=True)\n",
    "df['drive'].unique()"
   ]
  },
  {
   "cell_type": "code",
   "execution_count": 65,
   "id": "bb769374",
   "metadata": {},
   "outputs": [
    {
     "data": {
      "text/plain": [
       "<AxesSubplot:xlabel='drive'>"
      ]
     },
     "execution_count": 65,
     "metadata": {},
     "output_type": "execute_result"
    },
    {
     "data": {
      "image/png": "[encoded data removed]",
      "text/plain": [
       "<Figure size 432x288 with 1 Axes>"
      ]
     },
     "metadata": {
      "needs_background": "light"
     },
     "output_type": "display_data"
    }
   ],
   "source": [
    "df[['drive','id']].groupby('drive').count().plot(kind='bar')"
   ]
  },
  {
   "cell_type": "code",
   "execution_count": 66,
   "id": "7d6c7ba2",
   "metadata": {},
   "outputs": [
    {
     "name": "stdout",
     "output_type": "stream",
     "text": [
      "<class 'pandas.core.frame.DataFrame'>\n",
      "Int64Index: 291587 entries, 27 to 426879\n",
      "Data columns (total 18 columns):\n",
      " #   Column        Non-Null Count   Dtype   \n",
      "---  ------        --------------   -----   \n",
      " 0   id            291587 non-null  object  \n",
      " 1   price         291587 non-null  float64 \n",
      " 2   year          291587 non-null  int16   \n",
      " 3   manufacturer  291587 non-null  category\n",
      " 4   model         289212 non-null  object  \n",
      " 5   condition     291587 non-null  category\n",
      " 6   cylinders     196038 non-null  category\n",
      " 7   fuel          291587 non-null  category\n",
      " 8   odometer      291587 non-null  float64 \n",
      " 9   transmission  291587 non-null  category\n",
      " 10  drive         291587 non-null  category\n",
      " 11  size          100086 non-null  category\n",
      " 12  type          291587 non-null  category\n",
      " 13  state         291587 non-null  category\n",
      " 14  classic_car   291587 non-null  int64   \n",
      " 15  modern_car    291587 non-null  int64   \n",
      " 16  antique_car   291587 non-null  int64   \n",
      " 17  odometer_cat  291587 non-null  category\n",
      "dtypes: category(10), float64(2), int16(1), int64(3), object(2)\n",
      "memory usage: 21.1+ MB\n"
     ]
    }
   ],
   "source": [
    "df.info()"
   ]
  },
  {
   "cell_type": "markdown",
   "id": "bb4960da",
   "metadata": {},
   "source": [
    "### Setup data for regression modeling "
   ]
  },
  {
   "cell_type": "code",
   "execution_count": 74,
   "id": "eaf32fc3",
   "metadata": {},
   "outputs": [],
   "source": [
    "# create model for state of california\n",
    "df_model = df[df['state'] == 'ca'][['price',\n",
    "              'year',\n",
    "             'manufacturer',\n",
    "              'condition',\n",
    "              'fuel',\n",
    "              'odometer_cat',\n",
    "              'transmission',\n",
    "              'drive',\n",
    "              'type',\n",
    "#               'state',\n",
    "              'classic_car',\n",
    "              'modern_car',\n",
    "              'antique_car']]"
   ]
  },
  {
   "cell_type": "code",
   "execution_count": 75,
   "id": "0f29ac5c",
   "metadata": {},
   "outputs": [
    {
     "name": "stdout",
     "output_type": "stream",
     "text": [
      "<class 'pandas.core.frame.DataFrame'>\n",
      "Int64Index: 33956 entries, 21171 to 71784\n",
      "Data columns (total 12 columns):\n",
      " #   Column        Non-Null Count  Dtype   \n",
      "---  ------        --------------  -----   \n",
      " 0   price         33956 non-null  float64 \n",
      " 1   year          33956 non-null  int16   \n",
      " 2   manufacturer  33956 non-null  category\n",
      " 3   condition     33956 non-null  category\n",
      " 4   fuel          33956 non-null  category\n",
      " 5   odometer_cat  33956 non-null  category\n",
      " 6   transmission  33956 non-null  category\n",
      " 7   drive         33956 non-null  category\n",
      " 8   type          33956 non-null  category\n",
      " 9   classic_car   33956 non-null  int64   \n",
      " 10  modern_car    33956 non-null  int64   \n",
      " 11  antique_car   33956 non-null  int64   \n",
      "dtypes: category(7), float64(1), int16(1), int64(3)\n",
      "memory usage: 1.6 MB\n"
     ]
    }
   ],
   "source": [
    "df_model.info()"
   ]
  },
  {
   "cell_type": "code",
   "execution_count": 76,
   "id": "4d488ff7",
   "metadata": {},
   "outputs": [],
   "source": [
    "df_model = pd.get_dummies(df_model, columns = list(df_model.select_dtypes(include='category')), prefix='', prefix_sep='')"
   ]
  },
  {
   "cell_type": "code",
   "execution_count": 77,
   "id": "18994cea",
   "metadata": {},
   "outputs": [
    {
     "name": "stdout",
     "output_type": "stream",
     "text": [
      "<class 'pandas.core.frame.DataFrame'>\n",
      "Int64Index: 33956 entries, 21171 to 71784\n",
      "Data columns (total 88 columns):\n",
      " #   Column              Non-Null Count  Dtype  \n",
      "---  ------              --------------  -----  \n",
      " 0   price               33956 non-null  float64\n",
      " 1   year                33956 non-null  int16  \n",
      " 2   classic_car         33956 non-null  int64  \n",
      " 3   modern_car          33956 non-null  int64  \n",
      " 4   antique_car         33956 non-null  int64  \n",
      " 5   acura               33956 non-null  uint8  \n",
      " 6   alfa-romeo          33956 non-null  uint8  \n",
      " 7   aston-martin        33956 non-null  uint8  \n",
      " 8   audi                33956 non-null  uint8  \n",
      " 9   bmw                 33956 non-null  uint8  \n",
      " 10  buick               33956 non-null  uint8  \n",
      " 11  cadillac            33956 non-null  uint8  \n",
      " 12  chevrolet           33956 non-null  uint8  \n",
      " 13  chrysler            33956 non-null  uint8  \n",
      " 14  datsun              33956 non-null  uint8  \n",
      " 15  dodge               33956 non-null  uint8  \n",
      " 16  ferrari             33956 non-null  uint8  \n",
      " 17  fiat                33956 non-null  uint8  \n",
      " 18  ford                33956 non-null  uint8  \n",
      " 19  gmc                 33956 non-null  uint8  \n",
      " 20  harley-davidson     33956 non-null  uint8  \n",
      " 21  honda               33956 non-null  uint8  \n",
      " 22  hyundai             33956 non-null  uint8  \n",
      " 23  infiniti            33956 non-null  uint8  \n",
      " 24  jaguar              33956 non-null  uint8  \n",
      " 25  jeep                33956 non-null  uint8  \n",
      " 26  kia                 33956 non-null  uint8  \n",
      " 27  land rover          33956 non-null  uint8  \n",
      " 28  lexus               33956 non-null  uint8  \n",
      " 29  lincoln             33956 non-null  uint8  \n",
      " 30  mazda               33956 non-null  uint8  \n",
      " 31  mercedes-benz       33956 non-null  uint8  \n",
      " 32  mercury             33956 non-null  uint8  \n",
      " 33  mini                33956 non-null  uint8  \n",
      " 34  mitsubishi          33956 non-null  uint8  \n",
      " 35  morgan              33956 non-null  uint8  \n",
      " 36  nissan              33956 non-null  uint8  \n",
      " 37  pontiac             33956 non-null  uint8  \n",
      " 38  porsche             33956 non-null  uint8  \n",
      " 39  ram                 33956 non-null  uint8  \n",
      " 40  rover               33956 non-null  uint8  \n",
      " 41  saturn              33956 non-null  uint8  \n",
      " 42  subaru              33956 non-null  uint8  \n",
      " 43  tesla               33956 non-null  uint8  \n",
      " 44  toyota              33956 non-null  uint8  \n",
      " 45  volkswagen          33956 non-null  uint8  \n",
      " 46  volvo               33956 non-null  uint8  \n",
      " 47  excellent           33956 non-null  uint8  \n",
      " 48  fair                33956 non-null  uint8  \n",
      " 49  good                33956 non-null  uint8  \n",
      " 50  like new            33956 non-null  uint8  \n",
      " 51  new                 33956 non-null  uint8  \n",
      " 52  salvage             33956 non-null  uint8  \n",
      " 53  diesel              33956 non-null  uint8  \n",
      " 54  electric            33956 non-null  uint8  \n",
      " 55  gas                 33956 non-null  uint8  \n",
      " 56  hybrid              33956 non-null  uint8  \n",
      " 57  other_fuel          33956 non-null  uint8  \n",
      " 58    0-010k            33956 non-null  uint8  \n",
      " 59   10k-25k            33956 non-null  uint8  \n",
      " 60   25k-50k            33956 non-null  uint8  \n",
      " 61   50k-80k            33956 non-null  uint8  \n",
      " 62   80k-100k           33956 non-null  uint8  \n",
      " 63  100k-150k           33956 non-null  uint8  \n",
      " 64  150k-200k           33956 non-null  uint8  \n",
      " 65  200k-250k           33956 non-null  uint8  \n",
      " 66  250k-500k           33956 non-null  uint8  \n",
      " 67  500k-750k           33956 non-null  uint8  \n",
      " 68  750k+               33956 non-null  uint8  \n",
      " 69  automatic           33956 non-null  uint8  \n",
      " 70  manual              33956 non-null  uint8  \n",
      " 71  other_transmission  33956 non-null  uint8  \n",
      " 72  4wd                 33956 non-null  uint8  \n",
      " 73  fwd                 33956 non-null  uint8  \n",
      " 74  rwd                 33956 non-null  uint8  \n",
      " 75  SUV                 33956 non-null  uint8  \n",
      " 76  bus                 33956 non-null  uint8  \n",
      " 77  convertible         33956 non-null  uint8  \n",
      " 78  coupe               33956 non-null  uint8  \n",
      " 79  hatchback           33956 non-null  uint8  \n",
      " 80  mini-van            33956 non-null  uint8  \n",
      " 81  offroad             33956 non-null  uint8  \n",
      " 82  other_type          33956 non-null  uint8  \n",
      " 83  pickup              33956 non-null  uint8  \n",
      " 84  sedan               33956 non-null  uint8  \n",
      " 85  truck               33956 non-null  uint8  \n",
      " 86  van                 33956 non-null  uint8  \n",
      " 87  wagon               33956 non-null  uint8  \n",
      "dtypes: float64(1), int16(1), int64(3), uint8(83)\n",
      "memory usage: 4.0 MB\n"
     ]
    }
   ],
   "source": [
    "df_model.info()"
   ]
  },
  {
   "cell_type": "code",
   "execution_count": 78,
   "id": "97d65e48",
   "metadata": {},
   "outputs": [
    {
     "data": {
      "text/plain": [
       "(33956, 88)"
      ]
     },
     "execution_count": 78,
     "metadata": {},
     "output_type": "execute_result"
    }
   ],
   "source": [
    "df_model.shape"
   ]
  },
  {
   "cell_type": "code",
   "execution_count": 79,
   "id": "b9bd0fd0",
   "metadata": {},
   "outputs": [
    {
     "data": {
      "text/html": [
       "<div>\n",
       "<style scoped>\n",
       "    .dataframe tbody tr th:only-of-type {\n",
       "        vertical-align: middle;\n",
       "    }\n",
       "\n",
       "    .dataframe tbody tr th {\n",
       "        vertical-align: top;\n",
       "    }\n",
       "\n",
       "    .dataframe thead th {\n",
       "        text-align: right;\n",
       "    }\n",
       "</style>\n",
       "<table border=\"1\" class=\"dataframe\">\n",
       "  <thead>\n",
       "    <tr style=\"text-align: right;\">\n",
       "      <th></th>\n",
       "      <th>price</th>\n",
       "      <th>year</th>\n",
       "      <th>classic_car</th>\n",
       "      <th>modern_car</th>\n",
       "      <th>antique_car</th>\n",
       "      <th>acura</th>\n",
       "      <th>alfa-romeo</th>\n",
       "      <th>aston-martin</th>\n",
       "      <th>audi</th>\n",
       "      <th>bmw</th>\n",
       "      <th>...</th>\n",
       "      <th>coupe</th>\n",
       "      <th>hatchback</th>\n",
       "      <th>mini-van</th>\n",
       "      <th>offroad</th>\n",
       "      <th>other_type</th>\n",
       "      <th>pickup</th>\n",
       "      <th>sedan</th>\n",
       "      <th>truck</th>\n",
       "      <th>van</th>\n",
       "      <th>wagon</th>\n",
       "    </tr>\n",
       "  </thead>\n",
       "  <tbody>\n",
       "    <tr>\n",
       "      <th>33106</th>\n",
       "      <td>5499.00</td>\n",
       "      <td>2012</td>\n",
       "      <td>0</td>\n",
       "      <td>1</td>\n",
       "      <td>0</td>\n",
       "      <td>0</td>\n",
       "      <td>0</td>\n",
       "      <td>0</td>\n",
       "      <td>0</td>\n",
       "      <td>0</td>\n",
       "      <td>...</td>\n",
       "      <td>0</td>\n",
       "      <td>0</td>\n",
       "      <td>0</td>\n",
       "      <td>0</td>\n",
       "      <td>0</td>\n",
       "      <td>0</td>\n",
       "      <td>0</td>\n",
       "      <td>0</td>\n",
       "      <td>0</td>\n",
       "      <td>1</td>\n",
       "    </tr>\n",
       "    <tr>\n",
       "      <th>61612</th>\n",
       "      <td>4500.00</td>\n",
       "      <td>2005</td>\n",
       "      <td>0</td>\n",
       "      <td>1</td>\n",
       "      <td>0</td>\n",
       "      <td>0</td>\n",
       "      <td>0</td>\n",
       "      <td>0</td>\n",
       "      <td>0</td>\n",
       "      <td>0</td>\n",
       "      <td>...</td>\n",
       "      <td>0</td>\n",
       "      <td>0</td>\n",
       "      <td>0</td>\n",
       "      <td>0</td>\n",
       "      <td>0</td>\n",
       "      <td>0</td>\n",
       "      <td>1</td>\n",
       "      <td>0</td>\n",
       "      <td>0</td>\n",
       "      <td>0</td>\n",
       "    </tr>\n",
       "    <tr>\n",
       "      <th>56984</th>\n",
       "      <td>332.00</td>\n",
       "      <td>2019</td>\n",
       "      <td>0</td>\n",
       "      <td>1</td>\n",
       "      <td>0</td>\n",
       "      <td>0</td>\n",
       "      <td>0</td>\n",
       "      <td>0</td>\n",
       "      <td>0</td>\n",
       "      <td>0</td>\n",
       "      <td>...</td>\n",
       "      <td>0</td>\n",
       "      <td>0</td>\n",
       "      <td>0</td>\n",
       "      <td>0</td>\n",
       "      <td>0</td>\n",
       "      <td>0</td>\n",
       "      <td>0</td>\n",
       "      <td>0</td>\n",
       "      <td>0</td>\n",
       "      <td>0</td>\n",
       "    </tr>\n",
       "    <tr>\n",
       "      <th>24989</th>\n",
       "      <td>30995.00</td>\n",
       "      <td>2014</td>\n",
       "      <td>0</td>\n",
       "      <td>1</td>\n",
       "      <td>0</td>\n",
       "      <td>0</td>\n",
       "      <td>0</td>\n",
       "      <td>0</td>\n",
       "      <td>0</td>\n",
       "      <td>0</td>\n",
       "      <td>...</td>\n",
       "      <td>0</td>\n",
       "      <td>0</td>\n",
       "      <td>0</td>\n",
       "      <td>0</td>\n",
       "      <td>0</td>\n",
       "      <td>1</td>\n",
       "      <td>0</td>\n",
       "      <td>0</td>\n",
       "      <td>0</td>\n",
       "      <td>0</td>\n",
       "    </tr>\n",
       "    <tr>\n",
       "      <th>46692</th>\n",
       "      <td>11995.00</td>\n",
       "      <td>2014</td>\n",
       "      <td>0</td>\n",
       "      <td>1</td>\n",
       "      <td>0</td>\n",
       "      <td>0</td>\n",
       "      <td>0</td>\n",
       "      <td>0</td>\n",
       "      <td>0</td>\n",
       "      <td>0</td>\n",
       "      <td>...</td>\n",
       "      <td>0</td>\n",
       "      <td>1</td>\n",
       "      <td>0</td>\n",
       "      <td>0</td>\n",
       "      <td>0</td>\n",
       "      <td>0</td>\n",
       "      <td>0</td>\n",
       "      <td>0</td>\n",
       "      <td>0</td>\n",
       "      <td>0</td>\n",
       "    </tr>\n",
       "    <tr>\n",
       "      <th>...</th>\n",
       "      <td>...</td>\n",
       "      <td>...</td>\n",
       "      <td>...</td>\n",
       "      <td>...</td>\n",
       "      <td>...</td>\n",
       "      <td>...</td>\n",
       "      <td>...</td>\n",
       "      <td>...</td>\n",
       "      <td>...</td>\n",
       "      <td>...</td>\n",
       "      <td>...</td>\n",
       "      <td>...</td>\n",
       "      <td>...</td>\n",
       "      <td>...</td>\n",
       "      <td>...</td>\n",
       "      <td>...</td>\n",
       "      <td>...</td>\n",
       "      <td>...</td>\n",
       "      <td>...</td>\n",
       "      <td>...</td>\n",
       "      <td>...</td>\n",
       "    </tr>\n",
       "    <tr>\n",
       "      <th>24074</th>\n",
       "      <td>19995.00</td>\n",
       "      <td>2020</td>\n",
       "      <td>0</td>\n",
       "      <td>1</td>\n",
       "      <td>0</td>\n",
       "      <td>0</td>\n",
       "      <td>0</td>\n",
       "      <td>0</td>\n",
       "      <td>0</td>\n",
       "      <td>0</td>\n",
       "      <td>...</td>\n",
       "      <td>0</td>\n",
       "      <td>0</td>\n",
       "      <td>0</td>\n",
       "      <td>0</td>\n",
       "      <td>0</td>\n",
       "      <td>0</td>\n",
       "      <td>0</td>\n",
       "      <td>0</td>\n",
       "      <td>0</td>\n",
       "      <td>0</td>\n",
       "    </tr>\n",
       "    <tr>\n",
       "      <th>25469</th>\n",
       "      <td>19990.00</td>\n",
       "      <td>2019</td>\n",
       "      <td>0</td>\n",
       "      <td>1</td>\n",
       "      <td>0</td>\n",
       "      <td>0</td>\n",
       "      <td>0</td>\n",
       "      <td>0</td>\n",
       "      <td>0</td>\n",
       "      <td>0</td>\n",
       "      <td>...</td>\n",
       "      <td>0</td>\n",
       "      <td>1</td>\n",
       "      <td>0</td>\n",
       "      <td>0</td>\n",
       "      <td>0</td>\n",
       "      <td>0</td>\n",
       "      <td>0</td>\n",
       "      <td>0</td>\n",
       "      <td>0</td>\n",
       "      <td>0</td>\n",
       "    </tr>\n",
       "    <tr>\n",
       "      <th>57035</th>\n",
       "      <td>19990.00</td>\n",
       "      <td>2017</td>\n",
       "      <td>0</td>\n",
       "      <td>1</td>\n",
       "      <td>0</td>\n",
       "      <td>0</td>\n",
       "      <td>0</td>\n",
       "      <td>0</td>\n",
       "      <td>0</td>\n",
       "      <td>0</td>\n",
       "      <td>...</td>\n",
       "      <td>0</td>\n",
       "      <td>0</td>\n",
       "      <td>0</td>\n",
       "      <td>0</td>\n",
       "      <td>1</td>\n",
       "      <td>0</td>\n",
       "      <td>0</td>\n",
       "      <td>0</td>\n",
       "      <td>0</td>\n",
       "      <td>0</td>\n",
       "    </tr>\n",
       "    <tr>\n",
       "      <th>54076</th>\n",
       "      <td>11995.00</td>\n",
       "      <td>2013</td>\n",
       "      <td>0</td>\n",
       "      <td>1</td>\n",
       "      <td>0</td>\n",
       "      <td>0</td>\n",
       "      <td>0</td>\n",
       "      <td>0</td>\n",
       "      <td>0</td>\n",
       "      <td>1</td>\n",
       "      <td>...</td>\n",
       "      <td>0</td>\n",
       "      <td>0</td>\n",
       "      <td>0</td>\n",
       "      <td>0</td>\n",
       "      <td>0</td>\n",
       "      <td>0</td>\n",
       "      <td>0</td>\n",
       "      <td>0</td>\n",
       "      <td>0</td>\n",
       "      <td>0</td>\n",
       "    </tr>\n",
       "    <tr>\n",
       "      <th>24306</th>\n",
       "      <td>6995.00</td>\n",
       "      <td>2003</td>\n",
       "      <td>0</td>\n",
       "      <td>1</td>\n",
       "      <td>0</td>\n",
       "      <td>0</td>\n",
       "      <td>0</td>\n",
       "      <td>0</td>\n",
       "      <td>0</td>\n",
       "      <td>0</td>\n",
       "      <td>...</td>\n",
       "      <td>0</td>\n",
       "      <td>0</td>\n",
       "      <td>0</td>\n",
       "      <td>0</td>\n",
       "      <td>0</td>\n",
       "      <td>0</td>\n",
       "      <td>0</td>\n",
       "      <td>0</td>\n",
       "      <td>0</td>\n",
       "      <td>0</td>\n",
       "    </tr>\n",
       "  </tbody>\n",
       "</table>\n",
       "<p>25 rows × 88 columns</p>\n",
       "</div>"
      ],
      "text/plain": [
       "         price  year  classic_car  modern_car  antique_car  acura  alfa-romeo  \\\n",
       "33106  5499.00  2012            0           1            0      0           0   \n",
       "61612  4500.00  2005            0           1            0      0           0   \n",
       "56984   332.00  2019            0           1            0      0           0   \n",
       "24989 30995.00  2014            0           1            0      0           0   \n",
       "46692 11995.00  2014            0           1            0      0           0   \n",
       "...        ...   ...          ...         ...          ...    ...         ...   \n",
       "24074 19995.00  2020            0           1            0      0           0   \n",
       "25469 19990.00  2019            0           1            0      0           0   \n",
       "57035 19990.00  2017            0           1            0      0           0   \n",
       "54076 11995.00  2013            0           1            0      0           0   \n",
       "24306  6995.00  2003            0           1            0      0           0   \n",
       "\n",
       "       aston-martin  audi  bmw  ...  coupe  hatchback  mini-van  offroad  \\\n",
       "33106             0     0    0  ...      0          0         0        0   \n",
       "61612             0     0    0  ...      0          0         0        0   \n",
       "56984             0     0    0  ...      0          0         0        0   \n",
       "24989             0     0    0  ...      0          0         0        0   \n",
       "46692             0     0    0  ...      0          1         0        0   \n",
       "...             ...   ...  ...  ...    ...        ...       ...      ...   \n",
       "24074             0     0    0  ...      0          0         0        0   \n",
       "25469             0     0    0  ...      0          1         0        0   \n",
       "57035             0     0    0  ...      0          0         0        0   \n",
       "54076             0     0    1  ...      0          0         0        0   \n",
       "24306             0     0    0  ...      0          0         0        0   \n",
       "\n",
       "       other_type  pickup  sedan  truck  van  wagon  \n",
       "33106           0       0      0      0    0      1  \n",
       "61612           0       0      1      0    0      0  \n",
       "56984           0       0      0      0    0      0  \n",
       "24989           0       1      0      0    0      0  \n",
       "46692           0       0      0      0    0      0  \n",
       "...           ...     ...    ...    ...  ...    ...  \n",
       "24074           0       0      0      0    0      0  \n",
       "25469           0       0      0      0    0      0  \n",
       "57035           1       0      0      0    0      0  \n",
       "54076           0       0      0      0    0      0  \n",
       "24306           0       0      0      0    0      0  \n",
       "\n",
       "[25 rows x 88 columns]"
      ]
     },
     "execution_count": 79,
     "metadata": {},
     "output_type": "execute_result"
    }
   ],
   "source": [
    "df_model.sample(25)"
   ]
  },
  {
   "cell_type": "code",
   "execution_count": 80,
   "id": "b2b51ff8",
   "metadata": {},
   "outputs": [
    {
     "name": "stdout",
     "output_type": "stream",
     "text": [
      "gas                  -0.28\n",
      "100k-150k            -0.27\n",
      "150k-200k            -0.24\n",
      "fwd                  -0.23\n",
      "automatic            -0.21\n",
      "sedan                -0.21\n",
      "200k-250k            -0.15\n",
      "fair                 -0.14\n",
      "honda                -0.10\n",
      "excellent            -0.10\n",
      "250k-500k            -0.09\n",
      "hatchback            -0.09\n",
      "nissan               -0.09\n",
      "manual               -0.09\n",
      "hyundai              -0.08\n",
      "mini-van             -0.07\n",
      " 80k-100k            -0.07\n",
      "wagon                -0.06\n",
      "volkswagen           -0.06\n",
      "kia                  -0.05\n",
      "toyota               -0.05\n",
      "chrysler             -0.05\n",
      "salvage              -0.05\n",
      "mercury              -0.04\n",
      "saturn               -0.04\n",
      "SUV                  -0.04\n",
      "subaru               -0.04\n",
      "mazda                -0.04\n",
      "dodge                -0.04\n",
      "hybrid               -0.03\n",
      "mitsubishi           -0.03\n",
      "pontiac              -0.03\n",
      "mini                 -0.03\n",
      "modern_car           -0.02\n",
      "fiat                 -0.02\n",
      "750k+                -0.02\n",
      "buick                -0.02\n",
      "offroad              -0.02\n",
      "like new             -0.01\n",
      "datsun               -0.01\n",
      "harley-davidson      -0.01\n",
      "bus                  -0.01\n",
      "land rover           -0.00\n",
      "van                  -0.00\n",
      "500k-750k             0.00\n",
      "lexus                 0.00\n",
      "acura                 0.00\n",
      "infiniti              0.00\n",
      "convertible           0.01\n",
      "aston-martin          0.01\n",
      "bmw                   0.01\n",
      "coupe                 0.02\n",
      "new                   0.02\n",
      "electric              0.02\n",
      "antique_car           0.02\n",
      "classic_car           0.02\n",
      "jaguar                0.03\n",
      "rwd                   0.03\n",
      "lincoln               0.03\n",
      "cadillac              0.03\n",
      "jeep                  0.04\n",
      "chevrolet             0.04\n",
      "audi                  0.04\n",
      "ford                  0.05\n",
      "alfa-romeo            0.05\n",
      "ferrari               0.05\n",
      "mercedes-benz         0.06\n",
      "truck                 0.06\n",
      "rover                 0.06\n",
      "tesla                 0.07\n",
      " 50k-80k              0.07\n",
      "gmc                   0.07\n",
      "volvo                 0.07\n",
      "porsche               0.07\n",
      "other_type            0.12\n",
      "ram                   0.14\n",
      "good                  0.15\n",
      "other_fuel            0.20\n",
      "  0-010k              0.23\n",
      "diesel                0.23\n",
      "4wd                   0.24\n",
      " 25k-50k              0.25\n",
      " 10k-25k              0.27\n",
      "other_transmission    0.28\n",
      "pickup                0.30\n",
      "year                  0.34\n",
      "price                 1.00\n",
      "morgan                 NaN\n",
      "Name: price, dtype: float64\n"
     ]
    }
   ],
   "source": [
    "# Check \"correlations\" again\n",
    "corrs = df_model.corr()\n",
    "corr_factors = corrs['price'].sort_values()\n",
    "\n",
    "pd.set_option('display.max_rows', None)\n",
    "print(corr_factors)\n",
    "pd.set_option('display.max_rows', 10)\n"
   ]
  },
  {
   "cell_type": "code",
   "execution_count": 112,
   "id": "bbb43951",
   "metadata": {},
   "outputs": [
    {
     "name": "stderr",
     "output_type": "stream",
     "text": [
      "C:\\Users\\dgouin\\AppData\\Local\\Temp\\ipykernel_17304\\1543825126.py:3: UserWarning: Boolean Series key will be reindexed to match DataFrame index.\n",
      "  sns.heatmap(corrs[abs(corr_factors) >= .1]);\n"
     ]
    },
    {
     "data": {
      "image/png": "[encoded data removed]",
      "text/plain": [
       "<Figure size 864x576 with 2 Axes>"
      ]
     },
     "metadata": {
      "needs_background": "light"
     },
     "output_type": "display_data"
    }
   ],
   "source": [
    "# heatmap correlations\n",
    "plt.figure(figsize=(12,8))\n",
    "sns.heatmap(corrs[abs(corr_factors) >= .1]);"
   ]
  },
  {
   "cell_type": "code",
   "execution_count": 109,
   "id": "d7dcb52e",
   "metadata": {},
   "outputs": [
    {
     "data": {
      "text/plain": [
       "['gas',\n",
       " '100k-150k',\n",
       " '150k-200k',\n",
       " 'fwd',\n",
       " 'automatic',\n",
       " 'sedan',\n",
       " '200k-250k',\n",
       " 'fair',\n",
       " 'honda',\n",
       " 'other_type',\n",
       " 'ram',\n",
       " 'good',\n",
       " 'other_fuel',\n",
       " '  0-010k',\n",
       " 'diesel',\n",
       " '4wd',\n",
       " ' 25k-50k',\n",
       " ' 10k-25k',\n",
       " 'other_transmission',\n",
       " 'pickup',\n",
       " 'year',\n",
       " 'price']"
      ]
     },
     "execution_count": 109,
     "metadata": {},
     "output_type": "execute_result"
    }
   ],
   "source": [
    "# retain columns with correlation factors outside -.1 to .1 as features \n",
    "feature_list = corr_factors.loc[abs(corr_factors) >= .1].index.tolist()\n",
    "\n",
    "feature_list"
   ]
  },
  {
   "cell_type": "code",
   "execution_count": 113,
   "id": "09be01e9",
   "metadata": {},
   "outputs": [
    {
     "name": "stdout",
     "output_type": "stream",
     "text": [
      "<class 'pandas.core.frame.DataFrame'>\n",
      "Int64Index: 33956 entries, 21171 to 71784\n",
      "Data columns (total 22 columns):\n",
      " #   Column              Non-Null Count  Dtype  \n",
      "---  ------              --------------  -----  \n",
      " 0   gas                 33956 non-null  uint8  \n",
      " 1   100k-150k           33956 non-null  uint8  \n",
      " 2   150k-200k           33956 non-null  uint8  \n",
      " 3   fwd                 33956 non-null  uint8  \n",
      " 4   automatic           33956 non-null  uint8  \n",
      " 5   sedan               33956 non-null  uint8  \n",
      " 6   200k-250k           33956 non-null  uint8  \n",
      " 7   fair                33956 non-null  uint8  \n",
      " 8   honda               33956 non-null  uint8  \n",
      " 9   other_type          33956 non-null  uint8  \n",
      " 10  ram                 33956 non-null  uint8  \n",
      " 11  good                33956 non-null  uint8  \n",
      " 12  other_fuel          33956 non-null  uint8  \n",
      " 13    0-010k            33956 non-null  uint8  \n",
      " 14  diesel              33956 non-null  uint8  \n",
      " 15  4wd                 33956 non-null  uint8  \n",
      " 16   25k-50k            33956 non-null  uint8  \n",
      " 17   10k-25k            33956 non-null  uint8  \n",
      " 18  other_transmission  33956 non-null  uint8  \n",
      " 19  pickup              33956 non-null  uint8  \n",
      " 20  year                33956 non-null  int16  \n",
      " 21  price               33956 non-null  float64\n",
      "dtypes: float64(1), int16(1), uint8(20)\n",
      "memory usage: 1.2 MB\n"
     ]
    }
   ],
   "source": [
    "# restrict to relevant features\n",
    "df_model = df_model[feature_list].copy()\n",
    "df_model.info()"
   ]
  },
  {
   "cell_type": "code",
   "execution_count": 115,
   "id": "c19810a0",
   "metadata": {},
   "outputs": [
    {
     "data": {
      "text/html": [
       "<div>\n",
       "<style scoped>\n",
       "    .dataframe tbody tr th:only-of-type {\n",
       "        vertical-align: middle;\n",
       "    }\n",
       "\n",
       "    .dataframe tbody tr th {\n",
       "        vertical-align: top;\n",
       "    }\n",
       "\n",
       "    .dataframe thead th {\n",
       "        text-align: right;\n",
       "    }\n",
       "</style>\n",
       "<table border=\"1\" class=\"dataframe\">\n",
       "  <thead>\n",
       "    <tr style=\"text-align: right;\">\n",
       "      <th></th>\n",
       "      <th>gas</th>\n",
       "      <th>100k-150k</th>\n",
       "      <th>150k-200k</th>\n",
       "      <th>fwd</th>\n",
       "      <th>automatic</th>\n",
       "      <th>sedan</th>\n",
       "      <th>200k-250k</th>\n",
       "      <th>fair</th>\n",
       "      <th>honda</th>\n",
       "      <th>other_type</th>\n",
       "      <th>...</th>\n",
       "      <th>other_fuel</th>\n",
       "      <th>0-010k</th>\n",
       "      <th>diesel</th>\n",
       "      <th>4wd</th>\n",
       "      <th>25k-50k</th>\n",
       "      <th>10k-25k</th>\n",
       "      <th>other_transmission</th>\n",
       "      <th>pickup</th>\n",
       "      <th>year</th>\n",
       "      <th>price</th>\n",
       "    </tr>\n",
       "  </thead>\n",
       "  <tbody>\n",
       "    <tr>\n",
       "      <th>21171</th>\n",
       "      <td>1</td>\n",
       "      <td>0</td>\n",
       "      <td>0</td>\n",
       "      <td>1</td>\n",
       "      <td>0</td>\n",
       "      <td>1</td>\n",
       "      <td>0</td>\n",
       "      <td>0</td>\n",
       "      <td>0</td>\n",
       "      <td>0</td>\n",
       "      <td>...</td>\n",
       "      <td>0</td>\n",
       "      <td>0</td>\n",
       "      <td>0</td>\n",
       "      <td>0</td>\n",
       "      <td>0</td>\n",
       "      <td>1</td>\n",
       "      <td>1</td>\n",
       "      <td>0</td>\n",
       "      <td>2018</td>\n",
       "      <td>16990.00</td>\n",
       "    </tr>\n",
       "    <tr>\n",
       "      <th>21174</th>\n",
       "      <td>1</td>\n",
       "      <td>0</td>\n",
       "      <td>0</td>\n",
       "      <td>0</td>\n",
       "      <td>1</td>\n",
       "      <td>0</td>\n",
       "      <td>1</td>\n",
       "      <td>0</td>\n",
       "      <td>0</td>\n",
       "      <td>0</td>\n",
       "      <td>...</td>\n",
       "      <td>0</td>\n",
       "      <td>0</td>\n",
       "      <td>0</td>\n",
       "      <td>0</td>\n",
       "      <td>0</td>\n",
       "      <td>0</td>\n",
       "      <td>0</td>\n",
       "      <td>1</td>\n",
       "      <td>2003</td>\n",
       "      <td>11975.00</td>\n",
       "    </tr>\n",
       "    <tr>\n",
       "      <th>21176</th>\n",
       "      <td>0</td>\n",
       "      <td>0</td>\n",
       "      <td>0</td>\n",
       "      <td>0</td>\n",
       "      <td>1</td>\n",
       "      <td>0</td>\n",
       "      <td>1</td>\n",
       "      <td>0</td>\n",
       "      <td>0</td>\n",
       "      <td>0</td>\n",
       "      <td>...</td>\n",
       "      <td>0</td>\n",
       "      <td>0</td>\n",
       "      <td>1</td>\n",
       "      <td>1</td>\n",
       "      <td>0</td>\n",
       "      <td>0</td>\n",
       "      <td>0</td>\n",
       "      <td>0</td>\n",
       "      <td>2003</td>\n",
       "      <td>21950.00</td>\n",
       "    </tr>\n",
       "    <tr>\n",
       "      <th>21178</th>\n",
       "      <td>1</td>\n",
       "      <td>0</td>\n",
       "      <td>0</td>\n",
       "      <td>1</td>\n",
       "      <td>0</td>\n",
       "      <td>1</td>\n",
       "      <td>0</td>\n",
       "      <td>0</td>\n",
       "      <td>0</td>\n",
       "      <td>0</td>\n",
       "      <td>...</td>\n",
       "      <td>0</td>\n",
       "      <td>0</td>\n",
       "      <td>0</td>\n",
       "      <td>0</td>\n",
       "      <td>0</td>\n",
       "      <td>1</td>\n",
       "      <td>1</td>\n",
       "      <td>0</td>\n",
       "      <td>2018</td>\n",
       "      <td>27590.00</td>\n",
       "    </tr>\n",
       "    <tr>\n",
       "      <th>21179</th>\n",
       "      <td>1</td>\n",
       "      <td>0</td>\n",
       "      <td>0</td>\n",
       "      <td>1</td>\n",
       "      <td>0</td>\n",
       "      <td>0</td>\n",
       "      <td>0</td>\n",
       "      <td>0</td>\n",
       "      <td>0</td>\n",
       "      <td>1</td>\n",
       "      <td>...</td>\n",
       "      <td>0</td>\n",
       "      <td>1</td>\n",
       "      <td>0</td>\n",
       "      <td>0</td>\n",
       "      <td>0</td>\n",
       "      <td>0</td>\n",
       "      <td>1</td>\n",
       "      <td>0</td>\n",
       "      <td>2018</td>\n",
       "      <td>21990.00</td>\n",
       "    </tr>\n",
       "  </tbody>\n",
       "</table>\n",
       "<p>5 rows × 22 columns</p>\n",
       "</div>"
      ],
      "text/plain": [
       "       gas  100k-150k  150k-200k  fwd  automatic  sedan  200k-250k  fair  \\\n",
       "21171    1          0          0    1          0      1          0     0   \n",
       "21174    1          0          0    0          1      0          1     0   \n",
       "21176    0          0          0    0          1      0          1     0   \n",
       "21178    1          0          0    1          0      1          0     0   \n",
       "21179    1          0          0    1          0      0          0     0   \n",
       "\n",
       "       honda  other_type  ...  other_fuel    0-010k  diesel  4wd   25k-50k  \\\n",
       "21171      0           0  ...           0         0       0    0         0   \n",
       "21174      0           0  ...           0         0       0    0         0   \n",
       "21176      0           0  ...           0         0       1    1         0   \n",
       "21178      0           0  ...           0         0       0    0         0   \n",
       "21179      0           1  ...           0         1       0    0         0   \n",
       "\n",
       "        10k-25k  other_transmission  pickup  year    price  \n",
       "21171         1                   1       0  2018 16990.00  \n",
       "21174         0                   0       1  2003 11975.00  \n",
       "21176         0                   0       0  2003 21950.00  \n",
       "21178         1                   1       0  2018 27590.00  \n",
       "21179         0                   1       0  2018 21990.00  \n",
       "\n",
       "[5 rows x 22 columns]"
      ]
     },
     "execution_count": 115,
     "metadata": {},
     "output_type": "execute_result"
    }
   ],
   "source": [
    "df_model.reset_index\n",
    "df_model.head()"
   ]
  },
  {
   "cell_type": "code",
   "execution_count": 116,
   "id": "ce3b0468",
   "metadata": {},
   "outputs": [
    {
     "data": {
      "text/html": [
       "<div>\n",
       "<style scoped>\n",
       "    .dataframe tbody tr th:only-of-type {\n",
       "        vertical-align: middle;\n",
       "    }\n",
       "\n",
       "    .dataframe tbody tr th {\n",
       "        vertical-align: top;\n",
       "    }\n",
       "\n",
       "    .dataframe thead th {\n",
       "        text-align: right;\n",
       "    }\n",
       "</style>\n",
       "<table border=\"1\" class=\"dataframe\">\n",
       "  <thead>\n",
       "    <tr style=\"text-align: right;\">\n",
       "      <th></th>\n",
       "      <th>gas</th>\n",
       "      <th>100k-150k</th>\n",
       "      <th>150k-200k</th>\n",
       "      <th>fwd</th>\n",
       "      <th>automatic</th>\n",
       "      <th>sedan</th>\n",
       "      <th>200k-250k</th>\n",
       "      <th>fair</th>\n",
       "      <th>honda</th>\n",
       "      <th>other_type</th>\n",
       "      <th>...</th>\n",
       "      <th>other_fuel</th>\n",
       "      <th>0-010k</th>\n",
       "      <th>diesel</th>\n",
       "      <th>4wd</th>\n",
       "      <th>25k-50k</th>\n",
       "      <th>10k-25k</th>\n",
       "      <th>other_transmission</th>\n",
       "      <th>pickup</th>\n",
       "      <th>year</th>\n",
       "      <th>price</th>\n",
       "    </tr>\n",
       "  </thead>\n",
       "  <tbody>\n",
       "    <tr>\n",
       "      <th>48508</th>\n",
       "      <td>1</td>\n",
       "      <td>0</td>\n",
       "      <td>0</td>\n",
       "      <td>0</td>\n",
       "      <td>1</td>\n",
       "      <td>0</td>\n",
       "      <td>1</td>\n",
       "      <td>0</td>\n",
       "      <td>0</td>\n",
       "      <td>0</td>\n",
       "      <td>...</td>\n",
       "      <td>0</td>\n",
       "      <td>0</td>\n",
       "      <td>0</td>\n",
       "      <td>1</td>\n",
       "      <td>0</td>\n",
       "      <td>0</td>\n",
       "      <td>0</td>\n",
       "      <td>0</td>\n",
       "      <td>2003</td>\n",
       "      <td>3750.00</td>\n",
       "    </tr>\n",
       "    <tr>\n",
       "      <th>27215</th>\n",
       "      <td>1</td>\n",
       "      <td>0</td>\n",
       "      <td>0</td>\n",
       "      <td>1</td>\n",
       "      <td>1</td>\n",
       "      <td>0</td>\n",
       "      <td>0</td>\n",
       "      <td>0</td>\n",
       "      <td>0</td>\n",
       "      <td>0</td>\n",
       "      <td>...</td>\n",
       "      <td>0</td>\n",
       "      <td>0</td>\n",
       "      <td>0</td>\n",
       "      <td>0</td>\n",
       "      <td>0</td>\n",
       "      <td>0</td>\n",
       "      <td>0</td>\n",
       "      <td>1</td>\n",
       "      <td>2011</td>\n",
       "      <td>16995.00</td>\n",
       "    </tr>\n",
       "    <tr>\n",
       "      <th>65794</th>\n",
       "      <td>1</td>\n",
       "      <td>0</td>\n",
       "      <td>0</td>\n",
       "      <td>0</td>\n",
       "      <td>1</td>\n",
       "      <td>0</td>\n",
       "      <td>0</td>\n",
       "      <td>0</td>\n",
       "      <td>0</td>\n",
       "      <td>0</td>\n",
       "      <td>...</td>\n",
       "      <td>0</td>\n",
       "      <td>0</td>\n",
       "      <td>0</td>\n",
       "      <td>0</td>\n",
       "      <td>0</td>\n",
       "      <td>1</td>\n",
       "      <td>0</td>\n",
       "      <td>0</td>\n",
       "      <td>2018</td>\n",
       "      <td>37590.00</td>\n",
       "    </tr>\n",
       "    <tr>\n",
       "      <th>38829</th>\n",
       "      <td>1</td>\n",
       "      <td>0</td>\n",
       "      <td>0</td>\n",
       "      <td>1</td>\n",
       "      <td>1</td>\n",
       "      <td>1</td>\n",
       "      <td>0</td>\n",
       "      <td>0</td>\n",
       "      <td>0</td>\n",
       "      <td>0</td>\n",
       "      <td>...</td>\n",
       "      <td>0</td>\n",
       "      <td>0</td>\n",
       "      <td>0</td>\n",
       "      <td>0</td>\n",
       "      <td>1</td>\n",
       "      <td>0</td>\n",
       "      <td>0</td>\n",
       "      <td>0</td>\n",
       "      <td>2019</td>\n",
       "      <td>15888.00</td>\n",
       "    </tr>\n",
       "    <tr>\n",
       "      <th>27399</th>\n",
       "      <td>1</td>\n",
       "      <td>0</td>\n",
       "      <td>0</td>\n",
       "      <td>0</td>\n",
       "      <td>1</td>\n",
       "      <td>0</td>\n",
       "      <td>0</td>\n",
       "      <td>0</td>\n",
       "      <td>0</td>\n",
       "      <td>0</td>\n",
       "      <td>...</td>\n",
       "      <td>0</td>\n",
       "      <td>0</td>\n",
       "      <td>0</td>\n",
       "      <td>1</td>\n",
       "      <td>0</td>\n",
       "      <td>0</td>\n",
       "      <td>0</td>\n",
       "      <td>0</td>\n",
       "      <td>2017</td>\n",
       "      <td>25777.00</td>\n",
       "    </tr>\n",
       "    <tr>\n",
       "      <th>...</th>\n",
       "      <td>...</td>\n",
       "      <td>...</td>\n",
       "      <td>...</td>\n",
       "      <td>...</td>\n",
       "      <td>...</td>\n",
       "      <td>...</td>\n",
       "      <td>...</td>\n",
       "      <td>...</td>\n",
       "      <td>...</td>\n",
       "      <td>...</td>\n",
       "      <td>...</td>\n",
       "      <td>...</td>\n",
       "      <td>...</td>\n",
       "      <td>...</td>\n",
       "      <td>...</td>\n",
       "      <td>...</td>\n",
       "      <td>...</td>\n",
       "      <td>...</td>\n",
       "      <td>...</td>\n",
       "      <td>...</td>\n",
       "      <td>...</td>\n",
       "    </tr>\n",
       "    <tr>\n",
       "      <th>44305</th>\n",
       "      <td>1</td>\n",
       "      <td>0</td>\n",
       "      <td>0</td>\n",
       "      <td>1</td>\n",
       "      <td>1</td>\n",
       "      <td>1</td>\n",
       "      <td>0</td>\n",
       "      <td>0</td>\n",
       "      <td>0</td>\n",
       "      <td>0</td>\n",
       "      <td>...</td>\n",
       "      <td>0</td>\n",
       "      <td>0</td>\n",
       "      <td>0</td>\n",
       "      <td>0</td>\n",
       "      <td>0</td>\n",
       "      <td>0</td>\n",
       "      <td>0</td>\n",
       "      <td>0</td>\n",
       "      <td>2016</td>\n",
       "      <td>8970.00</td>\n",
       "    </tr>\n",
       "    <tr>\n",
       "      <th>43862</th>\n",
       "      <td>1</td>\n",
       "      <td>0</td>\n",
       "      <td>0</td>\n",
       "      <td>0</td>\n",
       "      <td>1</td>\n",
       "      <td>0</td>\n",
       "      <td>0</td>\n",
       "      <td>0</td>\n",
       "      <td>0</td>\n",
       "      <td>0</td>\n",
       "      <td>...</td>\n",
       "      <td>0</td>\n",
       "      <td>0</td>\n",
       "      <td>0</td>\n",
       "      <td>0</td>\n",
       "      <td>0</td>\n",
       "      <td>1</td>\n",
       "      <td>0</td>\n",
       "      <td>0</td>\n",
       "      <td>2018</td>\n",
       "      <td>57900.00</td>\n",
       "    </tr>\n",
       "    <tr>\n",
       "      <th>34386</th>\n",
       "      <td>0</td>\n",
       "      <td>0</td>\n",
       "      <td>0</td>\n",
       "      <td>1</td>\n",
       "      <td>0</td>\n",
       "      <td>0</td>\n",
       "      <td>0</td>\n",
       "      <td>0</td>\n",
       "      <td>0</td>\n",
       "      <td>1</td>\n",
       "      <td>...</td>\n",
       "      <td>1</td>\n",
       "      <td>0</td>\n",
       "      <td>0</td>\n",
       "      <td>0</td>\n",
       "      <td>0</td>\n",
       "      <td>0</td>\n",
       "      <td>1</td>\n",
       "      <td>0</td>\n",
       "      <td>2015</td>\n",
       "      <td>37590.00</td>\n",
       "    </tr>\n",
       "    <tr>\n",
       "      <th>21498</th>\n",
       "      <td>1</td>\n",
       "      <td>0</td>\n",
       "      <td>0</td>\n",
       "      <td>1</td>\n",
       "      <td>0</td>\n",
       "      <td>0</td>\n",
       "      <td>0</td>\n",
       "      <td>0</td>\n",
       "      <td>0</td>\n",
       "      <td>0</td>\n",
       "      <td>...</td>\n",
       "      <td>0</td>\n",
       "      <td>0</td>\n",
       "      <td>0</td>\n",
       "      <td>0</td>\n",
       "      <td>1</td>\n",
       "      <td>0</td>\n",
       "      <td>1</td>\n",
       "      <td>1</td>\n",
       "      <td>2017</td>\n",
       "      <td>24590.00</td>\n",
       "    </tr>\n",
       "    <tr>\n",
       "      <th>29865</th>\n",
       "      <td>1</td>\n",
       "      <td>0</td>\n",
       "      <td>0</td>\n",
       "      <td>0</td>\n",
       "      <td>1</td>\n",
       "      <td>0</td>\n",
       "      <td>0</td>\n",
       "      <td>0</td>\n",
       "      <td>0</td>\n",
       "      <td>0</td>\n",
       "      <td>...</td>\n",
       "      <td>0</td>\n",
       "      <td>0</td>\n",
       "      <td>0</td>\n",
       "      <td>0</td>\n",
       "      <td>1</td>\n",
       "      <td>0</td>\n",
       "      <td>0</td>\n",
       "      <td>0</td>\n",
       "      <td>2019</td>\n",
       "      <td>41900.00</td>\n",
       "    </tr>\n",
       "  </tbody>\n",
       "</table>\n",
       "<p>15 rows × 22 columns</p>\n",
       "</div>"
      ],
      "text/plain": [
       "       gas  100k-150k  150k-200k  fwd  automatic  sedan  200k-250k  fair  \\\n",
       "48508    1          0          0    0          1      0          1     0   \n",
       "27215    1          0          0    1          1      0          0     0   \n",
       "65794    1          0          0    0          1      0          0     0   \n",
       "38829    1          0          0    1          1      1          0     0   \n",
       "27399    1          0          0    0          1      0          0     0   \n",
       "...    ...        ...        ...  ...        ...    ...        ...   ...   \n",
       "44305    1          0          0    1          1      1          0     0   \n",
       "43862    1          0          0    0          1      0          0     0   \n",
       "34386    0          0          0    1          0      0          0     0   \n",
       "21498    1          0          0    1          0      0          0     0   \n",
       "29865    1          0          0    0          1      0          0     0   \n",
       "\n",
       "       honda  other_type  ...  other_fuel    0-010k  diesel  4wd   25k-50k  \\\n",
       "48508      0           0  ...           0         0       0    1         0   \n",
       "27215      0           0  ...           0         0       0    0         0   \n",
       "65794      0           0  ...           0         0       0    0         0   \n",
       "38829      0           0  ...           0         0       0    0         1   \n",
       "27399      0           0  ...           0         0       0    1         0   \n",
       "...      ...         ...  ...         ...       ...     ...  ...       ...   \n",
       "44305      0           0  ...           0         0       0    0         0   \n",
       "43862      0           0  ...           0         0       0    0         0   \n",
       "34386      0           1  ...           1         0       0    0         0   \n",
       "21498      0           0  ...           0         0       0    0         1   \n",
       "29865      0           0  ...           0         0       0    0         1   \n",
       "\n",
       "        10k-25k  other_transmission  pickup  year    price  \n",
       "48508         0                   0       0  2003  3750.00  \n",
       "27215         0                   0       1  2011 16995.00  \n",
       "65794         1                   0       0  2018 37590.00  \n",
       "38829         0                   0       0  2019 15888.00  \n",
       "27399         0                   0       0  2017 25777.00  \n",
       "...         ...                 ...     ...   ...      ...  \n",
       "44305         0                   0       0  2016  8970.00  \n",
       "43862         1                   0       0  2018 57900.00  \n",
       "34386         0                   1       0  2015 37590.00  \n",
       "21498         0                   1       1  2017 24590.00  \n",
       "29865         0                   0       0  2019 41900.00  \n",
       "\n",
       "[15 rows x 22 columns]"
      ]
     },
     "execution_count": 116,
     "metadata": {},
     "output_type": "execute_result"
    }
   ],
   "source": [
    "df_model.sample(15)"
   ]
  },
  {
   "cell_type": "code",
   "execution_count": 117,
   "id": "26be6e78",
   "metadata": {
    "scrolled": true
   },
   "outputs": [
    {
     "data": {
      "text/plain": [
       "0"
      ]
     },
     "execution_count": 117,
     "metadata": {},
     "output_type": "execute_result"
    }
   ],
   "source": [
    "df_model.isna().sum().sum()"
   ]
  },
  {
   "cell_type": "markdown",
   "id": "e7318f61",
   "metadata": {},
   "source": [
    "### Model Building"
   ]
  },
  {
   "cell_type": "code",
   "execution_count": 118,
   "id": "3608d72c",
   "metadata": {},
   "outputs": [
    {
     "data": {
      "text/plain": [
       "(33956,)"
      ]
     },
     "execution_count": 118,
     "metadata": {},
     "output_type": "execute_result"
    }
   ],
   "source": [
    "# declare target variable\n",
    "y = df_model['price']\n",
    "y.shape"
   ]
  },
  {
   "cell_type": "code",
   "execution_count": 119,
   "id": "b073201d",
   "metadata": {},
   "outputs": [
    {
     "data": {
      "text/plain": [
       "(33956, 21)"
      ]
     },
     "execution_count": 119,
     "metadata": {},
     "output_type": "execute_result"
    }
   ],
   "source": [
    "X = df_model.drop(['price'], axis=1)\n",
    "X.shape"
   ]
  },
  {
   "cell_type": "code",
   "execution_count": 120,
   "id": "1fbd3795",
   "metadata": {},
   "outputs": [
    {
     "data": {
      "text/plain": [
       "['gas',\n",
       " '100k-150k',\n",
       " '150k-200k',\n",
       " 'fwd',\n",
       " 'automatic',\n",
       " 'sedan',\n",
       " '200k-250k',\n",
       " 'fair',\n",
       " 'honda',\n",
       " 'other_type',\n",
       " 'ram',\n",
       " 'good',\n",
       " 'other_fuel',\n",
       " '  0-010k',\n",
       " 'diesel',\n",
       " '4wd',\n",
       " ' 25k-50k',\n",
       " ' 10k-25k',\n",
       " 'other_transmission',\n",
       " 'pickup',\n",
       " 'year']"
      ]
     },
     "execution_count": 120,
     "metadata": {},
     "output_type": "execute_result"
    }
   ],
   "source": [
    "list(X.columns)"
   ]
  },
  {
   "cell_type": "code",
   "execution_count": 122,
   "id": "233a91f9",
   "metadata": {},
   "outputs": [],
   "source": [
    "# train-test split\n",
    "X_train, X_test, y_train, y_test = train_test_split(X, y, test_size = .25, random_state = 30)"
   ]
  },
  {
   "cell_type": "code",
   "execution_count": 123,
   "id": "0a8da550",
   "metadata": {},
   "outputs": [],
   "source": [
    "# Instantiate the SKlearn algorithm\n",
    "# https://scikit-learn.org/stable/modules/generated/sklearn.linear_model.LinearRegression.html\n",
    "mymodel = LinearRegression(fit_intercept=True, \n",
    "#                            normalize=False, # deprecated\n",
    "                           copy_X=True, \n",
    "                           n_jobs=None, \n",
    "                           positive=False)"
   ]
  },
  {
   "cell_type": "code",
   "execution_count": 125,
   "id": "fdcc52c6",
   "metadata": {},
   "outputs": [
    {
     "data": {
      "text/plain": [
       "LinearRegression()"
      ]
     },
     "execution_count": 125,
     "metadata": {},
     "output_type": "execute_result"
    }
   ],
   "source": [
    "# Fit the model to the training dataset\n",
    "mymodel.fit(X_train, y_train)"
   ]
  },
  {
   "cell_type": "markdown",
   "id": "24717907",
   "metadata": {},
   "source": [
    "### Examine resulting model"
   ]
  },
  {
   "cell_type": "code",
   "execution_count": 126,
   "id": "dd1b5748",
   "metadata": {},
   "outputs": [
    {
     "data": {
      "text/plain": [
       "-455904.52509993606"
      ]
     },
     "execution_count": 126,
     "metadata": {},
     "output_type": "execute_result"
    }
   ],
   "source": [
    "# what is the intercept? (the value when all predictors are zero)\n",
    "mymodel.intercept_"
   ]
  },
  {
   "cell_type": "code",
   "execution_count": 127,
   "id": "0d469b09",
   "metadata": {},
   "outputs": [
    {
     "data": {
      "text/plain": [
       "[1206.524841881094,\n",
       " -5328.567356322737,\n",
       " -8388.956257931755,\n",
       " -4604.431858123659,\n",
       " 397.3097258338783,\n",
       " -2127.7428177918864,\n",
       " -10226.96459157207,\n",
       " -6567.205494203253,\n",
       " -391.8923468508713,\n",
       " 4021.3628948208952,\n",
       " -167.42906033016746,\n",
       " -1052.4753701198345,\n",
       " 4288.053058444601,\n",
       " 12355.40614055657,\n",
       " 11697.949756776563,\n",
       " 2494.1128097533333,\n",
       " 6462.403062965344,\n",
       " 9520.23928664581,\n",
       " 1336.1929534715086,\n",
       " 7100.340355415625,\n",
       " 235.67980620625846]"
      ]
     },
     "execution_count": 127,
     "metadata": {},
     "output_type": "execute_result"
    }
   ],
   "source": [
    "# what are the coefficients?\n",
    "pd.options.display.float_format = '{:.5f}'.format\n",
    "list(mymodel.coef_)"
   ]
  },
  {
   "cell_type": "code",
   "execution_count": null,
   "id": "8441903b",
   "metadata": {},
   "outputs": [],
   "source": []
  },
  {
   "cell_type": "code",
   "execution_count": null,
   "id": "d69350ec",
   "metadata": {},
   "outputs": [],
   "source": []
  },
  {
   "cell_type": "code",
   "execution_count": null,
   "id": "f3641e96",
   "metadata": {},
   "outputs": [],
   "source": []
  },
  {
   "cell_type": "code",
   "execution_count": null,
   "id": "f81971a1",
   "metadata": {},
   "outputs": [],
   "source": []
  },
  {
   "cell_type": "code",
   "execution_count": null,
   "id": "699797b2",
   "metadata": {},
   "outputs": [],
   "source": []
  },
  {
   "cell_type": "markdown",
   "id": "bb78f1fa",
   "metadata": {},
   "source": [
    "### App Prep\n",
    "\n",
    "Some variables that will be needed to implement car sale price forecasting model"
   ]
  },
  {
   "cell_type": "code",
   "execution_count": null,
   "id": "10d751dd",
   "metadata": {},
   "outputs": [],
   "source": [
    "# prediction model parameters - copy / paste from results above\n",
    "intercept = -804538.8643260737\n",
    "\n",
    "predictor_vars = ['year',\n",
    " 'odometer',\n",
    " 'ferrari',\n",
    " 'gas',\n",
    " 'diesel',\n",
    " 'other_fuel',\n",
    " 'sedan',\n",
    " 'pickup',\n",
    " 'other_type',\n",
    " 'automatic',\n",
    " 'other_transmission',\n",
    " 'excellent',\n",
    " 'good',\n",
    " 'fair']\n",
    "\n",
    "predictor_coeff = [390.5031441248841,\n",
    " -0.017659688952919708,\n",
    " 103920.36002700841,\n",
    " 1745.5726762019538,\n",
    " 13946.538609987403,\n",
    " 5743.117645250859,\n",
    " -4301.212153910639,\n",
    " 8570.283187851448,\n",
    " 3708.44941088399,\n",
    " -1170.7571963590008,\n",
    " 3942.8207817679704,\n",
    " -2559.9572273672566,\n",
    " -3043.6496077529555,\n",
    " -9014.598056518584]"
   ]
  },
  {
   "cell_type": "code",
   "execution_count": null,
   "id": "d550215d",
   "metadata": {},
   "outputs": [],
   "source": [
    "predictor_model = {\n",
    "    \"intercept\": intercept   \n",
    "}\n",
    "\n",
    "for v in range(0,len(predictor_vars)):\n",
    "#     print(f\"{predictor_vars[v]}: {predictor_coeff[v]}\")\n",
    "    predictor_model[predictor_vars[v]] = predictor_coeff[v]\n",
    "\n",
    "print(predictor_model)"
   ]
  },
  {
   "cell_type": "code",
   "execution_count": null,
   "id": "a3616559",
   "metadata": {},
   "outputs": [],
   "source": [
    "CAR_MANUFACTURER = ['Acura', 'Alfa-Romeo', 'Aston-Martin', 'Audi', 'Bmw', 'Buick',\n",
    "       'Cadillac', 'Chevrolet', 'Chrysler', 'Datsun', 'Dodge', 'Ferrari',\n",
    "       'Fiat', 'Ford', 'Gmc', 'Harley-Davidson', 'Honda', 'Hyundai',\n",
    "       'Infiniti', 'Jaguar', 'Jeep', 'Kia', 'Land Rover', 'Lexus',\n",
    "       'Lincoln', 'Mazda', 'Mercedes-Benz', 'Mercury', 'Mini',\n",
    "       'Mitsubishi', 'Morgan', 'Nissan', 'Pontiac', 'Porsche', 'Ram',\n",
    "       'Rover', 'Saturn', 'Subaru', 'Tesla', 'Toyota', 'Volkswagen',\n",
    "       'Volvo']"
   ]
  },
  {
   "cell_type": "code",
   "execution_count": null,
   "id": "eeac6614",
   "metadata": {},
   "outputs": [],
   "source": [
    "FUEL_TYPE = ['gas',  'diesel', 'hybrid', 'electric', 'other']"
   ]
  },
  {
   "cell_type": "code",
   "execution_count": null,
   "id": "c178aa69",
   "metadata": {},
   "outputs": [],
   "source": [
    "CAR_TYPE = ['pickup', 'truck', 'other_type', 'coupe', 'SUV', 'hatchback',\n",
    "       'mini-van', 'sedan', 'offroad', 'van', 'convertible', 'wagon',\n",
    "       'bus']"
   ]
  },
  {
   "cell_type": "code",
   "execution_count": null,
   "id": "61610b3a",
   "metadata": {},
   "outputs": [],
   "source": [
    "TRANSMISSION = ['automatic', 'manual', 'other']"
   ]
  },
  {
   "cell_type": "code",
   "execution_count": null,
   "id": "58c3333c",
   "metadata": {},
   "outputs": [],
   "source": [
    "CAR_CONDITION = ['new', 'like new', 'excellent', 'good', 'fair',  'salvage']"
   ]
  },
  {
   "cell_type": "markdown",
   "id": "6b517a57",
   "metadata": {},
   "source": [
    "#### App utils"
   ]
  },
  {
   "cell_type": "code",
   "execution_count": null,
   "id": "b51e5879",
   "metadata": {},
   "outputs": [],
   "source": [
    "# create a dictionary of model intercept and coefficient values \n",
    "def initialize_predictor_model(intercept, predictor_vars):\n",
    "    predictor_model = {'intercept': intercept}\n",
    "    for v in range(0,len(predictor_vars) - 1):\n",
    "        predictor_model[predictor_vars[v]] = predictor_coeff[v]\n",
    "    return predictor_model\n",
    "\n",
    "# reset user input \n",
    "def reset_model_input(predictor_vars):\n",
    "    model_input = {'intercept': 1}\n",
    "    for v in range(0,len(predictor_vars)):\n",
    "        model_input[predictor_vars[v]] = 0 \n",
    "    return model_input \n",
    "\n",
    "# generate prediction based on user input\n",
    "def generate_prediction(predictor_model, model_input):\n",
    "    prediction = 0\n",
    "    for i in predictor_model.keys():\n",
    "        prediction += predictor_model[i] * model_input[i]\n",
    "    return '{:.2f}'.format(prediction)"
   ]
  },
  {
   "cell_type": "code",
   "execution_count": null,
   "id": "66aea29e",
   "metadata": {},
   "outputs": [],
   "source": [
    "print(predictor_model.keys())"
   ]
  },
  {
   "cell_type": "code",
   "execution_count": null,
   "id": "53a7cd82",
   "metadata": {},
   "outputs": [],
   "source": [
    "predictor_vars = list(predictor_model.keys())\n",
    "print(predictor_vars)"
   ]
  },
  {
   "cell_type": "code",
   "execution_count": null,
   "id": "d49833e3",
   "metadata": {},
   "outputs": [],
   "source": [
    "model_input = reset_model_input(predictor_vars)\n",
    "\n",
    "print(model_input)"
   ]
  },
  {
   "cell_type": "code",
   "execution_count": null,
   "id": "f58523d9",
   "metadata": {},
   "outputs": [],
   "source": [
    "print(model_input['year'])"
   ]
  },
  {
   "cell_type": "code",
   "execution_count": null,
   "id": "3c126452",
   "metadata": {},
   "outputs": [],
   "source": [
    "model_input['year'] = 1980\n",
    "model_input['ferrari'] = 1\n",
    "\n"
   ]
  },
  {
   "cell_type": "code",
   "execution_count": null,
   "id": "485565f3",
   "metadata": {},
   "outputs": [],
   "source": [
    "print(generate_prediction(predictor_model, model_input))"
   ]
  },
  {
   "cell_type": "code",
   "execution_count": null,
   "id": "2f5b8ad6",
   "metadata": {},
   "outputs": [],
   "source": [
    "REGRESSION_EQUATION = \"Recommended Sale Price = \" \n",
    "for v in predictor_model.keys():\n",
    "    if v == \"intercept\":\n",
    "        REGRESSION_EQUATION = REGRESSION_EQUATION + str(round(predictor_model[v],5)) + \" + \"\n",
    "    else:\n",
    "        REGRESSION_EQUATION = REGRESSION_EQUATION + \"(\" + str(round(predictor_model[v],5)) + \" X \" + v + \") + \"\n",
    "    \n",
    "print(REGRESSION_EQUATION)"
   ]
  },
  {
   "cell_type": "code",
   "execution_count": null,
   "id": "5ccc7814",
   "metadata": {},
   "outputs": [],
   "source": [
    "special_message = \"\"\n",
    "for i in predictor_model.keys():\n",
    "    special_message = special_message + f\"{predictor_model[i]}:  {model_input[i]} | \"\n",
    "\n",
    "print(predictor_model.keys())\n",
    "print(special_message)"
   ]
  },
  {
   "cell_type": "code",
   "execution_count": null,
   "id": "78723782",
   "metadata": {},
   "outputs": [],
   "source": [
    "for i in predictor_vars:\n",
    "    print(i)"
   ]
  },
  {
   "cell_type": "code",
   "execution_count": null,
   "id": "a2967da7",
   "metadata": {},
   "outputs": [],
   "source": [
    "for i in predictor_coeff:\n",
    "    print(i)"
   ]
  },
  {
   "cell_type": "code",
   "execution_count": null,
   "id": "92cb99ba",
   "metadata": {},
   "outputs": [],
   "source": []
  }
 ],
 "metadata": {
  "kernelspec": {
   "display_name": "Python 3 (ipykernel)",
   "language": "python",
   "name": "python3"
  },
  "language_info": {
   "codemirror_mode": {
    "name": "ipython",
    "version": 3
   },
   "file_extension": ".py",
   "mimetype": "text/x-python",
   "name": "python",
   "nbconvert_exporter": "python",
   "pygments_lexer": "ipython3",
   "version": "3.9.10"
  }
 },
 "nbformat": 4,
 "nbformat_minor": 5
}
